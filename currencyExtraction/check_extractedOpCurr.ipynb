{
 "cells": [
  {
   "cell_type": "markdown",
   "metadata": {},
   "source": [
    "## Check extracted currencies against ground truth"
   ]
  },
  {
   "cell_type": "code",
   "execution_count": 1,
   "metadata": {
    "collapsed": false,
    "scrolled": false
   },
   "outputs": [],
   "source": [
    "# SYSTEM\n",
    "from os import listdir\n",
    "from PyCommonFun import *\n",
    "\n",
    "#NLTK\n",
    "import nltk, re, pprint\n",
    "from nltk import word_tokenize\n",
    "from nltk.tokenize import sent_tokenize\n",
    "from nltk.corpus import words\n",
    "from nltk.tokenize import RegexpTokenizer\n",
    "from nltk.metrics import *\n",
    "from collections import Counter\n",
    "\n",
    "#GENERAL\n",
    "import numpy as np\n",
    "import pandas as pd\n"
   ]
  },
  {
   "cell_type": "markdown",
   "metadata": {},
   "source": [
    "### load labels (ground truth) and extracted operationnal currency\n"
   ]
  },
  {
   "cell_type": "code",
   "execution_count": 3,
   "metadata": {
    "collapsed": false
   },
   "outputs": [],
   "source": [
    "# ground truth\n",
    "labels=pd.read_csv('../../data_0/greg_test_set/lab_greg_test_set.csv')\n",
    "labels.index=labels['fileId']\n",
    "currGroundTruth=labels['OpCurrency']\n",
    "\n",
    "# extracted currency\n",
    "opCurrDict=np.load('../../data_0/greg_test_set/extractedOpCurr.npy').item()\n",
    "extractedCurr=pd.DataFrame(opCurrDict.items(),columns=['fileId','greg_OpCurr'])\n",
    "extractedCurr.index=extractedCurr['fileId']\n"
   ]
  },
  {
   "cell_type": "code",
   "execution_count": 3,
   "metadata": {
    "collapsed": false,
    "scrolled": false
   },
   "outputs": [],
   "source": [
    "compare_curr=extractedCurr.join(currGroundTruth)"
   ]
  },
  {
   "cell_type": "code",
   "execution_count": 4,
   "metadata": {
    "collapsed": true
   },
   "outputs": [],
   "source": [
    "# check results\n",
    "indCheck=compare_curr['OpCurrency'].values==compare_curr['greg_OpCurr']\n",
    "compare_curr['check']=indCheck\n",
    "compare_curr=compare_curr.drop('fileId',1)"
   ]
  },
  {
   "cell_type": "code",
   "execution_count": 5,
   "metadata": {
    "collapsed": false
   },
   "outputs": [],
   "source": [
    "compare_curr.to_csv('compare_curr.csv')"
   ]
  },
  {
   "cell_type": "code",
   "execution_count": 6,
   "metadata": {
    "collapsed": false
   },
   "outputs": [
    {
     "name": "stdout",
     "output_type": "stream",
     "text": [
      "0.968586387435\n"
     ]
    }
   ],
   "source": [
    "# accuracy\n",
    "accuracy=np.float(len(PyFind(compare_curr['check'].values, lambda x: x==True)))/len(compare_curr)\n",
    "print accuracy"
   ]
  }
 ],
 "metadata": {
  "kernelspec": {
   "display_name": "Python 2",
   "language": "python",
   "name": "python2"
  },
  "language_info": {
   "codemirror_mode": {
    "name": "ipython",
    "version": 2
   },
   "file_extension": ".py",
   "mimetype": "text/x-python",
   "name": "python",
   "nbconvert_exporter": "python",
   "pygments_lexer": "ipython2",
   "version": "2.7.11"
  }
 },
 "nbformat": 4,
 "nbformat_minor": 0
}
