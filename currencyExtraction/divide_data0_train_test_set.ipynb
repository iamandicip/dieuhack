{
 "cells": [
  {
   "cell_type": "markdown",
   "metadata": {},
   "source": [
    "##### divide data_0 in train and test sets by randomizing the file ID\n"
   ]
  },
  {
   "cell_type": "markdown",
   "metadata": {},
   "source": [
    "works for files in /txt so far. Randomize the order of the files\n",
    "to avoid clustering"
   ]
  },
  {
   "cell_type": "code",
   "execution_count": null,
   "metadata": {
    "collapsed": false
   },
   "outputs": [],
   "source": [
    "from shutil import copyfile\n",
    "import pandas as pd\n",
    "from random import randrange\n",
    "from random import shuffle\n",
    "import numpy as np"
   ]
  },
  {
   "cell_type": "code",
   "execution_count": null,
   "metadata": {
    "collapsed": true
   },
   "outputs": [],
   "source": [
    "# get file names\n",
    "labels=pd.read_csv('../../data_0/labels.csv')\n",
    "fileId=labels['fileId'].values"
   ]
  },
  {
   "cell_type": "code",
   "execution_count": null,
   "metadata": {
    "collapsed": false
   },
   "outputs": [],
   "source": [
    "# create a random index \n",
    "ind=range(0,len(fileId))\n",
    "shuffle(ind)"
   ]
  },
  {
   "cell_type": "code",
   "execution_count": null,
   "metadata": {
    "collapsed": false
   },
   "outputs": [],
   "source": [
    "# take 70% of file for training, 30% for testing\n",
    "iStop=np.int(np.round(0.7*len(fileId)))\n",
    "indTrain=ind[0:iStop]\n",
    "indTest=ind[iStop:]"
   ]
  },
  {
   "cell_type": "code",
   "execution_count": 47,
   "metadata": {
    "collapsed": false
   },
   "outputs": [],
   "source": [
    "# copy train set\n",
    "for gi in indTrain:\n",
    "    src='../../data_0/txt/' + str(fileId[gi]) + '_ocr.txt'\n",
    "    des='../../data_0/greg_train_set/txt/' + str(fileId[gi]) + '_ocr.txt'\n",
    "    \n",
    "    copyfile(src,des)\n",
    "    "
   ]
  },
  {
   "cell_type": "code",
   "execution_count": 48,
   "metadata": {
    "collapsed": false
   },
   "outputs": [],
   "source": [
    "# copy test set\n",
    "for gi in indTest:\n",
    "    src='../../data_0/txt/' + str(fileId[gi]) + '_ocr.txt'\n",
    "    des='../../data_0/greg_test_set/txt/' + str(fileId[gi]) + '_ocr.txt'\n",
    "    \n",
    "    copyfile(src,des)"
   ]
  },
  {
   "cell_type": "code",
   "execution_count": 55,
   "metadata": {
    "collapsed": false
   },
   "outputs": [],
   "source": [
    "lab=pd.DataFrame(labels,index=labels.fileId.values)\n"
   ]
  },
  {
   "cell_type": "code",
   "execution_count": 65,
   "metadata": {
    "collapsed": false
   },
   "outputs": [],
   "source": [
    "# save labels for train and test set\n",
    "lab=labels\n",
    "lab.index=lab.fileId.values\n",
    "\n",
    "# train\n",
    "lab_greg_train_set=lab.loc[fileId[indTrain]]\n",
    "lab_greg_train_set.to_csv('../../data_0/greg_train_set/lab_greg_train_set.csv')\n",
    "\n",
    "# test \n",
    "lab_greg_test_set=lab.loc[fileId[indTest]]\n",
    "lab_greg_test_set.to_csv('../../data_0/greg_test_set/lab_greg_test_set.csv')\n",
    "\n"
   ]
  }
 ],
 "metadata": {
  "kernelspec": {
   "display_name": "Python 2",
   "language": "python",
   "name": "python2"
  },
  "language_info": {
   "codemirror_mode": {
    "name": "ipython",
    "version": 2
   },
   "file_extension": ".py",
   "mimetype": "text/x-python",
   "name": "python",
   "nbconvert_exporter": "python",
   "pygments_lexer": "ipython2",
   "version": "2.7.11"
  }
 },
 "nbformat": 4,
 "nbformat_minor": 0
}
