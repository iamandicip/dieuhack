{
 "cells": [
  {
   "cell_type": "markdown",
   "metadata": {},
   "source": [
    "## Extract currency from contextAllCurr (testSet). \n",
    "- if single curr found, take it as the Operationnal frequency\n",
    "- if multiple currencies found, use scoringDict computed from the train set to associate a score to each curr. \n",
    "and retain the one associated to the highest score. "
   ]
  },
  {
   "cell_type": "code",
   "execution_count": 1,
   "metadata": {
    "collapsed": false,
    "scrolled": false
   },
   "outputs": [],
   "source": [
    "# SYSTEM\n",
    "from os import listdir\n",
    "#import sys\n",
    "#sys.path.insert(0,'/Users/greghor/Documents/taf/UGent/python_prog/py_commonFunc/')\n",
    "from PyCommonFun import *\n",
    "\n",
    "#NLTK\n",
    "import nltk, re, pprint\n",
    "from nltk import word_tokenize\n",
    "from nltk.tokenize import sent_tokenize\n",
    "from nltk.corpus import words\n",
    "from nltk.tokenize import RegexpTokenizer\n",
    "from nltk.metrics import *\n",
    "from collections import Counter\n",
    "\n",
    "#GENERAL\n",
    "import numpy as np\n",
    "import pandas as pd\n"
   ]
  },
  {
   "cell_type": "markdown",
   "metadata": {},
   "source": [
    "### load labels and context dict.\n",
    "the context dict is a dict. of dict. such as contextAllCurr = {'fileId': { ' curr' : Ngram } },\n",
    "where Ngramm are part of speech centered around a currency. The contextAllCurr has been \n",
    "saved in a separate notebook (save_curencyContext_testSet.ipynb)"
   ]
  },
  {
   "cell_type": "code",
   "execution_count": 2,
   "metadata": {
    "collapsed": true
   },
   "outputs": [],
   "source": [
    "# get the solution\n",
    "labels=pd.read_csv('../../data_0/greg_test_set/lab_greg_test_set.csv')\n",
    "# get context dict\n",
    "contextAllCurr=np.load('../../data_0/greg_test_set/contextAllCurr.npy').item()"
   ]
  },
  {
   "cell_type": "markdown",
   "metadata": {},
   "source": [
    "extract only currencies found in the documents, store results in foundCurrType = {'fileId': [curr]}. "
   ]
  },
  {
   "cell_type": "code",
   "execution_count": 3,
   "metadata": {
    "collapsed": false,
    "scrolled": false
   },
   "outputs": [],
   "source": [
    "foundCurrType=dict()\n",
    "\n",
    "for f in labels.fileId:\n",
    "    \n",
    "    foundCurrType[f]=[]\n",
    "    \n",
    "    for currKey in contextAllCurr[f]:\n",
    "        if contextAllCurr[f][currKey] != []:\n",
    "            foundCurrType[f].append(currKey)"
   ]
  },
  {
   "cell_type": "markdown",
   "metadata": {},
   "source": [
    "Divide the foundCurrType in three dicts:\n",
    " - single currency\n",
    " - multiple currency\n",
    " - void"
   ]
  },
  {
   "cell_type": "code",
   "execution_count": 4,
   "metadata": {
    "collapsed": true
   },
   "outputs": [],
   "source": [
    "voidCurr=dict()\n",
    "singleCurr=dict()\n",
    "multiCurr=dict()\n",
    "\n",
    "for key in foundCurrType:\n",
    "    if len(foundCurrType[key]) == 0:\n",
    "        voidCurr[key]=foundCurrType[key]\n",
    "    elif len(foundCurrType[key]) == 1:\n",
    "        singleCurr[key]=foundCurrType[key]\n",
    "    elif len(foundCurrType[key]) > 1:\n",
    "        multiCurr[key]=foundCurrType[key]\n",
    "\n"
   ]
  },
  {
   "cell_type": "markdown",
   "metadata": {},
   "source": [
    "## Extract currency"
   ]
  },
  {
   "cell_type": "markdown",
   "metadata": {},
   "source": [
    "### Score multiple currencies"
   ]
  },
  {
   "cell_type": "code",
   "execution_count": 6,
   "metadata": {
    "collapsed": false
   },
   "outputs": [],
   "source": [
    "# load dict of weight\n",
    "weight=np.load('../../data_0/greg_train_set/weight_forCurrencyScoring.npy').item()\n",
    "\n",
    "tokenizer=RegexpTokenizer(r'\\w+')\n",
    "\n",
    "score=dict()\n",
    "\n",
    "for f in multiCurr:\n",
    "    score[f]=dict()\n",
    "    for cur in multiCurr[f]:\n",
    "        textTmp=[]\n",
    "        score[f][cur]=1\n",
    "        for val in contextAllCurr[f][cur]:\n",
    "            textTmp.append(' '.join(val))\n",
    "        \n",
    "        textTmp=tokenizer.tokenize(str(textTmp).lower())\n",
    "        for w in textTmp:\n",
    "            if w in weight.keys():\n",
    "                score[f][cur]=score[f][cur]*weight[w]"
   ]
  },
  {
   "cell_type": "markdown",
   "metadata": {},
   "source": [
    "### build the dictionnary of extracted operationnal currency"
   ]
  },
  {
   "cell_type": "code",
   "execution_count": 7,
   "metadata": {
    "collapsed": false
   },
   "outputs": [],
   "source": [
    "opCurr=dict()\n",
    "\n",
    "#multiple currency case: keep highest score currency\n",
    "for f in score:\n",
    "    opCurr[f]=max(score[f], key=score[f].get)\n",
    "\n",
    "#individual currency case:    \n",
    "for f in singleCurr:\n",
    "    opCurr[f]=singleCurr[f][0]\n",
    "\n",
    "#void currency case:\n",
    "for f in voidCurr:\n",
    "    opCurr[f]='000'"
   ]
  },
  {
   "cell_type": "markdown",
   "metadata": {},
   "source": [
    "### save the extracted operationnal currency"
   ]
  },
  {
   "cell_type": "code",
   "execution_count": 8,
   "metadata": {
    "collapsed": false
   },
   "outputs": [],
   "source": [
    "np.save('../../data_0/greg_test_set/extractedOpCurr',opCurr)"
   ]
  },
  {
   "cell_type": "code",
   "execution_count": null,
   "metadata": {
    "collapsed": true
   },
   "outputs": [],
   "source": []
  }
 ],
 "metadata": {
  "kernelspec": {
   "display_name": "Python 2",
   "language": "python",
   "name": "python2"
  },
  "language_info": {
   "codemirror_mode": {
    "name": "ipython",
    "version": 2
   },
   "file_extension": ".py",
   "mimetype": "text/x-python",
   "name": "python",
   "nbconvert_exporter": "python",
   "pygments_lexer": "ipython2",
   "version": "2.7.11"
  }
 },
 "nbformat": 4,
 "nbformat_minor": 0
}
