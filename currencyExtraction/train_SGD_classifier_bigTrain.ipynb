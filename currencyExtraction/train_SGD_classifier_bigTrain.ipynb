{
 "cells": [
  {
   "cell_type": "markdown",
   "metadata": {},
   "source": [
    "## train_SGD_classifier_bigTrain\n",
    "score currency based on train set\n"
   ]
  },
  {
   "cell_type": "code",
   "execution_count": 1,
   "metadata": {
    "collapsed": false,
    "scrolled": false
   },
   "outputs": [
    {
     "ename": "ImportError",
     "evalue": "No module named 'code.dataExtract'; 'code' is not a package",
     "output_type": "error",
     "traceback": [
      "\u001b[0;31m---------------------------------------------------------------------------\u001b[0m",
      "\u001b[0;31mImportError\u001b[0m                               Traceback (most recent call last)",
      "\u001b[0;32m<ipython-input-1-852b0fced7f4>\u001b[0m in \u001b[0;36m<module>\u001b[0;34m()\u001b[0m\n\u001b[1;32m     17\u001b[0m \u001b[0;34m\u001b[0m\u001b[0m\n\u001b[1;32m     18\u001b[0m \u001b[0;31m# data from Albert\u001b[0m\u001b[0;34m\u001b[0m\u001b[0;34m\u001b[0m\u001b[0m\n\u001b[0;32m---> 19\u001b[0;31m \u001b[0;32mfrom\u001b[0m \u001b[0mcode\u001b[0m\u001b[0;34m.\u001b[0m\u001b[0mdataExtract\u001b[0m \u001b[0;32mimport\u001b[0m \u001b[0mdata\u001b[0m\u001b[0;34m\u001b[0m\u001b[0m\n\u001b[0m\u001b[1;32m     20\u001b[0m \u001b[0;32mimport\u001b[0m \u001b[0mcode\u001b[0m\u001b[0;34m.\u001b[0m\u001b[0mdataExtract\u001b[0m \u001b[0;32mas\u001b[0m \u001b[0mde\u001b[0m\u001b[0;34m\u001b[0m\u001b[0m\n\u001b[1;32m     21\u001b[0m \u001b[0;32mfrom\u001b[0m \u001b[0mcode\u001b[0m \u001b[0;32mimport\u001b[0m \u001b[0mText_reader\u001b[0m \u001b[0;32mas\u001b[0m \u001b[0mtr\u001b[0m\u001b[0;34m\u001b[0m\u001b[0m\n",
      "\u001b[0;31mImportError\u001b[0m: No module named 'code.dataExtract'; 'code' is not a package"
     ]
    }
   ],
   "source": [
    "# SYSTEM\n",
    "from os import listdir\n",
    "import PyCommonFun \n",
    "\n",
    "#NLTK\n",
    "import nltk, re, pprint\n",
    "from nltk import word_tokenize\n",
    "from nltk.tokenize import sent_tokenize\n",
    "from nltk.corpus import words\n",
    "from nltk.tokenize import RegexpTokenizer\n",
    "from nltk.metrics import *\n",
    "from collections import Counter\n",
    "\n",
    "#GENERAL\n",
    "import numpy as np\n",
    "import pandas as pd\n",
    "\n",
    "# data from Albert\n",
    "from code.dataExtract import data\n",
    "import code.dataExtract as de\n",
    "from code import Text_reader as tr\n",
    "# Read the data\n",
    "d = data(folder='../../train/') # training set with all the labels\n",
    "dataPath='../../train'"
   ]
  },
  {
   "cell_type": "code",
   "execution_count": 2,
   "metadata": {
    "collapsed": true
   },
   "outputs": [],
   "source": [
    "def document_from_hmtl(doc_path):\n",
    "    with open(doc_path) as html_file:\n",
    "        full_text = html_file.read()\n",
    "        body = re.findall(r'<body[^>]*?>(.*?)</body>', full_text)\n",
    "        cleantext = re.sub('<\\/?span[^>]*>', ' ', body[0])\n",
    "        clean_text = re.sub('<.*?>', ' ', cleantext)\n",
    "        #clean_text = clean_text.lower()\n",
    "        clean_text = re.sub('0.01', '1', clean_text)\n",
    "        clean_text = re.sub(',', '', clean_text)\n",
    "        clean_text = re.sub(r'[^a-zA-Z0-9]', ' ', clean_text)\n",
    "        clean_text = re.sub('\\s+', ' ', clean_text)\n",
    "        return clean_text\n",
    "    \n",
    "def getContext(s,pattern,context=list(),width=100):\n",
    "    \n",
    "    \n",
    "    loc=s.find(pattern)\n",
    "    \n",
    "    if loc == -1:\n",
    "        return context\n",
    "    elif loc-width < 0:\n",
    "        context.append(s[:loc+width])\n",
    "        return getContext(s[loc+len(pattern):],pattern,context,width)\n",
    "    elif loc + width > len(s):\n",
    "        context.append(s[loc-width:])\n",
    "        return getContext(s[loc+len(pattern):],pattern,context,width)\n",
    "    else:\n",
    "        context.append(s[loc-width:loc+width])\n",
    "        return getContext(s[loc+len(pattern):],pattern,context,width)\n",
    "\n",
    "\n"
   ]
  },
  {
   "cell_type": "markdown",
   "metadata": {},
   "source": [
    "### load labels and context dict.\n",
    "the context dict is a dict. of dict. such as contextAllCurr = {'fileId': { ' curr' : Ngram } },\n",
    "where Ngramm are part of speech centered around a currency. The contextAllCurr has been \n",
    "saved in a separate notebook (save_curencyContext_train(test)Set.ipynb)"
   ]
  },
  {
   "cell_type": "code",
   "execution_count": 2,
   "metadata": {
    "collapsed": true
   },
   "outputs": [],
   "source": [
    "\n",
    "# get context dict\n",
    "contextAllCurr=np.load(dataPath + '/train_contextAllCurr.npy').item()"
   ]
  },
  {
   "cell_type": "markdown",
   "metadata": {},
   "source": [
    "extract only currencies found in the documents, store results in foundCurrType = {'fileId': [curr]}. "
   ]
  },
  {
   "cell_type": "code",
   "execution_count": 27,
   "metadata": {
    "collapsed": true
   },
   "outputs": [],
   "source": [
    "contextOpCurr=dict()\n",
    "opCurrDict=dict()\n",
    "\n",
    "htmlFiles=tr.get_files(dataPath + '/html')\n",
    "\n",
    "for isin in d.docid.keys():\n",
    "    \n",
    "    contextOpCurr[isin]=contextAllCurr[isin][d.optCur[isin][0]]\n",
    "    opCurrDict[isin]=d.optCur[isin][0]\n",
    "    \n",
    "    if len(contextOpCurr[isin])==0:\n",
    "        contextOpCurr[isin]=document_from_hmtl(htmlFiles[d.docid[isin][0]])"
   ]
  },
  {
   "cell_type": "code",
   "execution_count": 29,
   "metadata": {
    "collapsed": false
   },
   "outputs": [
    {
     "data": {
      "text/html": [
       "<div>\n",
       "<table border=\"1\" class=\"dataframe\">\n",
       "  <thead>\n",
       "    <tr style=\"text-align: right;\">\n",
       "      <th></th>\n",
       "      <th>ISIN</th>\n",
       "      <th>context</th>\n",
       "      <th>opCurr</th>\n",
       "    </tr>\n",
       "  </thead>\n",
       "  <tbody>\n",
       "    <tr>\n",
       "      <th>0</th>\n",
       "      <td>XS1334556716</td>\n",
       "      <td>These Final Terms do not constitute Final Ter...</td>\n",
       "      <td>USD</td>\n",
       "    </tr>\n",
       "    <tr>\n",
       "      <th>1</th>\n",
       "      <td>XS1313800895</td>\n",
       "      <td>NO PROSPECTUS IS REQUIRED IN ACCORDANCE WITH ...</td>\n",
       "      <td>JPY</td>\n",
       "    </tr>\n",
       "    <tr>\n",
       "      <th>2</th>\n",
       "      <td>XS1378463068</td>\n",
       "      <td>Pricing Supplement The SFC takes no responsib...</td>\n",
       "      <td>HKD</td>\n",
       "    </tr>\n",
       "    <tr>\n",
       "      <th>3</th>\n",
       "      <td>XS1267246327</td>\n",
       "      <td>Pricing Supplement dated December 10 2015 Exe...</td>\n",
       "      <td>USD</td>\n",
       "    </tr>\n",
       "    <tr>\n",
       "      <th>4</th>\n",
       "      <td>US05579HAB87</td>\n",
       "      <td>[ Final Terms dated 17 December 2008 ING Bank ...</td>\n",
       "      <td>USD</td>\n",
       "    </tr>\n",
       "  </tbody>\n",
       "</table>\n",
       "</div>"
      ],
      "text/plain": [
       "           ISIN                                            context opCurr\n",
       "0  XS1334556716   These Final Terms do not constitute Final Ter...    USD\n",
       "1  XS1313800895   NO PROSPECTUS IS REQUIRED IN ACCORDANCE WITH ...    JPY\n",
       "2  XS1378463068   Pricing Supplement The SFC takes no responsib...    HKD\n",
       "3  XS1267246327   Pricing Supplement dated December 10 2015 Exe...    USD\n",
       "4  US05579HAB87  [ Final Terms dated 17 December 2008 ING Bank ...    USD"
      ]
     },
     "execution_count": 29,
     "metadata": {},
     "output_type": "execute_result"
    }
   ],
   "source": [
    "contextOpCurr_df=pd.DataFrame(contextOpCurr.items(),columns=['ISIN','context'])\n",
    "opCurr_df=pd.DataFrame(opCurrDict.items(),columns=['ISIN','opCurr'])\n",
    "contextOpCurr_df=pd.merge(contextOpCurr_df,opCurr_df,on='ISIN')\n",
    "contextOpCurr_df.head()\n",
    "\n"
   ]
  },
  {
   "cell_type": "code",
   "execution_count": 10,
   "metadata": {
    "collapsed": false
   },
   "outputs": [],
   "source": [
    "import pickle\n",
    "import numpy as np\n",
    "\n",
    "# export as np.array\n",
    "context=pickle.load(open('../context.pickle', 'rb'))\n",
    "opCurr=pickle.load(open('../opCurr.pickle', 'rb'))\n"
   ]
  },
  {
   "cell_type": "markdown",
   "metadata": {},
   "source": [
    "## classifier"
   ]
  },
  {
   "cell_type": "code",
   "execution_count": 11,
   "metadata": {
    "collapsed": true
   },
   "outputs": [],
   "source": [
    "from sklearn import cross_validation\n",
    "\n",
    "X_train, X_test, y_train, y_test = cross_validation.train_test_split(context, opCurr,\\\n",
    "                                                                     test_size=0.3, random_state=53)"
   ]
  },
  {
   "cell_type": "code",
   "execution_count": 14,
   "metadata": {
    "collapsed": false
   },
   "outputs": [
    {
     "name": "stdout",
     "output_type": "stream",
     "text": [
      "[ ' THE NOTES TO WHICH THIS PRICING SUPPLEMENT RELATES HAVE NOT BEEN REGISTERED UNDER THE SECURITIES ACT OF 1933 AS AMENDED THE SECURITIES ACT OR ANY STATE SECURITIES LAWS AND UNLESS SO REGISTERED MAY NOT BE OFFERED OR SOLD WITHIN THE UNITED STATES OR TO OR FOR THE ACCOUNT OR BENEFIT OF U S PERSONS EXCEPT PURSUANT TO AN EXEMPTION FROM OR IN A TRANSACTION NOT SUBJECT TO THE REGISTRATION REQUIREMENTS OF THE SECURITIES ACT AND APPLICABLE STATE SECURITIES LAWS Pricing Supplement dated 1 December 2015 THE HONGKONG AND SHANGHAI BANKING CORPORATION LIMITED as Issuer U S 20000000000 Medium Term Note Programme Issue of USD300000 Share Linked Notes due March 2016 This document constitutes the Pricing Supplement relating to the issue of Notes described herein Terms used herein shall be deemed to be defined as such for the purposes of the Conditions set forth in the Offering Circular dated 12 March 2015 as amended restated or updated This Pricing Supplement contains the final terms of the Notes and must be read in conjunction with such Offering Circular 1 Issuer The Hongkong and Shanghai Banking Corporation Limited 2 Series Number 8965 2015 3 Currency or Currencies Condition 1 10 United States Dollars quot USD quot 4 Aggregate Nominal Amount USD300000 5 Issue Price 100 per cent of the Aggregate Nominal Amount 6 Denomination s Condition 1 8 or 1 9 USD10000 For the avoidance of doubt Condition 1 9 shall not apply 7 i Issue Date 3 December 2015 ii Interest Commencement Date 4 December 2015 8 Maturity Date Condition 5 1 4 March 2016 subject to adjustment in accordance with the Business Day Convention and early redemption of the Notes if an early redemption event occurs 9 Interest Basis Condition 4 See Annex 1 10 Redemption Payment Basis See Annex 1 11 Change of Interest or Redemption Payment Basis Not Applicable 12 Put Call Options Condition 5 4 and 5 7 Not Applicable 13 Date approval for issuance of Notes obtained Not Applicable 14 Listing None 15 Method of distribution Non syndicated PROVISIONS RELATING TO INTEREST IF ANY PAYABLE 16 Fixed Rate Note Provisions Not Applicable 17 Floating Rate Note Provisions Not Applicable 18 Zero Coupon Note Provisions Not Applicable 19 Index Linked Interest Note Provisions Not Applicable 20 Dual Currency Interest Note Provisions Not Applicable PROVISIONS RELATING TO REDEMPTION 21 Call Option Condition 5 4 Not Applicable 22 Put Option Condition 5 7 Not Applicable 23 Maturity Redemption Amount Condition 5 1 See Annex 1 24 Early Redemption for Taxation Reasons Condition 5 2 i Early Redemption Amount Tax The Early Redemption Amount Tax of the Notes payable on redemption for tax reasons shall be an amount equal to the fair market value of the Notes immediately prior and without consideration to the circumstances leading to such early redemption adjusted to account fully for any losses expenses and costs to the Issuer or any of its affiliates of unwinding any underlying or related hedging and funding arrangements including without limitation any swaps or other instruments all as determined by the Calculation Agent in its sole and absolute discretion ii Date after which changes in law etc entitle Issuer to redeem Issue Date 25 Early Redemption for reasons of Force Majeure Condition 5 3 Applicable 26 Other Redemption Provisions Not Applicable 27 Events of Default Condition 6 1 a i Early Termination Amount The Early Termination Amount of the Notes payable upon an Event of Default shall be an amount equal to the fair market value of the Notes immediately prior and without consideration to the circumstances leading to such early redemption adjusted to account fully for any losses expenses and costs to the Issuer or any of its affiliates of unwinding any underlying or related hedging and funding arrangements including without limitation any swaps or other instruments all as determined by the Calculation Agent in its sole and absolute discretion ii Any additional or modifications to Events of Default None 28 Winding up of the Bank Condition 6 2 i Early Termination Amount The Early Termination Amount of the Notes payable upon the winding up of the Bank shall be an amount equal to the fair market value of the Notes immediately prior and without consideration to the circumstances leading to such early redemption adjusted to account fully for any losses expenses and costs to the Issuer or any of its affiliates of unwinding any underlying or related hedging and funding arrangements including without limitation any swaps or other instruments all as determined by the Calculation Agent in its sole and absolute discretion GENERAL PROVISIONS APPLICABLE TO THE NOTES 29 Form of Notes Condition 1 1 Bearer Notes Permanent Global Note exchangeable for Definitive Notes only in limited circumstances specified in the Conditions 30 Type of Note Equity Linked Notes 31 Relevant Financial Centre Day s or other special provisions relating to Payments Condition 8 3 Tokyo and New York for payment 32 Unmatured Coupons missing upon Early Redemption Condition 8 1 f shall apply 33 Talons for future Coupons to be attached to Definitive Notes and dates on which such Talons mature No 34 Details relating to partly paid Notes amount of each payment comprising the Issue Price and date on which each payment is to be made and consequences if any of failure to pay including any right of the Issuer to forfeit the Notes and interest due on late payment Not Applicable 35 Redenomination renominalisation and reconventioning provisions Not Applicable 36 Additional payment provisions Not Applicable 37 Reference Asset Components Not Applicable 38 Other terms or special conditions See Annex 1 PROVISIONS APPLICABLE TO INDEX LINKED NOTES AND EQUITY LINKED NOTES 39 Option for Equity Linked Notes only See Annex 1 40 Provisions for Equity Linked Notes In addition to the provisions as set out in this paragraph 40 Annex 1 shall apply provided that in the case of any inconsistencies the Calculation Agent can determine in its sole and absolute discretion whether the consequences of any Reference Level Adjustment Event Settlement Disruption Event or Extraordinary Event as set out in Annex 1 or the consequences of the respective events as set out in the applicable provisions under this paragraph 40 or in other applicable Conditions shall apply i Securities Existing issued ordinary shares in the Underlying Company ii Underlying Company ies Pfizer Inc Exchange Code PFE UN iii Exchange s New York Stock Exchange iv Related Exchange s All Exchanges v Cash Settlement Payment Date Maturity Date vi Securities Transfer Amount Deliverable Number of Shares See Annex 1 Transfer Notice Each Holder shall on or before at least 3 calendar days prior to the Maturity Date or such earlier date as the Issuer shall determine is necessary for the Issuer the Paying Agents Euroclear Clearstream Luxembourg and or any other relevant clearing system to perform their respective obligations hereunder and forthwith notify to the Paying Agents and the Holders send to Euroclear Clearstream Luxembourg and or any other relevant clearing system copied to the Issuing and Paying Agent an irrevocable notice a Transfer Notice in the form from time to time approved by the Issuer which must specify the name and address of the Holder specify the number of Notes in respect of which he is the Holder specify the number of the Holder s account at Euroclear Clearstream Luxembourg and or any other relevant clearing system as the case may be to be debited with such Notes irrevocably instruct and authorise Euroclear Clearstream Luxembourg and or any other relevant clearing system as the case may be A to debit the Holder s account with such Notes on the Settlement Date if the Issuer has exercised the Option or otherwise on the Maturity Date and B that no further transfers of the Notes specified in the Transfer Notice may be made contain a representation and warranty from the Holder to the effect that the Notes to which the Transfer Notice relates are free from all liens charges encumbrances and other third party rights specify the number and account name of the account at the Clearance System to be credited with the Securities contain an irrevocable undertaking to pay the Transfer Expenses if any as defined in below and an irrevocable instruction to Euroclear Clearstream Luxembourg and or any other relevant clearing system as the case may be to debit on or after the Settlement Date the cash or other account of the Holder with Euroclear Clearstream Luxembourg and or any other relevant clearing system as the case may be specified in the Transfer Notice with such Transfer Expenses include a certificate of non U S beneficial ownership in the form required by the Issuer and authorise the production of the Transfer Notice in any applicable administrative or legal proceedings A Transfer Notice once delivered to Euroclear Clearstream Luxembourg and or any other relevant clearing system shall be irrevocable and may not be withdrawn without the consent in writing of the Issuer A Holder may not transfer any Note which is the subject of a Transfer Notice following delivery of such Transfer Notice to Euroclear Clearstream Luxembourg and or any other relevant clearing system A Transfer Notice shall only be valid to the extent that Euroclear Clearstream Luxembourg and or any other relevant clearing system have not received conflicting prior instructions in respect of the Notes which are the subject of the Transfer Notice Failure properly to complete and deliver a Transfer Notice may result in such notice being treated as null and void Any determination as to whether such notice has been properly completed and delivered as provided shall be made by the Issuing and Paying Agent and shall be conclusive and binding on the Issuer and the Holder The Issuing and Paying Agent shall promptly on the local banking day following receipt of such notice send a copy of the Transfer Notice to the Issuer or such person as the Issuer may previously have specified Delivery of the Securities will be via the Clearance System The delivery or transfer of Securities to each Holder is at the relevant Holder s risk and if delivery occurs later than the earliest possible date for delivery no additional amounts will be payable by the Issuer or the Guarantor viii Settlement Date Maturity Date ix Settlement Disruption Event Condition 9 3 applies Disruption Period if other than as specified in Condition 9 3 Not Applicable x Delivery Disruption Event Condition 9 4 applies xi Potential Adjustment Event Condition 9 5 a applies additional Potential Adjustment Event for the purposes of paragraph viii of the definition thereof None xii Merger Event or Tender Offer Condition 9 5 b applies xiii Nationalisation Insolvency Insolvency Filing or Delisting Condition 9 5 c applies xiv Extraordinary Fund Event Condition 9 5 c does not apply xv Corrections to published prices affecting Government Bonds or debt securities Condition 9 5 e does not apply Spot Price Not Applicable 41 Additional provisions for Equity Linked Notes See Annex 1 i Valuation Date i 1 24 February 2016 42 Provisions for Index Linked Notes Not Applicable 43 Valuation Date s Valuation Date i means the 7th Scheduled Trading Day prior to the Interest Amount Payment Date which is expected to be on or about the date as shown in the table below subject to Condition 9 1 b ii the Final Valuation Date i Common Scheduled Trading Days Not Applicable ii Disrupted Day Applicable iii Valuation Rollover Days Two Scheduled Trading Days iv Deemed Valuation Date The second Scheduled Trading Day immediately following the Scheduled Valuation Date 44 Valuation Time Condition 9 1 a applies 45 Averaging Dates Not Applicable 46 Fixing Date Yes The Strike Date subject to Condition 9 1 e ii i Common Scheduled Trading Days Not Applicable ii Disrupted Day Applicable iii Fixing Rollover Days Two Scheduled Trading Days iv Deemed Fixing Date The second Scheduled Trading Day immediately following the Scheduled Fixing Date 47 Additional Disruption Event The following Additional Disruption Event apply Change in Law 48 Other terms or special conditions relating to Index Linked Notes or Equity Linked Notes See Annex 1 DISTRIBUTION 49 If syndicated names of Managers Not Applicable 50 If non syndicated name of Relevant Dealer The Hongkong and Shanghai Banking Corporation Limited 51 Selling Restrictions As more fully described in the Offering Circular United States of America Category 2 TEFRA C Rules will apply Not Rule 144A eligible Japan The Notes have not been and will not be registered under the Financial Instruments and Exchange Act of Japan Act No 25 of 1948 as amended the FIEA and each Dealer has represented and agreed and each further Dealer appointed under the Programme will be required to represent and agree that it will not offer or sell any Notes directly or indirectly in Japan or to or for the benefit of any resident of Japan as defined under Item 5 Paragraph 1 Article 6 of the Foreign Exchange and Foreign Trade Act Act No 228 of 1949 as amended or to others for re offering or resale directly or indirectly in Japan or to or for the benefit of a resident of Japan except pursuant to an exemption from the registration requirements of and otherwise in compliance with the FIEA and any other applicable laws regulations and ministerial guidelines of Japan Other As more fully described in the Offering Circular 52 Stabilising Institution Not Applicable 53 Additional U S federal income tax considerations Not Applicable OPERATIONAL INFORMATION 54 ISIN Code XS1324891735 55 Common Code 132489173 56 Clearing System s Euroclear and Clearstream Luxembourg 57 Common Depositary Lodging Agent The Hongkong and Shanghai Banking Corporation Limited 58 CMU Service Instrument Number Not Applicable 59 Settlement Procedures Customary medium term note settlement and payment procedures apply 60 Delivery Delivery against payment 61 Additional Paying Agent s if any None 62 Calculation Agent The Hongkong and Shanghai Banking Corporation Limited RESPONSIBILITY The Issuer accepts responsibility for the information contained in this Pricing Supplement Signed on behalf of the Issuer THE HONGKONG AND SHANGHAI BANKING CORPORATION LIMITED By Duly authorised ANNEX 1 The Conditions shall be supplemented and modified by the following Special Conditions In the event of any inconsistency between the Conditions and such Special Conditions such Special Conditions shall prevail and the Conditions shall be amended accordingly Capitalised terms used in this Annex 1 which are not defined elsewhere shall have the meanings given in Annex 2 Part 1 Interest Amount In respect of each Note and the Interest Period the following Interest Amount calculated in accordance with the following formula rounded to the nearest cent will be payable by the Issuer on the Interest Amount Payment Date Denomination 9 50 per annum which amounts to the Interest Amount of USD237 50 per Denomination Where Interest Period means the period from and including the Interest Commencement Date and ending on but excluding the Interest Amount Payment Date provided that for the purpose of determining an Interest Period the Interest Amount Payment Date will not be subject to adjustment in accordance with the Business Day Convention Day Count Fraction means 30 360 unadjusted Part 2 Maturity Redemption Amount Unless previously redeemed or repurchased and cancelled as provided in the Conditions the Maturity Redemption Amount payable in respect of each Note on the Maturity Date shall be determined in accordance with the provisions set out below If the Final Share Price of the Security is at or above the Exercise Price Denomination x 100 If the Final Share Price of the Security is below the Exercise Price the Issuer or its affiliates or subsidiaries or any other entity with the Issuer s group shall in respect of each Note a deliver the Deliverable Number of Shares subject to the absence of the occurrence and or subsistence of a Settlement Disruption Event and b pay the Deliverable Cash Amount as described in sub paragraph 2 3 below to Noteholders on the Maturity Date Where Deliverable Number of Shares means in respect of each Note the quantity of the Security calculated in accordance with the following formula rounded down to the nearest round lot of the Security where round lot of the Security 1 Denomination Exercise Price and any fractional entitlement which does not form a round lot will be subject to cash settlement see sub paragraph 2 3 below and subject to adjustment by the Calculation Agent upon occurrence of the events as specified in Part 3 below If on the Maturity Date a Settlement Disruption Event has occurred and or is subsisting the delivery of the Deliverable Number of Shares shall be postponed until the date on which no Settlement Disruption Event is subsisting The Deliverable Number of Shares shall be calculated on a per Denomination basis For the avoidance of doubt if the Deliverable Number of Shares to be delivered results in an entitlement to a number of Securities which does not correspond with a round lot or an integral multiple of round lots of the Security and or consists of a fraction of the Security then the largest possible round lot of the Security will be delivered as the Deliverable Number of Shares and the remaining amount of the Securities which does not form a round lot of the Security if any the Excess Shares rounded to the nearest 5 decimal places with 0 000005 being rounded upwards will not be delivered In respect of the Excess Shares the Issuer shall pay to the holder of the Notes a cash amount the quot Deliverable Cash Amount quot which is calculated as follows rounded to the nearest cent Final Share Price x Excess Shares Delivery of the Deliverable Number of Shares shall not be made to the relevant Holder s until all Transfer Expenses have been paid to the satisfaction of the Calculation Agent and or the Dealer as the case may be by the relevant Holder s of the Notes The Holders are required to pay to the Calculation Agent all stamp duty and other costs arising from the transfer and delivery of the Deliverable Number of Shares to them Part 3 Adjustments to Initial Share Price Final Share Price Closing Price or other terms The Calculation Agent shall determine at any time whether a Reference Level Adjustment Event has occurred in respect of any Security and or Underlying Company as the case may be If the Calculation Agent determines that any such event has occurred without prejudice to any other elections adjustments or substitutions that the Calculation Agent can make pursuant to the Conditions the Calculation Agent may make such adjustments to the Initial Share Price the Final Share Price or the Closing Price of the Security or other terms and conditions of the Notes as it in its sole and absolute discretion deems appropriate ANNEX 2 DEFINITIONS Business Day Convention Modified Following Closing Price means in respect of the Security and a relevant day the price in USD of that Security as published by the Exchange as of the Valuation Time on the relevant day subject to adjustment by the Calculation Agent upon occurrence of the events as specified in Annex 1 Exercise Price means 98 00 of the Initial Share Price of the Security to be determined in the sole and absolute discretion of the Calculation Agent Final Share Price means the Closing Price of the Security in respect of the Final Valuation Date Initial Share Price means the Closing Price of the Security in respect of the Strike Date to be determined in the sole and absolute discretion of the Calculation Agent Interest Amount Payment Date means the Maturity Date which is currently expected to be the date as set out in the table below subject to adjustment in accordance with the Business Day Convention i Interest Amount Payment Date i 1 4 March 2016 quot Reference Level Adjustment Event quot means a Market Disruption Event a Potential Adjustment Event an Extraordinary Event or an Additional Disruption Event that may at the discretion of the Calculation Agent lead to an adjustment to the Conditions including but not limited to the Initial Share Price the Final Share Price and or the Closing Price of the Security Strike Date 4 December 2015 Transfer Expenses means all costs taxes duties and or expenses including stamp duty stamp duty reserve tax and or other costs duties or taxes arising from or in connection with the purchase or transfer delivery or other disposition of the Deliverable Number of Shares by the transferor to the order of the relevant Noteholders as determined by the Calculation Agent in its sole and absolute discretion '\n",
      " [' Final Terms dated 17 December 2008 ING Bank N V Issue of 150000 Long Currency Sprinters linked to EUR USD issued pursuant to a 80000000000 Global Issuance Programme The Base Prospectus referred to below as completed by these Final Terms has been prepa', 'te 23 December 2008 7 quot as if and when issued quot Trading Three Business Days preceding the Issue Date 8 Current Financing Level on the Trade Date USD 1 350 9 Current Spread on the Trade Date 2 10 Maximum Spread 3 5 11 Current Stop Loss Premium Rate on the Trade Date 3 12 Maximum Premium 9 13 Mi', 'aximum Spread 3 5 11 Current Stop Loss Premium Rate on the Trade Date 3 12 Maximum Premium 9 13 Minimum Premium 0 14 Stop Loss Price on the Trade Date USD 1 390 15 Stop Loss Reset Date 1st calendar day of the month 16 Stop Loss Event As specified in the Currency Sprinter Certificate Conditions 17 St', 'e As specified in the Currency Sprinter Certificate Conditions 19 Reset Date Each Scheduled Trading Day 20 Entitlement 100 21 Financing Level Currency USD 22 Settlement Currency EUR 23 Exercise Time 12 00 AM Central European Time 24 Cash Settlement Amount As specified in the Currency Sprinter Certif', '32 Share Sprinter Certificate Provisions Not Applicable 33 Currency Sprinter Certificate Provisions Applicable i details of the Underlying FX Rate EUR USD Bloomberg code EURUSD Crncy ii Relevant Screen Page Reuters Page WMRSPOT39 iii Market Disruption Events De Minimis Trading General Inconvertibili', ' Disruption Event s Not Applicable vi Termination Reference Price As specified in the Currency Sprinter Certificate Conditions vii Underlying Currency USD viii Valuation Time The time with reference to which the WM Company calculates the fixing price of the underlying currently 3 p m Greenwich Mean ']]\n"
     ]
    }
   ],
   "source": [
    "print(X_train[:2])"
   ]
  },
  {
   "cell_type": "code",
   "execution_count": 12,
   "metadata": {
    "collapsed": false
   },
   "outputs": [
    {
     "ename": "AttributeError",
     "evalue": "'list' object has no attribute 'lower'",
     "output_type": "error",
     "traceback": [
      "\u001b[0;31m---------------------------------------------------------------------------\u001b[0m",
      "\u001b[0;31mAttributeError\u001b[0m                            Traceback (most recent call last)",
      "\u001b[0;32m<ipython-input-12-c10073d26e61>\u001b[0m in \u001b[0;36m<module>\u001b[0;34m()\u001b[0m\n\u001b[1;32m     11\u001b[0m \u001b[0mtext_clf\u001b[0m \u001b[0;34m=\u001b[0m \u001b[0mtext_clf\u001b[0m\u001b[0;34m.\u001b[0m\u001b[0mset_params\u001b[0m\u001b[0;34m(\u001b[0m\u001b[0mclf__alpha\u001b[0m \u001b[0;34m=\u001b[0m \u001b[0;36m1e-04\u001b[0m\u001b[0;34m,\u001b[0m                                \u001b[0mclf__n_iter\u001b[0m \u001b[0;34m=\u001b[0m \u001b[0;36m100\u001b[0m\u001b[0;34m,\u001b[0m                                \u001b[0mclf__penalty\u001b[0m \u001b[0;34m=\u001b[0m \u001b[0;34m'l2'\u001b[0m\u001b[0;34m,\u001b[0m                                \u001b[0mtfidf__norm\u001b[0m \u001b[0;34m=\u001b[0m \u001b[0;34m'l2'\u001b[0m\u001b[0;34m,\u001b[0m                                \u001b[0mtfidf__use_idf\u001b[0m \u001b[0;34m=\u001b[0m \u001b[0;32mFalse\u001b[0m\u001b[0;34m,\u001b[0m                                \u001b[0mvect__max_df\u001b[0m \u001b[0;34m=\u001b[0m \u001b[0;36m0.4\u001b[0m\u001b[0;34m,\u001b[0m                                \u001b[0mvect__ngram_range\u001b[0m \u001b[0;34m=\u001b[0m \u001b[0;34m(\u001b[0m\u001b[0;36m1\u001b[0m\u001b[0;34m,\u001b[0m \u001b[0;36m2\u001b[0m\u001b[0;34m)\u001b[0m\u001b[0;34m)\u001b[0m\u001b[0;34m\u001b[0m\u001b[0m\n\u001b[1;32m     12\u001b[0m \u001b[0;34m\u001b[0m\u001b[0m\n\u001b[0;32m---> 13\u001b[0;31m \u001b[0mtext_clf\u001b[0m \u001b[0;34m=\u001b[0m \u001b[0mtext_clf\u001b[0m\u001b[0;34m.\u001b[0m\u001b[0mfit\u001b[0m\u001b[0;34m(\u001b[0m\u001b[0mX_train\u001b[0m\u001b[0;34m,\u001b[0m \u001b[0my_train\u001b[0m\u001b[0;34m)\u001b[0m\u001b[0;34m\u001b[0m\u001b[0m\n\u001b[0m\u001b[1;32m     14\u001b[0m \u001b[0;34m\u001b[0m\u001b[0m\n\u001b[1;32m     15\u001b[0m \u001b[0my_train_pred\u001b[0m \u001b[0;34m=\u001b[0m \u001b[0mtext_clf\u001b[0m\u001b[0;34m.\u001b[0m\u001b[0mpredict\u001b[0m\u001b[0;34m(\u001b[0m\u001b[0mX_train\u001b[0m\u001b[0;34m)\u001b[0m\u001b[0;34m\u001b[0m\u001b[0m\n",
      "\u001b[0;32m/Users/ciprian/anaconda/lib/python3.5/site-packages/sklearn/pipeline.py\u001b[0m in \u001b[0;36mfit\u001b[0;34m(self, X, y, **fit_params)\u001b[0m\n\u001b[1;32m    162\u001b[0m             \u001b[0mthe\u001b[0m \u001b[0mpipeline\u001b[0m\u001b[0;34m.\u001b[0m\u001b[0;34m\u001b[0m\u001b[0m\n\u001b[1;32m    163\u001b[0m         \"\"\"\n\u001b[0;32m--> 164\u001b[0;31m         \u001b[0mXt\u001b[0m\u001b[0;34m,\u001b[0m \u001b[0mfit_params\u001b[0m \u001b[0;34m=\u001b[0m \u001b[0mself\u001b[0m\u001b[0;34m.\u001b[0m\u001b[0m_pre_transform\u001b[0m\u001b[0;34m(\u001b[0m\u001b[0mX\u001b[0m\u001b[0;34m,\u001b[0m \u001b[0my\u001b[0m\u001b[0;34m,\u001b[0m \u001b[0;34m**\u001b[0m\u001b[0mfit_params\u001b[0m\u001b[0;34m)\u001b[0m\u001b[0;34m\u001b[0m\u001b[0m\n\u001b[0m\u001b[1;32m    165\u001b[0m         \u001b[0mself\u001b[0m\u001b[0;34m.\u001b[0m\u001b[0msteps\u001b[0m\u001b[0;34m[\u001b[0m\u001b[0;34m-\u001b[0m\u001b[0;36m1\u001b[0m\u001b[0;34m]\u001b[0m\u001b[0;34m[\u001b[0m\u001b[0;34m-\u001b[0m\u001b[0;36m1\u001b[0m\u001b[0;34m]\u001b[0m\u001b[0;34m.\u001b[0m\u001b[0mfit\u001b[0m\u001b[0;34m(\u001b[0m\u001b[0mXt\u001b[0m\u001b[0;34m,\u001b[0m \u001b[0my\u001b[0m\u001b[0;34m,\u001b[0m \u001b[0;34m**\u001b[0m\u001b[0mfit_params\u001b[0m\u001b[0;34m)\u001b[0m\u001b[0;34m\u001b[0m\u001b[0m\n\u001b[1;32m    166\u001b[0m         \u001b[0;32mreturn\u001b[0m \u001b[0mself\u001b[0m\u001b[0;34m\u001b[0m\u001b[0m\n",
      "\u001b[0;32m/Users/ciprian/anaconda/lib/python3.5/site-packages/sklearn/pipeline.py\u001b[0m in \u001b[0;36m_pre_transform\u001b[0;34m(self, X, y, **fit_params)\u001b[0m\n\u001b[1;32m    143\u001b[0m         \u001b[0;32mfor\u001b[0m \u001b[0mname\u001b[0m\u001b[0;34m,\u001b[0m \u001b[0mtransform\u001b[0m \u001b[0;32min\u001b[0m \u001b[0mself\u001b[0m\u001b[0;34m.\u001b[0m\u001b[0msteps\u001b[0m\u001b[0;34m[\u001b[0m\u001b[0;34m:\u001b[0m\u001b[0;34m-\u001b[0m\u001b[0;36m1\u001b[0m\u001b[0;34m]\u001b[0m\u001b[0;34m:\u001b[0m\u001b[0;34m\u001b[0m\u001b[0m\n\u001b[1;32m    144\u001b[0m             \u001b[0;32mif\u001b[0m \u001b[0mhasattr\u001b[0m\u001b[0;34m(\u001b[0m\u001b[0mtransform\u001b[0m\u001b[0;34m,\u001b[0m \u001b[0;34m\"fit_transform\"\u001b[0m\u001b[0;34m)\u001b[0m\u001b[0;34m:\u001b[0m\u001b[0;34m\u001b[0m\u001b[0m\n\u001b[0;32m--> 145\u001b[0;31m                 \u001b[0mXt\u001b[0m \u001b[0;34m=\u001b[0m \u001b[0mtransform\u001b[0m\u001b[0;34m.\u001b[0m\u001b[0mfit_transform\u001b[0m\u001b[0;34m(\u001b[0m\u001b[0mXt\u001b[0m\u001b[0;34m,\u001b[0m \u001b[0my\u001b[0m\u001b[0;34m,\u001b[0m \u001b[0;34m**\u001b[0m\u001b[0mfit_params_steps\u001b[0m\u001b[0;34m[\u001b[0m\u001b[0mname\u001b[0m\u001b[0;34m]\u001b[0m\u001b[0;34m)\u001b[0m\u001b[0;34m\u001b[0m\u001b[0m\n\u001b[0m\u001b[1;32m    146\u001b[0m             \u001b[0;32melse\u001b[0m\u001b[0;34m:\u001b[0m\u001b[0;34m\u001b[0m\u001b[0m\n\u001b[1;32m    147\u001b[0m                 \u001b[0mXt\u001b[0m \u001b[0;34m=\u001b[0m \u001b[0mtransform\u001b[0m\u001b[0;34m.\u001b[0m\u001b[0mfit\u001b[0m\u001b[0;34m(\u001b[0m\u001b[0mXt\u001b[0m\u001b[0;34m,\u001b[0m \u001b[0my\u001b[0m\u001b[0;34m,\u001b[0m \u001b[0;34m**\u001b[0m\u001b[0mfit_params_steps\u001b[0m\u001b[0;34m[\u001b[0m\u001b[0mname\u001b[0m\u001b[0;34m]\u001b[0m\u001b[0;34m)\u001b[0m\u001b[0;31m \u001b[0m\u001b[0;31m\\\u001b[0m\u001b[0;34m\u001b[0m\u001b[0m\n",
      "\u001b[0;32m/Users/ciprian/anaconda/lib/python3.5/site-packages/sklearn/feature_extraction/text.py\u001b[0m in \u001b[0;36mfit_transform\u001b[0;34m(self, raw_documents, y)\u001b[0m\n\u001b[1;32m    815\u001b[0m \u001b[0;34m\u001b[0m\u001b[0m\n\u001b[1;32m    816\u001b[0m         vocabulary, X = self._count_vocab(raw_documents,\n\u001b[0;32m--> 817\u001b[0;31m                                           self.fixed_vocabulary_)\n\u001b[0m\u001b[1;32m    818\u001b[0m \u001b[0;34m\u001b[0m\u001b[0m\n\u001b[1;32m    819\u001b[0m         \u001b[0;32mif\u001b[0m \u001b[0mself\u001b[0m\u001b[0;34m.\u001b[0m\u001b[0mbinary\u001b[0m\u001b[0;34m:\u001b[0m\u001b[0;34m\u001b[0m\u001b[0m\n",
      "\u001b[0;32m/Users/ciprian/anaconda/lib/python3.5/site-packages/sklearn/feature_extraction/text.py\u001b[0m in \u001b[0;36m_count_vocab\u001b[0;34m(self, raw_documents, fixed_vocab)\u001b[0m\n\u001b[1;32m    750\u001b[0m         \u001b[0mindptr\u001b[0m\u001b[0;34m.\u001b[0m\u001b[0mappend\u001b[0m\u001b[0;34m(\u001b[0m\u001b[0;36m0\u001b[0m\u001b[0;34m)\u001b[0m\u001b[0;34m\u001b[0m\u001b[0m\n\u001b[1;32m    751\u001b[0m         \u001b[0;32mfor\u001b[0m \u001b[0mdoc\u001b[0m \u001b[0;32min\u001b[0m \u001b[0mraw_documents\u001b[0m\u001b[0;34m:\u001b[0m\u001b[0;34m\u001b[0m\u001b[0m\n\u001b[0;32m--> 752\u001b[0;31m             \u001b[0;32mfor\u001b[0m \u001b[0mfeature\u001b[0m \u001b[0;32min\u001b[0m \u001b[0manalyze\u001b[0m\u001b[0;34m(\u001b[0m\u001b[0mdoc\u001b[0m\u001b[0;34m)\u001b[0m\u001b[0;34m:\u001b[0m\u001b[0;34m\u001b[0m\u001b[0m\n\u001b[0m\u001b[1;32m    753\u001b[0m                 \u001b[0;32mtry\u001b[0m\u001b[0;34m:\u001b[0m\u001b[0;34m\u001b[0m\u001b[0m\n\u001b[1;32m    754\u001b[0m                     \u001b[0mj_indices\u001b[0m\u001b[0;34m.\u001b[0m\u001b[0mappend\u001b[0m\u001b[0;34m(\u001b[0m\u001b[0mvocabulary\u001b[0m\u001b[0;34m[\u001b[0m\u001b[0mfeature\u001b[0m\u001b[0;34m]\u001b[0m\u001b[0;34m)\u001b[0m\u001b[0;34m\u001b[0m\u001b[0m\n",
      "\u001b[0;32m/Users/ciprian/anaconda/lib/python3.5/site-packages/sklearn/feature_extraction/text.py\u001b[0m in \u001b[0;36m<lambda>\u001b[0;34m(doc)\u001b[0m\n\u001b[1;32m    236\u001b[0m \u001b[0;34m\u001b[0m\u001b[0m\n\u001b[1;32m    237\u001b[0m             return lambda doc: self._word_ngrams(\n\u001b[0;32m--> 238\u001b[0;31m                 tokenize(preprocess(self.decode(doc))), stop_words)\n\u001b[0m\u001b[1;32m    239\u001b[0m \u001b[0;34m\u001b[0m\u001b[0m\n\u001b[1;32m    240\u001b[0m         \u001b[0;32melse\u001b[0m\u001b[0;34m:\u001b[0m\u001b[0;34m\u001b[0m\u001b[0m\n",
      "\u001b[0;32m/Users/ciprian/anaconda/lib/python3.5/site-packages/sklearn/feature_extraction/text.py\u001b[0m in \u001b[0;36m<lambda>\u001b[0;34m(x)\u001b[0m\n\u001b[1;32m    202\u001b[0m \u001b[0;34m\u001b[0m\u001b[0m\n\u001b[1;32m    203\u001b[0m         \u001b[0;32mif\u001b[0m \u001b[0mself\u001b[0m\u001b[0;34m.\u001b[0m\u001b[0mlowercase\u001b[0m\u001b[0;34m:\u001b[0m\u001b[0;34m\u001b[0m\u001b[0m\n\u001b[0;32m--> 204\u001b[0;31m             \u001b[0;32mreturn\u001b[0m \u001b[0;32mlambda\u001b[0m \u001b[0mx\u001b[0m\u001b[0;34m:\u001b[0m \u001b[0mstrip_accents\u001b[0m\u001b[0;34m(\u001b[0m\u001b[0mx\u001b[0m\u001b[0;34m.\u001b[0m\u001b[0mlower\u001b[0m\u001b[0;34m(\u001b[0m\u001b[0;34m)\u001b[0m\u001b[0;34m)\u001b[0m\u001b[0;34m\u001b[0m\u001b[0m\n\u001b[0m\u001b[1;32m    205\u001b[0m         \u001b[0;32melse\u001b[0m\u001b[0;34m:\u001b[0m\u001b[0;34m\u001b[0m\u001b[0m\n\u001b[1;32m    206\u001b[0m             \u001b[0;32mreturn\u001b[0m \u001b[0mstrip_accents\u001b[0m\u001b[0;34m\u001b[0m\u001b[0m\n",
      "\u001b[0;31mAttributeError\u001b[0m: 'list' object has no attribute 'lower'"
     ]
    }
   ],
   "source": [
    "from sklearn.pipeline import Pipeline\n",
    "from sklearn.feature_extraction.text import CountVectorizer\n",
    "from sklearn.feature_extraction.text import TfidfTransformer\n",
    "from sklearn.linear_model import SGDClassifier\n",
    "from sklearn.metrics import confusion_matrix\n",
    "from sklearn.metrics import classification_report\n",
    "from sklearn.externals import joblib\n",
    "\n",
    "text_clf = Pipeline([('vect', CountVectorizer()), \\\n",
    "                     ('tfidf', TfidfTransformer()), \\\n",
    "                     ('clf', SGDClassifier(average=True))])\n",
    "\n",
    "text_clf = text_clf.set_params(clf__alpha = 1e-04, \\\n",
    "                               clf__n_iter = 100, \\\n",
    "                               clf__penalty = 'l2', \\\n",
    "                               tfidf__norm = 'l2', \\\n",
    "                               tfidf__use_idf = False, \\\n",
    "                               vect__max_df = 0.4, \\\n",
    "                               vect__ngram_range = (1, 2))\n",
    "\n",
    "text_clf = text_clf.fit(X_train, y_train)\n",
    "\n",
    "y_train_pred = text_clf.predict(X_train)"
   ]
  },
  {
   "cell_type": "markdown",
   "metadata": {},
   "source": [
    "Divide the foundCurrType in three dict:\n",
    " - single currency\n",
    " - multiple currency\n",
    " - void"
   ]
  },
  {
   "cell_type": "code",
   "execution_count": 79,
   "metadata": {
    "collapsed": true
   },
   "outputs": [],
   "source": [
    "voidCurr=dict()\n",
    "singleCurr=dict()\n",
    "multiCurr=dict()\n",
    "\n",
    "for key in foundCurrType:\n",
    "    if len(foundCurrType[key]) == 0:\n",
    "        voidCurr[key]=foundCurrType[key]\n",
    "    elif len(foundCurrType[key]) == 1:\n",
    "        singleCurr[key]=foundCurrType[key]\n",
    "    elif len(foundCurrType[key]) > 1:\n",
    "        multiCurr[key]=foundCurrType[key]\n",
    "\n"
   ]
  },
  {
   "cell_type": "markdown",
   "metadata": {},
   "source": [
    "## Create bag of word for each currency"
   ]
  },
  {
   "cell_type": "markdown",
   "metadata": {},
   "source": [
    "I want to get an idea of the association between the operationnal currency and the surrounding \n",
    "words. Ideally, the additionnal currency found in the docs should show differents association.\n",
    "\n",
    "To addess this point, I create two distinct bag of words (bow) associated to:\n",
    "1) operationnal currency (consider opCurr dict)\n",
    "2) additionnal  currency (consider multipleCurr dict)\n",
    "and compare the bow"
   ]
  },
  {
   "cell_type": "code",
   "execution_count": 80,
   "metadata": {
    "collapsed": false
   },
   "outputs": [],
   "source": [
    "text_bow_multiCurr=[]\n",
    "text_bow_OpCurr=[]\n",
    "\n",
    "for isin in multiCurr:\n",
    "    for curr in contextAllCurr[isin]:\n",
    "        # do not consider operationnal currency\n",
    "        if d.optCur[isin][0] == curr:\n",
    "            for content in contextAllCurr[isin][curr]:\n",
    "                text_bow_OpCurr.append(word_tokenize(content))\n",
    "        else:\n",
    "            for content in contextAllCurr[isin][curr]:\n",
    "                text_bow_multiCurr.append(word_tokenize(content))"
   ]
  },
  {
   "cell_type": "code",
   "execution_count": 81,
   "metadata": {
    "collapsed": false
   },
   "outputs": [
    {
     "data": {
      "text/plain": [
       "10145"
      ]
     },
     "execution_count": 81,
     "metadata": {},
     "output_type": "execute_result"
    }
   ],
   "source": [
    "len(text_bow_multiCurr)"
   ]
  },
  {
   "cell_type": "code",
   "execution_count": 82,
   "metadata": {
    "collapsed": true
   },
   "outputs": [],
   "source": [
    "# tokenize the text but remove ponctuations\n",
    "tokenizer=RegexpTokenizer(r'\\w+')\n",
    "text_bow_OpCurr=tokenizer.tokenize(str(text_bow_OpCurr).lower())\n",
    "\n",
    "tokenizer=RegexpTokenizer(r'\\w+')\n",
    "text_bow_multiCurr=tokenizer.tokenize(str(text_bow_multiCurr).lower())\n"
   ]
  },
  {
   "cell_type": "code",
   "execution_count": 83,
   "metadata": {
    "collapsed": true
   },
   "outputs": [],
   "source": [
    "# create a bag of word by counting number of occurence of each term\n",
    "\n",
    "bow_OpCurr=Counter(text_bow_OpCurr)\n",
    "len_text_OpCurr=len(text_bow_OpCurr)\n",
    "# normalize the bow by dividing by length of text\n",
    "for key, val in bow_OpCurr.iteritems():\n",
    "    bow_OpCurr[key]=np.float(bow_OpCurr[key])/len_text_OpCurr\n",
    "\n",
    "bow_multiCurr=Counter(text_bow_multiCurr)\n",
    "len_text_multiCurr=len(text_bow_multiCurr)\n",
    "# normalize the bow by dividing by length of text\n",
    "for key, val in bow_multiCurr.iteritems():\n",
    "    bow_multiCurr[key]=np.float(bow_multiCurr[key])/len_text_multiCurr\n",
    "    "
   ]
  },
  {
   "cell_type": "code",
   "execution_count": 84,
   "metadata": {
    "collapsed": false
   },
   "outputs": [],
   "source": [
    "# use set method to find common key between the bow\n",
    "key_OpCurr=set(bow_OpCurr)\n",
    "key_multiCurr_set=set(bow_multiCurr)\n",
    "\n"
   ]
  },
  {
   "cell_type": "code",
   "execution_count": 89,
   "metadata": {
    "collapsed": false
   },
   "outputs": [
    {
     "data": {
      "text/plain": [
       "178372"
      ]
     },
     "execution_count": 89,
     "metadata": {},
     "output_type": "execute_result"
    }
   ],
   "source": [
    "len_text_OpCurr"
   ]
  },
  {
   "cell_type": "code",
   "execution_count": 88,
   "metadata": {
    "collapsed": false
   },
   "outputs": [
    {
     "name": "stdout",
     "output_type": "stream",
     "text": [
      "the: 0.0508151503599\n",
      "date: 0.0259906263315\n",
      "currency: 0.0257383445832\n",
      "sprinter: 0.0247516426345\n",
      "as: 0.0187865808535\n",
      "usd: 0.0178895790819\n",
      "certificate: 0.01735698428\n",
      "trade: 0.0152434238558\n",
      "to: 0.0147837104478\n",
      "of: 0.0145370349606\n",
      "stop: 0.014099746597\n",
      "premium: 0.014099746597\n",
      "on: 0.014099746597\n",
      "loss: 0.014099746597\n",
      "trading: 0.0132812324804\n",
      "3: 0.0132419886529\n",
      "eur: 0.0123842307089\n",
      "time: 0.0122328616599\n",
      "specified: 0.0117563294688\n",
      "in: 0.0117563294688\n",
      "current: 0.0112797972776\n",
      "12: 0.0109378153522\n",
      "conditions: 0.0100800574081\n",
      "issued: 0.00931760590227\n",
      "rate: 0.00870652344538\n",
      "spread: 0.0084598479582\n",
      "maximum: 0.0084598479582\n",
      "applicable: 0.00828605386496\n",
      "price: 0.00826923508174\n",
      "issue: 0.00817392864351\n",
      "december: 0.00817392864351\n",
      "2008: 0.00817392864351\n",
      "settlement: 0.00792725315632\n",
      "quot: 0.00792725315632\n",
      "day: 0.00792725315632\n",
      "23: 0.00792725315632\n",
      "9: 0.00740587087659\n",
      "underlying: 0.00737223331016\n",
      "final: 0.00727692687193\n",
      "5: 0.00700782634046\n",
      "reset: 0.00678357589756\n",
      "level: 0.00678357589756\n",
      "financing: 0.00678357589756\n",
      "not: 0.00636310631713\n",
      "terms: 0.00613324961317\n",
      "provisions: 0.00613324961317\n",
      "page: 0.00613324961317\n",
      "17: 0.00588657412598\n",
      "13: 0.0056398986388\n",
      "11: 0.0056398986388\n",
      "disruption: 0.00521942905837\n",
      "1: 0.00520261027516\n",
      "event: 0.00497275357119\n",
      "00: 0.00491108469939\n",
      "certificates: 0.00457470903505\n",
      "reference: 0.00430560850358\n",
      "n: 0.00421030206535\n",
      "iii: 0.00421030206535\n",
      "has: 0.00421030206535\n",
      "by: 0.00421030206535\n",
      "150000: 0.00398044536138\n",
      "when: 0.00396362657816\n",
      "three: 0.00396362657816\n",
      "scheduled: 0.00396362657816\n",
      "preceding: 0.00396362657816\n",
      "if: 0.00396362657816\n",
      "exercise: 0.00396362657816\n",
      "european: 0.00396362657816\n",
      "entitlement: 0.00396362657816\n",
      "each: 0.00396362657816\n",
      "days: 0.00396362657816\n",
      "central: 0.00396362657816\n",
      "cash: 0.00396362657816\n",
      "business: 0.00396362657816\n",
      "and: 0.00396362657816\n",
      "amount: 0.00396362657816\n",
      "am: 0.00396362657816\n",
      "7: 0.00396362657816\n",
      "24: 0.00396362657816\n",
      "22: 0.00396362657816\n",
      "21: 0.00396362657816\n",
      "20: 0.00396362657816\n",
      "19: 0.00396362657816\n",
      "0: 0.00371695109098\n",
      "8: 0.00333011907699\n",
      "with: 0.00329648151055\n",
      "wmrspot39: 0.00306662480658\n",
      "v: 0.00306662480658\n",
      "these: 0.00306662480658\n",
      "sprinters: 0.00306662480658\n",
      "share: 0.00306662480658\n",
      "screen: 0.00306662480658\n",
      "reuters: 0.00306662480658\n",
      "relevant: 0.00306662480658\n",
      "referred: 0.00306662480658\n",
      "pursuant: 0.00306662480658\n",
      "prospectus: 0.00306662480658\n",
      "programme: 0.00306662480658\n",
      "p: 0.00306662480658\n",
      "minimis: 0.00306662480658\n",
      "market: 0.00306662480658\n",
      "linked: 0.00306662480658\n",
      "issuance: 0.00306662480658\n",
      "ing: 0.00306662480658\n",
      "ii: 0.00306662480658\n",
      "i: 0.00306662480658\n",
      "global: 0.00306662480658\n",
      "general: 0.00306662480658\n",
      "fx: 0.00306662480658\n",
      "events: 0.00306662480658\n",
      "eurusd: 0.00306662480658\n",
      "details: 0.00306662480658\n",
      "de: 0.00306662480658\n",
      "dated: 0.00306662480658\n",
      "crncy: 0.00306662480658\n",
      "completed: 0.00306662480658\n",
      "code: 0.00306662480658\n",
      "bloomberg: 0.00306662480658\n",
      "below: 0.00306662480658\n",
      "been: 0.00306662480658\n",
      "base: 0.00306662480658\n",
      "bank: 0.00306662480658\n",
      "a: 0.00306662480658\n",
      "80000000000: 0.00306662480658\n",
      "33: 0.00306662480658\n",
      "32: 0.00306662480658\n",
      "100: 0.00306662480658\n",
      "long: 0.00296571210728\n",
      "te: 0.0028199493194\n",
      "month: 0.0028199493194\n",
      "minimum: 0.0028199493194\n",
      "calendar: 0.0028199493194\n",
      "2: 0.0028199493194\n",
      "1st: 0.0028199493194\n",
      "16: 0.0028199493194\n",
      "15: 0.0028199493194\n",
      "14: 0.0028199493194\n",
      "10: 0.0028199493194\n",
      "4: 0.00260691139865\n",
      "short: 0.00238826721683\n",
      "ratings: 0.00228735451753\n",
      "euronext: 0.00228735451753\n",
      "be: 0.00228735451753\n",
      "commodity: 0.0022312919068\n",
      "wm: 0.00215280425179\n",
      "which: 0.00215280425179\n",
      "viii: 0.00215280425179\n",
      "vii: 0.00215280425179\n",
      "vi: 0.00215280425179\n",
      "valuation: 0.00215280425179\n",
      "termination: 0.00215280425179\n",
      "st: 0.00215280425179\n",
      "s: 0.00215280425179\n",
      "prepa: 0.00215280425179\n",
      "mi: 0.00215280425179\n",
      "mean: 0.00215280425179\n",
      "m: 0.00215280425179\n",
      "inconvertibili: 0.00215280425179\n",
      "greenwich: 0.00215280425179\n",
      "fixing: 0.00215280425179\n",
      "e: 0.00215280425179\n",
      "currently: 0.00215280425179\n",
      "company: 0.00215280425179\n",
      "certif: 0.00215280425179\n",
      "calculates: 0.00215280425179\n",
      "aximum: 0.00215280425179\n",
      "r: 0.00119413360841\n",
      "will: 0.00114367725876\n",
      "total: 0.00114367725876\n",
      "related: 0.00114367725876\n",
      "rated: 0.00114367725876\n",
      "provide: 0.00114367725876\n",
      "per: 0.00114367725876\n",
      "nyse: 0.00114367725876\n",
      "number: 0.00114367725876\n",
      "notification: 0.00114367725876\n",
      "netherlands: 0.00114367725876\n",
      "markets: 0.00114367725876\n",
      "issu: 0.00114367725876\n",
      "from: 0.00114367725876\n",
      "for: 0.00114367725876\n",
      "first: 0.00114367725876\n",
      "financial: 0.00114367725876\n",
      "expenses: 0.00114367725876\n",
      "estimate: 0.00114367725876\n",
      "effect: 0.00114367725876\n",
      "being: 0.00114367725876\n",
      "authority: 0.00114367725876\n",
      "amsterdam: 0.00114367725876\n",
      "aiw: 0.00114367725876\n",
      "admission: 0.00114367725876\n",
      "6: 0.00114367725876\n",
      "250: 0.00114367725876\n",
      "25: 0.00114367725876\n",
      "18: 0.00114367725876\n",
      "330: 0.00112685847555\n",
      "ncy: 0.000913820554796\n",
      "inconverti: 0.000913820554796\n",
      "ble: 0.000913820554796\n",
      "or: 0.000863364205144\n",
      "536: 0.000683963850829\n",
      "490: 0.000683963850829\n",
      "ximum: 0.000667145067612\n",
      "certi: 0.000667145067612\n",
      "770: 0.000667145067612\n",
      "740: 0.000667145067612\n",
      "38: 0.000667145067612\n",
      "291: 0.000650326284394\n",
      "370: 0.000476532191151\n",
      "390: 0.000341981925414\n",
      "350: 0.000341981925414\n",
      "69: 0.000280313053618\n",
      "ity: 0.000229856703967\n",
      "60000: 0.000229856703967\n",
      "06: 0.000229856703967\n",
      "86: 0.000224250442895\n",
      "45: 0.000128944004664\n"
     ]
    }
   ],
   "source": [
    "for key,value in sorted(bow_OpCurr.iteritems(), key=lambda (k,v):(v,k), reverse=True):\n",
    "    print '%s: %s' % (key,value)"
   ]
  },
  {
   "cell_type": "code",
   "execution_count": 86,
   "metadata": {
    "collapsed": true
   },
   "outputs": [],
   "source": [
    "# create a dictionnary with common keys, defined as the ratio of bow_OpCurr and bow_multiCurr, which is kind of weights\n",
    "bowRatio_intersect_curr=dict()\n",
    "for k in key_OpCurr.intersection(key_multiCurr_set):\n",
    "    bowRatio_intersect_curr[k] = bow_OpCurr[k]/bow_multiCurr[k]"
   ]
  },
  {
   "cell_type": "code",
   "execution_count": 87,
   "metadata": {
    "collapsed": false
   },
   "outputs": [
    {
     "name": "stdout",
     "output_type": "stream",
     "text": [
      "ximum: 1.74576959889\n",
      "certi: 1.74576959889\n",
      "770: 1.74576959889\n",
      "740: 1.74576959889\n",
      "38: 1.74576959889\n",
      "536: 1.7344265581\n",
      "490: 1.7344265581\n",
      "291: 1.60769154228\n",
      "te: 1.56578481656\n",
      "month: 1.56578481656\n",
      "minimum: 1.56578481656\n",
      "current: 1.56578481656\n",
      "calendar: 1.56578481656\n",
      "2: 1.56578481656\n",
      "1st: 1.56578481656\n",
      "16: 1.56578481656\n",
      "15: 1.56578481656\n",
      "14: 1.56578481656\n",
      "13: 1.56578481656\n",
      "11: 1.56578481656\n",
      "10: 1.56578481656\n",
      "stop: 1.56578481656\n",
      "spread: 1.56578481656\n",
      "premium: 1.56578481656\n",
      "on: 1.56578481656\n",
      "maximum: 1.56578481656\n",
      "loss: 1.56578481656\n",
      "event: 1.54442298634\n",
      "wm: 1.51730753995\n",
      "which: 1.51730753995\n",
      "viii: 1.51730753995\n",
      "vii: 1.51730753995\n",
      "vi: 1.51730753995\n",
      "valuation: 1.51730753995\n",
      "termination: 1.51730753995\n",
      "st: 1.51730753995\n",
      "s: 1.51730753995\n",
      "reference: 1.51730753995\n",
      "prepa: 1.51730753995\n",
      "mi: 1.51730753995\n",
      "mean: 1.51730753995\n",
      "m: 1.51730753995\n",
      "inconvertibili: 1.51730753995\n",
      "greenwich: 1.51730753995\n",
      "fixing: 1.51730753995\n",
      "e: 1.51730753995\n",
      "currently: 1.51730753995\n",
      "company: 1.51730753995\n",
      "certif: 1.51730753995\n",
      "calculates: 1.51730753995\n",
      "aximum: 1.51730753995\n",
      "390: 1.4888440366\n",
      "350: 1.4888440366\n",
      "9: 1.4298853223\n",
      "330: 1.41780699355\n",
      "1: 1.38348374881\n",
      "0: 1.36460369926\n",
      "trade: 1.33554111123\n",
      "commodity: 1.32252166111\n",
      "3: 1.28973456459\n",
      "12: 1.27539749082\n",
      "specified: 1.27363428925\n",
      "in: 1.27363428925\n",
      "rate: 1.26385631014\n",
      "370: 1.22099957065\n",
      "underlying: 1.20371711446\n",
      "date: 1.20137109709\n",
      "price: 1.17337273591\n",
      "the: 1.16224447813\n",
      "17: 1.15698109771\n",
      "8: 1.15615060014\n",
      "usd: 1.1319421206\n",
      "reset: 1.12857872746\n",
      "level: 1.12857872746\n",
      "financing: 1.12857872746\n",
      "as: 1.12311746229\n",
      "disruption: 1.10916587602\n",
      "time: 1.08667483298\n",
      "5: 1.07937639308\n",
      "currency: 1.07442355291\n",
      "applicable: 1.03671346467\n",
      "conditions: 1.02457119053\n",
      "00: 0.956842678101\n",
      "when: 0.941536431498\n",
      "three: 0.941536431498\n",
      "settlement: 0.941536431498\n",
      "scheduled: 0.941536431498\n",
      "quot: 0.941536431498\n",
      "preceding: 0.941536431498\n",
      "if: 0.941536431498\n",
      "exercise: 0.941536431498\n",
      "european: 0.941536431498\n",
      "entitlement: 0.941536431498\n",
      "each: 0.941536431498\n",
      "days: 0.941536431498\n",
      "day: 0.941536431498\n",
      "central: 0.941536431498\n",
      "cash: 0.941536431498\n",
      "business: 0.941536431498\n",
      "and: 0.941536431498\n",
      "amount: 0.941536431498\n",
      "am: 0.941536431498\n",
      "7: 0.941536431498\n",
      "24: 0.941536431498\n",
      "23: 0.941536431498\n",
      "22: 0.941536431498\n",
      "21: 0.941536431498\n",
      "20: 0.941536431498\n",
      "19: 0.941536431498\n",
      "wmrspot39: 0.932985986455\n",
      "v: 0.932985986455\n",
      "these: 0.932985986455\n",
      "terms: 0.932985986455\n",
      "sprinters: 0.932985986455\n",
      "share: 0.932985986455\n",
      "screen: 0.932985986455\n",
      "reuters: 0.932985986455\n",
      "relevant: 0.932985986455\n",
      "referred: 0.932985986455\n",
      "pursuant: 0.932985986455\n",
      "provisions: 0.932985986455\n",
      "prospectus: 0.932985986455\n",
      "programme: 0.932985986455\n",
      "page: 0.932985986455\n",
      "p: 0.932985986455\n",
      "minimis: 0.932985986455\n",
      "market: 0.932985986455\n",
      "linked: 0.932985986455\n",
      "issuance: 0.932985986455\n",
      "ing: 0.932985986455\n",
      "ii: 0.932985986455\n",
      "i: 0.932985986455\n",
      "global: 0.932985986455\n",
      "general: 0.932985986455\n",
      "fx: 0.932985986455\n",
      "events: 0.932985986455\n",
      "eurusd: 0.932985986455\n",
      "details: 0.932985986455\n",
      "de: 0.932985986455\n",
      "dated: 0.932985986455\n",
      "crncy: 0.932985986455\n",
      "completed: 0.932985986455\n",
      "code: 0.932985986455\n",
      "bloomberg: 0.932985986455\n",
      "below: 0.932985986455\n",
      "been: 0.932985986455\n",
      "base: 0.932985986455\n",
      "bank: 0.932985986455\n",
      "a: 0.932985986455\n",
      "80000000000: 0.932985986455\n",
      "33: 0.932985986455\n",
      "32: 0.932985986455\n",
      "100: 0.932985986455\n",
      "certificate: 0.922220309375\n",
      "not: 0.894387315754\n",
      "with: 0.861241245375\n",
      "of: 0.854120685182\n",
      "issue: 0.825199444262\n",
      "december: 0.825199444262\n",
      "2008: 0.825199444262\n",
      "sprinter: 0.818049687646\n",
      "final: 0.810118416464\n",
      "trading: 0.803758819496\n",
      "to: 0.798869232167\n",
      "eur: 0.7938074051\n",
      "150000: 0.77215931282\n",
      "issued: 0.75665788941\n",
      "4: 0.749112435871\n",
      "n: 0.73921304149\n",
      "iii: 0.73921304149\n",
      "has: 0.73921304149\n",
      "by: 0.73921304149\n",
      "long: 0.702790912344\n",
      "short: 0.614818215797\n",
      "69: 0.520381615018\n",
      "r: 0.495745827168\n",
      "ncy: 0.489181368024\n",
      "inconverti: 0.489181368024\n",
      "ble: 0.489181368024\n",
      "will: 0.474798820386\n",
      "total: 0.474798820386\n",
      "related: 0.474798820386\n",
      "ratings: 0.474798820386\n",
      "rated: 0.474798820386\n",
      "provide: 0.474798820386\n",
      "per: 0.474798820386\n",
      "nyse: 0.474798820386\n",
      "number: 0.474798820386\n",
      "notification: 0.474798820386\n",
      "netherlands: 0.474798820386\n",
      "markets: 0.474798820386\n",
      "issu: 0.474798820386\n",
      "from: 0.474798820386\n",
      "for: 0.474798820386\n",
      "first: 0.474798820386\n",
      "financial: 0.474798820386\n",
      "expenses: 0.474798820386\n",
      "euronext: 0.474798820386\n",
      "estimate: 0.474798820386\n",
      "effect: 0.474798820386\n",
      "certificates: 0.474798820386\n",
      "being: 0.474798820386\n",
      "be: 0.474798820386\n",
      "authority: 0.474798820386\n",
      "amsterdam: 0.474798820386\n",
      "aiw: 0.474798820386\n",
      "admission: 0.474798820386\n",
      "6: 0.474798820386\n",
      "250: 0.474798820386\n",
      "25: 0.474798820386\n",
      "18: 0.474798820386\n",
      "86: 0.465489039594\n",
      "or: 0.462171353838\n",
      "ity: 0.425108740389\n",
      "60000: 0.425108740389\n",
      "06: 0.425108740389\n",
      "45: 0.420096151461\n"
     ]
    }
   ],
   "source": [
    "# check if it looks ok\n",
    "for key,value in sorted(bowRatio_intersect_curr.iteritems(), key=lambda (k,v):(v,k), reverse=True):\n",
    "    print '%s: %s' % (key,value)"
   ]
  },
  {
   "cell_type": "code",
   "execution_count": 73,
   "metadata": {
    "collapsed": true
   },
   "outputs": [],
   "source": [
    "## save the weight"
   ]
  },
  {
   "cell_type": "code",
   "execution_count": 74,
   "metadata": {
    "collapsed": false
   },
   "outputs": [],
   "source": [
    "np.save('weight_forCurrencyScoring_bigTrain.npy', bowRatio_intersect_curr) "
   ]
  },
  {
   "cell_type": "code",
   "execution_count": null,
   "metadata": {
    "collapsed": true
   },
   "outputs": [],
   "source": []
  }
 ],
 "metadata": {
  "kernelspec": {
   "display_name": "Python 3",
   "language": "python",
   "name": "python3"
  },
  "language_info": {
   "codemirror_mode": {
    "name": "ipython",
    "version": 3
   },
   "file_extension": ".py",
   "mimetype": "text/x-python",
   "name": "python",
   "nbconvert_exporter": "python",
   "pygments_lexer": "ipython3",
   "version": "3.5.1"
  }
 },
 "nbformat": 4,
 "nbformat_minor": 0
}
