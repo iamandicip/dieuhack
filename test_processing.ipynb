{
 "cells": [
  {
   "cell_type": "code",
   "execution_count": 1,
   "metadata": {
    "collapsed": true
   },
   "outputs": [],
   "source": [
    "import pandas as pd"
   ]
  },
  {
   "cell_type": "code",
   "execution_count": 2,
   "metadata": {
    "collapsed": false
   },
   "outputs": [],
   "source": [
    "import os\n",
    "from os import path\n",
    "datafolder = \"../data_0/\"\n",
    "assert path.isdir(datafolder)\n",
    "html_folder = path.join(datafolder, \"html\")\n",
    "assert path.isdir(html_folder)\n",
    "pdf_folder = path.join(datafolder, \"ocr\")\n",
    "assert path.isdir(pdf_folder)"
   ]
  },
  {
   "cell_type": "code",
   "execution_count": 57,
   "metadata": {
    "collapsed": false
   },
   "outputs": [],
   "source": [
    "labels = pd.read_csv( datafolder + \"labels.csv\", header=0, sep=\",\", quoting=1, thousands=\",\")\n",
    "cities = pd.read_csv( datafolder + \"cities.csv\", header=0, sep=\",\", quoting=1)\n",
    "\n",
    "#later edit: actually, we need the duplicates when we get the ISIN from the file name\n",
    "#remove duplicate isins; the other column values should be identical for the same ISIN, so it's just duplicate data\n",
    "#labels = labels.drop_duplicates('isin')"
   ]
  },
  {
   "cell_type": "code",
   "execution_count": 24,
   "metadata": {
    "collapsed": false
   },
   "outputs": [
    {
     "data": {
      "text/html": [
       "<div>\n",
       "<table border=\"1\" class=\"dataframe\">\n",
       "  <thead>\n",
       "    <tr style=\"text-align: right;\">\n",
       "      <th></th>\n",
       "      <th>fileId</th>\n",
       "      <th>isin</th>\n",
       "      <th>NOMINAL.CURR</th>\n",
       "      <th>MIN.TRAD.AMT</th>\n",
       "      <th>MULT.TRAD.AMT</th>\n",
       "      <th>ZERO.COUPN.FLAG</th>\n",
       "      <th>SEC.SUB.ID</th>\n",
       "      <th>FUNG.FL</th>\n",
       "      <th>OpCurrency</th>\n",
       "      <th>issuerName</th>\n",
       "      <th>issuerCity</th>\n",
       "      <th>issuerCountry</th>\n",
       "      <th>guarantorName</th>\n",
       "      <th>guarantorCity</th>\n",
       "      <th>guarantorCountry</th>\n",
       "    </tr>\n",
       "  </thead>\n",
       "  <tbody>\n",
       "    <tr>\n",
       "      <th>0</th>\n",
       "      <td>0900045c83095a2a</td>\n",
       "      <td>XS1166358447</td>\n",
       "      <td>USD</td>\n",
       "      <td>0</td>\n",
       "      <td>10000</td>\n",
       "      <td>N</td>\n",
       "      <td>USUB</td>\n",
       "      <td>N</td>\n",
       "      <td>USD</td>\n",
       "      <td>GOLDMAN SACHS INTERNATIONAL</td>\n",
       "      <td>LONDON</td>\n",
       "      <td>UNITED KINGDOM</td>\n",
       "      <td>GOLDMAN SACHS (ASIA) LLC</td>\n",
       "      <td>NEW YORK</td>\n",
       "      <td>UNITED STATES</td>\n",
       "    </tr>\n",
       "    <tr>\n",
       "      <th>1</th>\n",
       "      <td>0900045c838362f4</td>\n",
       "      <td>XS1281367034</td>\n",
       "      <td>JPY</td>\n",
       "      <td>0</td>\n",
       "      <td>100000000</td>\n",
       "      <td>N</td>\n",
       "      <td>USUB</td>\n",
       "      <td>N</td>\n",
       "      <td>JPY</td>\n",
       "      <td>UBS AG</td>\n",
       "      <td>LONDON</td>\n",
       "      <td>SWITZERLAND</td>\n",
       "      <td>NaN</td>\n",
       "      <td>NaN</td>\n",
       "      <td>NaN</td>\n",
       "    </tr>\n",
       "    <tr>\n",
       "      <th>2</th>\n",
       "      <td>0900045c83a280ec</td>\n",
       "      <td>XS1051339288</td>\n",
       "      <td>USD</td>\n",
       "      <td>0</td>\n",
       "      <td>100000</td>\n",
       "      <td>N</td>\n",
       "      <td>USUB</td>\n",
       "      <td>N</td>\n",
       "      <td>USD</td>\n",
       "      <td>DEUTSCHE BANK AG, GREAT WINCHE</td>\n",
       "      <td>LONDON</td>\n",
       "      <td>GERMANY</td>\n",
       "      <td>NaN</td>\n",
       "      <td>NaN</td>\n",
       "      <td>NaN</td>\n",
       "    </tr>\n",
       "    <tr>\n",
       "      <th>5</th>\n",
       "      <td>0900045c83a3755e</td>\n",
       "      <td>XS1051339106</td>\n",
       "      <td>JPY</td>\n",
       "      <td>0</td>\n",
       "      <td>25000000</td>\n",
       "      <td>N</td>\n",
       "      <td>USUB</td>\n",
       "      <td>N</td>\n",
       "      <td>JPY</td>\n",
       "      <td>DEUTSCHE BANK AG, GREAT WINCHE</td>\n",
       "      <td>LONDON</td>\n",
       "      <td>GERMANY</td>\n",
       "      <td>NaN</td>\n",
       "      <td>NaN</td>\n",
       "      <td>NaN</td>\n",
       "    </tr>\n",
       "    <tr>\n",
       "      <th>8</th>\n",
       "      <td>0900045c83a37568</td>\n",
       "      <td>XS1051337589</td>\n",
       "      <td>JPY</td>\n",
       "      <td>0</td>\n",
       "      <td>500000</td>\n",
       "      <td>N</td>\n",
       "      <td>USUB</td>\n",
       "      <td>N</td>\n",
       "      <td>JPY</td>\n",
       "      <td>DEUTSCHE BANK AG, GREAT WINCHE</td>\n",
       "      <td>LONDON</td>\n",
       "      <td>GERMANY</td>\n",
       "      <td>NaN</td>\n",
       "      <td>NaN</td>\n",
       "      <td>NaN</td>\n",
       "    </tr>\n",
       "  </tbody>\n",
       "</table>\n",
       "</div>"
      ],
      "text/plain": [
       "             fileId          isin NOMINAL.CURR  MIN.TRAD.AMT  MULT.TRAD.AMT  \\\n",
       "0  0900045c83095a2a  XS1166358447          USD             0          10000   \n",
       "1  0900045c838362f4  XS1281367034          JPY             0      100000000   \n",
       "2  0900045c83a280ec  XS1051339288          USD             0         100000   \n",
       "5  0900045c83a3755e  XS1051339106          JPY             0       25000000   \n",
       "8  0900045c83a37568  XS1051337589          JPY             0         500000   \n",
       "\n",
       "  ZERO.COUPN.FLAG SEC.SUB.ID FUNG.FL OpCurrency  \\\n",
       "0               N       USUB       N        USD   \n",
       "1               N       USUB       N        JPY   \n",
       "2               N       USUB       N        USD   \n",
       "5               N       USUB       N        JPY   \n",
       "8               N       USUB       N        JPY   \n",
       "\n",
       "                       issuerName issuerCity   issuerCountry  \\\n",
       "0     GOLDMAN SACHS INTERNATIONAL     LONDON  UNITED KINGDOM   \n",
       "1                          UBS AG     LONDON     SWITZERLAND   \n",
       "2  DEUTSCHE BANK AG, GREAT WINCHE     LONDON         GERMANY   \n",
       "5  DEUTSCHE BANK AG, GREAT WINCHE     LONDON         GERMANY   \n",
       "8  DEUTSCHE BANK AG, GREAT WINCHE     LONDON         GERMANY   \n",
       "\n",
       "              guarantorName guarantorCity guarantorCountry  \n",
       "0  GOLDMAN SACHS (ASIA) LLC      NEW YORK    UNITED STATES  \n",
       "1                       NaN           NaN              NaN  \n",
       "2                       NaN           NaN              NaN  \n",
       "5                       NaN           NaN              NaN  \n",
       "8                       NaN           NaN              NaN  "
      ]
     },
     "execution_count": 24,
     "metadata": {},
     "output_type": "execute_result"
    }
   ],
   "source": [
    "labels.head()"
   ]
  },
  {
   "cell_type": "code",
   "execution_count": 25,
   "metadata": {
    "collapsed": false
   },
   "outputs": [
    {
     "data": {
      "text/html": [
       "<div>\n",
       "<table border=\"1\" class=\"dataframe\">\n",
       "  <thead>\n",
       "    <tr style=\"text-align: right;\">\n",
       "      <th></th>\n",
       "      <th>MIN.TRAD.AMT</th>\n",
       "      <th>MULT.TRAD.AMT</th>\n",
       "    </tr>\n",
       "  </thead>\n",
       "  <tbody>\n",
       "    <tr>\n",
       "      <th>count</th>\n",
       "      <td>1200.000000</td>\n",
       "      <td>1.200000e+03</td>\n",
       "    </tr>\n",
       "    <tr>\n",
       "      <th>mean</th>\n",
       "      <td>4523.333333</td>\n",
       "      <td>1.023085e+07</td>\n",
       "    </tr>\n",
       "    <tr>\n",
       "      <th>std</th>\n",
       "      <td>45974.404043</td>\n",
       "      <td>2.817658e+07</td>\n",
       "    </tr>\n",
       "    <tr>\n",
       "      <th>min</th>\n",
       "      <td>0.000000</td>\n",
       "      <td>1.000000e+00</td>\n",
       "    </tr>\n",
       "    <tr>\n",
       "      <th>25%</th>\n",
       "      <td>0.000000</td>\n",
       "      <td>1.000000e+03</td>\n",
       "    </tr>\n",
       "    <tr>\n",
       "      <th>50%</th>\n",
       "      <td>0.000000</td>\n",
       "      <td>2.000000e+05</td>\n",
       "    </tr>\n",
       "    <tr>\n",
       "      <th>75%</th>\n",
       "      <td>0.000000</td>\n",
       "      <td>1.000000e+07</td>\n",
       "    </tr>\n",
       "    <tr>\n",
       "      <th>max</th>\n",
       "      <td>1000000.000000</td>\n",
       "      <td>5.003000e+08</td>\n",
       "    </tr>\n",
       "  </tbody>\n",
       "</table>\n",
       "</div>"
      ],
      "text/plain": [
       "         MIN.TRAD.AMT  MULT.TRAD.AMT\n",
       "count     1200.000000   1.200000e+03\n",
       "mean      4523.333333   1.023085e+07\n",
       "std      45974.404043   2.817658e+07\n",
       "min          0.000000   1.000000e+00\n",
       "25%          0.000000   1.000000e+03\n",
       "50%          0.000000   2.000000e+05\n",
       "75%          0.000000   1.000000e+07\n",
       "max    1000000.000000   5.003000e+08"
      ]
     },
     "execution_count": 25,
     "metadata": {},
     "output_type": "execute_result"
    }
   ],
   "source": [
    "labels.describe()"
   ]
  },
  {
   "cell_type": "code",
   "execution_count": 6,
   "metadata": {
    "collapsed": false
   },
   "outputs": [
    {
     "data": {
      "text/html": [
       "<div>\n",
       "<table border=\"1\" class=\"dataframe\">\n",
       "  <thead>\n",
       "    <tr style=\"text-align: right;\">\n",
       "      <th></th>\n",
       "      <th>fileId</th>\n",
       "      <th>isin</th>\n",
       "      <th>City.Id</th>\n",
       "      <th>City.Name</th>\n",
       "    </tr>\n",
       "  </thead>\n",
       "  <tbody>\n",
       "    <tr>\n",
       "      <th>0</th>\n",
       "      <td>0900045c83095a2a</td>\n",
       "      <td>XS1166358447</td>\n",
       "      <td>LONDO</td>\n",
       "      <td>LONDON</td>\n",
       "    </tr>\n",
       "    <tr>\n",
       "      <th>1</th>\n",
       "      <td>0900045c83095a2a</td>\n",
       "      <td>XS1166358447</td>\n",
       "      <td>NEW Y</td>\n",
       "      <td>NEW YORK</td>\n",
       "    </tr>\n",
       "    <tr>\n",
       "      <th>2</th>\n",
       "      <td>0900045c838362f4</td>\n",
       "      <td>XS1281367034</td>\n",
       "      <td>LONDO</td>\n",
       "      <td>LONDON</td>\n",
       "    </tr>\n",
       "    <tr>\n",
       "      <th>3</th>\n",
       "      <td>0900045c838362f4</td>\n",
       "      <td>XS1281367034</td>\n",
       "      <td>TOKYO</td>\n",
       "      <td>TOKYO</td>\n",
       "    </tr>\n",
       "    <tr>\n",
       "      <th>4</th>\n",
       "      <td>0900045c83a280ec</td>\n",
       "      <td>XS1051339288</td>\n",
       "      <td>LONDO</td>\n",
       "      <td>LONDON</td>\n",
       "    </tr>\n",
       "  </tbody>\n",
       "</table>\n",
       "</div>"
      ],
      "text/plain": [
       "             fileId          isin City.Id City.Name\n",
       "0  0900045c83095a2a  XS1166358447   LONDO    LONDON\n",
       "1  0900045c83095a2a  XS1166358447   NEW Y  NEW YORK\n",
       "2  0900045c838362f4  XS1281367034   LONDO    LONDON\n",
       "3  0900045c838362f4  XS1281367034   TOKYO     TOKYO\n",
       "4  0900045c83a280ec  XS1051339288   LONDO    LONDON"
      ]
     },
     "execution_count": 6,
     "metadata": {},
     "output_type": "execute_result"
    }
   ],
   "source": [
    "cities.head()"
   ]
  },
  {
   "cell_type": "code",
   "execution_count": 118,
   "metadata": {
    "collapsed": false
   },
   "outputs": [],
   "source": [
    "# Import various modules for string cleaning\n",
    "import re\n",
    "import nltk\n",
    "from nltk.corpus import stopwords\n",
    "import pickle\n",
    "\n",
    "def clean_html(raw_html):\n",
    "    \"\"\"\n",
    "    This method with regexp worked better for these html files than libraries like html2text or BeautifulSoup\n",
    "    \"\"\"\n",
    "    #we only look inside the body of the html, the head contains style code\n",
    "    body = re.findall(r'<body[^>]*?>(.*?)</body>', raw_html)\n",
    "    \n",
    "    #there are some problems with split words when replacing the span with space\n",
    "    #so we remove the span tag\n",
    "    cleantext = re.sub('<\\/?span[^>]*>', '', body[0])\n",
    "    \n",
    "    #remove all the tags\n",
    "    cleantext = re.sub('<.*?>', ' ', cleantext)\n",
    "    \n",
    "    #remove dots with a space after them\n",
    "    cleantext = re.sub('\\. ', ' ', cleantext)\n",
    "    \n",
    "    #remove commas with a space after them\n",
    "    cleantext = re.sub('\\, ', ' ', cleantext)\n",
    "    \n",
    "    #remove shlases with a space after them\n",
    "    cleantext = re.sub('/ ', ' ', cleantext)\n",
    "\n",
    "    #remove html quotes, ampersands, white spaces\n",
    "    cleantext = re.sub('&amp;|&quot;|&nbsp;', ' ', cleantext)\n",
    "    \n",
    "    #clean minus signs with spaces after (I want to keep composed words in the text if there are any)\n",
    "    cleantext = re.sub(' – | - ', ' ', cleantext)\n",
    "    \n",
    "    #remove carriage returns\n",
    "    cleantext = cleantext.replace('\\n',' ')\n",
    "    \n",
    "    #remove special characters\n",
    "    cleantext = re.sub('[\\#\\'\\\"\\(\\)*&%!\\+=;:\\]\\[@\\“\\”]', ' ', cleantext)\n",
    "    \n",
    "    return cleantext \n",
    "\n",
    "def document_to_wordlist( docName, remove_stopwords=False ):\n",
    "    with open(path.join(html_folder, docName), 'r') as html_file:\n",
    "        # Function to convert a document to a sequence of words,\n",
    "        # optionally removing stop words.  Returns a list of words.\n",
    "        \n",
    "        raw_text = html_file.read()\n",
    "        \n",
    "        doc_text = clean_html(raw_text)\n",
    "        \n",
    "        # Convert words to lower case and split them\n",
    "        words = nltk.word_tokenize(doc_text.lower())\n",
    "        \n",
    "        #do we actually need part of speech tagging?\n",
    "        #nltk.pos_tag(words)\n",
    "        \n",
    "        # Optionally remove stop words (false by default)\n",
    "        if remove_stopwords:\n",
    "            stops = set(stopwords.words(\"english\"))\n",
    "            words = [w for w in words if not w in stops]\n",
    "\n",
    "        # Return a list of words\n",
    "        return(words)\n",
    "\n",
    "def get_isin_for_file(labels, file_name, printResult = False):\n",
    "    #function to get the isin from the labels, given a file name\n",
    "    file_id = file_name.split('_')[0]\n",
    "    idx = labels['fileId'] == file_id\n",
    "    isin = labels['isin'][idx].values[0]\n",
    "    \n",
    "    if(printResult):\n",
    "        print(\"%s - %s\" % (file_name, isin))\n",
    "    return isin\n",
    "\n",
    "def get_roc_for_isin(cities, isin):\n",
    "    #function to get the roc from the cities, given an isin\n",
    "    idx = cities['isin'] == isin\n",
    "    return cities['City.Name'][idx].values\n",
    "\n",
    "def get_label_value_for_isin(labels, isin, attr_name):\n",
    "    #function to return the value of the label for a given isin\n",
    "    idx = labels['isin'] == isin\n",
    "    return labels[attr_name][idx].values[0]\n",
    "\n",
    "def save_content_grouped_by_isin(html_folder, labels):\n",
    "    \n",
    "    contents_by_isin = {}\n",
    "    \n",
    "    print('Processing files')\n",
    "\n",
    "    for file_name in os.listdir(html_folder):\n",
    "        \n",
    "        print('.', end='')\n",
    "        \n",
    "        if file_name.endswith(\".html\"):\n",
    "\n",
    "            #first find the isin corresponding to this file\n",
    "            isin = get_isin_for_file(labels, file_name)\n",
    "\n",
    "            if(isin):\n",
    "\n",
    "                #found the isin to associate the document with\n",
    "                file_content = document_to_wordlist(file_name)\n",
    "\n",
    "                try:\n",
    "                    #if there is already existing data for this isin, append the new data\n",
    "                    existing_isin_data = contents_by_isin[isin]\n",
    "                    contents_by_isin[isin] = existing_isin_data + file_content\n",
    "\n",
    "                except KeyError:\n",
    "                    contents_by_isin[isin] = file_content\n",
    "    \n",
    "    pickle_file = 'contents_by_isin.pickle'\n",
    "    \n",
    "    print('\\nSaved file contents indexed by ISIN to:', pickle_file)\n",
    "    \n",
    "    pickle.dump(contents_by_isin, open(pickle_file, 'wb'))   "
   ]
  },
  {
   "cell_type": "code",
   "execution_count": 119,
   "metadata": {
    "collapsed": false
   },
   "outputs": [
    {
     "name": "stdout",
     "output_type": "stream",
     "text": [
      "['these', 'securities', 'do', 'not', 'constitute', 'collective', 'investment', 'schemes', 'in', 'the', 'meaning', 'of', 'the', 'swiss', 'federal', 'act', 'on', 'collective', 'investment', 'schemes', 'cisa', 'accordingly', 'holders', 'of', 'the', 'securities', 'do', 'not', 'benefit', 'from', 'protection', 'under', 'cisa', 'or', 'supervision', 'by', 'the', 'swiss', 'financial', 'market', 'supervisory', 'authority', 'finma', 'final', 'terms', 'barclays', 'bank', 'plc', 'incorporated', 'with', 'limited', 'liability', 'in', 'england', 'and', 'wales', 'barclays', 'capital', 'cayman', 'limited', 'incorporated', 'with', 'limited', 'liability', 'in', 'the', 'cayman', 'islands', 'global', 'structured', 'securities', 'programme', 'for', 'the', 'issue', 'of', 'securities', 'barclays', 'bank', 'plc', 'eur', '20,000,000', 'fixed', 'rate', 'notes', 'due', 'july', '2017', 'the', 'notes', 'series', 'nx00053246', 'under', 'the', 'global', 'structured', 'securities', 'programme', 'issue', 'price', '100', 'per', 'cent', 'of', 'par', 'this', 'document', 'constitutes', 'the', 'final', 'terms', 'of', 'the', 'notes', 'the', 'final', 'terms', 'described', 'herein', 'for', 'the', 'purposes', 'of', 'article', '5.4', 'of', 'directive', '2003/71/ec', 'the', 'prospectus', 'directive', 'and', 'is', 'prepared', 'in', 'connection', 'with', 'the', 'global', 'structured', 'securities', 'programme', 'established', 'by', 'barclays', 'bank', 'plc', 'the', 'bank', 'and', 'barclays', 'capital', 'cayman', 'limited', 'bccl', 'and', 'is', 'supplemental', 'to', 'and', 'should', 'be', 'read', 'in', 'conjunction', 'with', 'the', 'base', 'prospectus', 'dated', '5', 'august', '2011', 'as', 'supplemented', 'and', 'amended', 'from', 'time', 'to', 'time', 'which', 'constitutes', 'a', 'base', 'prospectus', 'the', 'base', 'prospectus', 'for', 'the', 'purpose', 'of', 'the', 'prospectus', 'directive', 'full', 'information', 'on', 'the', 'issuer', 'and', 'the', 'offer', 'of', 'the', 'securities', 'is', 'only', 'available', 'on', 'the', 'basis', 'of', 'the', 'combination', 'of', 'these', 'final', 'terms', 'and', 'the', 'base', 'prospectus', 'the', 'base', 'prospectus', 'is', 'available', 'for', 'viewing', 'during', 'normal', 'business', 'hours', 'at', 'the', 'registered', 'office', 'of', 'the', 'issuer', 'and', 'the', 'specified', 'office', 'of', 'the', 'issue', 'and', 'paying', 'agent', 'for', 'the', 'time', 'being', 'in', 'london', 'and', 'copies', 'may', 'be', 'obtained', 'from', 'such', 'office', 'words', 'and', 'expressions', 'defined', 'in', 'the', 'base', 'prospectus', 'and', 'not', 'defined', 'in', 'this', 'document', 'shall', 'bear', 'the', 'same', 'meanings', 'when', 'used', 'herein', 'the', 'issuer', 'accepts', 'responsibility', 'for', 'the', 'information', 'contained', 'in', 'these', 'final', 'terms', 'to', 'the', 'best', 'of', 'its', 'knowledge', 'and', 'belief', 'having', 'taken', 'all', 'reasonable', 'care', 'to', 'ensure', 'that', 'such', 'is', 'the', 'case', 'the', 'information', 'contained', 'in', 'these', 'final', 'terms', 'is', 'in', 'accordance', 'with', 'the', 'facts', 'and', 'does', 'not', 'contain', 'anything', 'likely', 'to', 'affect', 'the', 'import', 'of', 'such', 'information', 'investors', 'should', 'refer', 'to', 'the', 'sections', 'headed', 'risk', 'factors', 'in', 'the', 'base', 'prospectus', 'for', 'a', 'discussion', 'of', 'certain', 'matters', 'that', 'should', 'be', 'considered', 'when', 'making', 'a', 'decision', 'to', 'invest', 'in', 'the', 'securities', 'barclays', 'capital', 'final', 'terms', 'dated', '21', 'september', '2011', 'the', 'distribution', 'of', 'this', 'document', 'and', 'the', 'offer', 'of', 'the', 'securities', 'in', 'certain', 'jurisdictions', 'may', 'be', 'restricted', 'by', 'law', 'persons', 'into', 'whose', 'possession', 'these', 'final', 'terms', 'come', 'are', 'required', 'by', 'the', 'bank', 'to', 'inform', 'themselves', 'about', 'and', 'to', 'observe', 'any', 'such', 'restrictions', 'details', 'of', 'selling', 'restrictions', 'for', 'various', 'jurisdictions', 'are', 'set', 'out', 'in', 'purchase', 'and', 'sale', 'in', 'the', 'base', 'prospectus', 'in', 'particular', 'the', 'securities', 'have', 'not', 'been', 'and', 'will', 'not', 'be', 'registered', 'under', 'the', 'us', 'securities', 'act', 'of', '1933', 'as', 'amended', 'and', 'are', 'subject', 'to', 'us', 'tax', 'law', 'requirements', 'trading', 'in', 'the', 'securities', 'has', 'not', 'been', 'approved', 'by', 'the', 'us', 'commodity', 'futures', 'trading', 'commission', 'under', 'the', 'us', 'commodity', 'exchange', 'act', 'of', '1936', 'as', 'amended', 'subject', 'to', 'certain', 'exceptions', 'the', 'securities', 'may', 'not', 'at', 'any', 'time', 'be', 'offered', 'sold', 'or', 'delivered', 'in', 'the', 'united', 'states', 'or', 'to', 'us', 'persons', 'nor', 'may', 'any', 'us', 'persons', 'at', 'any', 'time', 'trade', 'or', 'maintain', 'a', 'position', 'in', 'such', 'securities', 'notice', 'to', 'swiss', 'investors', 'the', 'securities', 'may', 'not', 'be', 'publicly', 'distributed', 'in', 'switzerland', 'these', 'final', 'terms', 'will', 'not', 'be', 'dispatched', 'copied', 'to', 'or', 'otherwise', 'made', 'available', 'to', 'and', 'the', 'securities', 'may', 'not', 'be', 'offered', 'for', 'sale', 'to', 'any', 'person', 'in', 'switzerland', 'except', 'to', 'qualified', 'investors', 'as', 'defined', 'in', 'article', '10', 'of', 'cisa', 'i.e', 'to', 'a', 'prudentially', 'regulated', 'financial', 'intermediaries', 'such', 'as', 'banks', 'securities', 'dealers', 'and', 'fund', 'management', 'companies', 'b', 'regulated', 'insurance', 'institutions', 'c', 'public', 'entities', 'and', 'retirement', 'benefits', 'institutions', 'with', 'professional', 'treasury', 'department', 'd', 'companies', 'with', 'professional', 'treasury', 'department', 'e', 'high-net-worth', 'individuals', 'as', 'defined', 'below', 'and', 'f', 'investors', 'who', 'have', 'concluded', 'a', 'written', 'discretionary', 'management', 'agreement', 'with', 'a', 'financial', 'intermediary', 'as', 'defined', 'under', 'lit', 'a', 'or', 'with', 'an', 'independent', 'asset', 'manager', 'that', 'complies', 'with', 'the', 'requirements', 'pursuant', 'to', 'art', '6', 'para', '2', 'of', 'the', 'collective', 'investment', 'schemes', 'ordinance', 'a', 'high-net-worth', 'individual', 'is', 'a', 'private', 'individual', 'who', 'confirms', 'in', 'writing', 'at', 'the', 'time', 'of', 'the', 'investment', 'to', 'own', 'a', 'minimum', 'of', 'swiss', 'francs', 'chf', '2', 'million', 'of', 'financial', 'investments', 'whether', 'directly', 'or', 'indirectly', 'this', 'document', 'is', 'neither', 'a', 'prospectus', 'according', 'to', 'art', '652a', 'or', 'art', '1156', 'of', 'the', 'swiss', 'code', 'of', 'obligations', 'nor', 'a', 'simplified', 'prospectus', 'according', 'to', 'art', '5', 'of', 'cisa', 'the', 'securities', 'do', 'not', 'constitute', 'an', 'investment', 'in', 'a', 'collective', 'investment', 'scheme', 'and', 'are', 'not', 'subject', 'to', 'cisa', 'nor', 'to', 'the', 'supervision', 'of', 'finma', 'part', 'a', 'terms', 'and', 'conditions', 'of', 'the', 'securities', 'the', 'securities', 'shall', 'have', 'the', 'following', 'terms', 'and', 'conditions', 'which', 'shall', 'complete', 'modify', 'and/or', 'amend', 'the', 'base', 'conditions', 'and/or', 'any', 'applicable', 'relevant', 'annex', 'es', 'set', 'out', 'in', 'the', 'base', 'prospectus', 'dated', '5', 'august', '2011', 'parties', 'issuer', 'barclays', 'bank', 'plc', 'guarantor', 'n/a', 'managers', 'barclays', 'bank', 'plc', 'determination', 'agent', 'barclays', 'bank', 'plc', 'issue', 'and', 'paying', 'agent', 'the', 'bank', 'of', 'new', 'york', 'mellon', 'stabilising', 'manager', 'n/a', 'registrar', 'n/a', 'italian', 'securities', 'agent', 'n/a', 'crest', 'agent', 'n/a', 'paying', 'agents', 'n/a', 'transfer', 'agent', 'n/a', 'exchange', 'agent', 'n/a', 'additional', 'agents', 'n/a', 'the', 'securities', 'have', 'not', 'been', 'and', 'will', 'not', 'be', 'registered', 'under', 'the', 'us', 'securities', 'act', 'of', '1933', 'as', 'amended', 'the', 'securities', 'act', 'subject', 'to', 'certain', 'exceptions', 'the', 'securities', 'may', 'not', 'be', 'offered', 'or', 'sold', 'within', 'the', 'united', 'states', 'or', 'to', 'or', 'for', 'the', 'account', 'or', 'benefit', 'of', 'us', 'persons', 'as', 'defined', 'in', 'regulation', 's', 'under', 'the', 'securities', 'act', 'regulation', 's', 'these', 'final', 'terms', 'have', 'been', 'prepared', 'by', 'the', 'issuer', 'for', 'use', 'in', 'connection', 'with', 'the', 'offer', 'and', 'sale', 'of', 'the', 'securities', 'outside', 'the', 'united', 'states', 'to', 'non-us', 'persons', 'in', 'reliance', 'on', 'regulation', 's', 'and', 'for', 'listing', 'of', 'the', 'securities', 'on', 'the', 'relevant', 'stock', 'exchange', 'if', 'any', 'as', 'stated', 'herein', 'for', 'a', 'description', 'of', 'these', 'and', 'certain', 'further', 'restrictions', 'on', 'offers', 'and', 'sales', 'of', 'the', 'securities', 'and', 'distribution', 'of', 'these', 'final', 'terms', 'and', 'the', 'base', 'prospectus', 'see', 'purchase', 'and', 'sale', 'in', 'the', 'base', 'prospectus', 'swiss', 'federal', 'act', 'the', 'securities', 'do', 'not', 'constitute', 'collective', 'investment', 'schemes', 'within', 'the', 'meaning', 'of', 'cisa', 'accordingly', 'holders', 'of', 'the', 'securities', 'do', 'not', 'benefit', 'from', 'protection', 'under', 'cisa', 'or', 'supervision', 'by', 'finma', '1', 'series', 'nx00053246', '2', 'currency', 'euro', 'eur', '3', 'notes', 'applicable', 'aggregate', 'nominal', 'amount', 'as', 'at', 'the', 'issue', 'date', 'eur', '20,000,000', 'specified', 'denomination', 'eur', '100,000', 'minimum', 'tradable', 'amount', 'n/a', 'calculation', 'amount', 'per', 'security', 'as', 'at', 'the', 'issue', 'date', 'specified', 'denomination', 'certificates', 'n/a', 'form', 'global/definitive/uncertificated', 'and', 'dematerialised', 'global', 'bearer', 'securities', 'permanent', 'global', 'security', 'ngn', 'form', 'applicable', 'held', 'under', 'the', 'nss', 'n/a', 'cgn', 'form', 'n/a', 'cdis', 'n/a', 'trade', 'date', '14', 'september', '2011', 'issue', 'date', '21', 'september', '2011', 'redemption', 'date', '31', 'july', '2017', 'subject', 'to', 'adjustment', 'in', 'accordance', 'with', 'the', 'business', 'day', 'convention', 'issue', 'price', '100', 'per', 'cent', 'of', 'the', 'aggregate', 'nominal', 'amount', 'relevant', 'stock', 'exchange', 'london', 'stock', 'exchange', 'the', 'following', 'relevant', 'annex', 'es', 'shall', 'apply', 'to', 'the', 'securities', 'n/a', 'provisions', 'relating', 'to', 'interest', 'if', 'any', 'payable', 'on', 'the', 'securities', '12', 'interest', 'applicable', '13', 'interest', 'amount', 'as', 'per', 'conditions', '4', 'and', '24', 'of', 'the', 'base', 'conditions', '14', 'interest', 'rate', 'i', 'ii', 'iii', 'iv', 'v', 'fixed', 'rate', 'floating', 'rate', 'variable', 'rate', 'zero', 'coupon', 'bond', 'linked', 'securities', 'fixed', '3.21', 'per', 'cent', 'per', 'annum', 'n/a', 'n/a', 'n/a', 'n/a', 'coupon', 'vi', 'bond', 'linked', 'securities', 'pass', 'through', 'interest', 'n/a', 'screen', 'rate', 'determination', 'n/a', 'isda', 'determination', 'n/a', 'margin', 'n/a', 'minimum/maximum', 'interest', 'rate', 'n/a', 'interest', 'commencement', 'date', 'issue', 'date', 'interest', 'determination', 'date', 'as', 'per', 'conditions', '4', 'and', '24', 'of', 'the', 'base', 'conditions', 'interest', 'calculation', 'periods', 'as', 'defined', 'in', 'condition', '24', 'of', 'the', 'base', 'conditions', 'interest', 'period', 'end', 'dates', 'each', 'interest', 'payment', 'date', 'without', 'adjustment', 'in', 'accordance', 'with', 'the', 'business', 'day', 'convention', 'interest', 'calculation', 'method', 'for', 'short', 'or', 'long', 'interest', 'calculation', 'periods', 'linear', 'interpolation', 'in', 'respect', 'of', 'the', 'first', 'interest', 'calculation', 'period', 'interest', 'payment', 'dates', 'annually', 'on', '31', 'july', 'in', 'each', 'year', 'from', 'and', 'including', '31', 'july', '2012', 'to', 'and', 'including', 'the', 'redemption', 'date', 'subject', 'to', 'adjustment', 'in', 'accordance', 'with', 'the', 'business', 'day', 'convention', 'day', 'count', 'fraction', 'actual/actual', 'icma', 'fallback', 'provisions', 'rounding', 'provisions', 'denominator', 'and', 'any', 'other', 'terms', 'relating', 'to', 'the', 'method', 'of', 'calculating', 'interest', 'if', 'different', 'from', 'those', 'set', 'out', 'in', 'the', 'base', 'conditions', 'provisions', 'relating', 'to', 'redemption', 'n/a', 'settlement', 'method', 'for', 'the', 'purposes', 'of', 'condition', '5.1', 'of', 'the', 'base', 'conditions', 'cash', 'settlement', 'settlement', 'currency', 'eur', 'settlement', 'number', 'as', 'defined', 'in', 'condition', '24', 'of', 'the', 'base', 'conditions', 'terms', 'relating', 'to', 'cash', 'settled', 'securities', 'final', 'cash', 'settlement', 'amount', 'eur', '100,000', 'per', 'calculation', 'amount', 'per', 'security', 'early', 'cash', 'settlement', 'amount', 'as', 'defined', 'in', 'condition', '24', 'of', 'the', 'base', 'conditions', 'early', 'cash', 'redemption', 'date', 'as', 'defined', 'in', 'condition', '24', 'of', 'the', 'base', 'conditions', 'terms', 'relating', 'to', 'physically', 'delivered', 'securities', 'n/a', '30', 'nominal', 'call', 'event', 'n/a', '31', 'call', 'option', 'n/a', '32', 'put', 'option', 'n/a', '33', 'specified', 'early', 'redemption', 'event', 'n/a', '34', 'maximum', 'and', 'minimum', 'redemption', 'n/a', 'requirements', '35', 'additional', 'disruption', 'events', 'in', 'addition', 'n/a', 'to', 'those', 'specified', 'in', 'condition', '24', 'of', 'the', 'base', 'conditions', 'and', 'any', 'applicable', 'relevant', 'annex', 'i', 'affected', 'jurisdiction', 'hedging', 'disruption', 'n/a', 'ii', 'affected', 'jurisdiction', 'increased', 'cost', 'of', 'hedging', 'n/a', 'iii', 'affected', 'jurisdiction', 'n/a', 'iv', 'other', 'additional', 'disruption', 'events', 'n/a', 'v', 'the', 'following', 'shall', 'not', 'constitute', 'additional', 'disruption', 'events', 'hedging', 'disruption', 'and', 'increased', 'cost', 'of', 'headging', '36', 'share', 'linked', 'securities', 'n/a', '37', 'index', 'linked', 'securities', 'n/a', '38', 'inflation', 'linked', 'securities', 'n/a', '39', 'fx', 'linked', 'securities', 'n/a', '40', 'credit', 'linked', 'securities', 'n/a', '41', 'commodity', 'linked', 'securities', 'n/a', '42', 'a', 'barclays', 'capital', 'commodity', 'index', 'n/a', 'linked', 'securities', 'section', '2', 'of', 'the', 'barclays', 'capital', 'index', 'annex', 'b', 'barclays', 'capital', 'equity', 'index', 'n/a', 'securities', 'section', '3', 'of', 'the', 'barclays', 'capital', 'index', 'annex', 'c', 'barclays', 'capital', 'fx', 'index', 'linked', 'securities', 'section', '4', 'of', 'the', 'barclays', 'n/a', 'capital', 'index', 'annex', 'd', 'barclays', 'capital', 'interest', 'rate', 'index', 'linked', 'securities', 'section', '5', 'of', 'the', 'n/a', 'barclays', 'capital', 'index', 'annex', 'e', 'barclays', 'capital', 'emerging', 'market', 'n/a', 'index', 'linked', 'securities', 'section', '6', 'of', 'the', 'barclays', 'capital', 'index', 'annex', 'bond', 'linked', 'securities', 'n/a', 'fund', 'linked', 'securities', 'n/a', 'provisions', 'relating', 'to', 'settlement', 'settlement', 'in', 'respect', 'of', 'vp', 'notes', 'apk', 'registered', 'securities', 'dutch', 'securities', 'swedish', 'registered', 'securities', 'vps', 'registered', 'securities', 'or', 'spanish', 'securities', 'additional', 'provisions', 'relating', 'to', 'taxes', 'and', 'settlement', 'expenses', 'definitions', 'n/a', 'n/a', 'business', 'day', 'as', 'defined', 'in', 'condition', '24', 'of', 'the', 'base', 'conditions', 'additional', 'business', 'centre', 's', 'n/a', 'selling', 'restrictions', 'and', 'provisions', 'relating', 'to', 'certification', '49', 'non-us', 'selling', 'restrictions', 'as', 'described', 'in', 'the', 'base', 'prospectus', 'in', 'addition', 'to', 'those', 'described', 'in', 'the', 'base', 'prospectus', 'no', 'action', 'has', 'been', 'taken', 'or', 'will', 'be', 'taken', 'by', 'the', 'issuer', 'that', 'would', 'permit', 'a', 'public', 'offering', 'of', 'the', 'notes', 'or', 'possession', 'or', 'distribution', 'of', 'any', 'offering', 'material', 'in', 'relation', 'to', 'the', 'notes', 'in', 'any', 'jurisdiction', 'where', 'action', 'for', 'that', 'purpose', 'is', 'required', 'each', 'purchaser', 'or', 'distributor', 'of', 'the', 'notes', 'represents', 'and', 'agrees', 'that', 'it', 'wil', 'not', 'purchase', 'offer', 'sell', 're-sell', 'or', 'deliver', 'the', 'notes', 'or', 'have', 'in', 'its', 'possession', 'or', 'distribute', 'the', 'base', 'prospectus', 'any', 'other', 'offering', 'material', 'or', 'these', 'final', 'terms', 'in', 'any', 'jurisdiction', 'except', 'in', 'compliance', 'with', 'the', 'applicable', 'laws', 'and', 'regulations', 'of', 'such', 'jurisdiction', 'and', 'in', 'a', 'manner', 'that', 'will', 'not', 'impose', 'any', 'obligation', 'on', 'the', 'issuer', 'or', 'the', 'manager', 'as', 'the', 'case', 'may', 'be', 'and', 'the', 'determination', 'agent', '50', 'applicable', 'tefra', 'exemption', 'n/a', 'general', 'business', 'day', 'convention', 'modified', 'following', 'relevant', 'clearing', 'systems', 'euroclear', 'clearstream', 'if', 'syndicated', 'names', 'of', 'managers', 'n/a', 'a', 'details', 'relating', 'to', 'partly', 'paid', 'securities', 'b', 'details', 'relating', 'to', 'instalment', 'notes', 'n/a', 'n/a', 'relevant', 'securities', 'codes', 'isin', 'xs0628152059', 'common', 'code', '062815205', 'modifications', 'to', 'the', 'master', 'subscription', 'agreement', 'and/or', 'agency', 'agreement', 'additional', 'conditions', 'and/or', 'modification', 'to', 'the', 'conditions', 'of', 'the', 'securities', 'n/a', 'unlawfulness', 'condition', '15', 'of', 'the', 'base', 'conditions', 'shall', 'be', 'deleted', 'and', 'replaced', 'in', 'its', 'entirety', 'as', 'follows', 'if', 'the', 'issuer', 'determines', 'that', 'the', 'performance', 'of', 'any', 'of', 'its', 'absolute', 'or', 'contingent', 'obligations', 'under', 'the', 'securities', 'has', 'become', 'illegal', 'in', 'whole', 'or', 'in', 'part', 'for', 'any', 'reason', 'the', 'issuer', 'may', 'redeem', 'the', 'securities', 'early', 'in', 'whole', 'or', 'in', 'part', 'and', 'will', 'pay', 'if', 'and', 'to', 'the', 'extent', 'permissible', 'permitted', 'by', 'applicable', 'law', 'to', 'the', 'securityholders', 'the', 'early', 'cash', 'settlement', 'amount', 'on', 'the', 'early', 'cash', 'redemption', 'date', '.', 'part', 'b', 'other', 'information', 'listing', 'and', 'admission', 'to', 'trading', 'listing', 'london', 'admission', 'to', 'trading', 'application', 'is', 'expected', 'to', 'be', 'made', 'by', 'the', 'issuer', 'or', 'on', 'its', 'behalf', 'for', 'the', 'securities', 'to', 'be', 'admitted', 'to', 'trading', 'on', 'the', 'london', 'stock', 'exchange', '39', 's', 'regulated', 'market', 'on', 'or', 'around', 'the', 'issue', 'date', 'estimate', 'of', 'total', 'expenses', 'related', 'to', 'admission', 'to', 'trading', 'gbp', '352.50', 'ratings', 'ratings', 'the', 'securities', 'have', 'not', 'been', 'individually', 'rated', 'notification', 'n/a', 'interests', 'of', 'natural', 'and', 'legal', 'persons', 'involved', 'in', 'the', 'issue', 'save', 'as', 'discussed', 'in', 'purchase', 'and', 'sale', 'so', 'far', 'as', 'the', 'issuer', 'is', 'aware', 'no', 'person', 'involved', 'in', 'the', 'offer', 'of', 'the', 'securities', 'has', 'an', 'interest', 'material', 'to', 'the', 'offer', 'reasons', 'for', 'the', 'offer', 'estimated', 'net', 'proceeds', 'and', 'total', 'expenses', 'i', 'reasons', 'for', 'the', 'offer', 'general', 'funding', 'ii', 'estimated', 'net', 'proceeds', 'n/a', 'iii', 'estimated', 'total', 'expenses', 'n/a', 'fixed', 'rate', 'securities', 'only', 'yield', 'n/a', 'floating', 'rate', 'securities', 'only', 'historic', 'interest', 'rates', 'n/a', 'performance', 'of', 'reference', 'asset', 's', 'or', 'other', 'variable', 'explanation', 'of', 'effect', 'on', 'value', 'of', 'investment', 'and', 'associated', 'risks', 'and', 'other', 'information', 'concerning', 'the', 'reference', 'asset', 's', 'and/or', 'other', 'underlying', 'n/a', 'performance', 'of', 'rate', 'of', 'exchange', 'and', 'explanation', 'of', 'effect', 'on', 'value', 'of', 'investment', 'n/a', 'operational', 'information', 'any', 'clearing', 'system', 's', 'other', 'than', 'euroclear', 'bank', 's.a./n.v', 'and', 'clearstream', 'banking', 'societe', 'anonyme', 'together', 'with', 'their', 'addresses', 'and', 'the', 'relevant', 'identification', 'number', 's', 'n/a', 'delivery', 'delivery', 'free', 'of', 'payment', 'names', 'and', 'addresses', 'of', 'additional', 'paying', 'agents', 's', 'if', 'any', 'intended', 'to', 'be', 'held', 'in', 'a', 'manner', 'which', 'would', 'allow', 'eurosystem', 'eligibility', 'n/a', 'yes', 'note', 'that', 'the', 'designation', 'yes', 'simply', 'means', 'that', 'the', 'securities', 'are', 'intended', 'upon', 'issue', 'to', 'be', 'deposited', 'with', 'one', 'of', 'the', 'international', 'central', 'securities', 'depositaries', 'icsds', 'as', 'common', 'safekeeper', 'and', 'does', 'not', 'necessarily', 'mean', 'that', 'the', 'securities', 'will', 'be', 'recognised', 'as', 'eligible', 'collateral', 'for', 'eurosystem', 'monetary', 'policy', 'and', 'intra-day', 'credit', 'operations', 'by', 'the', 'eurosystem', 'either', 'upon', 'issue', 'or', 'at', 'any', 'or', 'all', 'times', 'during', 'their', 'life', 'such', 'recognition', 'will', 'depend', 'upon', 'the', 'ecb', 'being', 'satisfied', 'that', 'eurosystem', 'eligibility', 'criteria', 'have', 'been', 'met', 'offer', 'information', 'barclays', 'relies', 'on', 'and', 'looks', 'towards', 'the', 'intermediary', 'to', 'comply', 'with', 'the', 'swiss', 'law', 'obligation', 'regarding', 'retrocession', 'and', 'when', 'applicable', 'will', 'disclose', 'or', 'forward', 'any', 'retrocession', 'payment', 'he', 'receives', 'from', 'a', 'barclays', 'entity', 'to', 'his', 'client', 'unless', 'the', 'intermediary', 'and', 'his', 'client', 'have', 'validly', 'agreed', 'otherwise', 'since', 'barclays', 'does', 'not', 'know', 'the', 'identity', 'of', 'the', 'intermediary', '39', 's', 'client', 'it', 'is', 'impossible', 'for', 'barclays', 'to', 'disclose', 'such', 'retrocession', 'payments', 'to', 'the', 'client', 'of', 'the', 'intermediary', 'as', 'a', 'consequence', 'thereof', 'the', 'intermediary', 'herewith', 'undertakes', 'to', 'duly', 'fulfil', 'all', 'applicable', 'legal', 'requirements', 'under', 'swiss', 'law']\n"
     ]
    }
   ],
   "source": [
    "words = document_to_wordlist(\"0900045c80c920a2_ixs0628152059_f_pc_n_ocr.html\")\n",
    "print(words)"
   ]
  },
  {
   "cell_type": "code",
   "execution_count": 121,
   "metadata": {
    "collapsed": false
   },
   "outputs": [
    {
     "name": "stdout",
     "output_type": "stream",
     "text": [
      "Processing files\n",
      ".........................................................................................................................................................................................................................................................................................................................................................................................................................................................................................................................................................................................................................................................................................................................................................................................................................................................................................................................................................................................................................................................................................................................................................................................................................................................................................................................\n",
      "Saved file contents indexed by ISIN to: contents_by_isin.pickle\n"
     ]
    }
   ],
   "source": [
    "save_content_grouped_by_isin(html_folder, labels)"
   ]
  },
  {
   "cell_type": "code",
   "execution_count": 122,
   "metadata": {
    "collapsed": false
   },
   "outputs": [
    {
     "name": "stdout",
     "output_type": "stream",
     "text": [
      "{'XS1169811491': ['pricing', 'supplement', 'dated', '27', 'january', '2015', 'credit', 'suisse', 'international', '4-year', '2-month', 'usd', 'notes', 'due', 'march', '2019', 'linked', 'to', 'the', 'credit', 'suisse', 'spear', 'dynamic', 'asia', 'index', 'total', 'return', 'usd', 'series', 'x', 'the', 'securities', 'issued', 'pursuant', 'to', 'the', 'structured', 'products', 'programme', 'for', 'the', 'issuance', 'of', 'notes', 'certificates', 'and', 'warrants', 'part', 'a', 'contractual', 'terms', 'terms', 'used', 'herein', 'shall', 'be', 'deemed', 'to', 'be', 'defined', 'as', 'such', 'for', 'the', 'purposes', 'of', 'the', 'programme', 'memorandum', 'dated', '10', 'july', '2013', 'this', 'document', 'constitutes', 'the', 'pricing', 'supplement', 'of', 'the', 'securities', 'described', 'herein', 'copies', 'of', 'the', 'programme', 'memorandum', 'may', 'be', 'obtained', 'from', 'the', 'registered', 'office', 'of', 'the', 'issuer', 'and', 'the', 'offices', 'of', 'the', 'agents', 'specified', 'herein', 'this', 'pricing', 'supplement', 'comprises', 'the', 'final', 'terms', 'for', 'the', 'issuance', 'of', 'the', 'securities', 'this', 'pricing', 'supplement', 'does', 'not', 'constitute', 'final', 'terms', 'for', 'the', 'purposes', 'of', 'article', '5.4', 'of', 'directive', '2003/71/ec', 'as', 'amended', 'by', 'directive', '2010/73/eu', 'directive', 'the', 'prospectus', 'directive', 'the', 'issuer', 'is', 'not', 'offering', 'the', 'securities', 'in', 'any', 'jurisdiction', 'in', 'circumstances', 'which', 'would', 'require', 'a', 'prospectus', 'pursuant', 'to', 'the', 'prospectus', 'directive', 'nor', 'is', 'any', 'person', 'authorised', 'to', 'make', 'such', 'an', 'offer', 'of', 'the', 'securities', 'on', 'behalf', 'of', 'the', 'issuer', 'in', 'any', 'jurisdiction', 'in', 'addition', 'no', 'application', 'has', 'been', 'made', 'nor', 'is', 'it', 'proposed', 'that', 'any', 'application', 'will', 'be', 'made', 'for', 'listing', 'of', 'the', 'securities', 'on', 'any', 'stock', 'exchange', '1', 'issuer', 'credit', 'suisse', 'international', '2', 'series', 'number', '11698', '3', 'tranche', 'number', 'not', 'applicable', '4', 'applicable', 'general', 'terms', 'and', 'conditions', 'general', 'note', 'conditions', '5', 'settlement', 'currency', 'usd', '6', 'aggregate', 'nominal', 'amount', 'usd', '5,000,000', 'i', 'series', '1', 'ii', 'tranche', 'not', 'applicable', '7', 'issue', 'price', '97.7043066', 'per', 'cent', 'of', 'the', 'aggregate', 'nominal', 'amount', '8', 'specified', 'denomination', 'usd', '1,000,000', 'the', 'denomination', 'of', 'the', 'note', 'at', 'the', 'time', 'of', 'issue', 'shall', 'not', 'be', 'subsequently', 'divided', 'into', 'a', 'lower', 'denomination', '9', 'minimum', 'transfer', 'amount', 'not', 'applicable', '10', 'minimum', 'trading', 'lot', 'not', 'applicable', '11', 'issue', 'date', '10', 'business', 'days', 'following', 'the', 'trade', 'date', 'expected', 'to', 'be', '27', 'january', '2015', '12', 'maturity', 'date', '5', 'business', 'days', 'immediately', 'following', 'the', 'valuation', 'date', 'expected', 'to', 'be', '19', 'march', '2019', '13', 'interest', 'basis', 'not', 'applicable', '14', 'premium', 'basis', 'not', 'applicable', '15', 'redemption/payment', 'basis', 'equity', 'index-linked', '16', 'put/call', 'options', 'not', 'applicable', 'provisions', 'relating', 'to', 'interest', 'and', 'premium', '17', 'fixed', 'rate', 'provisions', 'not', 'applicable', '18', 'floating', 'rate', 'provisions', 'not', 'applicable', '19', 'premium', 'provisions', 'not', 'applicable', 'provisions', 'relating', 'to', 'redemption', '20', 'redemption', 'amount', 'the', 'redemption', 'amount', 'in', 'respect', 'of', 'each', 'security', 'will', 'be', 'set', 'out', 'in', 'the', 'appendix', 'i', 'averaging', 'dates', 'not', 'applicable', 'ii', 'initial', 'averaging', 'dates', 'not', 'applicable', 'iii', 'initial', 'setting', 'date', 'not', 'applicable', 'iv', 'interim', 'valuation', 'date', 'not', 'applicable', 'v', 'observation', 'date', 's', 'not', 'applicable', 'observation', 'date', 'subject', 'to', 'averaging', 'date', 'or', 'valuation', 'date', 'adjustment', 'not', 'applicable', 'vi', 'observation', 'period', 'not', 'applicable', 'vii', 'valuation', 'date', 's', '12', 'march', '2019', 'or', 'if', 'such', 'date', 'is', 'not', 'a', 'scheduled', 'trading', 'day', 'then', 'the', 'immediately', 'following', 'scheduled', 'trading', 'day', 'subject', 'to', 'the', 'consequences', 'of', 'disrupted', 'days', 'as', 'set', 'out', 'in', 'the', 'appendix', 'viii', 'valuation', 'time', 'as', 'determined', 'in', 'accordance', 'with', 'the', 'conditions', 'ix', 'other', 'terms', 'and', 'conditions', 'see', 'appendix', '21', 'details', 'relating', 'to', 'instalment', 'securities', 'not', 'applicable', '22', 'physical', 'settlement', 'provisions', 'not', 'applicable', '23', 'call', 'option', 'not', 'applicable', '24', 'put', 'option', 'not', 'applicable', '25', 'early', 'payment', 'amount', 'deduction', 'for', 'hedge', 'costs', 'applicable', 'underlying', 'assets', '26', 'list', 'of', 'underlying', 'assets', 'applicable', 'see', 'appendix', 'asset', 'terms', '27', 'equity-linked', 'securities', 'not', 'applicable', '28', 'equity', 'index-linked', 'securities', 'applicable', 'single', 'index', 'or', 'index', 'basket', 'single', 'index', 'i', 'index', 'see', 'appendix', 'ii', 'type', 'of', 'index', 'proprietary', 'index', 'iii', 'bloomberg', 'code', 's', 'csjasdax', 'index', 'iv', 'information', 'source', 'not', 'applicable', 'v', 'required', 'exchanges', 'the', 'stock', 'exchange', 'of', 'hong', 'kong', 'limited', 'tokyo', 'stock', 'exchange', 'korea', 'stock', 'exchange', 'taiwan', 'stock', 'exchange', 'vi', 'related', 'exchange', 'all', 'exchanges', 'vii', 'disruption', 'threshold', 'not', 'applicable', 'viii', 'maximum', 'days', 'of', 'disruption', 'not', 'applicable', 'ix', 'adjustment', 'basis', 'for', 'index', 'basket', 'and', 'reference', 'dates', 'not', 'applicable', 'x', 'adjustment', 'basis', 'for', 'single', 'index', 'and', 'averaging', 'reference', 'dates', 'not', 'applicable', 'xi', 'trade', 'date', '12', 'january', '2015', 'xii', 'jurisdictional', 'event', 'applicable', 'xiii', 'jurisdictional', 'event', 'jurisdiction', 's', 'hong', 'kong', 'singapore', 'japan', 'taiwan', 'and', 'south', 'korea', 'xiv', 'additional', 'disruption', 'events', 'a', 'change', 'in', 'law', 'change', 'in', 'law', 'option', '1', 'applicable', 'b', 'foreign', 'ownership', 'event', 'applicable', 'c', 'fx', 'disruption', 'applicable', 'd', 'hedging', 'disruption', 'applicable', 'e', 'increased', 'cost', 'of', 'hedging', 'applicable', '29', 'commodity-linked', 'not', 'applicable', 'securities', '30', 'commodity', 'index-linked', 'securities', 'not', 'applicable', '31', 'etf-linked', 'securities', 'not', 'applicable', '32', 'fund-linked', 'securities', 'not', 'applicable', '33', 'fx-linked', 'securities', 'not', 'applicable', '34', 'fx', 'index-linked', 'securities', 'not', 'applicable', '35', 'inflation', 'index-linked', 'securities', 'not', 'applicable', '36', 'interest', 'rate', 'index-linked', 'securities', 'not', 'applicable', '37', 'cash', 'index-linked', 'securities', 'not', 'applicable', 'general', 'provisions', '38', 'i', 'form', 'of', 'securities', 'registered', 'securities', 'ii', 'global', 'security', 'applicable', 'iii', 'the', 'issuer', 'intends', 'to', 'permit', 'indirect', 'interests', 'in', 'the', 'securities', 'to', 'be', 'held', 'through', 'crest', 'depository', 'interests', 'to', 'be', 'issued', 'by', 'the', 'crest', 'depository', 'not', 'applicable', '39', 'financial', 'centre', 's', 'new', 'york', '40', 'listing', 'and', 'admission', 'to', 'trading', 'not', 'applicable', '41', 'entities', 'other', 'than', 'stock', 'exchanges', 'to', 'which', 'application', 'for', 'listing', 'and/or', 'approval', 'of', 'the', 'securities', 'will', 'be', 'made', 'not', 'applicable', '42', 'security', 'codes', 'and', 'ticker', 'symbols', 'isin', 'xs1169811491', 'common', 'code', '116981149', 'swiss', 'security', 'number', 'not', 'applicable', 'telekurs', 'ticker', 'not', 'applicable', 'wkn', 'number', 'not', 'applicable', '43', 'clearing', 'and', 'trading', 'clearing', 'system', 's', 'and', 'any', 'relevant', 'identification', 'number', 's', 'euroclear', 'bank', 's.a./n.v', 'and', 'clearstream', 'banking', 'société', 'anonyme', 'delivery', 'delivery', 'against', 'payment', '44', 'agents', 'calculation', 'agent', 'credit', 'suisse', 'international', 'one', 'cabot', 'square', 'london', 'e14', '4qj', 'fiscal', 'agent', 'the', 'bank', 'of', 'new', 'york', 'mellon', 'acting', 'through', 'its', 'london', 'branch', 'one', 'canada', 'square', 'london', 'e14', '5al', 'paying', 'agent', 's', 'the', 'bank', 'of', 'new', 'york', 'mellon', 'acting', 'through', 'its', 'london', 'branch', 'one', 'canada', 'square', 'london', 'e14', '5al', 'additional', 'agents', 'applicable', 'transfer', 'agent', 'registered', 'notes', 'only', 'the', 'bank', 'of', 'new', 'york', 'mellon', 'acting', 'through', 'its', 'london', 'branch', 'one', 'canada', 'square', 'london', 'e14', '5al', 'registrar', 'registered', 'notes', 'only', 'the', 'bank', 'of', 'new', 'york', 'mellon', 'luxembourg', 's.a', 'vertigo', 'building', 'polaris', '2-4', 'rue', 'eugene', 'ruppert', 'l-2453', 'luxembourg', '45', 'dealer', 's', 'credit', 'suisse', 'international', '46', 'additional', 'steps', 'that', 'may', 'only', 'be', 'taken', 'following', 'approval', 'by', 'extraordinary', 'resolution', 'not', 'applicable', '47', 'specified', 'newspaper', 'for', 'the', 'purposes', 'of', 'notices', 'to', 'securityholders', 'not', 'applicable', 'part', 'b', 'other', 'information', 'not', 'applicable', 'signed', 'on', 'behalf', 'of', 'the', 'issuer', 'index', 'disclaimer', 'the', 'index', 'is', 'the', 'exclusive', 'property', 'of', 'and', 'currently', 'sponsored', 'by', 'the', 'index', 'sponsor', 'which', 'has', 'contracted', 'with', 'the', 'index', 'calculation', 'agent', 'to', 'maintain', 'and', 'calculate', 'the', 'index', 'the', 'notes', 'are', 'not', 'in', 'any', 'way', 'sponsored', 'endorsed', 'or', 'promoted', 'by', 'the', 'index', 'sponsor', 'or', 'the', 'index', 'calculation', 'agent', 'neither', 'the', 'index', 'sponsor', 'nor', 'the', 'index', 'calculation', 'agent', 'has', 'any', 'obligation', 'to', 'take', 'the', 'needs', 'of', 'any', 'person', 'into', 'consideration', 'in', 'composing', 'determining', 'or', 'calculating', 'the', 'index', 'or', 'causing', 'the', 'index', 'to', 'be', 'calculated', 'in', 'addition', 'neither', 'the', 'index', 'sponsor', 'nor', 'the', 'index', 'calculation', 'agent', 'makes', 'any', 'warranty', 'or', 'representation', 'whatsoever', 'express', 'or', 'implied', 'as', 'to', 'the', 'results', 'to', 'be', 'obtained', 'from', 'the', 'use', 'of', 'the', 'index', 'and/or', 'the', 'level', 'at', 'which', 'the', 'index', 'stands', 'at', 'any', 'particular', 'time', 'on', 'any', 'particular', 'day', 'or', 'otherwise', 'and', 'neither', 'the', 'index', 'sponsor', 'nor', 'the', 'index', 'calculation', 'agent', 'shall', 'be', 'liable', 'whether', 'in', 'negligence', 'or', 'otherwise', 'to', 'any', 'person', 'for', 'any', 'errors', 'or', 'omissions', 'in', 'the', 'index', 'or', 'in', 'the', 'calculation', 'of', 'the', 'index', 'or', 'under', 'any', 'obligation', 'to', 'advise', 'any', 'person', 'of', 'any', 'errors', 'or', 'omissions', 'therein', 'taxation', 'with', 'respect', 'to', 'notes', 'distributed', 'in', 'hong', 'kong', 'the', 'following', 'provisions', 'regarding', 'hong', 'kong', 'stamp', 'duty', 'is', 'applicable', 'the', 'notes', 'are', 'not', 'subject', 'to', 'hong', 'kong', 'stamp', 'duty', 'either', 'upon', 'issuance', 'or', 'any', 'subsequent', 'transfer', 'as', 'long', 'as', 'the', 'registrar', 'of', 'the', 'notes', 'is', 'outside', 'of', 'hong', 'kong', 'with', 'respect', 'to', 'notes', 'distributed', 'in', 'singapore', 'the', 'following', 'provisions', 'regarding', 'singapore', 'stamp', 'duty', 'is', 'applicable', 'no', 'singapore', 'stamp', 'duty', 'is', 'payable', 'on', 'the', 'issue', 'or', 'transfer', 'by', 'delivery', 'of', 'the', 'notes', 'additional', 'selling', 'restrictions', 'general', 'any', 'notes', 'purchased', 'by', 'any', 'person', 'may', 'not', 'be', 'offered', 'or', 'sold', 'or', 'any', 'offering', 'materials', 'relating', 'thereto', 'distributed', 'in', 'any', 'country', 'or', 'jurisdiction', 'unless', 'the', 'offeror', 'has', 'complied', 'and', 'will', 'comply', 'with', 'all', 'applicable', 'laws', 'and', 'regulations', 'in', 'such', 'country', 'or', 'jurisdiction', 'any', 'notes', 'purchased', 'by', 'any', 'person', 'for', 'resale', 'may', 'not', 'be', 'offered', 'in', 'any', 'jurisdiction', 'in', 'circumstances', 'which', 'would', 'result', 'in', 'the', 'issuer', 'being', 'obliged', 'to', 'register', 'any', 'further', 'documentation', 'relating', 'to', 'the', 'notes', 'in', 'such', 'jurisdiction', 'the', 'restrictions', 'listed', 'below', 'must', 'not', 'be', 'taken', 'as', 'definitive', 'guidance', 'as', 'to', 'whether', 'the', 'notes', 'can', 'be', 'sold', 'in', 'a', 'jurisdiction', 'additional', 'restrictions', 'on', 'offering', 'selling', 'or', 'holding', 'of', 'the', 'notes', 'may', 'apply', 'in', 'other', 'jurisdictions', 'investors', 'in', 'the', 'notes', 'should', 'seek', 'specific', 'advice', 'before', 'on-selling', 'the', 'notes', 'usa', 'us', 'persons', 'the', 'notes', 'have', 'not', 'been', 'and', 'will', 'not', 'be', 'registered', 'under', 'the', 'u.s', 'securities', 'act', 'of', '1933', 'and', 'may', 'not', 'be', 'offered', 'or', 'sold', 'within', 'the', 'united', 'states', 'or', 'to', 'or', 'for', 'the', 'account', 'or', 'benefit', 'of', 'u.s', 'persons', 'european', 'economic', 'area', 'in', 'relation', 'to', 'each', 'member', 'state', 'of', 'the', 'european', 'economic', 'area', 'which', 'has', 'implemented', 'the', 'prospectus', 'directive', 'directive', '2003/71/ec', 'each', 'a', 'relevant', 'member', 'state', 'the', 'notes', 'may', 'not', 'be', 'sold', 'or', 'offered', 'or', 'any', 'offering', 'materials', 'relating', 'thereto', 'distributed', 'with', 'effect', 'from', 'and', 'including', 'the', 'date', 'on', 'which', 'the', 'prospectus', 'directive', 'is', 'implemented', 'in', 'that', 'relevant', 'member', 'state', 'to', 'the', 'public', 'within', 'the', 'meaning', 'of', 'that', 'directive', 'in', 'that', 'relevant', 'member', 'state', 'except', 'in', 'circumstances', 'which', 'do', 'not', 'require', 'the', 'publication', 'of', 'a', 'prospectus', 'pursuant', 'to', 'the', 'prospectus', 'directive', 'hong', 'kong', 'no', 'person', 'has', 'issued', 'or', 'had', 'in', 'its', 'possession', 'for', 'the', 'purposes', 'of', 'issue', 'and', 'no', 'person', 'will', 'issue', 'or', 'have', 'in', 'its', 'possession', 'for', 'the', 'purposes', 'of', 'issue', 'whether', 'in', 'hong', 'kong', 'or', 'elsewhere', 'any', 'advertisement', 'invitation', 'or', 'document', 'relating', 'to', 'the', 'notes', 'which', 'is', 'directed', 'at', 'or', 'the', 'contents', 'of', 'which', 'are', 'likely', 'to', 'be', 'accessed', 'or', 'read', 'by', 'the', 'public', 'of', 'hong', 'kong', 'except', 'if', 'permitted', 'to', 'do', 'so', 'under', 'the', 'securities', 'laws', 'of', 'hong', 'kong', 'other', 'than', 'with', 'respect', 'to', 'notes', 'which', 'are', 'or', 'are', 'intended', 'to', 'be', 'disposed', 'of', 'only', 'to', 'persons', 'outside', 'hong', 'kong', 'or', 'only', 'to', 'professional', 'investors', 'as', 'defined', 'in', 'the', 'securities', 'and', 'futures', 'ordinance', 'cap', '571', 'of', 'hong', 'kong', 'and', 'any', 'rules', 'made', 'under', 'that', 'ordinance', 'singapore', 'this', 'document', 'the', 'programme', 'memorandum', 'and', 'other', 'related', 'documents', 'have', 'not', 'been', 'and', 'will', 'not', 'be', 'registered', 'as', 'a', 'prospectus', 'with', 'the', 'monetary', 'authority', 'of', 'singapore', 'accordingly', 'this', 'document', 'the', 'programme', 'memorandum', 'any', 'applicable', 'pricing', 'supplement', 'relating', 'to', 'any', 'notes', 'and', 'any', 'other', 'document', 'or', 'material', 'in', 'connection', 'with', 'the', 'offer', 'or', 'sale', 'or', 'invitation', 'for', 'subscription', 'or', 'purchase', 'of', 'notes', 'may', 'not', 'be', 'circulated', 'or', 'distributed', 'nor', 'may', 'the', 'notes', 'be', 'offered', 'or', 'sold', 'or', 'be', 'made', 'the', 'subject', 'of', 'an', 'invitation', 'for', 'subscription', 'or', 'purchase', 'whether', 'directly', 'or', 'indirectly', 'to', 'persons', 'in', 'singapore', 'other', 'than', 'a', 'to', 'an', 'institutional', 'investor', 'pursuant', 'to', 'section', '274', 'of', 'the', 'securities', 'and', 'futures', 'act', 'chapter', '289', 'of', 'singapore', 'the', 'sfa', 'b', 'to', 'a', 'relevant', 'person', 'under', 'section', '275', '1', 'or', 'any', 'person', 'pursuant', 'to', 'section', '275', '1a', 'and', 'in', 'accordance', 'with', 'the', 'conditions', 'specified', 'in', 'section', '275', 'of', 'the', 'sfa', 'or', 'c', 'otherwise', 'pursuant', 'to', 'and', 'in', 'accordance', 'with', 'the', 'conditions', 'of', 'any', 'other', 'applicable', 'provision', 'of', 'the', 'sfa', 'where', 'the', 'notes', 'are', 'subscribed', 'or', 'purchased', 'under', 'section', '275', 'of', 'the', 'sfa', 'by', 'a', 'relevant', 'person', 'which', 'is', 'a', 'corporation', 'which', 'is', 'not', 'an', 'accredited', 'investor', 'as', 'defined', 'in', 'section', '4a', 'of', 'the', 'sfa', 'the', 'sole', 'business', 'of', 'which', 'is', 'to', 'hold', 'investments', 'and', 'the', 'entire', 'share', 'capital', 'of', 'which', 'is', 'owned', 'by', 'one', 'or', 'more', 'individuals', 'each', 'of', 'whom', 'is', 'an', 'accredited', 'investor', 'or', 'a', 'trust', 'where', 'the', 'trustee', 'is', 'not', 'an', 'accredited', 'investor', 'whose', 'sole', 'purpose', 'is', 'to', 'hold', 'investments', 'and', 'each', 'beneficiary', 'of', 'the', 'trust', 'is', 'an', 'individual', 'who', 'is', 'an', 'accredited', 'investor', 'securities', 'as', 'defined', 'in', 'section', '239', '1', 'of', 'the', 'sfa', 'of', 'that', 'corporation', 'or', 'the', 'beneficiaries’', 'rights', 'and', 'interest', 'howsoever', 'described', 'in', 'that', 'trust', 'shall', 'not', 'be', 'transferred', 'within', 'six', 'months', 'after', 'that', 'corporation', 'or', 'that', 'trust', 'has', 'acquired', 'the', 'notes', 'pursuant', 'to', 'an', 'offer', 'made', 'under', 'section', '275', 'of', 'the', 'sfa', 'except', 'to', 'an', 'institutional', 'investor', 'or', 'to', 'a', 'relevant', 'person', 'defined', 'in', 'section', '275', '2', 'of', 'the', 'sfa', 'or', 'to', 'any', 'person', 'arising', 'from', 'an', 'offer', 'referred', 'to', 'in', 'section', '275', '1a', 'or', 'section', '276', '4', 'i', 'b', 'of', 'the', 'sfa', 'where', 'no', 'consideration', 'is', 'or', 'will', 'be', 'given', 'for', 'the', 'transfer', 'where', 'the', 'transfer', 'is', 'by', 'operation', 'of', 'law', 'as', 'specified', 'in', 'section', '276', '7', 'of', 'the', 'sfa', 'or', 'as', 'specified', 'in', 'regulation', '32', 'of', 'the', 'securities', 'and', 'futures', 'offers', 'of', 'investments', 'shares', 'and', 'debentures', 'regulations', '2005', 'of', 'singapore', 'updated', 'information', 'about', 'the', 'issuer', 'credit', 'suisse', 'international', 'is', 'incorporated', 'in', 'england', 'and', 'wales', 'under', 'the', 'companies', 'act', '1985', 'and', 'is', 'an', 'english', 'bank', 'regulated', 'as', 'an', 'eu', 'credit', 'institution', 'credit', 'suisse', 'international', 'is', 'authorised', 'by', 'the', 'prudential', 'regulation', 'authority', 'and', 'regulated', 'by', 'the', 'financial', 'conduct', 'authority', 'and', 'prudential', 'regulation', 'authority', 'under', 'the', 'financial', 'services', 'and', 'markets', 'act', '2000', 'investment', 'considerations', 'and', 'risk', 'factors', 'investors', 'are', 'advised', 'to', 'carefully', 'read', 'these', 'investment', 'considerations', 'associated', 'with', 'the', 'notes', 'these', 'considerations', 'are', 'not', 'exhaustive', 'and', 'are', 'in', 'addition', 'to', 'the', 'risks', 'and', 'considerations', 'described', 'in', 'the', 'programme', 'memorandum', 'the', 'notes', 'are', 'complex', 'and', 'an', 'investment', 'in', 'the', 'notes', 'may', 'involve', 'a', 'high', 'risk', 'of', 'loss', 'of', 'investors’', 'initial', 'investment', 'each', 'investor', 'should', 'ensure', 'that', 'he/she', 'understands', 'the', 'nature', 'of', 'all', 'of', 'the', 'risks', 'associated', 'with', 'an', 'investment', 'in', 'the', 'notes', 'in', 'order', 'to', 'determine', 'whether', 'the', 'investment', 'is', 'suitable', 'for', 'him/her', 'in', 'light', 'of', 'his/her', 'experience', 'objectives', 'financial', 'position', 'and', 'other', 'relevant', 'circumstances', 'each', 'investor', 'should', 'consult', 'with', 'his/her', 'legal', 'regulatory', 'tax', 'financial', 'and/or', 'accounting', 'advisors', 'if', 'necessary', 'and', 'read', 'and', 'understand', 'the', 'programme', 'memorandum', 'and', 'the', 'pricing', 'supplement', 'prior', 'to', 'making', 'his/her', 'investment', 'decision', 'market', 'risk', 'the', 'notes', 'can', 'be', 'volatile', 'instruments', 'and', 'may', 'be', 'subject', 'to', 'considerable', 'fluctuations', 'in', 'value', 'and', 'other', 'risks', 'inherent', 'in', 'investing', 'in', 'the', 'notes', 'and/or', 'derivatives', 'the', 'value', 'of', 'a', 'note', 'may', 'fall', 'as', 'rapidly', 'as', 'it', 'may', 'rise', 'not', 'a', 'deposit', 'the', 'notes', 'are', 'not', 'time', 'deposits', 'and', 'are', 'therefore', 'not', 'protected', 'by', 'the', 'deposit', 'protection', 'scheme', 'in', 'hong', 'kong', 'loss', 'of', 'principal', 'risk', 'the', 'notes', 'are', 'not', 'principal', 'protected', 'in', 'the', 'worst', 'case', 'an', 'investor', 'may', 'lose', 'his', 'entire', 'investment', 'in', 'the', 'notes', 'an', 'investor', 'should', 'not', 'purchase', 'the', 'notes', 'unless', 'he/she', 'accepts', 'the', 'risk', 'of', 'losing', 'all', 'of', 'his/her', 'initial', 'investment', 'underperformance', 'risk', 'potential', 'return', 'on', 'the', 'notes', 'may', 'be', 'less', 'than', 'returns', 'on', 'a', 'bank', 'deposit', 'a', 'non-structured', 'fixed', 'coupon', 'bond', 'or', 'a', 'direct', 'investment', 'in', 'the', 'index', 'or', 'the', 'assets', 'comprising', 'the', 'index', 'or', 'other', 'investments', 'credit', 'risk', 'investors', 'assume', 'the', 'risk', 'that', 'the', 'issuer', 'will', 'not', 'be', 'able', 'to', 'satisfy', 'its', 'obligations', 'under', 'the', 'notes', 'if', 'the', 'issuer', 'is', 'unable', 'to', 'perform', 'its', 'obligations', 'under', 'the', 'notes', 'the', 'noteholder', 'may', 'not', 'receive', 'any', 'payment', 'under', 'the', 'notes', 'the', 'notes', 'will', 'constitute', 'general', 'and', 'unsecured', 'contractual', 'obligations', 'of', 'the', 'issuer', 'and', 'such', 'obligations', 'will', 'rank', 'equally', 'with', 'all', 'other', 'unsecured', 'contractual', 'obligations', 'of', 'the', 'issuer', 'if', 'the', 'issuer', 'becomes', 'insolvent', 'or', 'defaults', 'on', 'its', 'obligations', 'under', 'the', 'notes', 'investors', 'can', 'only', 'claim', 'against', 'the', 'issuer', 'as', 'unsecured', 'creditors', 'and', 'may', 'lose', 'their', 'entire', 'investment', 'even', 'though', 'the', 'index', 'is', 'performing', 'in', 'the', 'direction', 'and/or', 'magnitude', 'they', 'expect', 'limited', 'liquidity', 'investors', 'should', 'be', 'prepared', 'to', 'hold', 'the', 'notes', 'until', 'the', 'maturity', 'date', 'as', 'investors', 'may', 'not', 'be', 'able', 'to', 'liquidate', 'or', 'sell', 'some', 'or', 'all', 'of', 'the', 'notes', 'as', 'and', 'when', 'they', 'require', 'or', 'at', 'an', 'amount', 'equal', 'to', 'or', 'more', 'than', 'the', 'amount', 'initially', 'invested', 'the', 'notes', 'will', 'not', 'be', 'traded', 'on', 'any', 'regulated', 'markets', 'or', 'listed', 'on', 'any', 'exchange', 'there', 'can', 'be', 'no', 'assurance', 'that', 'a', 'secondary', 'market', 'for', 'the', 'notes', 'will', 'be', 'developed', 'or', 'if', 'a', 'secondary', 'market', 'does', 'develop', 'that', 'it', 'will', 'provide', 'the', 'noteholders', 'with', 'liquidity', 'or', 'that', 'it', 'will', 'continue', 'for', 'the', 'life', 'of', 'the', 'notes', 'there', 'can', 'be', 'no', 'assurance', 'that', 'any', 'investor', 'will', 'be', 'able', 'to', 'obtain', 'a', 'firm', 'bid', 'price', 'for', 'the', 'notes', 'for', 'an', 'amount', 'at', 'which', 'they', 'wish', 'to', 'sell', 'therefore', 'these', 'notes', 'may', 'not', 'be', 'marketable', 'and', 'as', 'such', 'may', 'not', 'be', 'able', 'to', 'be', 'sold', 'before', 'maturity', 'or', 'if', 'sold', 'may', 'only', 'realise', 'an', 'amount', 'that', 'is', 'at', 'a', 'significant', 'discount', 'to', 'the', 'amount', 'initially', 'paid', 'by', 'the', 'investor', 'investors', 'are', 'strongly', 'discouraged', 'from', 'using', 'this', 'investment', 'for', 'trading', 'opportunities', 'early', 'redemption', 'by', 'issuer', 'at', 'amount', 'less', 'than', 'the', 'amount', 'initially', 'invested', 'the', 'issuer', 'may', 'early', 'redeem', 'the', 'notes', 'prior', 'to', 'the', 'maturity', 'date', 'in', 'certain', 'circumstances', 'as', 'set', 'out', 'in', 'potential', 'adjustments', 'and', 'early', 'redemption', 'by', 'issuer', 'above', 'in', 'addition', 'the', 'investors', 'may', 'nominate', 'to', 'early', 'redeem', 'the', 'notes', 'prior', 'to', 'the', 'maturity', 'date', 'in', 'case', 'of', 'an', 'event', 'of', 'default', 'of', 'the', 'issuer', 'under', 'general', 'condition', '8', 'of', 'the', 'programme', 'memorandum', 'if', 'the', 'issuer', 'early', 'redeems', 'the', 'notes', 'under', 'the', 'abovementioned', 'circumstances', 'such', 'redemption', 'may', 'be', 'at', 'a', 'price', 'which', 'is', 'substantially', 'lower', 'than', 'the', 'amount', 'initially', 'invested', 'adjustment', 'events', 'the', 'issuer', 'may', 'make', 'such', 'adjustment', 'to', 'the', 'notes', 'as', 'it', 'may', 'in', 'its', 'sole', 'and', 'absolute', 'discretion', 'determine', 'to', 'be', 'appropriate', 'in', 'certain', 'circumstances', 'as', 'set', 'out', 'in', 'potential', 'adjustments', 'by', 'issuer', 'above', 'any', 'such', 'adjustment', 'made', 'by', 'the', 'issuer', 'shall', 'be', 'binding', 'on', 'the', 'investors', 'the', 'issuer', 'will', 'not', 'take', 'into', 'account', 'individual', 'circumstances', 'in', 'exercising', 'discretion', 'not', 'the', 'same', 'as', 'investing', 'in', 'the', 'index', 'or', 'the', 'underlying', 'assets', 'comprising', 'the', 'index', 'by', 'purchasing', 'the', 'notes', 'investors', 'in', 'the', 'notes', 'do', 'not', 'acquire', 'any', 'right', 'to', 'the', 'underlying', 'assets', 'comprising', 'of', 'the', 'index', 'changes', 'in', 'the', 'market', 'price', 'of', 'the', 'index', 'or', 'the', 'underlying', 'assets', 'comprising', 'the', 'index', 'may', 'not', 'lead', 'to', 'a', 'corresponding', 'change', 'in', 'the', 'value', 'of', 'the', 'notes', 'or', 'any', 'change', 'at', 'all', 'discretion', 'of', 'the', 'issuer', 'the', 'issuer', 'has', 'the', 'sole', 'and', 'absolute', 'discretion', 'to', 'determine', 'whether', 'any', 'extraordinary', 'event', 'has', 'occurred', 'and', 'if', 'so', 'to', 'make', 'any', 'resulting', 'adjustments', 'to', 'the', 'notes', 'or', 'early', 'redeem', 'the', 'notes', 'without', 'consent', 'investors', 'should', 'be', 'aware', 'that', 'any', 'decision', 'made', 'by', 'the', 'issuer', 'may', 'have', 'an', 'unforeseen', 'adverse', 'impact', 'on', 'the', 'financial', 'return', 'of', 'the', 'notes', 'any', 'such', 'discretion', 'exercised', 'by', 'or', 'any', 'calculation', 'made', 'by', 'the', 'issuer', 'shall', 'be', 'binding', 'on', 'all', 'investors', 'currency', 'risk', 'investors', 'may', 'be', 'exposed', 'to', 'currency', 'risks', 'because', 'i', 'the', 'index', 'may', 'be', 'priced', 'in', 'currencies', 'other', 'than', 'the', 'currency', 'in', 'which', 'the', 'notes', 'are', 'denominated', 'and/or', 'ii', 'the', 'notes', 'may', 'be', 'denominated', 'in', 'currencies', 'other', 'than', 'investors’', 'home', 'currency', 'the', 'value', 'of', 'the', 'notes', 'may', 'therefore', 'increase', 'or', 'decrease', 'as', 'a', 'result', 'of', 'fluctuations', 'in', 'those', 'currencies', 'interest', 'rate', 'risk', 'investors', 'are', 'exposed', 'to', 'the', 'movement', 'of', 'interest', 'rates', 'whenever', 'their', 'notes', 'are', 'redeemed', 'tendered', 'or', 'sold', 'prior', 'to', 'the', 'maturity', 'date', 'movements', 'in', 'interest', 'rates', 'will', 'have', 'an', 'impact', 'upon', 'the', 'value', 'of', 'the', 'notes', 'potential', 'payout', 'on', 'the', 'notes', 'is', 'subject', 'to', 'charges', 'any', 'potential', 'payout', 'on', 'an', 'investment', 'in', 'any', 'notes', 'does', 'not', 'take', 'into', 'consideration', 'any', 'fees', 'charged', 'by', 'the', 'distributor', 'relating', 'to', 'an', 'investor’s', 'investment', 'in', 'the', 'notes', 'the', 'payout', 'received', 'by', 'the', 'investors', 'will', 'be', 'reduced', 'by', 'such', 'fees', 'and', 'expenses', 'settlement', 'risk', 'any', 'payments', 'and/or', 'delivery', 'to', 'be', 'made', 'by', 'the', 'issuer', 'pursuant', 'to', 'the', 'notes', 'will', 'be', 'credited', 'to', 'the', 'distributor’s', 'account', 'investors', 'will', 'need', 'to', 'rely', 'on', 'the', 'distributor', 'to', 'credit', 'the', 'same', 'to', 'their', 'respective', 'accounts', 'on', 'a', 'timely', 'basis', 'investors', 'acknowledges', 'that', 'once', 'the', 'relevant', 'payment', 'and/or', 'delivery', 'is', 'made', 'by', 'the', 'issuer', 'to', 'the', 'distributor', 'the', 'issuer', 'shall', 'not', 'be', 'liable', 'for', 'any', 'further', 'payment', 'and/or', 'delivery', 'obligations', 'under', 'the', 'notes', 'possible', 'conflicts', 'of', 'interest', 'risk', 'the', 'issuer', 'and', 'certain', 'named', 'agents', 'e.g', 'the', 'calculation', 'agent', 'may', 'be', 'the', 'same', 'or', 'affiliated', 'corporate', 'entities', 'in', 'their', 'respective', 'roles', 'the', 'issuer', 'or', 'the', 'various', 'named', 'agents', 'may', 'retain', 'various', 'powers', 'of', 'discretion', 'which', 'may', 'have', 'a', 'material', 'impact', 'on', 'the', 'value', 'and', 'performance', 'of', 'the', 'notes', 'these', 'discretions', 'may', 'be', 'exercised', 'or', 'not', 'be', 'exercised', 'in', 'a', 'way', 'that', 'could', 'adversely', 'affect', 'the', 'investors', 'the', 'issuer', 'and', 'its', 'affiliates', 'may', 'from', 'time', 'to', 'time', 'engage', 'in', 'transactions', 'involving', 'the', 'index', 'or', 'the', 'underlying', 'assets', 'comprising', 'the', 'index', 'for', 'themselves', 'or', 'their', 'clients', 'such', 'trading', 'may', 'adversely', 'affect', 'the', 'value', 'of', 'the', 'shares', 'and/or', 'the', 'notes', 'issuer', 'may', 'pay', 'placement', 'fee', 'the', 'issuer', 'may', 'pay', 'a', 'fee', 'or', 'offer', 'a', 'discount', 'to', 'the', 'original', 'issue', 'price', 'in', 'respect', 'of', 'placement', 'of', 'the', 'notes', 'to', 'the', 'distributor', 'or', 'other', 'third', 'parties', 'the', 'unwinding', 'of', 'hedging', 'arrangements', 'could', 'itself', 'affect', 'the', 'price', 'of', 'the', 'shares', 'the', 'issuer', 'and/or', 'its', 'affiliates', 'may', 'enter', 'into', 'hedging', 'transactions', 'with', 'counterparties', 'in', 'the', 'market', 'in', 'order', 'to', 'enable', 'it', 'to', 'receive', 'the', 'relevant', 'payoff', 'equal', 'to', 'those', 'due', 'under', 'the', 'notes', 'the', 'unwinding', 'or', 'adjustment', 'of', 'such', 'hedging', 'transactions', 'shortly', 'before', 'a', 'relevant', 'date', 'may', 'itself', 'affect', 'the', 'index', 'levels', 'on', 'the', 'relevant', 'date', 'particularly', 'if', 'there', 'is', 'otherwise', 'low', 'trading', 'volume', 'in', 'the', 'shares', 'at', 'that', 'time', 'this', 'may', 'in', 'turn', 'affect', 'the', 'value', 'of', 'the', 'notes', 'by', 'entering', 'into', 'a', 'transaction', 'with', 'credit', 'suisse', 'international', 'or', 'any', 'of', 'its', 'subsidiaries', 'or', 'affiliates', 'cs', 'you', 'acknowledge', 'that', 'you', 'have', 'read', 'and', 'understood', 'the', 'following', 'terms', 'cs', 'is', 'acting', 'solely', 'as', 'an', 'arm', '39', 's', 'length', 'contractual', 'counterparty', 'and', 'neither', 'cs', 'nor', 'any', 'affiliate', 'is', 'acting', 'as', 'your', 'financial', 'adviser', 'or', 'fiduciary', 'unless', 'it', 'has', 'agreed', 'to', 'so', 'act', 'in', 'writing', 'before', 'entering', 'into', 'any', 'transaction', 'you', 'should', 'ensure', 'that', 'you', 'fully', 'understand', 'the', 'terms', 'and', 'conditions', 'of', 'the', 'note', 'its', 'potential', 'risks', 'specifically', 'you', 'may', 'lose', 'your', 'entire', 'amount', 'of', 'your', 'investment', 'and', 'rewards', 'its', 'financial', 'legal', 'account', 'regulatory', 'and', 'tax', 'implications', 'and', 'independently', 'determine', 'that', 'it', 'is', 'appropriate', 'for', 'you', 'given', 'your', 'objectives', 'experience', 'financial', 'and', 'operational', 'resources', 'and', 'other', 'relevant', 'circumstances', 'you', 'should', 'consult', 'with', 'such', 'advisers', 'as', 'you', 'deem', 'necessary', 'to', 'assist', 'you', 'in', 'making', 'these', 'determinations', 'you', 'should', 'also', 'understand', 'that', 'either', 'cs', 'or', 'any', 'affiliate', 'may', 'provide', 'banking', 'credit', 'and', 'other', 'financial', 'services', 'to', 'any', 'company', 'or', 'issuer', 'of', 'securities', 'or', 'financial', 'instruments', 'referred', 'to', 'herein', 'underwrite', 'make', 'a', 'market', 'in', 'have', 'positions', 'in', 'or', 'otherwise', 'buy', 'and', 'sell', 'securities', 'or', 'financial', 'instruments', 'which', 'may', 'be', 'identical', 'or', 'economically', 'similar', 'to', 'any', 'transaction', 'entered', 'into', 'with', 'you', 'if', 'cs', 'makes', 'a', 'market', 'in', 'any', 'security', 'or', 'financial', 'instrument', 'it', 'should', 'not', 'be', 'assumed', 'that', 'cs', 'will', 'continue', 'to', 'do', 'so', 'you', 'are', 'prepared', 'to', 'hold', 'the', 'notes', 'to', 'maturity', 'any', 'indicative', 'terms', 'provided', 'to', 'you', 'are', 'provided', 'for', 'your', 'information', 'and', 'do', 'not', 'constitute', 'an', 'offer', 'a', 'solicitation', 'of', 'an', 'offer', 'or', 'any', 'advice', 'or', 'recommendation', 'to', 'conclude', 'any', 'transaction', 'whether', 'on', 'the', 'indicative', 'terms', 'or', 'otherwise', 'any', 'indicative', 'price', 'quotations', 'disclosure', 'materials', 'or', 'analyses', 'provided', 'to', 'you', 'have', 'been', 'prepared', 'on', 'assumptions', 'and', 'parameters', 'that', 'reflect', 'good', 'faith', 'determinations', 'by', 'cs', 'or', 'that', 'have', 'been', 'expressly', 'specified', 'by', 'you', 'and', 'do', 'not', 'constitute', 'advice', 'by', 'cs', 'the', 'assumptions', 'and', 'parameters', 'used', 'are', 'not', 'the', 'only', 'ones', 'that', 'might', 'reasonably', 'have', 'been', 'selected', 'and', 'therefore', 'no', 'guarantee', 'is', 'given', 'as', 'to', 'the', 'accuracy', 'completeness', 'or', 'reasonableness', 'of', 'any', 'such', 'quotations', 'disclosure', 'or', 'analyses', 'no', 'representation', 'or', 'warranty', 'is', 'made', 'that', 'any', 'indicative', 'performance', 'or', 'return', 'indicated', 'will', 'be', 'achieved', 'in', 'the', 'future', 'none', 'of', 'the', 'employees', 'or', 'agents', 'of', 'cs', 'is', 'authorised', 'to', 'amend', 'or', 'supplement', 'the', 'terms', 'of', 'this', 'notice', 'other', 'than', 'in', 'the', 'form', 'of', 'a', 'written', 'instrument', 'duly', 'executed', 'by', 'an', 'appropriately', 'authorised', 'signatory', 'and', 'countersigned', 'by', 'you', 'it', 'is', 'your', 'responsibility', 'to', 'review', 'this', 'document', 'the', 'pricing', 'supplement', 'and', 'the', 'programme', 'memorandum', 'and', 'any', 'other', 'documents', 'relating', 'to', 'the', 'notes', 'carefully', 'to', 'ensure', 'that', 'the', 'documentation', 'and', 'the', 'notes', 'are', 'acceptable', 'to', 'you', 'cs', 'has', 'not', 'made', 'any', 'warranty', 'representation', 'assurance', 'guarantee', 'or', 'recommendation', 'as', 'to', 'the', 'merits', 'of', 'the', 'notes', 'the', 'expected', 'results', 'of', 'the', 'notes', 'nor', 'the', 'financial', 'legal', 'accounting', 'regulatory', 'tax', 'or', 'other', 'position', 'of', 'notes', 'cs', 'or', 'any', 'other', 'person', 'or', 'any', 'other', 'matter', 'arising', 'from', 'or', 'in', 'connection', 'with', 'the', 'notes', 'cs', 'has', 'no', 'obligation', 'to', 'support', 'any', 'losses', 'directly', 'or', 'indirectly', 'sustained', 'or', 'incurred', 'by', 'you', 'for', 'any', 'reason', 'whatsoever', 'arising', 'out', 'of', 'the', 'notes', 'or', 'in', 'connection', 'with', 'your', 'investment', 'in', 'the', 'notes', 'this', 'document', 'has', 'been', 'prepared', 'and', 'is', 'provided', 'to', 'you', 'for', 'the', 'purpose', 'of', 'a', 'transaction', 'done', 'between', 'two', 'financial', 'institutions', 'on', 'a', 'principal-to-principal', 'basis', 'only', 'in', 'addition', 'by', 'purchasing', 'the', 'notes', 'you', 'represent', 'to', 'cs', 'that', 'you', 'have', 'fully', 'complied', 'and', 'will', 'continue', 'to', 'fully', 'comply', 'with', 'all', 'applicable', 'laws', 'and', 'regulations', 'for', 'you', 'to', 'invest', 'in', 'the', 'notes', 'and', 'exercise', 'all', 'rights', 'and', 'perform', 'all', 'obligations', 'under', 'it', 'i', 'appendix', 'definitions', 'for', 'the', 'purpose', 'of', 'this', 'pricing', 'supplement', 'the', 'following', 'terms', 'shall', 'have', 'the', 'following', 'meanings', 'consequences', 'of', 'disrupted', 'days', 'means', 'if', 'a', 'scheduled', 'trading', 'day', 'is', 'specified', 'to', 'be', 'subject', 'to', 'the', 'consequences', 'of', 'disrupted', 'days', 'each', 'a', 'specified', 'date', 'and', 'such', 'specified', 'date', 'is', 'determined', 'to', 'be', 'a', 'disrupted', 'day', 'then', 'such', 'specified', 'date', 'shall', 'be', 'postponed', 'to', 'the', 'first', 'succeeding', 'scheduled', 'trading', 'day', 'that', 'is', 'not', 'a', 'disrupted', 'day', 'unless', 'each', 'of', 'the', 'eight', 'scheduled', 'trading', 'days', 'immediately', 'following', 'the', 'originally', 'scheduled', 'specified', 'date', 'is', 'a', 'disrupted', 'day', 'in', 'such', 'case', 'the', 'calculation', 'agent', 'can', 'in', 'its', 'sole', 'and', 'absolute', 'discretion', 'acting', 'in', 'a', 'commercially', 'reasonable', 'manner', 'make', 'any', 'of', 'the', 'following', 'determinations', 'and/or', 'the', 'securities', 'determine', 'the', 'index', 'level', 'for', 'on', 'that', 'eighth', 'scheduled', 'trading', 'day', 'and', 'that', 'eighth', 'scheduled', 'trading', 'day', 'shall', 'be', 'deemed', 'to', 'be', 'the', 'specified', 'date', 'notwithstanding', 'the', 'fact', 'that', 'such', 'day', 'is', 'a', 'disrupted', 'day', 'or', 'determine', 'to', 'redeem', 'the', 'securities', 'at', 'an', 'amount', 'determined', 'by', 'the', 'calculation', 'agent', 'as', 'representing', 'the', 'fair', 'market', 'value', 'of', 'such', 'securities', 'on', 'such', 'day', 'as', 'the', 'calculation', 'agent', 'shall', 'select', 'in', 'its', 'sole', 'and', 'absolute', 'discretion', 'less', 'the', 'cost', 'to', 'the', 'issuer', 'and/or', 'its', 'affiliates', 'of', 'unwinding', 'any', 'related', 'hedging', 'arrangements', 'in', 'relation', 'to', 'such', 'securities', 'or', 'determine', 'that', 'the', 'specified', 'date', 'shall', 'continue', 'to', 'be', 'postponed', 'until', 'the', 'first', 'succeeding', 'scheduled', 'trading', 'day', 'that', 'is', 'not', 'a', 'disrupted', 'day', 'for', 'the', 'determination', 'of', 'the', 'index', 'level', 'for', 'such', 'specified', 'date', 'final', 'redemption', 'amount', 'means', 'in', 'respect', 'of', 'each', 'security', 'a', 'cash', 'amount', 'in', 'the', 'settlement', 'currency', 'calculated', 'by', 'the', 'calculation', 'agent', 'in', 'accordance', 'with', 'the', 'following', 'formula', 'specified', 'denomination', 'x', 'max', '0', 'final', 'level', 'initial', 'level', 'structuring', 'fee', 'where', 'structuring', 'fee', 'means', '1.5', '\\uf0b4', 'where', 'act', 't', '0', ',', 't', '0', 'act', 't', 't', '365', 'is', 'the', 'number', 'of', 'calendar', 'days', 'from', 'and', 'including', '12th', 'march', '2014', 'up', 'to', 'and', 'excluding', 'the', 'valuation', 'date', 'and', 'in', 'the', 'case', 'of', 'buy-backs', 'the', 'number', 'of', 'calendar', 'days', 'from', 'and', 'including', '12th', 'march', '2014', 'up', 'to', 'and', 'excluding', 'the', 'dealing', 'date', 'initial', 'level', 'means', '100.50', 'of', 'the', 'index', 'level', 'on', 'the', 'trade', 'date', 'as', 'specified', 'under', 'the', 'definition', 'of', 'index', 'final', 'level', 'means', '99.50', 'of', 'the', 'index', 'level', 'on', 'the', 'valuation', 'date', 'index', 'means', 'credit', 'suisse', 'spear', 'dynamic', 'asia', 'index', 'total', 'return', 'usd', 'series', 'x', 'index', 'bloomberg', 'ticker', 'initial', 'level', 'credit', 'suisse', 'spear', 'dynamic', 'asia', 'index', 'total', 'return', 'usd', 'series', 'x', 'csjasdax', 'index', '307.583203178191', 'index', 'level', 'on', 'the', 'trade', 'date', 'means', '306.052938485762', 'final', 'redemption', 'amount', 'provided', 'that', 'the', 'securities', 'have', 'not', 'been', 'previously', 'redeemed', 'or', 'purchased', 'or', 'cancelled', 'each', 'security', 'shall', 'be', 'redeemed', 'at', 'the', 'final', 'redemption', 'amount', 'on', 'the', 'maturity', 'date', 'secondary', 'market', 'or', 'buy-backs', 'under', 'normal', 'market', 'conditions', 'the', 'issuer', 'will', 'endeavour', 'to', 'provide', 'a', 'secondary', 'market', 'but', 'is', 'under', 'no', 'legal', 'obligation', 'to', 'do', 'so', 'upon', 'security', 'holder’s', 'demand', 'the', 'issuer', 'will', 'endeavour', 'to', 'provide', 'bid/offer', 'prices', 'for', 'the', 'notes', 'depending', 'on', 'actual', 'market', 'conditions', 'there', 'will', 'be', 'a', 'price', 'difference', 'between', 'bid', 'and', 'offer', 'prices', 'spread', 'however', 'there', 'can', 'be', 'no', 'assurance', 'as', 'to', 'the', 'development', 'or', 'liquidity', 'of', 'any', 'trading', 'market', 'for', 'the', 'notes', 'any', 'secondary', 'market', 'price', 'quoted', 'by', 'the', 'issuer', 'and/or', 'dealer', 'may', 'be', 'affected', 'by', 'several', 'factors', 'including', 'without', 'limitation', 'prevailing', 'market', 'conditions', 'credit', 'spreads', 'unwind', 'costs', 'and', 'the', 'time', 'to', 'maturity', 'in', 'respect', 'of', 'any', 'scheduled', 'trading', 'day', 'the', '‘', 'dealing', 'date', '’', 'the', 'security', 'holder', 'may', 'subject', 'to', 'a', 'notice', 'of', 'at', 'least', '1', 'scheduled', 'trading', 'day', 'prior', 'to', 'the', 'dealing', 'date', 'the', '‘', 'buy', 'back', 'notice', 'date’', 'send', 'an', 'irrevocable', 'written', 'notice', 'to', 'the', 'issuer', 'of', 'its', 'intention', 'to', 'sell', 'back', 'a', 'number', 'of', 'security', 'to', 'the', 'issuer', 'with', 'respect', 'to', 'that', 'dealing', 'date', 'each', 'notice', 'shall', 'specify', 'the', 'notional', 'amount', 'to', 'be', 'sold', 'back', 'to', 'the', 'issuer', 'pursuant', 'to', 'such', 'notice', 'the', '‘', 'buy', 'back', 'amount’', 'on', 'the', 'buy', 'back', 'settlement', 'date', 'the', 'issuer', 'will', 'in', 'exchange', 'for', 'the', 'delivery', 'of', 'the', 'buy', 'back', 'amount', 'of', 'the', 'notes', 'pay', 'the', 'repurchase', 'price', 'in', 'respect', 'of', 'the', 'nominal', 'amount', 'comprising', 'the', 'buy', 'back', 'amount', 'subject', 'to', 'index', 'adjustment', 'and', 'market', 'disruption', 'events', 'buy', 'back', 'settlement', 'date', 'means', '3', 'business', 'days', 'immediately', 'following', 'the', 'dealing', 'date', 'repurchase', 'price', 'means', '\\uf0e6', 'indext', '\\uf0f6', 'specified', 'deno', 'min', 'ation', '\\uf0b4', 'max\\uf0e7\\uf0e7', '0', '\\uf0e8', 'index0', 'breakfee', '\\uf02d', 'structuringfee', '\\uf0f7\\uf0f7', '\\uf0f8', 'where', 'index', 't', 'means', '99.50', 'of', 'the', 'index', 'level', 'on', 'the', 'dealing', 'date', 'index', '0', 'means', '100.5', 'of', 'the', 'index', 'level', 'on', 'the', 'trade', 'date', 'break', 'fee', 'shall', 'be', 'determined', 'in', 'accordance', 'with', 'the', 'following', 'formula', '\\uf0e6', '\\uf0e6', 'n', '\\uf0f6\\uf0f6', 'specified', 'd', 'eno', 'min', 'ation', '\\uf0b4', 'max\\uf0e7\\uf0e70', '1.5', '\\uf0b4', '\\uf0e7', '2', '\\uf02d', '365', '\\uf0f7\\uf0f7\\uf0f7', '\\uf0e8', '\\uf0e8', '\\uf0f8\\uf0f8', 'where', 'n', 'is', 'the', 'number', 'of', 'calendar', 'days', 'from', 'but', 'excluding', '12', 'march', '2014', 'to', 'and', 'including', 'the', 'dealing', 'date', 'index', 'summary', 'the', 'credit', 'suisse', 'spear', 'dynamic', 'asia', 'index', 'total', 'return', 'usd', 'series', 'x', 'the', 'index', 'is', 'a', 'rule-', 'based', 'algorithmic', 'index', 'that', 'allocates', 'notional', 'exposure', 'between', 'a', 'short', 'position', 'and', 'a', 'long', 'position', 'on', 'a', 'basket', 'of', 'equity', 'index', 'futures', 'as', 'per', 'below', 'the', 'dynamic', 'allocation', 'is', 'based', 'on', 'credit', 'suisse', 'international’s', 'proprietary', 'models', 'which', 'indicate', 'a', 'tail', 'risk', 'signal', 'by', 'utilising', 'the', 'levels', 'of', 'markit', 'itraxx', 'asia', 'ex-japan', 'investment', 'grade', 'index', 'markit', 'itraxx', 'japan', 'index', 'and', 'the', 'volatility', 'skew', 'on', 'the', 'standard', 'and', 'poor’s', '500', 'index', 'the', 'dynamic', 'allocation', 'may', 'change', 'on', 'a', 'daily', 'basis', 'the', 'index', 'will', 'allocate', 'notional', 'exposure', 'on', 'a', 'basket', 'of', 'equity', 'index', 'futures', 'in', 'respect', 'of', 'the', 'following', 'equity', 'indices', 'index', 'name', 'bloomberg', 'code', '1', 'nikkei', '225', 'index', 'nky', 'index', '2', 'kospi', '200', 'index', 'kospi2', 'index', '3', 'hang', 'seng', 'china', 'enterprises', 'index', 'hscei', 'index', '4', 'hang', 'seng', 'index', 'hsi', 'index', '5', 'msci', 'taiwan', 'index', 'tamsci', 'index', 'risk', 'factors', 'specific', 'to', 'the', 'index', 'index', 'risk', 'disclosure', 'below', 'are', 'some', 'of', 'the', 'risks', 'associated', 'with', 'an', 'investment', 'linked', 'to', 'the', 'index', 'investors', 'should', 'note', 'that', 'these', 'do', 'not', 'purport', 'to', 'be', 'a', 'complete', 'explanation', 'of', 'all', 'the', 'risks', 'associated', 'with', 'an', 'investment', 'linked', 'to', 'the', 'indices', 'prior', 'to', 'entering', 'into', 'a', 'transaction', 'each', 'investor', 'should', 'perform', 'their', 'own', 'independent', 'analysis', 'of', 'the', 'risks', 'associated', 'with', 'the', 'indices', 'and', 'whether', 'the', 'investment', 'is', 'suitable', 'for', 'him/her', 'in', 'light', 'of', 'his/her', 'experience', 'objectives', 'financial', 'position', 'and', 'other', 'relevant', 'circumstances', 'investors', 'may', 'also', 'wish', 'to', 'consult', 'with', 'their', 'own', 'legal', 'regulatory', 'tax', 'financial', 'and/or', 'accounting', 'advisors', 'as', 'necessary', 'defined', 'terms', 'used', 'but', 'not', 'otherwise', 'defined', 'shall', 'have', 'the', 'meanings', 'ascribed', 'to', 'them', 'in', 'the', 'rules', 'relating', 'to', 'the', 'indices', 'such', 'rules', 'are', 'subject', 'to', 'execution', 'of', 'a', 'non-disclosure', 'agreement', 'available', 'upon', 'request', 'references', 'to', 'credit', 'suisse', 'herein', 'are', 'to', 'credit', 'suisse', 'international', 'and/or', 'its', 'affiliates', 'general', 'risks', 'historical', 'or', 'hypothetical', 'performance', 'of', 'the', 'index', 'is', 'not', 'an', 'indication', 'of', 'future', 'performance', 'the', 'historical', 'or', 'hypothetical', 'performance', 'of', 'the', 'index', 'should', 'not', 'be', 'taken', 'as', 'an', 'indication', 'of', 'the', 'future', 'performance', 'of', 'the', 'index', 'the', 'level', 'of', 'the', 'index', 'may', 'fluctuate', 'significantly', 'it', 'is', 'impossible', 'to', 'predict', 'whether', 'the', 'level', 'value', 'or', 'price', 'of', 'the', 'index', 'will', 'fall', 'or', 'rise', 'during', 'the', 'term', 'of', 'your', 'investment', 'past', 'performance', 'is', 'not', 'a', 'guarantee', 'or', 'an', 'indication', 'of', 'future', 'returns', 'limited', 'operating', 'history', 'the', 'index', 'may', 'have', 'limited', 'operating', 'history', 'with', 'no', 'proven', 'track', 'record', 'in', 'achieving', 'the', 'stated', 'investment', 'objective', 'the', 'index', 'is', 'based', 'on', 'historical', 'performance', 'of', 'certain', 'assets', 'and', 'aims', 'to', 'capture', 'trends', 'in', 'the', 'market', 'by', 'using', 'historical', 'data', 'over', 'a', 'pre-defined', 'period', 'however', 'the', 'actual', 'performance', 'of', 'the', 'index', 'in', 'the', 'future', 'may', 'bear', 'little', 'relation', 'to', 'the', 'historical', 'value', 'of', 'the', 'index', 'in', 'a', 'market', 'in', 'which', 'the', 'price', 'of', 'a', 'given', 'underlying', 'asset', 'moves', 'in', 'the', 'opposite', 'direction', 'to', 'its', 'past', 'performance', 'or', 'a', 'market', 'in', 'which', 'the', 'movement', 'of', 'an', 'underlying', 'asset', 'is', 'otherwise', 'not', 'consistent', 'with', 'its', 'past', 'performance', 'the', 'index', 'may', 'under-perform', 'a', 'static', 'or', 'managed', 'allocation', 'into', 'the', 'relevant', 'underlying', 'assets', 'no', 'assurance', 'of', 'performance', 'no', 'assurance', 'can', 'be', 'provided', 'that', 'any', 'strategy', 'on', 'which', 'an', 'index', 'is', 'based', 'will', 'be', 'successful', 'or', 'that', 'the', 'index', 'will', 'outperform', 'any', 'alternative', 'strategy', 'that', 'might', 'be', 'used', 'in', 'respect', 'of', 'the', 'same', 'or', 'similar', 'investment', 'objectives', 'no', 'active', 'management', 'certain', 'determinations', 'in', 'respect', 'of', 'the', 'index', 'rely', 'on', 'a', 'proprietary', 'model', 'developed', 'by', 'credit', 'suisse', 'there', 'will', 'be', 'no', 'active', 'management', 'of', 'the', 'index', 'so', 'as', 'to', 'enhance', 'returns', 'beyond', 'those', 'embedded', 'in', 'the', 'index', 'an', 'actively', 'managed', 'product', 'may', 'potentially', 'respond', 'more', 'directly', 'and', 'appropriately', 'to', 'immediate', 'market', 'political', 'financial', 'or', 'other', 'factors', 'than', 'a', 'non-actively', 'managed', 'product', 'notional', 'exposure', 'the', 'index', 'is', 'constructed', 'on', 'notional', 'investments', 'and', 'there', 'is', 'no', 'actual', 'portfolio', 'of', 'assets', 'to', 'which', 'any', 'person', 'is', 'entitled', 'or', 'in', 'respect', 'of', 'which', 'any', 'person', 'has', 'any', 'direct', 'or', 'indirect', 'ownership', 'interest', 'the', 'index', 'simply', 'reflects', 'a', 'rules-based', 'proprietary', 'trading', 'strategy', 'the', 'performance', 'of', 'which', 'is', 'used', 'as', 'a', 'reference', 'point', 'for', 'the', 'purposes', 'of', 'calculating', 'the', 'level', 'of', 'the', 'index', 'investors', 'in', 'products', 'which', 'are', 'linked', 'to', 'the', 'index', 'will', 'not', 'have', 'a', 'claim', 'in', 'respect', 'of', 'any', 'of', 'the', 'components', 'of', 'the', 'index', 'publication', 'of', 'the', 'index', 'the', 'index', 'level', 'in', 'respect', 'of', 'an', 'index', 'calculation', 'day', 'is', 'scheduled', 'to', 'be', 'published', 'on', 'the', 'immediately', 'following', 'index', 'calculation', 'day', 'in', 'extreme', 'circumstances', 'such', 'publication', 'may', 'be', 'delayed', 'liquidity', 'and', 'reliance', 'on', 'external', 'data', 'the', 'index', 'relies', 'on', 'data', 'from', 'external', 'providers', 'while', 'credit', 'suisse', 'intends', 'to', 'use', 'well', 'established', 'and', 'reputable', 'providers', 'there', 'is', 'a', 'risk', 'that', 'this', 'data', 'may', 'be', 'inaccurate', 'delayed', 'or', 'not', 'up', 'to', 'date', 'there', 'is', 'also', 'a', 'risk', 'that', 'while', 'the', 'data', 'is', 'accurate', 'the', 'data', 'feed', 'to', 'credit', 'suisse', 'is', 'impaired', 'such', 'impairment', 'to', 'either', 'the', 'data', 'or', 'the', 'data', 'feed', 'could', 'affect', 'the', 'performance', 'or', 'continued', 'operability', 'of', 'the', 'index', 'investors', 'should', 'note', 'that', 'there', 'can', 'be', 'no', 'assurance', 'as', 'regards', 'the', 'liquidity', 'of', 'the', 'index', 'and', 'no', 'active', 'public', 'market', 'is', 'expected', 'to', 'develop', 'the', 'index', 'relies', 'on', 'cs', 'infrastructure', 'and', 'electronic', 'systems', 'the', 'index', 'relies', 'on', 'cs', 'infrastructure', 'and', 'electronic', 'systems', 'including', 'internal', 'data', 'feeds', 'any', 'breakdown', 'or', 'impairment', 'to', 'such', 'infrastructure', 'or', 'electronic', 'systems', 'could', 'affect', 'the', 'performance', 'or', 'continued', 'operability', 'of', 'the', 'index', 'amendments', 'to', 'the', 'index', 'rules', 'the', 'index', 'creator', 'may', 'supplement', 'amend', 'in', 'whole', 'or', 'in', 'part', 'revise', 'rebalance', 'or', 'withdraw', 'the', 'index', 'at', 'any', 'time', 'if', 'i', 'there', 'is', 'any', 'event', 'or', 'circumstance', 'that', 'in', 'the', 'determination', 'of', 'the', 'index', 'creator', 'makes', 'it', 'impossible', 'or', 'impracticable', 'to', 'calculate', 'the', 'index', 'pursuant', 'to', 'the', 'index', 'rules', 'ii', 'a', 'change', 'to', 'the', 'index', 'rules', 'is', 'required', 'to', 'address', 'an', 'error', 'ambiguity', 'or', 'omission', 'or', 'iii', 'the', 'index', 'creator', 'determines', 'that', 'an', 'extraordinary', 'event', 'as', 'defined', 'in', 'the', 'index', 'rules', 'has', 'occurred', 'a', 'supplement', 'amendment', 'revision', 'or', 'rebalancing', 'may', 'lead', 'to', 'a', 'change', 'in', 'the', 'way', 'the', 'index', 'is', 'calculated', 'or', 'constructed', 'and', 'this', 'may', 'in', 'turn', 'affect', 'the', 'performance', 'of', 'the', 'index', 'discretion', 'of', 'the', 'index', 'calculation', 'agent', 'the', 'index', 'rules', 'provide', 'the', 'index', 'calculation', 'agent', 'with', 'the', 'discretion', 'to', 'make', 'certain', 'calculations', 'and', 'determinations', 'from', 'time', 'to', 'time', 'for', 'example', 'on', 'the', 'occurrence', 'of', 'an', 'index', 'disruption', 'event', 'as', 'defined', 'in', 'the', 'index', 'rules', 'while', 'such', 'discretion', 'will', 'be', 'exercised', 'in', 'good', 'faith', 'and', 'a', 'commercially', 'reasonable', 'manner', 'it', 'may', 'be', 'exercised', 'without', 'the', 'consent', 'of', 'the', 'investor', 'and', 'may', 'have', 'an', 'adverse', 'impact', 'on', 'the', 'financial', 'return', 'of', 'an', 'investment', 'linked', 'to', 'the', 'index', 'index', 'disruption', 'events', 'where', 'in', 'the', 'determination', 'of', 'the', 'index', 'calculation', 'agent', 'an', 'index', 'disruption', 'event', 'has', 'occurred', 'or', 'is', 'existing', 'and', 'subsisting', 'in', 'respect', 'of', 'any', 'index', 'calculation', 'day', 'a', 'disrupted', 'day', 'the', 'index', 'calculation', 'agent', 'may', 'in', 'respect', 'of', 'such', 'disrupted', 'day', 'i', 'suspend', 'the', 'calculation', 'and', 'publication', 'of', 'the', 'index', 'value', 'ii', 'determine', 'the', 'index', 'value', 'on', 'the', 'basis', 'of', 'estimated', 'or', 'adjusted', 'data', 'and', 'publish', 'an', 'estimated', 'level', 'of', 'the', 'index', 'value', 'and/or', 'iii', 'take', 'any', 'other', 'action', 'including', 'but', 'not', 'limited', 'to', 'designation', 'of', 'alternative', 'price', 'sources', 'reconstitution', 'of', 'the', 'index', 'or', 'temporary', 'close-out', 'of', 'option', 'positions', 'any', 'such', 'action', 'could', 'have', 'an', 'adverse', 'impact', 'on', 'the', 'financial', 'return', 'of', 'an', 'investment', 'linked', 'to', 'the', 'index', 'strategy', 'specific', 'risks', 'potential', 'losses', 'from', 'incorrect', 'forecasting', 'by', 'the', 'indicators', 'the', 'index', 'references', 'two', 'indicators', 'one', 'from', 'the', 'credit', 'markets', 'and', 'one', 'from', 'equities', 'markets', 'activation', 'of', 'either', 'of', 'which', 'causes', 'the', 'index', 'to', 'deduce', 'potential', 'market', 'stress', 'if', 'either', 'indicator', 'is', 'activated', 'the', 'index', 'takes', 'a', 'notional', 'short', 'position', 'in', 'the', 'equity', 'futures', 'basket', 'this', 'notional', 'exposure', 'may', 'result', 'in', 'a', 'negative', 'performance', 'for', 'the', 'index', 'if', 'the', 'level', 'of', 'the', 'equity', 'futures', 'basket', 'is', 'higher', 'than', 'the', 'level', 'at', 'which', 'it', 'was', 'notionally', 'sold', 'the', 'larger', 'this', 'rise', 'the', 'higher', 'the', 'expected', 'fall', 'in', 'the', 'value', 'of', 'the', 'index', 'conversely', 'the', 'indicators', 'may', 'fail', 'to', 'predict', 'market', 'stress', 'and', 'thereby', 'fail', 'to', 'protect', 'against', 'a', 'fall', 'in', 'the', 'equity', 'futures', 'basket', 'in', 'particular', 'circumstances', 'where', 'this', 'may', 'occur', 'include', 'market', 'crashes', 'caused', 'by', 'natural', 'disasters', 'such', 'as', 'earthquakes', 'if', 'neither', 'indicator', 'is', 'activated', 'the', 'index', 'takes', 'a', 'notional', 'long', 'position', 'in', 'the', 'equity', 'futures', 'basket', 'this', 'notional', 'exposure', 'may', 'result', 'in', 'a', 'negative', 'performance', 'for', 'the', 'index', 'if', 'the', 'level', 'of', 'the', 'equity', 'futures', 'basket', 'is', 'lower', 'than', 'the', 'level', 'at', 'which', 'it', 'was', 'notionally', 'bought', 'the', 'larger', 'this', 'fall', 'the', 'higher', 'the', 'expected', 'fall', 'in', 'the', 'value', 'of', 'the', 'index', 'potential', 'losses', 'from', 'market', 'timing', 'of', 'the', 'equities', 'position', 'in', 'accordance', 'with', 'the', 'two', 'indicators', 'the', 'index', 'will', 'take', 'a', 'short', 'position', 'in', 'the', 'equity', 'futures', 'basket', 'in', 'times', 'of', 'high', 'market', 'risk', 'however', 'this', 'short', 'position', 'may', 'not', 'be', 'activated', 'in', 'time', 'for', 'a', 'potential', 'crash', 'in', 'the', 'equity', 'futures', 'basket', 'and/or', 'the', 'short', 'position', 'itself', 'may', 'result', 'in', 'a', 'loss', 'should', 'the', 'equity', 'futures', 'basket', 'subsequently', 'rise', 'in', 'value', 'in', 'accordance', 'with', 'the', 'two', 'indicators', 'the', 'index', 'will', 'take', 'a', 'long', 'position', 'in', 'the', 'equity', 'futures', 'basket', 'in', 'times', 'of', 'low', 'market', 'risk', 'however', 'this', 'long', 'position', 'may', 'not', 'be', 'activated', 'in', 'time', 'for', 'a', 'potential', 'increase', 'in', 'value', 'of', 'the', 'equity', 'futures', 'basket', 'and/or', 'the', 'long', 'position', 'itself', 'may', 'result', 'in', 'a', 'loss', 'should', 'the', 'equity', 'futures', 'basket', 'subsequently', 'fall', 'in', 'value', 'potential', 'losses', 'from', 'fluctuations', 'in', 'the', 'foreign', 'exchange', 'markets', 'while', 'the', 'index', 'is', 'denominated', 'in', 'one', 'currency', 'it', 'may', 'have', 'a', 'notional', 'exposure', 'to', 'instruments', 'denominated', 'in', 'another', 'currency', 'when', 'this', 'occurs', 'the', 'index', 'is', 'exposed', 'to', 'any', 'fluctuations', 'in', 'the', 'foreign', 'exchange', 'rate', 'between', 'the', 'currency', 'of', 'the', 'relevant', 'instrument', 'and', 'the', 'currency', 'of', 'the', 'index', 'these', 'fluctuations', 'may', 'affect', 'the', 'index', 'performance', 'either', 'positively', 'or', 'negatively', 'use', 'of', 'proprietary', 'model', 'certain', 'determinations', 'in', 'respect', 'of', 'the', 'index', 'rely', 'on', 'a', 'proprietary', 'model', 'developed', 'by', 'credit', 'suisse', 'for', 'example', 'the', 'calculation', 'of', 'the', 'two', 'indictors', 'which', 'determine', 'when', 'to', 'take', 'a', 'short', 'position', 'in', 'the', 'equity', 'futures', 'basket', 'this', 'model', 'is', 'not', 'the', 'only', 'model', 'that', 'may', 'reasonably', 'be', 'used', 'and', 'may', 'be', 'different', 'to', 'models', 'developed', 'by', 'either', 'investors', 'or', 'other', 'market', 'participants', 'potential', 'conflicts', 'of', 'interest', 'credit', 'suisse', 'expects', 'to', 'engage', 'in', 'trading', 'activities', 'related', 'to', 'the', 'volatility', 'of', 'the', 's', 'p', '500', 'index', 'whose', 'volatility', 'is', 'used', 'to', 'calculate', 'one', 'of', 'the', 'risk', 'indicators', 'for', 'the', 'index', 'as', 'part', 'of', 'and', 'during', 'the', 'course', 'of', 'its', 'normal', 'business', 'for', 'both', 'proprietary', 'accounts', 'and/or', 'in', 'client', 'related', 'transactions', 'such', 'trading', 'activities', 'may', 'involve', 'the', 'sale', 'or', 'purchase', 'of', 'derivative', 'financial', 'instruments', 'these', 'trading', 'activities', 'may', 'present', 'a', 'conflict', 'between', 'the', 'interests', 'of', 'investors', 'with', 'exposure', 'to', 'the', 'index', 'and', 'credit', 'suisse’s', 'own', 'interests', 'these', 'trading', 'activities', 'may', 'have', 'an', 'adverse', 'effect', 'on', 'the', 'performance', 'of', 'the', 'index', 'trading', 'and', 'other', 'transactions', 'by', 'credit', 'suisse', 'in', 'the', 'volatility', 'markets', 'may', 'also', 'affect', 'the', 'calculation', 'of', 'the', 'risk', 'indicator', 'and', 'therefore', 'affect', 'the', 'performance', 'of', 'the', 'index', 'credit', 'suisse', 'may', 'hedge', 'its', 'obligations', 'under', 'any', 'investments', 'linked', 'to', 'the', 'index', 'by', 'buying', 'or', 'selling', 'equity', 'derivative', 'securities', 'linked', 'to', 'the', 'underlying', 'equity', 'indices', 'although', 'they', 'are', 'not', 'expected', 'to', 'any', 'of', 'these', 'hedging', 'activities', 'may', 'adversely', 'affect', 'the', 'market', 'price', 'of', 'such', 'security', 'and', 'therefore', 'the', 'performance', 'of', 'the', 'index', 'it', 'is', 'possible', 'that', 'credit', 'suisse', 'could', 'receive', 'substantial', 'returns', 'from', 'these', 'hedging', 'activities', 'while', 'the', 'performance', 'of', 'the', 'index', 'declines', 'credit', 'suisse', 'may', 'also', 'engage', 'in', 'trading', 'equity', 'derivatives', 'securities', 'in', 'this', 'underlying', 'equity', 'index', 'on', 'a', 'regular', 'basis', 'as', 'part', 'of', 'its', 'general', 'broker-dealer', 'and', 'other', 'businesses', 'for', 'proprietary', 'accounts', 'for', 'other', 'accounts', 'under', 'management', 'or', 'to', 'facilitate', 'transactions', 'for', 'customers', 'any', 'of', 'these', 'activities', 'could', 'adversely', 'affect', 'the', 'market', 'price', 'of', 'such', 'security', 'and', 'therefore', 'the', 'performance', 'of', 'the', 'index', 'credit', 'suisse', 'may', 'have', 'and', 'in', 'the', 'future', 'may', 'publish', 'research', 'reports', 'with', 'respect', 'to', 'equities', 'which', 'may', 'express', 'opinions', 'or', 'provide', 'recommendations', 'that', 'either', 'support', 'or', 'are', 'inconsistent', 'with', 'investments', 'in', 'the', 'index', 'linked', 'products', 'or', 'investments', 'made', 'by', 'the', 'index', 'strategy', 'this', 'research', 'should', 'not', 'be', 'viewed', 'as', 'a', 'recommendation', 'or', 'endorsement', 'of', 'the', 'index', 'in', 'any', 'way', 'and', 'investors', 'must', 'make', 'their', 'own', 'independent', 'investigation', 'of', 'the', 'merits', 'of', 'this', 'investment', 'credit', 'suisse', 'serves', 'as', 'the', 'calculation', 'agent', 'for', 'the', 'index', 'credit', 'suisse', 'will', 'among', 'other', 'things', 'and', 'in', 'accordance', 'with', 'the', 'index', 'rules', 'decide', 'the', 'value', 'of', 'the', 'index', 'in', 'respect', 'of', 'any', 'index', 'calculation', 'day', 'and', 'this', 'may', 'affect', 'the', 'amount', 'paid', 'out', 'to', 'you', 'on', 'any', 'investment', 'linked', 'to', 'the', 'index', 'the', 'index', 'levels', 'are', 'in', 'accordance', 'with', 'the', 'index', 'rules', 'calculated', 'and', 'published', 'by', 'credit', 'suisse', 'with', 'reference', 'to', 'its', 'proprietary', 'model', 'for', 'calculating', 'option', 'prices', 'such', 'a', 'proprietary', 'model', 'is', 'also', 'used', 'for', 'the', 'indicators', 'used', 'to', 'determine', 'when', 'a', 'long', 'or', 'short', 'position', 'is', 'established', 'these', 'proprietary', 'models', 'use', 'inputs', 'set', 'by', 'a', 'trader', 'who', 'is', 'responsible', 'for', 'the', 'bank’s', 'trading', 'activities', 'in', 'respect', 'of', 'the', 'relevant', 'underlying', 'asset', 'this', 'trader', 'is', 'likely', 'to', 'be', 'the', 'same', 'individual', 'who', 'manages', 'the', 'hedge', 'on', 'behalf', 'of', 'credit', 'suisse', 'for', 'any', 'external', 'investments', 'in', 'index', 'linked', 'products', 'this', 'poses', 'a', 'potential', 'conflict', 'of', 'interest', 'the', 'internal', 'control', 'framework', 'of', 'credit', 'suisse', 'provides', 'supervision', 'and', 'oversight', 'of', 'the', 'parameters', 'set', 'by', 'the', 'trader', 'with', 'respect', 'to', 'any', 'of', 'the', 'activities', 'described', 'above', 'credit', 'suisse', 'does', 'not', 'have', 'any', 'obligation', 'to', 'take', 'the', 'needs', 'of', 'any', 'investor', 'in', 'index', 'linked', 'products', 'into', 'consideration', 'at', 'any', 'time', 'and', 'may', 'resolve', 'conflicts', 'of', 'interest', 'in', 'its', 'own', 'favour']}\n"
     ]
    }
   ],
   "source": [
    "#check that we can read the data\n",
    "data = pickle.load(open('contents_by_isin.pickle', 'rb'))\n",
    "first_pairs = {k : data[k] for k in list(data.keys())[:1]}\n",
    "print(first_pairs)"
   ]
  },
  {
   "cell_type": "code",
   "execution_count": null,
   "metadata": {
    "collapsed": true
   },
   "outputs": [],
   "source": []
  }
 ],
 "metadata": {
  "kernelspec": {
   "display_name": "Python 3",
   "language": "python",
   "name": "python3"
  },
  "language_info": {
   "codemirror_mode": {
    "name": "ipython",
    "version": 3
   },
   "file_extension": ".py",
   "mimetype": "text/x-python",
   "name": "python",
   "nbconvert_exporter": "python",
   "pygments_lexer": "ipython3",
   "version": "3.5.1"
  }
 },
 "nbformat": 4,
 "nbformat_minor": 0
}
