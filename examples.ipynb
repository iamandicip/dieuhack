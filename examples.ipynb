{
 "cells": [
  {
   "cell_type": "markdown",
   "metadata": {},
   "source": [
    "Exampes\n",
    "----------\n",
    "\n",
    "1- Importation of the label and use of the label class to hold all the labels.\n",
    "\n",
    "The label class is a dict, each key is a isin, the values are list of data ofr each label. The header variable list the name of each of the data in the list."
   ]
  },
  {
   "cell_type": "code",
   "execution_count": 1,
   "metadata": {
    "collapsed": false
   },
   "outputs": [
    {
     "name": "stdout",
     "output_type": "stream",
     "text": [
      "['fileId', 'NOMINAL.CURR', 'MIN.TRAD.AMT', 'MULT.TRAD.AMT', 'ZERO.COUPN.FLAG', 'SEC.SUB.ID', 'FUNG.FL', 'OpCurrency', 'issuerName', 'issuerCity', 'issuerCountry', 'guarantorName', 'guarantorCity', 'guarantorCountry', 'City.Id', 'City.Name']\n"
     ]
    }
   ],
   "source": [
    "from code.Labels import label\n",
    "import copy\n",
    "\n",
    "# path\n",
    "data0='../data_0'\n",
    "data1='../data_1'\n",
    "\n",
    "# Create a label object and polulate it with the label and cites.cvs file in the folder provided\n",
    "labels=label.from_cvs(data0)\n",
    "# the label of each data is display upon loading"
   ]
  },
  {
   "cell_type": "code",
   "execution_count": 2,
   "metadata": {
    "collapsed": false
   },
   "outputs": [
    {
     "name": "stdout",
     "output_type": "stream",
     "text": [
      "['fileId', 'NOMINAL.CURR', 'MIN.TRAD.AMT', 'MULT.TRAD.AMT', 'ZERO.COUPN.FLAG', 'SEC.SUB.ID', 'FUNG.FL', 'OpCurrency', 'issuerName', 'issuerCity', 'issuerCountry', 'guarantorName', 'guarantorCity', 'guarantorCountry', 'City.Id', 'City.Name']\n"
     ]
    }
   ],
   "source": [
    "# These labels are store in .header:\n",
    "print labels.header"
   ]
  },
  {
   "cell_type": "code",
   "execution_count": 3,
   "metadata": {
    "collapsed": false
   },
   "outputs": [
    {
     "data": {
      "text/plain": [
       "[['0900045c83153b04', '0900045c83153b05', '0900045c83153b03'],\n",
       " 'USD',\n",
       " '2,000',\n",
       " '1,000',\n",
       " 'N',\n",
       " 'USUB',\n",
       " 'N',\n",
       " 'USD',\n",
       " 'DEUTSCHE BANK AG, GREAT WINCHE',\n",
       " 'LONDON',\n",
       " 'GERMANY',\n",
       " '',\n",
       " '',\n",
       " '',\n",
       " ['LONDO', 'NEW Y', 'LONDO', 'NEW Y', 'LONDO', 'NEW Y'],\n",
       " ['LONDON', 'NEW YORK', 'LONDON', 'NEW YORK', 'LONDON', 'NEW YORK']]"
      ]
     },
     "execution_count": 3,
     "metadata": {},
     "output_type": "execute_result"
    }
   ],
   "source": [
    "# you can access any isin directly:\n",
    "# one one label can have many values, a list is used.\n",
    "labels.get_isin('XS0461354663')"
   ]
  },
  {
   "cell_type": "code",
   "execution_count": 4,
   "metadata": {
    "collapsed": false
   },
   "outputs": [
    {
     "data": {
      "text/plain": [
       "['0900045c83153b04', '0900045c83153b05', '0900045c83153b03']"
      ]
     },
     "execution_count": 4,
     "metadata": {},
     "output_type": "execute_result"
    }
   ],
   "source": [
    "# you can also requirer a specific value:\n",
    "labels.get_isin('XS0461354663',label='fileId')"
   ]
  },
  {
   "cell_type": "code",
   "execution_count": 5,
   "metadata": {
    "collapsed": false
   },
   "outputs": [
    {
     "name": "stdout",
     "output_type": "stream",
     "text": [
      "['XS1231203701', 'XS1275964507', 'XS1051380837', 'XS1051345681', 'XS1051376991', 'XS1233733911', 'XS1051370796', 'XS1051370010', 'XS1274660338', 'XS1051368204']\n"
     ]
    }
   ],
   "source": [
    "# or list all the isin with the value you want:\n",
    "val=labels.get_from_field('issuerName', 'DEUTSCHE BANK AG, GREAT WINCHE')\n",
    "print val[:10] # only show the 10 first."
   ]
  },
  {
   "cell_type": "code",
   "execution_count": 6,
   "metadata": {
    "collapsed": false
   },
   "outputs": [],
   "source": [
    "# for the mining, we need the relation between the isin and the filename, this can be extracted from\n",
    "# the imported data.\n",
    "# lets create a new set where the data we mine can be put but where the isin/ filename relation is provided:\n",
    "data=copy.deepcopy(labels) # new set\n",
    "data.empty() # remove all other data but the isin/filename"
   ]
  },
  {
   "cell_type": "code",
   "execution_count": 7,
   "metadata": {
    "collapsed": false
   },
   "outputs": [
    {
     "name": "stdout",
     "output_type": "stream",
     "text": [
      "\n",
      "total number of set compared: 1200\n",
      "total number of missing set: 0\n",
      "total number of errors for each index: [ 1200.]\n",
      "error %: [ 100.]\n"
     ]
    }
   ],
   "source": [
    "# now we can compare the values of the fields, here let's compare the 'NOMINAL.CURR' filed which has the index 1.\n",
    "data.evaluate([1],labels,printerr=False)"
   ]
  },
  {
   "cell_type": "code",
   "execution_count": 8,
   "metadata": {
    "collapsed": false
   },
   "outputs": [],
   "source": [
    "# of course all is wrong because I put nothing in these field ...\n",
    "# use printerr= True to see thes errors..."
   ]
  },
  {
   "cell_type": "code",
   "execution_count": 9,
   "metadata": {
    "collapsed": false
   },
   "outputs": [],
   "source": [
    "# Split the set into two sets:\n",
    "data1,data2 = labels.divide(0.75)"
   ]
  },
  {
   "cell_type": "code",
   "execution_count": 10,
   "metadata": {
    "collapsed": false
   },
   "outputs": [
    {
     "name": "stdout",
     "output_type": "stream",
     "text": [
      "1200\n",
      "900\n",
      "300\n"
     ]
    }
   ],
   "source": [
    "print len(labels)\n",
    "print len(data1)\n",
    "print len(data2)"
   ]
  },
  {
   "cell_type": "code",
   "execution_count": null,
   "metadata": {
    "collapsed": false
   },
   "outputs": [],
   "source": []
  },
  {
   "cell_type": "markdown",
   "metadata": {},
   "source": [
    "2- read text\n",
    "----------------"
   ]
  },
  {
   "cell_type": "code",
   "execution_count": 1,
   "metadata": {
    "collapsed": false
   },
   "outputs": [
    {
     "name": "stdout",
     "output_type": "stream",
     "text": [
      "The PythonMagick package is missing, get_text_adv function can not be used \n"
     ]
    }
   ],
   "source": [
    "from code import text_reader as tr\n",
    "# if put some code to read and process text in text_reader"
   ]
  },
  {
   "cell_type": "code",
   "execution_count": null,
   "metadata": {
    "collapsed": false
   },
   "outputs": [],
   "source": [
    "# let read all the files in html and process them...\n",
    "# this does nothing but read all the files, use it as template...\n",
    "\n",
    "folder='../data_0/html'\n",
    "files=tr.get_files(folder)\n",
    "\n",
    "for isin in data: # for each isin in the data object created before\n",
    "    f=data[isin][0] # get the file_ids\n",
    "    for item in f: # for each of these files\n",
    "        # get the txt.\n",
    "        txt=tr.clean_text(tr.get_text(files[item]))\n",
    "        \n",
    "        for s in tr.split_text(txt):   # split into sentences.     \n",
    "            # do some process ....\n",
    "            pass \n",
    "        \n",
    "    # add the results to data: \n",
    "    # eg add an issuer for the current isin:\n",
    "    # data[isin][8]= result"
   ]
  },
  {
   "cell_type": "code",
   "execution_count": 15,
   "metadata": {
    "collapsed": false
   },
   "outputs": [],
   "source": []
  },
  {
   "cell_type": "code",
   "execution_count": 15,
   "metadata": {
    "collapsed": false
   },
   "outputs": [],
   "source": []
  },
  {
   "cell_type": "code",
   "execution_count": null,
   "metadata": {
    "collapsed": false
   },
   "outputs": [],
   "source": []
  }
 ],
 "metadata": {
  "kernelspec": {
   "display_name": "Python 2",
   "language": "python",
   "name": "python2"
  },
  "language_info": {
   "codemirror_mode": {
    "name": "ipython",
    "version": 2
   },
   "file_extension": ".py",
   "mimetype": "text/x-python",
   "name": "python",
   "nbconvert_exporter": "python",
   "pygments_lexer": "ipython2",
   "version": "2.7.11"
  }
 },
 "nbformat": 4,
 "nbformat_minor": 0
}
