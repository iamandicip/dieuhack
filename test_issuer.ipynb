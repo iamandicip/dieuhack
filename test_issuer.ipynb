{
 "cells": [
  {
   "cell_type": "code",
   "execution_count": 1,
   "metadata": {
    "collapsed": true
   },
   "outputs": [],
   "source": [
    "from code.Labels import label\n",
    "import copy"
   ]
  },
  {
   "cell_type": "code",
   "execution_count": 2,
   "metadata": {
    "collapsed": false
   },
   "outputs": [
    {
     "name": "stdout",
     "output_type": "stream",
     "text": [
      "['fileId', 'NOMINAL.CURR', 'MIN.TRAD.AMT', 'MULT.TRAD.AMT', 'ZERO.COUPN.FLAG', 'SEC.SUB.ID', 'FUNG.FL', 'OpCurrency', 'issuerName', 'issuerCity', 'issuerCountry', 'guarantorName', 'guarantorCity', 'guarantorCountry', 'City.Id', 'City.Name']\n"
     ]
    }
   ],
   "source": [
    "# path\n",
    "data0='../data_0'\n",
    "data1='../data_1'\n",
    "labels=label.from_cvs(data0)"
   ]
  },
  {
   "cell_type": "code",
   "execution_count": 14,
   "metadata": {
    "collapsed": false
   },
   "outputs": [
    {
     "data": {
      "text/plain": [
       "[['0900045c83c217f8'],\n",
       " 'EUR',\n",
       " '0',\n",
       " '1,000',\n",
       " 'Y',\n",
       " 'USUB',\n",
       " 'N',\n",
       " 'EUR',\n",
       " 'BNP PARIBAS ARBITRAGE ISSUANCE',\n",
       " 'AMSTERDAM',\n",
       " 'NETHERLANDS',\n",
       " 'BNP PARIBAS SA',\n",
       " 'PARIS',\n",
       " 'FRANCE',\n",
       " ['TARG1'],\n",
       " ['TARGET HOLIDAYS']]"
      ]
     },
     "execution_count": 14,
     "metadata": {},
     "output_type": "execute_result"
    }
   ],
   "source": [
    "labels.get_isin('XS1293140015')"
   ]
  },
  {
   "cell_type": "code",
   "execution_count": 4,
   "metadata": {
    "collapsed": false
   },
   "outputs": [
    {
     "data": {
      "text/plain": [
       "[1, 2, 3, 4, 7, 8, 9, 10, 11, 12, 13, 14, 15]"
      ]
     },
     "execution_count": 4,
     "metadata": {},
     "output_type": "execute_result"
    }
   ],
   "source": [
    "# data we need to extract:\n",
    "# NOMINAL.CURR, 'MIN.TRAD.AMT', 'MULT.TRAD.AMT', 'ZERO.COUPN.FLAG', 'OpCurrency', 'issuerName', 'issuerCity', 'issuerCountry', \n",
    "#'guarantorName', 'guarantorCity', 'guarantorCountry', 'City.Id', 'City.Name'\n",
    "needed=[1,2,3,4]\n",
    "needed.extend(range(7,16))\n",
    "needed"
   ]
  },
  {
   "cell_type": "code",
   "execution_count": 5,
   "metadata": {
    "collapsed": false
   },
   "outputs": [
    {
     "name": "stdout",
     "output_type": "stream",
     "text": [
      "\n",
      "total number of set compared: 1200\n",
      "total number of missing set: 0\n",
      "total number of errors for each index: [ 1200.]\n",
      "error %: [ 100.]\n"
     ]
    }
   ],
   "source": [
    "labels=label.from_cvs(data0)\n",
    "data=copy.deepcopy(labels)\n",
    "data.empty()\n",
    "data.evaluate([1],labels,printerr=False)"
   ]
  },
  {
   "cell_type": "code",
   "execution_count": 8,
   "metadata": {
    "collapsed": false
   },
   "outputs": [],
   "source": [
    "import html2text\n",
    "import StringIO\n",
    "import re\n",
    "import os\n",
    "\n",
    "def get_text(filename, raw=False):\n",
    "    \n",
    "    assert os.path.isfile(filename)\n",
    "    \n",
    "    if raw:\n",
    "        with open(filename,'r') as f:\n",
    "            result=f.read().decode('ascii',errors='ignore')\n",
    "        return result\n",
    "    else:\n",
    "        with open(filename,'r') as f:\n",
    "            data=f.read().decode('ascii',errors='ignore')\n",
    "        return html2text.html2text(pre_html(data))\n",
    "    \n",
    "def get_docts(folder, raw=False):\n",
    "    assert os.path.isdir(folder)\n",
    "    \n",
    "    for f in os.listdir(folder):\n",
    "        yield clean_text(get_text(os.path.join(folder,f),raw))\n",
    "        \n",
    "  \n",
    "def pre_html(text):\n",
    "    text=text.replace('</tr>','.</tr>')\n",
    "    text=text.replace('</p>','.</p>')\n",
    "    \n",
    "    return text\n",
    "        \n",
    "def clean_text(text):\n",
    "    #text=text.replace('Issuer','issuer')\n",
    "    #text=text.replace('Dealer','dealer')\n",
    "    #text=text.replace('Holder','holder')\n",
    "    #text=text.replace('Notes','notes')\n",
    "    \n",
    "    text=text.replace('*','')\n",
    "    text=text.replace('#','')\n",
    "    text = re.sub(r'\\.[\\.\\s]+',r'.\\n\\n',text) # take care of multiple points\n",
    "    text = re.sub(r'(\\n)*(\\s)*\\|+(\\s)*(\\n)*',r'',text) # clean any '|' with space en return around \n",
    "    text=re.sub(r'--+',r'',text) # remove ----- character\n",
    "    text = re.sub(r'[\\s\\.]*:[\\s\\.]*',r': ',text) # be sure tho have space around the column (:)\n",
    "    text =re.sub(r'\\n\\s*[1-9ivx\\)\\(]+\\s',r'\\n\\g<0>. ',text)\n",
    "    return text\n",
    "\n",
    "def split_text(text):\n",
    "    '''\n",
    "    Split the text into sentences.\n",
    "    '''\n",
    "    return re.split(r'(?<!\\w\\.\\w.)(?<![A-Z][a-z]\\.)(?<=\\.|\\?)\\s',text)"
   ]
  },
  {
   "cell_type": "code",
   "execution_count": null,
   "metadata": {
    "collapsed": false
   },
   "outputs": [],
   "source": []
  },
  {
   "cell_type": "code",
   "execution_count": null,
   "metadata": {
    "collapsed": false
   },
   "outputs": [],
   "source": []
  },
  {
   "cell_type": "code",
   "execution_count": 497,
   "metadata": {
    "collapsed": false
   },
   "outputs": [
    {
     "name": "stdout",
     "output_type": "stream",
     "text": [
      "sff sdfse. esfse . egsef 11314.32,34 sdfs. qsd U.S.A. qfqfQDDS .\n",
      "\n",
      "['sff sdfse.', 'esfse .', 'egsef 11314.32,34 sdfs.', 'qsd U.S.A. qfqfQDDS .']\n"
     ]
    }
   ],
   "source": [
    "text='sff sdfse. esfse . egsef 11314.32,34 sdfs. qsd U.S.A. qfqfQDDS .'\n",
    "print text\n",
    "print\n",
    "print re.split(r'(?<!\\w\\.\\w.)(?<![A-Z][a-z]\\.)(?<=\\.|\\?)\\s',text)"
   ]
  },
  {
   "cell_type": "code",
   "execution_count": null,
   "metadata": {
    "collapsed": false
   },
   "outputs": [],
   "source": []
  },
  {
   "cell_type": "code",
   "execution_count": 633,
   "metadata": {
    "collapsed": false
   },
   "outputs": [
    {
     "name": "stdout",
     "output_type": "stream",
     "text": [
      "sff\n",
      " 4(i) sfrf\n",
      "\n",
      "['\\n 4(i) ']\n",
      "sff\n",
      "\n",
      " 4(i) . sfrf\n"
     ]
    }
   ],
   "source": [
    "text='sff\\n 4(i) sfrf'\n",
    "print text\n",
    "print\n",
    "print re.findall(r'\\n\\s*[1-9ivx\\)\\(]+\\s',text)\n",
    "text =re.sub(r'\\n\\s*[1-9ivx\\)\\(]+\\s',r'\\n\\g<0>. ',text)\n",
    "print text"
   ]
  },
  {
   "cell_type": "code",
   "execution_count": 637,
   "metadata": {
    "collapsed": false
   },
   "outputs": [],
   "source": [
    "docs=get_docts('data_0/html/')\n",
    "docsr=get_docts('data_0/html/',raw=True)"
   ]
  },
  {
   "cell_type": "code",
   "execution_count": 638,
   "metadata": {
    "collapsed": false
   },
   "outputs": [],
   "source": [
    "txt=docs.next()\n",
    "txtr=docsr.next()"
   ]
  },
  {
   "cell_type": "code",
   "execution_count": 608,
   "metadata": {
    "collapsed": false
   },
   "outputs": [],
   "source": []
  },
  {
   "cell_type": "markdown",
   "metadata": {},
   "source": [
    "# first round, just do some patern matching on the data...\n",
    "use some key word and then match what is after this key word, will not work for all but as a first round my work quite well if the file is well structured.\n",
    "\n",
    "User the pos_ to detect the noms and ponctuation.\n"
   ]
  },
  {
   "cell_type": "code",
   "execution_count": null,
   "metadata": {
    "collapsed": false
   },
   "outputs": [],
   "source": [
    "# NOMINAL.CURR 1\n",
    "#'MIN.TRAD.AMT' 2\n",
    "# 'MULT.TRAD.AMT' 3\n",
    "#'ZERO.COUPN.FLAG' 4\n",
    "#'OpCurrency' 7\n",
    "#'issuerName' 8     issuer, agent, the one that come back the most...\n",
    "#'issuerCity' 9     though its xxx branch...\n",
    "#'issuerCountry', 10 \n",
    "#'guarantorName' 11\n",
    "#'guarantorCity' 12\n",
    "#'guarantorCountry' 13\n",
    "#'City.Id' 14\n",
    "# 'City.Name' 15"
   ]
  },
  {
   "cell_type": "code",
   "execution_count": 1,
   "metadata": {
    "collapsed": false
   },
   "outputs": [],
   "source": [
    "#print txt"
   ]
  },
  {
   "cell_type": "code",
   "execution_count": 2,
   "metadata": {
    "collapsed": false
   },
   "outputs": [],
   "source": [
    "#print txtr"
   ]
  },
  {
   "cell_type": "code",
   "execution_count": null,
   "metadata": {
    "collapsed": false
   },
   "outputs": [],
   "source": [
    "print re.sub('(\\n)*(\\s)*\\|+(\\s)*(\\n)*',' ',text)"
   ]
  },
  {
   "cell_type": "code",
   "execution_count": 29,
   "metadata": {
    "collapsed": false
   },
   "outputs": [],
   "source": [
    "import spacy\n",
    "\n",
    "# Load English tokenizer, tagger, parser, NER and word vectors\n",
    "nlp = spacy.load('en')"
   ]
  },
  {
   "cell_type": "code",
   "execution_count": 206,
   "metadata": {
    "collapsed": false
   },
   "outputs": [],
   "source": [
    "# Process a document, of any size\n",
    "doc = nlp(txt)"
   ]
  },
  {
   "cell_type": "code",
   "execution_count": 10,
   "metadata": {
    "collapsed": false
   },
   "outputs": [],
   "source": [
    "from spacy.parts_of_speech import ADP"
   ]
  },
  {
   "cell_type": "code",
   "execution_count": 12,
   "metadata": {
    "collapsed": false
   },
   "outputs": [],
   "source": [
    "t=doc[10]"
   ]
  },
  {
   "cell_type": "code",
   "execution_count": 36,
   "metadata": {
    "collapsed": false
   },
   "outputs": [],
   "source": []
  },
  {
   "cell_type": "code",
   "execution_count": 33,
   "metadata": {
    "collapsed": false
   },
   "outputs": [
    {
     "name": "stdout",
     "output_type": "stream",
     "text": [
      "0\n"
     ]
    }
   ],
   "source": [
    "print t.ent_type # the entities ..."
   ]
  },
  {
   "cell_type": "code",
   "execution_count": 31,
   "metadata": {
    "collapsed": false
   },
   "outputs": [
    {
     "name": "stdout",
     "output_type": "stream",
     "text": [
      "VBN\n"
     ]
    }
   ],
   "source": [
    "print t.tag_"
   ]
  },
  {
   "cell_type": "code",
   "execution_count": 21,
   "metadata": {
    "collapsed": false
   },
   "outputs": [
    {
     "name": "stdout",
     "output_type": "stream",
     "text": [
      "link\n"
     ]
    }
   ],
   "source": [
    "print t.lemma_ # the lemme, i.e the root word of the word."
   ]
  },
  {
   "cell_type": "code",
   "execution_count": 18,
   "metadata": {
    "collapsed": false
   },
   "outputs": [
    {
     "name": "stdout",
     "output_type": "stream",
     "text": [
      "9480 compound\n"
     ]
    }
   ],
   "source": [
    "print t.dep,t.dep_"
   ]
  },
  {
   "cell_type": "code",
   "execution_count": 17,
   "metadata": {
    "collapsed": false
   },
   "outputs": [
    {
     "name": "stdout",
     "output_type": "stream",
     "text": [
      "VERB\n",
      "Linked\n"
     ]
    }
   ],
   "source": [
    "print t.pos_ # part of speech\n",
    "print t"
   ]
  },
  {
   "cell_type": "code",
   "execution_count": 35,
   "metadata": {
    "collapsed": false
   },
   "outputs": [],
   "source": [
    "ents = list(doc.ents)\n",
    "sents=doc.sents"
   ]
  },
  {
   "cell_type": "code",
   "execution_count": null,
   "metadata": {
    "collapsed": false
   },
   "outputs": [],
   "source": [
    "s=sents.next()\n",
    "print s\n",
    "print ''"
   ]
  },
  {
   "cell_type": "code",
   "execution_count": 35,
   "metadata": {
    "collapsed": false
   },
   "outputs": [
    {
     "data": {
      "text/plain": [
       "u'12 May 2015.\\n\\nDeutsche Bank AG Frankfurt GTO/ CTAS Operations Postbox.\\n\\n\\n65755 . Eschborn Germany.\\n\\nFax: 00 49 69 910 43242.\\n\\nAttenti on: _Common Depository_ Number of Pages: 1.\\n\\nDear Sirs,.\\n\\nDescription Deutsche Bank AG London Floored Floater Note.\\n\\nISIN.\\n\\nCommon Code.\\n\\nXS0461354663 000046135466.\\n\\nPlease deliver USO 1,621,000 Notes from CTAS 68514 into EOC 91255 Delivery\\nVersus Payment.\\n\\nProceeds of USO 1,621,000 to be paid to Treasury account with\\nthe below settlement details value 11.05.2015.\\n\\nUSO.\\n\\nDeutsche Bank Trust Co Americas,New York (Swift Code: BKTRUS33) in favour of\\naccount 04-411-739 DB London (Swift Code: DEUTGB2L).\\n\\nTotal Amount Initial Value Date.\\n\\nUp to 50,000,000 Notes.\\n\\n11May 2015.\\n\\nYours faithfully ,.\\n\\nFor and on behalf of.\\n\\nDEUTSCHE BANK AG LONDON.\\n\\nBy: _JI;//.\\n\\nName: / Title: By: _/ .,.P.\\n\\n_,_.\\n\\nName: Title: Christian Wandrei.\\n\\nAnica Gierschek.\\n\\n'"
      ]
     },
     "execution_count": 35,
     "metadata": {},
     "output_type": "execute_result"
    }
   ],
   "source": [
    "txt"
   ]
  },
  {
   "cell_type": "code",
   "execution_count": 550,
   "metadata": {
    "collapsed": false
   },
   "outputs": [],
   "source": []
  },
  {
   "cell_type": "code",
   "execution_count": 33,
   "metadata": {
    "collapsed": false
   },
   "outputs": [
    {
     "name": "stdout",
     "output_type": "stream",
     "text": [
      "12 May 2015.\n",
      "########################\"\"\"########################\n",
      "\n",
      "Deutsche Bank AG Frankfurt GTO/ CTAS Operations Postbox.\n",
      "########################\"\"\"########################\n",
      "\n",
      "\n",
      "65755 .\n",
      "########################\"\"\"########################\n",
      "Eschborn Germany.\n",
      "########################\"\"\"########################\n",
      "\n",
      "Fax: 00 49 69 910 43242.\n",
      "########################\"\"\"########################\n",
      "\n",
      "Attenti on: _Common Depository_ Number of Pages: 1.\n",
      "########################\"\"\"########################\n",
      "\n",
      "Dear Sirs,.\n",
      "########################\"\"\"########################\n",
      "\n",
      "Description Deutsche Bank AG London Floored Floater Note.\n",
      "########################\"\"\"########################\n",
      "\n",
      "ISIN.\n",
      "########################\"\"\"########################\n",
      "\n",
      "Common Code.\n",
      "########################\"\"\"########################\n",
      "\n",
      "XS0461354663 000046135466.\n",
      "########################\"\"\"########################\n",
      "\n",
      "Please deliver USO 1,621,000 Notes from CTAS 68514 into EOC 91255 Delivery\n",
      "Versus Payment.\n",
      "########################\"\"\"########################\n",
      "\n",
      "Proceeds of USO 1,621,000 to be paid to Treasury account with\n",
      "the below settlement details value 11.05.2015.\n",
      "########################\"\"\"########################\n",
      "\n",
      "USO.\n",
      "########################\"\"\"########################\n",
      "\n",
      "Deutsche Bank Trust Co Americas,New York (Swift Code: BKTRUS33) in favour of\n",
      "account 04-411-739 DB London (Swift Code: DEUTGB2L).\n",
      "########################\"\"\"########################\n",
      "\n",
      "Total Amount Initial Value Date.\n",
      "########################\"\"\"########################\n",
      "\n",
      "Up to 50,000,000 Notes.\n",
      "########################\"\"\"########################\n",
      "\n",
      "11May 2015.\n",
      "########################\"\"\"########################\n",
      "\n",
      "Yours faithfully ,.\n",
      "########################\"\"\"########################\n",
      "\n",
      "For and on behalf of.\n",
      "########################\"\"\"########################\n",
      "\n",
      "DEUTSCHE BANK AG LONDON.\n",
      "########################\"\"\"########################\n",
      "\n",
      "By: _JI;//.\n",
      "########################\"\"\"########################\n",
      "\n",
      "Name: / Title: By: _/ .,.P.\n",
      "########################\"\"\"########################\n",
      "\n",
      "_,_.\n",
      "########################\"\"\"########################\n",
      "\n",
      "Name: Title: Christian Wandrei.\n",
      "########################\"\"\"########################\n",
      "\n",
      "Anica Gierschek.\n",
      "########################\"\"\"########################\n",
      "\n",
      "\n",
      "########################\"\"\"########################\n"
     ]
    }
   ],
   "source": [
    "for s in split_text(txt):\n",
    "    print s\n",
    "    print '########################\"\"\"########################'"
   ]
  },
  {
   "cell_type": "code",
   "execution_count": 27,
   "metadata": {
    "collapsed": false
   },
   "outputs": [],
   "source": [
    "docs=get_docts('data_0/html/')\n",
    "docsr=get_docts('data_0/html/',raw=True)"
   ]
  },
  {
   "cell_type": "code",
   "execution_count": 31,
   "metadata": {
    "collapsed": false
   },
   "outputs": [],
   "source": [
    "for x in xrange(0,5):\n",
    "    txt=docs.next()\n",
    "    #doc = nlp(txt)"
   ]
  },
  {
   "cell_type": "code",
   "execution_count": 30,
   "metadata": {
    "collapsed": false
   },
   "outputs": [],
   "source": []
  },
  {
   "cell_type": "code",
   "execution_count": 30,
   "metadata": {
    "collapsed": false
   },
   "outputs": [],
   "source": []
  },
  {
   "cell_type": "code",
   "execution_count": 30,
   "metadata": {
    "collapsed": false
   },
   "outputs": [],
   "source": []
  },
  {
   "cell_type": "code",
   "execution_count": 32,
   "metadata": {
    "collapsed": false
   },
   "outputs": [
    {
     "name": "stdout",
     "output_type": "stream",
     "text": [
      "[]\n"
     ]
    }
   ],
   "source": [
    "    issuer=[]\n",
    "    tmp=None\n",
    "    #for s in doc.sents:\n",
    "    for s in split_text(txt): \n",
    "        if re.search(r'.*issuer[\\s\\n]*:.*', s.lower()):\n",
    "        #if 'issuer' in s.lower():\n",
    "            print '-----'\n",
    "            print s\n",
    "            print '-----'\n",
    "            ss=nlp(s)\n",
    "            res={}\n",
    "\n",
    "            for t in ss.ents:\n",
    "                if t.label_ == 'ORG':\n",
    "                    #st=nlp(t.orth_.replace('\\n',' '))\n",
    "                    #if st[0].tag_ not in ['DT','JJ']: # the name should not start with a det or an adj.               \n",
    "                    res['name']=t.orth_.replace('\\n',' ')\n",
    "\n",
    "                if t.label_ == 'GPE':\n",
    "                    res['loc']=t.orth_.replace('\\n',' ')\n",
    "\n",
    "            if len(res)>0 and res not in issuer:\n",
    "                if not ('loc' in res and 'name' not in res):\n",
    "                    issuer.append(res)\n",
    "            print res\n",
    "\n",
    "    print issuer"
   ]
  },
  {
   "cell_type": "code",
   "execution_count": null,
   "metadata": {
    "collapsed": false
   },
   "outputs": [],
   "source": [
    "data."
   ]
  },
  {
   "cell_type": "code",
   "execution_count": 37,
   "metadata": {
    "collapsed": false
   },
   "outputs": [
    {
     "name": "stdout",
     "output_type": "stream",
     "text": [
      "[{'name': u'Shanghai Banking Corporation Limited'}]\n",
      "[{'name': u'Royal Bank of Canada'}, {'name': u'KN UN'}]\n",
      "[{'name': u'IMPORTANT NGN Advice'}]\n",
      "[{'name': u'Royal Bank of Canada'}, {'name': u'Cooperation'}]\n",
      "[]\n",
      "[]\n",
      "[]\n",
      "[{'name': u'Morgan Structured Products B.V.'}]\n",
      "[]\n",
      "[]\n",
      "[{'name': u'Morgan Structured Products B.V.'}]\n",
      "[{'name': u'Shanghai Banking Corporation Limited'}]\n",
      "[{'name': u'Morgan Structured Products B.V.'}]\n",
      "[{'name': u'Shanghai Banking Corporation Limited'}]\n",
      "[{'name': u'Goldman Sachs International'}]\n",
      "[{'name': u'FINAL'}]\n",
      "[{'name': u'HSBC Bank'}]\n",
      "[{'name': u'Morgan Structured Products B.V.'}]\n",
      "[{'name': u'Credit Suisse International'}, {'loc': u'Issuer', 'name': u'Notes'}]\n",
      "[{'name': u'Royal Bank of Canada'}]\n"
     ]
    }
   ],
   "source": [
    "for x in xrange(0,20):\n",
    "\n",
    "    txt=docs.next()\n",
    "    #doc = nlp(txt)\n",
    "\n",
    "    issuer=[]\n",
    "    for s in split_text(txt):        \n",
    "        if re.search(r'.*issuer[\\s\\n]*:.*', s.lower()):\n",
    "            ss=nlp(s.decode('utf8'))\n",
    "            res={}\n",
    "\n",
    "            for t in ss.ents:\n",
    "                if t.label_ == 'ORG':\n",
    "                    #st=nlp(t.orth_.replace('\\n',' '))\n",
    "                    #if st[0].tag_ not in ['DT','JJ']: # the name should not start with a det or an adj.               \n",
    "                    res['name']=t.orth_.replace('\\n',' ')\n",
    "\n",
    "                if t.label_ == 'GPE':\n",
    "                    res['loc']=t.orth_.replace('\\n',' ')\n",
    "\n",
    "            if len(res)>0 and res not in issuer:\n",
    "                if not ('loc' in res and 'name' not in res):\n",
    "                    issuer.append(res)\n",
    "\n",
    "    print issuer"
   ]
  },
  {
   "cell_type": "code",
   "execution_count": 384,
   "metadata": {
    "collapsed": false
   },
   "outputs": [
    {
     "name": "stdout",
     "output_type": "stream",
     "text": [
      "the Specified Denomination 14\n",
      "Goldman Sachs International 4\n",
      "the Private Placement Memorandum 6\n",
      "Relevant Member State 2\n"
     ]
    }
   ],
   "source": [
    "for name in issuer:\n",
    "    print name, len(re.findall(name,txt))"
   ]
  },
  {
   "cell_type": "code",
   "execution_count": 361,
   "metadata": {
    "collapsed": false
   },
   "outputs": [],
   "source": [
    "import wikipedia"
   ]
  },
  {
   "cell_type": "code",
   "execution_count": 362,
   "metadata": {
    "collapsed": false
   },
   "outputs": [
    {
     "data": {
      "text/plain": [
       "[u'Goldman Sachs',\n",
       " u'Gianni Letta',\n",
       " u'Tito Mboweni',\n",
       " u'Albany, New York',\n",
       " u'Michael Sherwood (banker)',\n",
       " u'Peter Sutherland',\n",
       " u'Luis Fernando Jaramillo Correa',\n",
       " u'Ant\\xf3nio Borges',\n",
       " u'Capital District',\n",
       " u'London Platinum and Palladium Market']"
      ]
     },
     "execution_count": 362,
     "metadata": {},
     "output_type": "execute_result"
    }
   ],
   "source": [
    "wikipedia.search(\"Goldman Sachs International\")"
   ]
  },
  {
   "cell_type": "code",
   "execution_count": 367,
   "metadata": {
    "collapsed": false
   },
   "outputs": [
    {
     "name": "stdout",
     "output_type": "stream",
     "text": [
      "A prospectus, in finance, is a disclosure document that describes a financial security for potential buyers. It commonly provides investors with material information about mutual funds, stocks, bonds and other investments, such as a description of the company's business, financial statements, biographies of officers and directors, detailed information about their compensation, any litigation that is taking place, a list of material properties and any other material information. In the context of an individual securities offering, such as an initial public offering, a prospectus is distributed by underwriters or brokerages to potential investors.\n"
     ]
    }
   ],
   "source": [
    "print wikipedia.summary(\"the Private Placement Memorandum\")"
   ]
  },
  {
   "cell_type": "code",
   "execution_count": 380,
   "metadata": {
    "collapsed": false
   },
   "outputs": [
    {
     "name": "stdout",
     "output_type": "stream",
     "text": [
      "0.383585633229\n",
      "Goldman Sachs International\n",
      "0.365067717259\n",
      "the Private Placement Memorandum\n"
     ]
    }
   ],
   "source": [
    "from wikipedia import PageError\n",
    "\n",
    "\n",
    "for name in issuer:\n",
    "    try:\n",
    "        summary=nlp(wikipedia.summary(name))\n",
    "        print summary.similarity(company)\n",
    "        print name\n",
    "    except PageError:\n",
    "        pass"
   ]
  },
  {
   "cell_type": "code",
   "execution_count": 369,
   "metadata": {
    "collapsed": false
   },
   "outputs": [
    {
     "data": {
      "text/plain": [
       "1084"
      ]
     },
     "execution_count": 369,
     "metadata": {},
     "output_type": "execute_result"
    }
   ],
   "source": [
    "nlp.vocab.strings['company']"
   ]
  },
  {
   "cell_type": "code",
   "execution_count": 382,
   "metadata": {
    "collapsed": false
   },
   "outputs": [
    {
     "name": "stdout",
     "output_type": "stream",
     "text": [
      "The Goldman Sachs Group, Inc. is an American multinational investment banking firm that engages in global investment banking, investment management, securities and other financial services primarily with institutional clients.\n",
      "Goldman Sachs was founded in 1869 and is headquartered at 200 West Street in Lower Manhattan, New York City, with additional offices in other international financial centers. The firm provides asset management, mergers and acquisitions advice, prime brokerage and underwriting services to its clients, which include corporations, governments and individuals. The firm also engages in market making and private equity deals, and is a primary dealer in the U.S. Treasury security market.\n",
      "Goldman Sachs was hit hard by the 2008 economic crisis, because of its involvement in subprime mortgages, and was subsequently rescued as part of a massive U.S. government bailout.\n",
      "Former Goldman executives who moved on to government positions include, but are not limited to, Robert Rubin and Henry Paulson who served as U.S. Secretaries of the Treasury under former Presidents Bill Clinton and George W. Bush, respectively; Mario Draghi, President of the European Central Bank, and Mark Carney, Governor of the Bank of Canada from 2008–13 and Governor of the Bank of England since July 2013.\n",
      "\n",
      "A prospectus, in finance, is a disclosure document that describes a financial security for potential buyers. It commonly provides investors with material information about mutual funds, stocks, bonds and other investments, such as a description of the company's business, financial statements, biographies of officers and directors, detailed information about their compensation, any litigation that is taking place, a list of material properties and any other material information. In the context of an individual securities offering, such as an initial public offering, a prospectus is distributed by underwriters or brokerages to potential investors.\n",
      "\n"
     ]
    }
   ],
   "source": [
    "from wikipedia import PageError\n",
    "\n",
    "company=nlp.vocab[nlp.vocab.strings['company']]\n",
    "\n",
    "for name in issuer:\n",
    "    try:\n",
    "        print wikipedia.summary(name)\n",
    "        print\n",
    "    except PageError:\n",
    "        pass"
   ]
  },
  {
   "cell_type": "code",
   "execution_count": 391,
   "metadata": {
    "collapsed": false
   },
   "outputs": [
    {
     "name": "stdout",
     "output_type": "stream",
     "text": [
      "The Goldman Sachs Group 0.862825370958\n",
      "American 0.408952816858\n",
      "Goldman Sachs 0.9244027762\n",
      "1869 0.369575250347\n",
      "200 0.325239108282\n",
      "Manhattan 0.388318853386\n",
      "New York City 0.507650267122\n",
      "U.S. Treasury 0.406497080561\n",
      "Goldman Sachs 0.9244027762\n",
      "2008 0.366374002469\n",
      "U.S. 0.0\n",
      "Robert Rubin 0.584224635277\n",
      "Henry Paulson 0.65174845967\n",
      "U.S. Secretaries 0.390407253194\n",
      "Treasury 0.406497080561\n",
      "Bill Clinton 0.442407939924\n",
      "George W. Bush 0.489855011545\n",
      "Mario Draghi 0.325957601329\n",
      "the European Central Bank 0.587132011638\n",
      "Mark Carney 0.513651212427\n",
      "the Bank of Canada 0.578202783711\n",
      "2008–13 and 0.28330899886\n",
      "the Bank of England 0.55434489698\n",
      "July 2013 0.397411404313\n"
     ]
    }
   ],
   "source": [
    "summary=nlp(wikipedia.summary('Goldman Sachs International'))\n",
    "for t in summary.ents:\n",
    "    print t,t.similarity(vec)"
   ]
  },
  {
   "cell_type": "code",
   "execution_count": 388,
   "metadata": {
    "collapsed": false
   },
   "outputs": [],
   "source": [
    "vec=None\n",
    "for t in doc.ents:\n",
    "    if t.orth_ == 'Goldman Sachs International':\n",
    "        vec=t"
   ]
  },
  {
   "cell_type": "code",
   "execution_count": 7,
   "metadata": {
    "collapsed": false
   },
   "outputs": [],
   "source": [
    "            if re.search(r'.*issuer[\\s\\n]*:.*', s.lower()):\n",
    "                ss=nlp(s.decode('utf8'))\n",
    "                res={}\n",
    "\n",
    "                for t in ss.ents:\n",
    "                    if t.label_ == 'ORG':\n",
    "                        #st=nlp(t.orth_.replace('\\n',' '))\n",
    "                        #if st[0].tag_ not in ['DT','JJ']: # the name should not start with a det or an adj.               \n",
    "                        res['name']=t.orth_.replace('\\n',' ')\n",
    "\n",
    "                    #if t.label_ == 'GPE':\n",
    "                    #    res['loc']=t.orth_.replace('\\n',' ')\n",
    "\n",
    "                if len(res)>0 and res not in issuer:\n",
    "                    if not ('loc' in res and 'name' not in res):\n",
    "                        issuer.append(res['name'])"
   ]
  },
  {
   "cell_type": "code",
   "execution_count": null,
   "metadata": {
    "collapsed": false
   },
   "outputs": [],
   "source": [
    "fuzz.token_set_ratio('Morgan Structured Products B.V.','J.P. MORGAN STRUCTURED PRODUCT')"
   ]
  },
  {
   "cell_type": "code",
   "execution_count": 1,
   "metadata": {
    "collapsed": false
   },
   "outputs": [
    {
     "name": "stdout",
     "output_type": "stream",
     "text": [
      "The PythonMagick package is missing, get_text_adv function can not be used \n"
     ]
    }
   ],
   "source": [
    "import spacy\n",
    "import os\n",
    "from code import Text_reader as tr\n",
    "from code.Labels import label\n",
    "import copy\n",
    "import re\n",
    "from fuzzywuzzy import fuzz\n",
    "from fuzzywuzzy import process\n",
    "import ordered_set\n",
    "import numpy as np\n",
    "\n",
    "# Load English tokenizer, tagger, parser, NER and word vectors\n",
    "#nlp = spacy.load('en')"
   ]
  },
  {
   "cell_type": "code",
   "execution_count": 2,
   "metadata": {
    "collapsed": false
   },
   "outputs": [
    {
     "name": "stdout",
     "output_type": "stream",
     "text": [
      "['fileId', 'NOMINAL.CURR', 'MIN.TRAD.AMT', 'MULT.TRAD.AMT', 'ZERO.COUPN.FLAG', 'SEC.SUB.ID', 'FUNG.FL', 'OpCurrency', 'issuerName', 'issuerCity', 'issuerCountry', 'guarantorName', 'guarantorCity', 'guarantorCountry', 'City.Id', 'City.Name']\n",
      "\n",
      "set(['THE HONGKONG AND SHANGHAI BANK', 'GOLDMAN SACHS INTERNATIONAL', 'J.P. MORGAN STRUCTURED PRODUCT', 'BARCLAYS BANK PLC, BISHOPSGATE', 'UBS AG', 'SMBC NIKKO SECURITIES INC.', 'HSBC BANK PLC', 'CREDIT SUISSE INTERNATIONAL', 'BNP PARIBAS ARBITRAGE ISSUANCE', 'SG ISSUER', 'DEUTSCHE BANK AG, GREAT WINCHE', 'ROYAL BANK OF CANADA'])\n"
     ]
    }
   ],
   "source": [
    "# Load English tokenizer, tagger, parser, NER and word vectors\n",
    "#nlp = spacy.load('en')\n",
    "\n",
    "data0='../data_0'\n",
    "data1='../data_1'\n",
    "labels=label.from_cvs(data0)\n",
    "data=copy.deepcopy(labels)\n",
    "data.empty()\n",
    "setcompany = labels.get_set('issuerName')\n",
    "#setcompany.update(labels.get_set('guarantorName'))\n",
    "\n",
    "if '' in setcompany:\n",
    "    setcompany.remove('')\n",
    "print\n",
    "print setcompany"
   ]
  },
  {
   "cell_type": "code",
   "execution_count": 46,
   "metadata": {
    "collapsed": false,
    "scrolled": true
   },
   "outputs": [
    {
     "data": {
      "text/plain": [
       "{'BARCLAYS BANK PLC, BISHOPSGATE',\n",
       " 'BNP PARIBAS ARBITRAGE ISSUANCE',\n",
       " 'BNP PARIBAS FORT DUP 11046',\n",
       " 'BNP PARIBAS SA',\n",
       " 'CREDIT SUISSE INTERNATIONAL',\n",
       " 'DEUTSCHE BANK AG, AVENUE OF TH',\n",
       " 'DEUTSCHE BANK AG, GREAT WINCHE',\n",
       " 'GOLDMAN SACHS (ASIA) LLC',\n",
       " 'GOLDMAN SACHS INTERNATIONAL',\n",
       " 'HSBC BANK PLC',\n",
       " 'J.P. MORGAN STRUCTURED PRODUCT',\n",
       " 'JPMORGAN CHASE BANK NATIONAL A',\n",
       " 'ROYAL BANK OF CANADA',\n",
       " 'SG ISSUER',\n",
       " 'SMBC NIKKO SECURITIES INC.',\n",
       " 'SOCIETE GENERALE',\n",
       " 'THE GOLDMAN SACHS GROUP INC',\n",
       " 'THE HONGKONG AND SHANGHAI BANK',\n",
       " 'UBS AG'}"
      ]
     },
     "execution_count": 46,
     "metadata": {},
     "output_type": "execute_result"
    }
   ],
   "source": [
    "setcompany\n",
    "\n",
    "test=re.find(r'issued by.*', s.lower()):\n",
    "if len(test) > 0\n",
    "    test.split('\\n')[0].replace('issued by','')\n",
    "    print test\n",
    "                ss=nlp(s)\n",
    "                for t in ss.ents:\n",
    "                    if t.label_ == 'ORG':\n",
    "                        name, value = process.extractOne(t.orth_.replace('\\n',' '), setcompany)\n",
    "                        print t.orth_.replace('\\n',' ')\n",
    "                        print name,value\n",
    "                        if value > 85:\n",
    "                            issuer.append(value)\n",
    "                            \n",
    "    else:\n",
    "        if len(issuer2) > 0:\n",
    "            data[isin][8]=issuer2[0]"
   ]
  },
  {
   "cell_type": "code",
   "execution_count": 33,
   "metadata": {
    "collapsed": false
   },
   "outputs": [
    {
     "data": {
      "text/plain": [
       "['fileId',\n",
       " 'NOMINAL.CURR',\n",
       " 'MIN.TRAD.AMT',\n",
       " 'MULT.TRAD.AMT',\n",
       " 'ZERO.COUPN.FLAG',\n",
       " 'SEC.SUB.ID',\n",
       " 'FUNG.FL',\n",
       " 'OpCurrency',\n",
       " 'issuerName',\n",
       " 'issuerCity',\n",
       " 'issuerCountry',\n",
       " 'guarantorName',\n",
       " 'guarantorCity',\n",
       " 'guarantorCountry',\n",
       " 'City.Id',\n",
       " 'City.Name']"
      ]
     },
     "execution_count": 33,
     "metadata": {},
     "output_type": "execute_result"
    }
   ],
   "source": [
    "labels.header"
   ]
  },
  {
   "cell_type": "code",
   "execution_count": 19,
   "metadata": {
    "collapsed": false,
    "scrolled": true
   },
   "outputs": [
    {
     "name": "stdout",
     "output_type": "stream",
     "text": [
      "[]\n"
     ]
    },
    {
     "data": {
      "text/plain": [
       "['XS1231203701',\n",
       " 'XS1275964507',\n",
       " 'XS1051380837',\n",
       " 'XS1051345681',\n",
       " 'XS1051376991',\n",
       " 'XS1233733911',\n",
       " 'XS1051370796',\n",
       " 'XS1051370010',\n",
       " 'XS1274660338',\n",
       " 'XS1051368204',\n",
       " 'XS1220205170',\n",
       " 'XS1051375910',\n",
       " 'XS1051368386',\n",
       " 'XS1051341003',\n",
       " 'XS1316564167',\n",
       " 'XS1262374645',\n",
       " 'XS1265256302',\n",
       " 'XS1280557114',\n",
       " 'XS1317877402',\n",
       " 'XS1237342545',\n",
       " 'XS1051372495',\n",
       " 'XS0461332347',\n",
       " 'XS1051362694',\n",
       " 'XS1051364633',\n",
       " 'XS0475698857',\n",
       " 'XS1275341524',\n",
       " 'XS1051370879',\n",
       " 'XS1051374350',\n",
       " 'XS1051374277',\n",
       " 'XS1051338041',\n",
       " 'XS1265300993',\n",
       " 'XS1338876524',\n",
       " 'XS1051338124',\n",
       " 'XS1265250792',\n",
       " 'XS1195181489',\n",
       " 'XS0475698774',\n",
       " 'XS1252241309',\n",
       " 'XS1275326640',\n",
       " 'XS1051369517',\n",
       " 'XS1243939060',\n",
       " 'XS1051383187',\n",
       " 'XS1245751174',\n",
       " 'XS1051341698',\n",
       " 'XS1324032959',\n",
       " 'XS1209501003',\n",
       " 'XS1275324603',\n",
       " 'XS1245665929',\n",
       " 'XS1244078934',\n",
       " 'XS1051340617',\n",
       " 'XS1051364989',\n",
       " 'XS1051365010',\n",
       " 'XS1051359989',\n",
       " 'XS1051340963',\n",
       " 'XS1275961313',\n",
       " 'XS1268490957',\n",
       " 'XS1051371414',\n",
       " 'XS1051362934',\n",
       " 'XS1274650024',\n",
       " 'XS1051351143',\n",
       " 'XS1273507019',\n",
       " 'XS1268516348',\n",
       " 'XS1299980323',\n",
       " 'XS1051365283',\n",
       " 'XS1051346499',\n",
       " 'XS1051373386',\n",
       " 'XS1221134189',\n",
       " 'XS1051363585',\n",
       " 'XS1051376728',\n",
       " 'XS1051369608',\n",
       " 'XS1051374863',\n",
       " 'XS1213802009',\n",
       " 'XS1051337589',\n",
       " 'XS1265220027',\n",
       " 'XS1051370101',\n",
       " 'XS1051363239',\n",
       " 'XS1199559987',\n",
       " 'XS1215208007',\n",
       " 'XS1051373626',\n",
       " 'XS1274030664',\n",
       " 'XS0461354663',\n",
       " 'XS1051371174',\n",
       " 'XS1242196555',\n",
       " 'XS1051329560',\n",
       " 'XS0890138794',\n",
       " 'XS0461339516',\n",
       " 'XS1253516899',\n",
       " 'XS1249403202',\n",
       " 'XS1051338710',\n",
       " 'XS1280557627',\n",
       " 'XS1051347463',\n",
       " 'XS1244891211',\n",
       " 'XS1051371257',\n",
       " 'XS0751776070',\n",
       " 'XS1051339288',\n",
       " 'XS1274031472',\n",
       " 'XS1226519830',\n",
       " 'XS0461369349',\n",
       " 'XS1051364120',\n",
       " 'XS1224676517',\n",
       " 'XS1051368899',\n",
       " 'XS1255075738',\n",
       " 'XS1244851009',\n",
       " 'XS1051373030',\n",
       " 'XS1051365101',\n",
       " 'XS1051334214',\n",
       " 'XS1208658036',\n",
       " 'XS1275964333',\n",
       " 'XS1051376306',\n",
       " 'XS1251907314',\n",
       " 'XS1051340450',\n",
       " 'XS1308337309',\n",
       " 'XS1051382965',\n",
       " 'XS0751776310',\n",
       " 'XS1051377882',\n",
       " 'XS1051368626',\n",
       " 'XS1051371331',\n",
       " 'XS1223865541',\n",
       " 'XS1245756991',\n",
       " 'XS1051371687',\n",
       " 'XS1186222193',\n",
       " 'XS1051374434',\n",
       " 'XS1051340880',\n",
       " 'XS1189290635',\n",
       " 'XS1051340708',\n",
       " 'XS1051372222',\n",
       " 'XS1249382877',\n",
       " 'XS1244868151',\n",
       " 'XS1199927614',\n",
       " 'XS1244891641',\n",
       " 'XS1051341425',\n",
       " 'XS1051374194',\n",
       " 'XS1051373899',\n",
       " 'XS0475698931',\n",
       " 'XS1221966317',\n",
       " 'XS1274823498',\n",
       " 'XS1273008281',\n",
       " 'XS1051379821',\n",
       " 'XS1223278505',\n",
       " 'XS1051339106',\n",
       " 'XS1051370440',\n",
       " 'XS1176700158',\n",
       " 'XS1051369434',\n",
       " 'XS1051370523',\n",
       " 'XS1051364559',\n",
       " 'XS1275962121',\n",
       " 'XS1274143350',\n",
       " 'XS1275324199',\n",
       " 'XS1200981105']"
      ]
     },
     "execution_count": 19,
     "metadata": {},
     "output_type": "execute_result"
    }
   ],
   "source": [
    "#a='DEUTSCHE BANK AG, AVENUE OF TH'\n",
    "a='DEUTSCHE BANK AG, GREAT WINCHE'\n",
    "print labels.get_from_field('guarantorName',a)\n",
    "labels.get_from_field('issuerName',a)"
   ]
  },
  {
   "cell_type": "code",
   "execution_count": 18,
   "metadata": {
    "collapsed": false
   },
   "outputs": [
    {
     "data": {
      "text/plain": [
       "[['0900045c83a16786'],\n",
       " 'SGD',\n",
       " '0',\n",
       " '10,000',\n",
       " 'Y',\n",
       " 'USUB',\n",
       " 'N',\n",
       " 'SGD',\n",
       " 'HSBC BANK PLC',\n",
       " 'LONDON',\n",
       " 'UNITED KINGDOM',\n",
       " '',\n",
       " '',\n",
       " '',\n",
       " ['SINGA'],\n",
       " ['SINGAPORE']]"
      ]
     },
     "execution_count": 18,
     "metadata": {},
     "output_type": "execute_result"
    }
   ],
   "source": [
    "labels.get_isin('XS1324906947')"
   ]
  },
  {
   "cell_type": "code",
   "execution_count": 32,
   "metadata": {
    "collapsed": false
   },
   "outputs": [
    {
     "data": {
      "text/plain": [
       "[('HSBC BANK PLC', 86),\n",
       " ('ROYAL BANK OF CANADA', 86),\n",
       " ('DEUTSCHE BANK AG, GREAT WINCHE', 65),\n",
       " ('DEUTSCHE BANK AG, AVENUE OF TH', 65),\n",
       " ('THE HONGKONG AND SHANGHAI BANK', 49)]"
      ]
     },
     "execution_count": 32,
     "metadata": {},
     "output_type": "execute_result"
    }
   ],
   "source": [
    "process.extract('deutsche bank aktiengesellschaft', setcompany)"
   ]
  },
  {
   "cell_type": "code",
   "execution_count": 30,
   "metadata": {
    "collapsed": false,
    "scrolled": true
   },
   "outputs": [
    {
     "name": "stdout",
     "output_type": "stream",
     "text": [
      " deutsche bank aktiengesellschaft acting through its london THE HONGKONG AND SHANGHAI BANK 86\n",
      " deutsche bank aktiengesellschaft acting through its london branch THE HONGKONG AND SHANGHAI BANK 86\n",
      " way of deed poll by the issuer in favour of THE GOLDMAN SACHS GROUP INC 86\n",
      " the relevant clearing agent DEUTSCHE BANK AG, AVENUE OF TH 49\n",
      " it and will, not less than 24 hours before the time appointed for holding a meeting or adjourned meeting, deposit at such place as the principal agent shall approve, full particulars of all voting certificates and block, voting instructions  it in respect of the meeting or adjourned meeting. THE HONGKONG AND SHANGHAI BANK 57\n",
      " an HSBC BANK PLC 90\n",
      " an HSBC BANK PLC 90\n",
      " deutsche bank bears the risk that deutsche bank is not able THE HONGKONG AND SHANGHAI BANK 86\n",
      " the issuer itself or a SG ISSUER 86\n",
      " it would, in an insolvency proceeding affecting the THE HONGKONG AND SHANGHAI BANK 86\n",
      " the fiscal authorities of his/her ROYAL BANK OF CANADA 86\n",
      " the international accounting standards board (iasb) and THE HONGKONG AND SHANGHAI BANK 86\n",
      " american international group, inc. GOLDMAN SACHS INTERNATIONAL 62\n",
      " deutsche bank DEUTSCHE BANK AG, GREAT WINCHE 90\n",
      " THE HONGKONG AND SHANGHAI BANK 0\n",
      " countrywide financial corporation. CREDIT SUISSE INTERNATIONAL 43\n",
      " deutsche bank. DEUTSCHE BANK AG, GREAT WINCHE 90\n",
      " deutsche bank. DEUTSCHE BANK AG, GREAT WINCHE 90\n",
      " deutsche bank and its affiliates between october. THE HONGKONG AND SHANGHAI BANK 86\n"
     ]
    }
   ],
   "source": [
    "   \n",
    "# let read all the files in html and process them...\n",
    "# this does nothing but read all the files, use it as template...\n",
    "\n",
    "folder='../data_0/html'\n",
    "files=tr.get_files(folder)\n",
    "\n",
    "#for isin in data: # for each isin in the data object created before\n",
    "for isin in ['XS1231203701','XS1275964507','XS1051380837','XS1051345681']:\n",
    "    f=data[isin][0] # get the file_ids\n",
    "    issuer=[]\n",
    "    issuer2=[]\n",
    "    for item in f: # for each of these files\n",
    "        # get the txt.\n",
    "        txt=tr.clean_text(tr.get_text(files[item]))            \n",
    "        for s in tr.split_text(txt):   # split into sentences.  \n",
    "            if re.search(r'.*issuer[\\s\\n]*:.*', s.lower()):\n",
    "                name, value = process.extractOne(s.replace('issuer',''), setcompany)\n",
    "                print name, value, s.replace('issuer','')\n",
    "                issuer.append(name)\n",
    "            \n",
    "            test=re.findall(r'issued by.*', s.lower())\n",
    "            if len(test) > 0:\n",
    "                test=test[0].split('\\n')[0].replace('issued by','')\n",
    "                #test=test.replace('aktiengesellschaft','ag')\n",
    "                #test=test.replace('london','GREAT WINCHE')\n",
    "                name, value = process.extractOne(test, setcompany)\n",
    "                print test,name,value\n",
    "            \n",
    "    if len(issuer) > 0 :\n",
    "        data[isin][8]=issuer[0]"
   ]
  },
  {
   "cell_type": "code",
   "execution_count": 7,
   "metadata": {
    "collapsed": false,
    "scrolled": true
   },
   "outputs": [],
   "source": [
    "# let read all the files in html and process them...\n",
    "# this does nothing but read all the files, use it as template...\n",
    "\n",
    "folder='../data_0/html'\n",
    "files=tr.get_files(folder)\n",
    "\n",
    "for isin in data: # for each isin in the data object created before\n",
    "#for isin in ['XS1231203701','XS1275964507','XS1051380837','XS1051345681']:\n",
    "    f=data[isin][0] # get the file_ids\n",
    "    issuer=[]\n",
    "    issuer2=[]\n",
    "    for item in f: # for each of these files\n",
    "        # get the txt.\n",
    "        txt=tr.clean_text(tr.get_text(files[item]))            \n",
    "        for s in tr.split_text(txt):   # split into sentences.  \n",
    "            if re.search(r'.*issuer[\\s\\n]*:.*', s.lower()):\n",
    "                issuer.append(process.extractOne(s.replace('issuer',''), setcompany)[0])\n",
    "        \n",
    "             \n",
    "    if len(issuer) > 0 :\n",
    "        data[isin][8]=issuer[0]"
   ]
  },
  {
   "cell_type": "code",
   "execution_count": 39,
   "metadata": {
    "collapsed": false,
    "scrolled": true
   },
   "outputs": [
    {
     "name": "stdout",
     "output_type": "stream",
     "text": [
      "XS1231203701 None DEUTSCHE BANK AG, GREAT WINCHE\n",
      "XS1275964507 None DEUTSCHE BANK AG, GREAT WINCHE\n",
      "XS1051380837 None DEUTSCHE BANK AG, GREAT WINCHE\n",
      "XS1051345681 None DEUTSCHE BANK AG, GREAT WINCHE\n",
      "XS1051376991 None DEUTSCHE BANK AG, GREAT WINCHE\n",
      "XS1324906947 None HSBC BANK PLC\n",
      "XS1233733911 None DEUTSCHE BANK AG, GREAT WINCHE\n",
      "XS1324899985 None HSBC BANK PLC\n",
      "XS1051370796 None DEUTSCHE BANK AG, GREAT WINCHE\n",
      "XS1051370010 None DEUTSCHE BANK AG, GREAT WINCHE\n",
      "XS1274660338 None DEUTSCHE BANK AG, GREAT WINCHE\n",
      "XS1336933194 None HSBC BANK PLC\n",
      "XS1051368204 None DEUTSCHE BANK AG, GREAT WINCHE\n",
      "XS1220205170 None DEUTSCHE BANK AG, GREAT WINCHE\n",
      "XS1051375910 None DEUTSCHE BANK AG, GREAT WINCHE\n",
      "XS1051368386 None DEUTSCHE BANK AG, GREAT WINCHE\n",
      "XS1051341003 None DEUTSCHE BANK AG, GREAT WINCHE\n",
      "XS1316564167 None DEUTSCHE BANK AG, GREAT WINCHE\n",
      "XS1336567315 None HSBC BANK PLC\n",
      "XS1262374645 None DEUTSCHE BANK AG, GREAT WINCHE\n",
      "XS1265256302 None DEUTSCHE BANK AG, GREAT WINCHE\n",
      "XS1350032634 None UBS AG\n",
      "XS1280557114 None DEUTSCHE BANK AG, GREAT WINCHE\n",
      "XS1332081352 None HSBC BANK PLC\n",
      "XS1317877402 None DEUTSCHE BANK AG, GREAT WINCHE\n",
      "XS1237342545 None DEUTSCHE BANK AG, GREAT WINCHE\n",
      "XS1051372495 None DEUTSCHE BANK AG, GREAT WINCHE\n",
      "XS0461332347 None DEUTSCHE BANK AG, GREAT WINCHE\n",
      "XS1301453459 None UBS AG\n",
      "XS1051362694 None DEUTSCHE BANK AG, GREAT WINCHE\n",
      "XS1051364633 None DEUTSCHE BANK AG, GREAT WINCHE\n",
      "XS0475698857 None DEUTSCHE BANK AG, GREAT WINCHE\n",
      "XS1275341524 None DEUTSCHE BANK AG, GREAT WINCHE\n",
      "XS1051370879 None DEUTSCHE BANK AG, GREAT WINCHE\n",
      "XS1051374350 None DEUTSCHE BANK AG, GREAT WINCHE\n",
      "XS1325894969 None HSBC BANK PLC\n",
      "XS1051374277 None DEUTSCHE BANK AG, GREAT WINCHE\n",
      "XS1051338041 None DEUTSCHE BANK AG, GREAT WINCHE\n",
      "XS1265300993 None DEUTSCHE BANK AG, GREAT WINCHE\n",
      "XS1289130921 None CREDIT SUISSE INTERNATIONAL\n",
      "XS1338876524 None DEUTSCHE BANK AG, GREAT WINCHE\n",
      "XS1051338124 None DEUTSCHE BANK AG, GREAT WINCHE\n",
      "XS1265250792 None DEUTSCHE BANK AG, GREAT WINCHE\n",
      "XS1195181489 None DEUTSCHE BANK AG, GREAT WINCHE\n",
      "XS1340707659 None HSBC BANK PLC\n",
      "XS1349022480 None HSBC BANK PLC\n",
      "XS0475698774 None DEUTSCHE BANK AG, GREAT WINCHE\n",
      "XS1252241309 None DEUTSCHE BANK AG, GREAT WINCHE\n",
      "XS1340128625 None HSBC BANK PLC\n",
      "XS1275326640 None DEUTSCHE BANK AG, GREAT WINCHE\n",
      "XS1051369517 None DEUTSCHE BANK AG, GREAT WINCHE\n",
      "XS1243939060 None DEUTSCHE BANK AG, GREAT WINCHE\n",
      "XS1051383187 None DEUTSCHE BANK AG, GREAT WINCHE\n",
      "XS1245751174 None DEUTSCHE BANK AG, GREAT WINCHE\n",
      "XS1051341698 None DEUTSCHE BANK AG, GREAT WINCHE\n",
      "XS1324032959 None DEUTSCHE BANK AG, GREAT WINCHE\n",
      "XS1209501003 None DEUTSCHE BANK AG, GREAT WINCHE\n",
      "XS1275324603 None DEUTSCHE BANK AG, GREAT WINCHE\n",
      "XS1245665929 None DEUTSCHE BANK AG, GREAT WINCHE\n",
      "XS1244078934 None DEUTSCHE BANK AG, GREAT WINCHE\n",
      "XS1183614582 None BARCLAYS BANK PLC, BISHOPSGATE\n",
      "XS1051340617 None DEUTSCHE BANK AG, GREAT WINCHE\n",
      "XS1051364989 None DEUTSCHE BANK AG, GREAT WINCHE\n",
      "XS1349313459 None HSBC BANK PLC\n",
      "XS1349641206 None HSBC BANK PLC\n",
      "XS1051365010 None DEUTSCHE BANK AG, GREAT WINCHE\n",
      "XS1051359989 None DEUTSCHE BANK AG, GREAT WINCHE\n",
      "XS1051340963 None DEUTSCHE BANK AG, GREAT WINCHE\n",
      "XS1275961313 None DEUTSCHE BANK AG, GREAT WINCHE\n",
      "XS1268490957 None DEUTSCHE BANK AG, GREAT WINCHE\n",
      "XS1051371414 None DEUTSCHE BANK AG, GREAT WINCHE\n",
      "XS1051362934 None DEUTSCHE BANK AG, GREAT WINCHE\n",
      "XS1274650024 None DEUTSCHE BANK AG, GREAT WINCHE\n",
      "XS1273507019 None DEUTSCHE BANK AG, GREAT WINCHE\n",
      "XS1268516348 None DEUTSCHE BANK AG, GREAT WINCHE\n",
      "XS1299980323 None DEUTSCHE BANK AG, GREAT WINCHE\n",
      "XS1051365283 None DEUTSCHE BANK AG, GREAT WINCHE\n",
      "XS1051373386 None DEUTSCHE BANK AG, GREAT WINCHE\n",
      "XS1221134189 None DEUTSCHE BANK AG, GREAT WINCHE\n",
      "XS1051363585 None DEUTSCHE BANK AG, GREAT WINCHE\n",
      "XS1051376728 None DEUTSCHE BANK AG, GREAT WINCHE\n",
      "XS1051369608 None DEUTSCHE BANK AG, GREAT WINCHE\n",
      "XS1051374863 None DEUTSCHE BANK AG, GREAT WINCHE\n",
      "XS1213802009 None DEUTSCHE BANK AG, GREAT WINCHE\n",
      "XS1051337589 None DEUTSCHE BANK AG, GREAT WINCHE\n",
      "XS1265220027 None DEUTSCHE BANK AG, GREAT WINCHE\n",
      "XS1051370101 None DEUTSCHE BANK AG, GREAT WINCHE\n",
      "XS1051363239 None DEUTSCHE BANK AG, GREAT WINCHE\n",
      "XS1199559987 None DEUTSCHE BANK AG, GREAT WINCHE\n",
      "XS1215208007 None DEUTSCHE BANK AG, GREAT WINCHE\n",
      "XS1051373626 None DEUTSCHE BANK AG, GREAT WINCHE\n",
      "XS1324210563 None HSBC BANK PLC\n",
      "XS1354473230 None HSBC BANK PLC\n",
      "XS1274030664 None DEUTSCHE BANK AG, GREAT WINCHE\n",
      "XS0461354663 None DEUTSCHE BANK AG, GREAT WINCHE\n",
      "XS1051371174 None DEUTSCHE BANK AG, GREAT WINCHE\n",
      "XS1330444420 None HSBC BANK PLC\n",
      "XS1242196555 None DEUTSCHE BANK AG, GREAT WINCHE\n",
      "XS1051329560 None DEUTSCHE BANK AG, GREAT WINCHE\n",
      "CH0309683917 None UBS AG\n",
      "XS1323908944 None HSBC BANK PLC\n",
      "XS0890138794 None DEUTSCHE BANK AG, GREAT WINCHE\n",
      "XS0461339516 None DEUTSCHE BANK AG, GREAT WINCHE\n",
      "XS1349272168 None HSBC BANK PLC\n",
      "XS1253516899 None DEUTSCHE BANK AG, GREAT WINCHE\n",
      "XS1249403202 None DEUTSCHE BANK AG, GREAT WINCHE\n",
      "XS1051338710 None DEUTSCHE BANK AG, GREAT WINCHE\n",
      "XS1280557627 None DEUTSCHE BANK AG, GREAT WINCHE\n",
      "XS1051347463 None DEUTSCHE BANK AG, GREAT WINCHE\n",
      "XS1244891211 None DEUTSCHE BANK AG, GREAT WINCHE\n",
      "XS1324042677 None HSBC BANK PLC\n",
      "XS1330822047 None HSBC BANK PLC\n",
      "XS1051371257 None DEUTSCHE BANK AG, GREAT WINCHE\n",
      "XS0751776070 None DEUTSCHE BANK AG, GREAT WINCHE\n",
      "XS1051339288 None DEUTSCHE BANK AG, GREAT WINCHE\n",
      "XS1274031472 None DEUTSCHE BANK AG, GREAT WINCHE\n",
      "XS1226519830 None DEUTSCHE BANK AG, GREAT WINCHE\n",
      "XS0461369349 None DEUTSCHE BANK AG, GREAT WINCHE\n",
      "XS1051364120 None DEUTSCHE BANK AG, GREAT WINCHE\n",
      "XS1224676517 None DEUTSCHE BANK AG, GREAT WINCHE\n",
      "XS1051368899 None DEUTSCHE BANK AG, GREAT WINCHE\n",
      "XS1255075738 None DEUTSCHE BANK AG, GREAT WINCHE\n",
      "XS1244851009 None DEUTSCHE BANK AG, GREAT WINCHE\n",
      "XS1051373030 None DEUTSCHE BANK AG, GREAT WINCHE\n",
      "XS1330764413 None HSBC BANK PLC\n",
      "CH0309683933 None UBS AG\n",
      "XS1340033080 None HSBC BANK PLC\n",
      "XS1349343365 None HSBC BANK PLC\n",
      "XS1051365101 None DEUTSCHE BANK AG, GREAT WINCHE\n",
      "XS1324900312 None HSBC BANK PLC\n",
      "XS1051334214 None DEUTSCHE BANK AG, GREAT WINCHE\n",
      "XS1330445823 None HSBC BANK PLC\n",
      "XS1200350020 None HSBC BANK PLC\n",
      "XS1336840779 None HSBC BANK PLC\n",
      "XS1208658036 None DEUTSCHE BANK AG, GREAT WINCHE\n",
      "XS1275964333 None DEUTSCHE BANK AG, GREAT WINCHE\n",
      "XS1051376306 None DEUTSCHE BANK AG, GREAT WINCHE\n",
      "XS1251907314 None DEUTSCHE BANK AG, GREAT WINCHE\n",
      "XS1051340450 None DEUTSCHE BANK AG, GREAT WINCHE\n",
      "XS1308337309 None DEUTSCHE BANK AG, GREAT WINCHE\n",
      "XS1051382965 None DEUTSCHE BANK AG, GREAT WINCHE\n",
      "XS0751776310 None DEUTSCHE BANK AG, GREAT WINCHE\n",
      "XS1051377882 None DEUTSCHE BANK AG, GREAT WINCHE\n",
      "XS1051368626 None DEUTSCHE BANK AG, GREAT WINCHE\n",
      "XS1051371331 None DEUTSCHE BANK AG, GREAT WINCHE\n",
      "XS1223865541 None DEUTSCHE BANK AG, GREAT WINCHE\n",
      "XS1245756991 None DEUTSCHE BANK AG, GREAT WINCHE\n",
      "XS1051371687 None DEUTSCHE BANK AG, GREAT WINCHE\n",
      "XS1332097192 None HSBC BANK PLC\n",
      "XS1186222193 None DEUTSCHE BANK AG, GREAT WINCHE\n",
      "XS1051374434 None DEUTSCHE BANK AG, GREAT WINCHE\n",
      "XS1051340880 None DEUTSCHE BANK AG, GREAT WINCHE\n",
      "XS1189290635 None DEUTSCHE BANK AG, GREAT WINCHE\n",
      "XS1051340708 None DEUTSCHE BANK AG, GREAT WINCHE\n",
      "XS1051372222 None DEUTSCHE BANK AG, GREAT WINCHE\n",
      "XS1331666617 None HSBC BANK PLC\n",
      "XS1249382877 None DEUTSCHE BANK AG, GREAT WINCHE\n",
      "XS1244868151 None DEUTSCHE BANK AG, GREAT WINCHE\n",
      "XS1199927614 None DEUTSCHE BANK AG, GREAT WINCHE\n",
      "XS1244891641 None DEUTSCHE BANK AG, GREAT WINCHE\n",
      "XS1051341425 None DEUTSCHE BANK AG, GREAT WINCHE\n",
      "XS1051374194 None DEUTSCHE BANK AG, GREAT WINCHE\n",
      "XS1051373899 None DEUTSCHE BANK AG, GREAT WINCHE\n",
      "XS1340018289 None HSBC BANK PLC\n",
      "XS0475698931 None DEUTSCHE BANK AG, GREAT WINCHE\n",
      "XS1221966317 None DEUTSCHE BANK AG, GREAT WINCHE\n",
      "XS1340008645 None HSBC BANK PLC\n",
      "XS1274823498 None DEUTSCHE BANK AG, GREAT WINCHE\n",
      "XS1273008281 None DEUTSCHE BANK AG, GREAT WINCHE\n",
      "XS1051379821 None DEUTSCHE BANK AG, GREAT WINCHE\n",
      "XS1223278505 None DEUTSCHE BANK AG, GREAT WINCHE\n",
      "XS1338473322 None HSBC BANK PLC\n",
      "XS1051339106 None DEUTSCHE BANK AG, GREAT WINCHE\n",
      "XS1051370440 None DEUTSCHE BANK AG, GREAT WINCHE\n",
      "XS1176700158 None DEUTSCHE BANK AG, GREAT WINCHE\n",
      "XS1051369434 None DEUTSCHE BANK AG, GREAT WINCHE\n",
      "XS1051370523 None DEUTSCHE BANK AG, GREAT WINCHE\n",
      "XS1051364559 None DEUTSCHE BANK AG, GREAT WINCHE\n",
      "XS1275962121 None DEUTSCHE BANK AG, GREAT WINCHE\n",
      "XS1274143350 None DEUTSCHE BANK AG, GREAT WINCHE\n",
      "XS1275324199 None DEUTSCHE BANK AG, GREAT WINCHE\n",
      "XS1200981105 None DEUTSCHE BANK AG, GREAT WINCHE\n",
      "\n",
      "total number of set compared: 1200\n",
      "total number of missing set: 0\n",
      "total number of errors for each index: [ 182.]\n",
      "error %: [ 15.16666667]\n"
     ]
    }
   ],
   "source": [
    "data.evaluate([8],labels,printerr=True, match_ok=100)"
   ]
  },
  {
   "cell_type": "code",
   "execution_count": null,
   "metadata": {
    "collapsed": false,
    "scrolled": true
   },
   "outputs": [],
   "source": []
  },
  {
   "cell_type": "markdown",
   "metadata": {
    "collapsed": false
   },
   "source": [
    "we need somthing better to detect correctly the name of the company.\n",
    "Use the idea of word vector, but build a model only for the name of the company. When checking for the name, first we remove all the word that are not on the vocabulary. Next we look the the name that match the closest to the name provided.\n",
    "\n",
    "each names in the name data base must link to vector that can be build.\n",
    "the vocabulary only contain word related to the name or the part of the name themselve.\n",
    "\n",
    "- idea,\n",
    "\n",
    "each item of the vacabulary is associeted with one integer and one vector. each vector has the same size than the vocabulary and are normed to 1. Each \n"
   ]
  },
  {
   "cell_type": "code",
   "execution_count": 43,
   "metadata": {
    "collapsed": false
   },
   "outputs": [
    {
     "data": {
      "text/plain": [
       "{'BARCLAYS BANK PLC, BISHOPSGATE',\n",
       " 'BNP PARIBAS ARBITRAGE ISSUANCE',\n",
       " 'BNP PARIBAS FORT DUP 11046',\n",
       " 'BNP PARIBAS SA',\n",
       " 'CREDIT SUISSE INTERNATIONAL',\n",
       " 'DEUTSCHE BANK AG, AVENUE OF TH',\n",
       " 'DEUTSCHE BANK AG, GREAT WINCHE',\n",
       " 'GOLDMAN SACHS (ASIA) LLC',\n",
       " 'GOLDMAN SACHS INTERNATIONAL',\n",
       " 'HSBC BANK PLC',\n",
       " 'J.P. MORGAN STRUCTURED PRODUCT',\n",
       " 'JPMORGAN CHASE BANK NATIONAL A',\n",
       " 'ROYAL BANK OF CANADA',\n",
       " 'SG ISSUER',\n",
       " 'SMBC NIKKO SECURITIES INC.',\n",
       " 'SOCIETE GENERALE',\n",
       " 'THE GOLDMAN SACHS GROUP INC',\n",
       " 'THE HONGKONG AND SHANGHAI BANK',\n",
       " 'UBS AG'}"
      ]
     },
     "execution_count": 43,
     "metadata": {},
     "output_type": "execute_result"
    }
   ],
   "source": [
    "setcompany"
   ]
  },
  {
   "cell_type": "code",
   "execution_count": 55,
   "metadata": {
    "collapsed": false
   },
   "outputs": [],
   "source": [
    "vocabulary=ordered_set.OrderedSet()\n",
    "for item in setcompany:\n",
    "    for voc in item.split(' '):\n",
    "        vocabulary.add(voc.strip('().,:'))"
   ]
  },
  {
   "cell_type": "code",
   "execution_count": 56,
   "metadata": {
    "collapsed": false
   },
   "outputs": [
    {
     "data": {
      "text/plain": [
       "OrderedSet(['THE', 'HONGKONG', 'AND', 'SHANGHAI', 'BANK', 'GOLDMAN', 'SACHS', 'INTERNATIONAL', 'BNP', 'PARIBAS', 'FORT', 'DUP', '11046', 'GROUP', 'INC', 'SA', 'J.P', 'MORGAN', 'STRUCTURED', 'PRODUCT', 'BARCLAYS', 'PLC', 'BISHOPSGATE', 'UBS', 'AG', 'SMBC', 'NIKKO', 'SECURITIES', 'ASIA', 'LLC', 'JPMORGAN', 'CHASE', 'NATIONAL', 'A', 'HSBC', 'CREDIT', 'SUISSE', 'SOCIETE', 'GENERALE', 'ARBITRAGE', 'ISSUANCE', 'SG', 'ISSUER', 'DEUTSCHE', 'GREAT', 'WINCHE', 'AVENUE', 'OF', 'TH', 'ROYAL', 'CANADA'])"
      ]
     },
     "execution_count": 56,
     "metadata": {},
     "output_type": "execute_result"
    }
   ],
   "source": [
    "vocabulary"
   ]
  },
  {
   "cell_type": "code",
   "execution_count": 59,
   "metadata": {
    "collapsed": true
   },
   "outputs": [],
   "source": [
    "\n",
    "def tovect(s,vocabulary):\n",
    "    vec = np.zeros(len(vocabulary))\n",
    "    for word in s.split(' '):\n",
    "        word = word.strip('().,:')\n",
    "        if word in vocabulary:\n",
    "            vec[vocabulary.index(word)] = 1\n",
    "    return vec"
   ]
  },
  {
   "cell_type": "code",
   "execution_count": 61,
   "metadata": {
    "collapsed": false
   },
   "outputs": [
    {
     "name": "stdout",
     "output_type": "stream",
     "text": [
      "[ 0.  0.  0.  0.  1.  0.  0.  0.  0.  0.  0.  0.  0.  0.  0.  0.  0.  0.\n",
      "  0.  0.  0.  0.  0.  0.  1.  0.  0.  0.  0.  0.  0.  0.  0.  0.  0.  0.\n",
      "  0.  0.  0.  0.  0.  0.  0.  1.  0.  0.  1.  1.  1.  0.  0.]\n"
     ]
    }
   ],
   "source": [
    "print tovect('DEUTSCHE BANK AG, AVENUE OF TH',vocabulary)"
   ]
  },
  {
   "cell_type": "code",
   "execution_count": 1,
   "metadata": {
    "collapsed": true
   },
   "outputs": [],
   "source": [
    "import numpy as np"
   ]
  },
  {
   "cell_type": "code",
   "execution_count": 1,
   "metadata": {
    "collapsed": false
   },
   "outputs": [
    {
     "name": "stdout",
     "output_type": "stream",
     "text": [
      "The PythonMagick package is missing, get_text_adv function can not be used \n",
      "['fileId', 'NOMINAL.CURR', 'MIN.TRAD.AMT', 'MULT.TRAD.AMT', 'ZERO.COUPN.FLAG', 'SEC.SUB.ID', 'FUNG.FL', 'OpCurrency', 'issuerName', 'issuerCity', 'issuerCountry', 'guarantorName', 'guarantorCity', 'guarantorCountry', 'City.Id', 'City.Name']\n",
      "\n",
      "set(['THE HONGKONG AND SHANGHAI BANK', 'GOLDMAN SACHS INTERNATIONAL', 'DEUTSCHE BANK AG', 'HSBC BANK PLC', 'J.P. MORGAN STRUCTURED PRODUCT', 'UBS AG', 'SMBC NIKKO SECURITIES INC.', 'BARCLAYS BANK PLC', 'CREDIT SUISSE INTERNATIONAL', 'BNP PARIBAS ARBITRAGE ISSUANCE', 'SG ISSUER', 'ROYAL BANK OF CANADA'])\n"
     ]
    }
   ],
   "source": [
    "from code.Matching import fuzzCompany\n",
    "\n",
    "import spacy\n",
    "import os\n",
    "from code import Text_reader as tr\n",
    "from code.Labels import label\n",
    "import copy\n",
    "import re\n",
    "from fuzzywuzzy import fuzz\n",
    "from fuzzywuzzy import process\n",
    "import ordered_set\n",
    "import numpy as np\n",
    "\n",
    "# Load English tokenizer, tagger, parser, NER and word vectors\n",
    "#nlp = spacy.load('en')\n",
    "\n",
    "data0='../data_0'\n",
    "data1='../data_1'\n",
    "labels=label.from_cvs(data0)\n",
    "data=copy.deepcopy(labels)\n",
    "data.empty()\n",
    "setcompany = labels.get_set('issuerName')\n",
    "#setcompany.update(labels.get_set('guarantorName'))\n",
    "\n",
    "if '' in setcompany:\n",
    "    setcompany.remove('')\n",
    "print\n",
    "print setcompany"
   ]
  },
  {
   "cell_type": "code",
   "execution_count": 4,
   "metadata": {
    "collapsed": false
   },
   "outputs": [],
   "source": [
    "syn=[]\n",
    "fcomp = fuzzCompany(setcompany,syn)"
   ]
  },
  {
   "cell_type": "code",
   "execution_count": 5,
   "metadata": {
    "collapsed": false
   },
   "outputs": [
    {
     "name": "stdout",
     "output_type": "stream",
     "text": [
      "('THE HONGKONG AND SHANGHAI BANK', nan)\n"
     ]
    }
   ],
   "source": [
    "print fcomp.closerMatch('deutsche bank')\n"
   ]
  },
  {
   "cell_type": "code",
   "execution_count": 19,
   "metadata": {
    "collapsed": false
   },
   "outputs": [],
   "source": [
    "def get_issuer(txt):\n",
    "\n",
    "    for s in tr.split_text(txt):   # split into sentences.  \n",
    "        s=s.lower().strip('\\n\\r')\n",
    "        #if 'issuer' in s.lower():\n",
    "        #    print repr(s)\n",
    "        #    print '-----'\n",
    "        \n",
    "        if re.search(r'.*issuer[\\s\\n]*:.*', s.lower()) or re.match(r'issuer\\s{4,}.*', s.lower()):\n",
    "            #print s\n",
    "            tmp = fcomp.closerMatch(s.replace('issuer',''))\n",
    "            if tmp is not None:\n",
    "                name, value = tmp\n",
    "                #print '-----'\n",
    "                #print name, value, s.replace('issuer','')\n",
    "                if value > 0.6:\n",
    "                    return name\n",
    "            \n",
    "        test=re.findall(r'issued by.*', s.lower())\n",
    "        if len(test) > 0:\n",
    "            test=test[0].split('\\n')[0].replace('issued by','')\n",
    "            #print test\n",
    "            tmp = fcomp.closerMatch(test)\n",
    "            if tmp is not None:\n",
    "                name, value = tmp\n",
    "                if value > 0.6:\n",
    "                    return name\n",
    "        \n",
    "        s=s.replace('\\n',' ')\n",
    "        s=s.replace('\\r',' ')\n",
    "        test=re.findall(r'.*issue of', s.lower())\n",
    "        if len(test) > 0:\n",
    "            #print test\n",
    "            test=test[0].replace('issue of','')\n",
    "            tmp = fcomp.closerMatch(test)\n",
    "            if tmp is not None:\n",
    "                name, value = tmp\n",
    "                if value > 0.6:\n",
    "                    return name\n",
    "            \n",
    "        test=re.findall(r'.*issued', s.lower())\n",
    "        if len(test) > 0:\n",
    "            #print test\n",
    "            test=test[0].replace('issue of','')\n",
    "            tmp = fcomp.closerMatch(test)\n",
    "            if tmp is not None:\n",
    "                name, value = tmp\n",
    "                if value > 0.6:\n",
    "                    return name\n",
    "                \n",
    "    return None"
   ]
  },
  {
   "cell_type": "code",
   "execution_count": null,
   "metadata": {
    "collapsed": false
   },
   "outputs": [],
   "source": []
  },
  {
   "cell_type": "code",
   "execution_count": 21,
   "metadata": {
    "collapsed": false,
    "scrolled": true
   },
   "outputs": [],
   "source": [
    "   \n",
    "# let read all the files in html and process them...\n",
    "# this does nothing but read all the files, use it as template...\n",
    "\n",
    "folder='../data_0/html'\n",
    "files=tr.get_files(folder)\n",
    "filesTxT=tr.get_files('../data_0/txt')\n",
    "\n",
    "for isin in data: # for each isin in the data object created before\n",
    "#for isin in ['XS0461332347']:\n",
    "    f=data[isin][0] # get the file_ids\n",
    "    issuer=None\n",
    "    for item in f: # for each of these files\n",
    "        # get the txt.\n",
    "        txt=tr.clean_text(tr.get_text(filesTxT[item],raw=True))\n",
    "        issuer=get_issuer(txt)\n",
    "        if issuer is None:\n",
    "            txt=tr.clean_text(tr.get_text(files[item]))\n",
    "            issuer=get_issuer(txt)\n",
    "            \n",
    "        if issuer is not None:\n",
    "            break\n",
    "    \n",
    "    #print issuer\n",
    "    if issuer is not None:\n",
    "        data[isin][8]=issuer"
   ]
  },
  {
   "cell_type": "code",
   "execution_count": 22,
   "metadata": {
    "collapsed": false,
    "scrolled": true
   },
   "outputs": [
    {
     "name": "stdout",
     "output_type": "stream",
     "text": [
      "XS1051380837 ,  None ,  DEUTSCHE BANK AG, GREAT WINCHE\n",
      "XS1051372495 ,  None ,  DEUTSCHE BANK AG, GREAT WINCHE\n",
      "XS0461332347 ,  J.P. MORGAN STRUCTURED PRODUCT ,  DEUTSCHE BANK AG, GREAT WINCHE\n",
      "XS1330994689 ,  None ,  ROYAL BANK OF CANADA\n",
      "XS1051364633 ,  J.P. MORGAN STRUCTURED PRODUCT ,  DEUTSCHE BANK AG, GREAT WINCHE\n",
      "XS1289649243 ,  CREDIT SUISSE INTERNATIONAL ,  SG ISSUER\n",
      "XS1207472660 ,  THE HONGKONG AND SHANGHAI BANK ,  CREDIT SUISSE INTERNATIONAL\n",
      "XS1051365010 ,  None ,  DEUTSCHE BANK AG, GREAT WINCHE\n",
      "XS1051340963 ,  None ,  DEUTSCHE BANK AG, GREAT WINCHE\n",
      "XS1301505787 ,  DEUTSCHE BANK AG, GREAT WINCHE ,  UBS AG\n",
      "XS1221134189 ,  J.P. MORGAN STRUCTURED PRODUCT ,  DEUTSCHE BANK AG, GREAT WINCHE\n",
      "XS1301484173 ,  DEUTSCHE BANK AG, GREAT WINCHE ,  UBS AG\n",
      "XS1313797141 ,  None ,  BNP PARIBAS ARBITRAGE ISSUANCE\n",
      "XS1266616736 ,  CREDIT SUISSE INTERNATIONAL ,  SG ISSUER\n",
      "XS0751776070 ,  J.P. MORGAN STRUCTURED PRODUCT ,  DEUTSCHE BANK AG, GREAT WINCHE\n",
      "XS1301474539 ,  DEUTSCHE BANK AG, GREAT WINCHE ,  UBS AG\n",
      "XS1144640239 ,  BARCLAYS BANK PLC, BISHOPSGATE ,  \n",
      "XS1266613980 ,  CREDIT SUISSE INTERNATIONAL ,  SG ISSUER\n",
      "XS1051334214 ,  None ,  DEUTSCHE BANK AG, GREAT WINCHE\n",
      "XS1301478282 ,  DEUTSCHE BANK AG, GREAT WINCHE ,  UBS AG\n",
      "XS1051340880 ,  None ,  DEUTSCHE BANK AG, GREAT WINCHE\n",
      "XS1301487192 ,  DEUTSCHE BANK AG, GREAT WINCHE ,  UBS AG\n",
      "XS1051372222 ,  None ,  DEUTSCHE BANK AG, GREAT WINCHE\n",
      "XS1051369434 ,  None ,  DEUTSCHE BANK AG, GREAT WINCHE\n",
      "XS1051364559 ,  None ,  DEUTSCHE BANK AG, GREAT WINCHE\n",
      "\n",
      "total number of set compared: 1200\n",
      "total number of missing set: 0\n",
      "total number of errors for each index: [ 25.]\n",
      "error %: [ 2.08333333]\n"
     ]
    }
   ],
   "source": [
    "data.evaluate([8],labels,printerr=True, match_ok=90)"
   ]
  },
  {
   "cell_type": "code",
   "execution_count": null,
   "metadata": {
    "collapsed": true
   },
   "outputs": [],
   "source": []
  },
  {
   "cell_type": "code",
   "execution_count": null,
   "metadata": {
    "collapsed": true
   },
   "outputs": [],
   "source": []
  },
  {
   "cell_type": "code",
   "execution_count": 13,
   "metadata": {
    "collapsed": false
   },
   "outputs": [],
   "source": [
    "n=u'pricing supplement dated 21 december 2015\\r\\n\\r\\n\\r\\n                                 bnp paribas arbitrage issuance b.v.\\n\\n(incorporated in the netherlands)\\r\\n\\r\\n                                                (as issuer)\\r\\n\\r\\n3'"
   ]
  },
  {
   "cell_type": "code",
   "execution_count": 14,
   "metadata": {
    "collapsed": false
   },
   "outputs": [
    {
     "data": {
      "text/plain": [
       "218"
      ]
     },
     "execution_count": 14,
     "metadata": {},
     "output_type": "execute_result"
    }
   ],
   "source": [
    "len(n)"
   ]
  },
  {
   "cell_type": "code",
   "execution_count": 16,
   "metadata": {
    "collapsed": false
   },
   "outputs": [
    {
     "data": {
      "text/plain": [
       "138"
      ]
     },
     "execution_count": 16,
     "metadata": {},
     "output_type": "execute_result"
    }
   ],
   "source": [
    "n=u'bnp paribas arbitrage issuance b.v.\\n\\n(incorporated in the netherlands)\\r\\n\\r\\n                                                (as issuer)\\r\\n\\r\\n3'\n",
    "len(n)"
   ]
  },
  {
   "cell_type": "markdown",
   "metadata": {},
   "source": [
    "########################### instread of dividing by sentence try to take the words around the word of interest ############\n",
    "\n",
    "take +250 -250 words"
   ]
  },
  {
   "cell_type": "code",
   "execution_count": 24,
   "metadata": {
    "collapsed": true
   },
   "outputs": [],
   "source": [
    "def get_issuer(txt):\n",
    "\n",
    "    txt = txt.replace('\\n',' ')\n",
    "    txt = txt.replace('\\r',' ')\n",
    "    sents=re.findall('.{0,200}issue.{0,200}', txt.lower(), re.S )\n",
    "    \n",
    "    for s in sents:   # split into sentences.  \n",
    "        s=s.lower().strip('\\n\\r')\n",
    "        if 'issuer' in s.lower():\n",
    "            print repr(s)\n",
    "            print '-----'\n",
    "        \n",
    "        if re.search(r'.*issuer[\\s\\n]*:.*', s.lower()) or re.match(r'issuer\\s{4,}.*', s.lower()) or\n",
    "        re.search(r'.*issue\\..*', s.lower()):\n",
    "            #print 'aaaaa',s\n",
    "            tmp = fcomp.closerMatch(s.replace('issuer',''))\n",
    "            if tmp is not None:\n",
    "                name, value = tmp\n",
    "                #print '-----'\n",
    "                #print name, value, s.replace('issuer','')\n",
    "                return name\n",
    "            \n",
    "        test=re.findall(r'issued by.*', s.lower())\n",
    "        if len(test) > 0:\n",
    "            test=test[0].split('\\n')[0].replace('issued by','')\n",
    "            tmp = fcomp.closerMatch(test)\n",
    "            if tmp is not None:\n",
    "                name, value = tmp\n",
    "                return name\n",
    "        \n",
    "        test=re.findall(r'.*issue of', s.lower())\n",
    "        if len(test) > 0:\n",
    "            #print test\n",
    "            test=test[0].replace('issue of','')\n",
    "            tmp = fcomp.closerMatch(test)\n",
    "            if tmp is not None:\n",
    "                name, value = tmp\n",
    "                return name\n",
    "            \n",
    "        test=re.findall(r'.*issued', s.lower())\n",
    "        if len(test) > 0:\n",
    "            #print test\n",
    "            test=test[0].replace('issue of','')\n",
    "            tmp = fcomp.closerMatch(test)\n",
    "            if tmp is not None:\n",
    "                name, value = tmp\n",
    "                return name\n",
    "                \n",
    "    return None"
   ]
  },
  {
   "cell_type": "code",
   "execution_count": 3,
   "metadata": {
    "collapsed": false,
    "scrolled": true
   },
   "outputs": [
    {
     "name": "stdout",
     "output_type": "stream",
     "text": [
      "['fileId', 'NOMINAL.CURR', 'MIN.TRAD.AMT', 'MULT.TRAD.AMT', 'ZERO.COUPN.FLAG', 'SEC.SUB.ID', 'FUNG.FL', 'OpCurrency', 'issuerName', 'issuerCity', 'issuerCountry', 'guarantorName', 'guarantorCity', 'guarantorCountry', 'City.Id', 'City.Name']\n",
      "\n",
      "set(['THE HONGKONG AND SHANGHAI BANK', 'GOLDMAN SACHS INTERNATIONAL', 'J.P. MORGAN STRUCTURED PRODUCT', 'BARCLAYS BANK PLC, BISHOPSGATE', 'UBS AG', 'SMBC NIKKO SECURITIES INC.', 'HSBC BANK PLC', 'CREDIT SUISSE INTERNATIONAL', 'BNP PARIBAS ARBITRAGE ISSUANCE', 'SG ISSUER', 'DEUTSCHE BANK AG, GREAT WINCHE', 'ROYAL BANK OF CANADA'])\n",
      "The folloing synonymes has no ref to the primary vocabulary:  ('FORT DUP 11046', 'paris')\n"
     ]
    }
   ],
   "source": [
    "from code.Matching import fuzzCompany\n",
    "\n",
    "import spacy\n",
    "import os\n",
    "from code import Text_reader as tr\n",
    "from code.Labels import label\n",
    "import copy\n",
    "import re\n",
    "from fuzzywuzzy import fuzz\n",
    "from fuzzywuzzy import process\n",
    "import ordered_set\n",
    "import numpy as np\n",
    "\n",
    "# Load English tokenizer, tagger, parser, NER and word vectors\n",
    "#nlp = spacy.load('en')\n",
    "\n",
    "data0='../data_0'\n",
    "data1='../data_1'\n",
    "labels=label.from_cvs(data0)\n",
    "data=copy.deepcopy(labels)\n",
    "data.empty()\n",
    "setcompany = labels.get_set('issuerName')\n",
    "#setcompany.update(labels.get_set('guarantorName'))\n",
    "\n",
    "if '' in setcompany:\n",
    "    setcompany.remove('')\n",
    "print\n",
    "print setcompany\n",
    "\n",
    "syn=[('FORT DUP 11046','paris'),('GREAT WINCHE','london'),('J.P. MORGAN','JPMORGAN'),\n",
    "    ('JPMORGAN','J.P. MORGAN'),('BISHOPSGATE','london')]\n",
    "fcomp = fuzzCompany(setcompany,syn)"
   ]
  },
  {
   "cell_type": "code",
   "execution_count": 26,
   "metadata": {
    "collapsed": false,
    "scrolled": true
   },
   "outputs": [
    {
     "name": "stdout",
     "output_type": "stream",
     "text": [
      "u'                              (as issuer)                                                  bnp paribas                                             (incorporated in france)                                                  (as guarantor)    '\n",
      "-----\n",
      "u'                    bnp paribas arbitrage s.n.c.  (as manager)          any person making or intending to make an offer of notes may only do so in circumstances in which no  obligation arises for the issuer to publish a prospectus pursuant to article 3 of the prospectus directive  or to supplement a prospectus pursuant to article 16 of the prospectus directive, in each case, in relation  to such offer.'\n",
      "-----\n",
      "u'rospectus (the  \"base prospectus\").  this document constitutes the pricing supplement of the notes described herein  and must be read in conjunction with the base prospectus.  full information on the issuer, the guarantor  and the notes is only available on the basis of the combination of this pricing supplement and the base  prospectus.  the base prospectus and this pricing supplement (in each case, t'\n",
      "-----\n",
      "u'ect of the pricing supplement) on  https: //rates-globalmarkets.bnpparibas.com/gm/public/lega!docs.aspx.  a copy of this pricing  supplement and the base prospectus will be sent free of charge by the issuer to any investor requesting  such documents.  1.   (i) .      issuer.  bnp paribas arbitrage issuance b.v.   (ii) .     guarantor: bnp paribas    2.   (i) .      series number: el635tso           (ii'\n",
      "-----\n",
      "u'l not apply to                                              the notes    19.  additional business centre(s)         tokyo and london        (condition 3.13): provisions relating to redemption    20.  issuer call option: not applicable    21.  noteholder put option: not applicable    22.  final redemption amount: the index linked redemption amount specified below    23.  index linked redemption amount: '\n",
      "-----\n",
      "u'ming due and repayable for                                                        taxation reasons (condition 5.2) or on event of default of                                                        the issuer or the guarantor (condition 8) on or after the                                                        issue date but prior to the maturity date each note will be                                     '\n",
      "-----\n",
      "u'ffect of preserving for the                                                        noteholders the economic equivalent of the obligations of                                                        the issuer or guarantor to make payments of principal in                                                        respect of the notes on the maturity date and interest, as                                       '\n",
      "-----\n",
      "u\"                                       originally designated maturity date: 2s.  provisions applicable to physical             not applicable          delivery: 26.  variation of settlement: (i)      issuer's option        to     vary    the issuer does not have the option to vary settlement in                  settlement: respect of the notes.   (ii) .     variation of settlement of            not app\"\n",
      "-----\n",
      "u'    including any right of the issuer to        forfeit the notes and interest due on        late payment: 31.  details relating to notes redeemable    not applicable        in instalments: amount of each        instalment, date on whic'\n",
      "-----\n",
      "u'total commission and concession: none    38.  u.s.  selling restrictions: reg.  s compliance category 2; tefra d    39.  additional selling restrictions: not applicable        signed on behalf of the issuer: by: duly   ~         au: sect                             -==-                                                          10  \\x0c                              part 8-0ther information      i.  listing '\n",
      "-----\n",
      "u'could result in the noteholders receiving lower coupons (if applicable) and/or upon final       redemption, an amount that may be less than the principal amount of the notes or even nil.  none of the issuer, the calculation agent or any agents accepts responsibility for the       calculation, maintenance or publication of any underlying equity index or any successor index.  3.  performance of index and'\n",
      "-----\n",
      "u'ndex sponsor is       making any representation whatsoever, whether express or implied, as to the advisability of       purchasing or assuming any risk in connection with the securities.  neither the issuer nor the       guarantor shall have any liability for any act or failure to act by an index sponsor in connection       with the calculation, adjustment or maintenance of an index.  except as disclos'\n",
      "-----\n",
      "u'ed prior to the       issue date, neither the issuer, the guarantor nor their affiliates has any affiliation with or       control over an index or index sponsor or any control over the computation, composition or       dissemination of an index.  alt'\n",
      "-----\n",
      "u'reliable, it will not independently verify this       information.  accordingly, no representation, warranty or undertaking (express or implied) is       made and no responsibility is accepted by the issuer, the guarantor, their affiliates or the       calculation agent as to the accuracy, completeness and timeliness of information concerning an       index.   11 .  \\x0c4.  operational information        '\n",
      "-----\n",
      "u' .    common code: 131379714          (iii) .   any clearing system(s)        not applicable               other than euroclear and               clearstream, luxembourg               approved by the issuer and               the principal paying agent               and        the     relevant               identification number(s): (iv)    delivery: delivery against payment          (v) .     additiona'\n",
      "-----\n",
      "u'no prospectus is required in accordance with directive 2003nl/ec for the issue of notes described below.  pricing supplement dated 21 december 2015.  bnp paribas arbitrage issuance b.v.  (incorporated in the netherlands).  (as issuer).  bnp paribas (incorporated in france) (as '\n",
      "-----\n",
      "u'son making or intending to make an offer of notes may only do so in circumstances in which no obligation arises for the issuer to publish a prospectus pursuant to article 3 of the prospectus directive or to supplement a prospectus pursuant to article 16 of the prospectus directive, in each case, in relation to such offer.  '\n",
      "-----\n",
      "u' prospectus (the \"base prospectus\").  this document constitutes the pricing supplement of the notes described herein and must be read in conjunction with the base prospectus.  full information on the issuer, the guarantor and the notes is only available on the basis of the combination of this pricing supplement and the base prospectus.  the base prospectus and this pricing supplement (in each case, tog'\n",
      "-----\n",
      "u'pect of the pricing supplement) on https: //rates-globalmarkets .bnpparibas.com/gm/public/lega!docs.aspx.  a copy of this pricing supplement and the base prospectus will be sent free of charge by the issuer to any investor requesting such documents.  1.   (i) . issuer.   (ii) . guarantor: 2.   (i) .  series number: (ii) tranche number: 3.  specified currency: 1.  aggregate nominal amount.  1.  series: '\n",
      "-----\n",
      "u'applicable.  the additional disruption events set out in condition 9 of the terms and conditions of the notes shall not apply to the notes.  tokyo and london.  provisions relating to redemption.  4.  issuer call option: 5.  noteholder put option: 6.  final redemption amount: 7.  index linked redemption amount: 1.  index/basket oflndices: 2.  index currency: 3.  screen page: not applicable not applicabl'\n",
      "-----\n",
      "u': condition 5.5 is hereby deemed to be deleted and replaced with the following: in the event of the notes becoming due and repayable for taxation reasons (condition 5.2) or on event of default of the issuer or the guarantor (condition 8) on or after the issue date but prior to the maturity date each note will be redeemed at an amount (the \"early redemption amount\") calculated as follows, together, if a'\n",
      "-----\n",
      "u'shall be determined by the calculation agent acting in its sole and absolute discretion which would have the effect of preserving for the noteholders the economic equivalent of the obligations of the issuer or guarantor to make payments of principal in respect of the notes on the maturity date and interest, as applicable, for the period from and including the date fixed for redemption or (as the case m'\n",
      "-----\n",
      "u\"ay be) the date upon which such note becomes due and repayable to but excluding the originally designated maturity date.  not applicable.  1.  issuer's option to settlement: vary the issuer does not have the option to vary settlement in respect of the notes.  1.  variation of settlement of not applicable physical delivery notes: general provisions applicable to the notes.  27.  form of\"\n",
      "-----\n",
      "u'upons or no receipts to be attached to definitive.  notes (and dates on which such talons mature): 30.  details relating to partly paid notes: not applicable.  amount of each payment comprising.  the issue price and date on which.  each payment is to be made and, if.  different from those specified in the.  temporary global note, consequences of failure to pay, including any right of the issuer to forf'\n",
      "-----\n",
      "u'ble.  1.  total commission and concession: none.  2.  u.s.  selling restrictions: reg.s compliance category 2; tefra d.  3.  addition al selling restrictions: not applicable.  signed on behalf of the issuer: ![image](0900045c83ac8de0_ixs1313797141_f_pc_n_ocr/image_001.png).  by: -===-.  duly au: sect.  part 8 -0therinformation.  1.  listing and admission to trading.  (i).  listing: none.  (ii).  admiss'\n",
      "-----\n",
      "u's and could result in the noteholders receiving lower coupons (if applicable) and/or upon final redemption, an amount that may be less than the principal amount of the notes or even nil.  none of the issuer, the calculation agent or any agents accepts responsibility for the calculation, maintenance or publication of any underlying equity index or any successor index.  3.  performance of index and expla'\n",
      "-----\n",
      "u'erein.  no index sponsor is making any representation whatsoever, whether express or implied, as to the advisability of purchasing or assuming any risk in connection with the securities.  neither the issuer nor the guarantor shall have any liability for any act or failure to act by an index sponsor in connection with the calculation, adjustment or maintenance of an index.  except as disclosed prior to '\n",
      "-----\n",
      "u'the issue date, neither the issuer, the guarantor nor their affiliates has any affiliation with or control over an index or index sponsor or any control over the computation, composition or dissemination of an index.  although the ca'\n",
      "-----\n",
      "u'it believes reliable, it will not independently verify this information.  accordingly, no representation, warranty or undertaking (express or implied) is made and no responsibility is accepted by the issuer, the guarantor, their affiliates or the calculation agent as to the accuracy, completeness and timeliness of information concerning an index.  11.  4.  operationalinformation.  (i).  isin: xs 131379'\n",
      "-----\n",
      "u'714 1.  (it).  common code: 131379714.  (iii).  any clearing.  system(s).  not applicable.  other than euroclear and clearstream, luxembourg approved by the issuer and the principal paying agent and the relevant identification number(s): (iv).  (v).  delivery: additional paying.  delivery against payment.  not applicable.  agent(s) (if any): (vi).  intended to'\n",
      "-----\n",
      "None\n"
     ]
    }
   ],
   "source": [
    "   \n",
    "# let read all the files in html and process them...\n",
    "# this does nothing but read all the files, use it as template...\n",
    "\n",
    "folder='../data_0/html'\n",
    "files=tr.get_files(folder)\n",
    "filesTxT=tr.get_files('../data_0/txt')\n",
    "\n",
    "#for isin in data: # for each isin in the data object created before\n",
    "for isin in ['XS1313797141']:\n",
    "    f=data[isin][0] # get the file_ids\n",
    "    issuer=None\n",
    "    for item in f: # for each of these files\n",
    "        # get the txt.\n",
    "        txt=tr.clean_text(tr.get_text(filesTxT[item],raw=True))\n",
    "        issuer=get_issuer(txt)\n",
    "        if issuer is None:\n",
    "            txt=tr.clean_text(tr.get_text(files[item]))\n",
    "            issuer=get_issuer(txt)\n",
    "            \n",
    "        if issuer is not None:\n",
    "            break\n",
    "    \n",
    "    print issuer\n",
    "    if issuer is not None:\n",
    "        data[isin][8]=issuer"
   ]
  },
  {
   "cell_type": "markdown",
   "metadata": {},
   "source": [
    "Detect name of compay then the distence between the name of the company and 'issue(r/d)' ++> take the name with the smaller distence.\n",
    "\n",
    "name of company: remove number, punctuation, common word.\n",
    "\n",
    "detect name on as ag, inc., bank, sa, ... + with majuscule + wikipedia search ?\n"
   ]
  },
  {
   "cell_type": "code",
   "execution_count": 37,
   "metadata": {
    "collapsed": false
   },
   "outputs": [],
   "source": [
    "folder='../data_0/html'\n",
    "files=tr.get_files(folder)\n",
    "filesTxT=tr.get_files('../data_0/txt')\n",
    "\n",
    "f=data['XS1313797141'][0][0]\n",
    "txt=tr.clean_text(tr.get_text(filesTxT[f]))  "
   ]
  },
  {
   "cell_type": "code",
   "execution_count": 38,
   "metadata": {
    "collapsed": false,
    "scrolled": true
   },
   "outputs": [
    {
     "data": {
      "text/plain": [
       "u'NO PROSPECTUS IS REQUIRED IN ACCORDANCE WITH DIRECTIVE 2003nl/EC FOR THE ISSUE OF NOTES DESCRIBED BELOW. PRICING SUPPLEMENT DATED 21 DECEMBER 2015 BNP Paribas Arbitrage Issuance B.V. (incorporated in The Netherlands) (as Issuer) BNP Paribas (incorporated in France) (as Guarantor) (Note, Warrant and Certificate Programme) Issue or JPYl50,000,000 Index Linked Interest Notes with Index Linked Redemption linked to the Nikkei 225 Index due 22 December 2020 Series El635TSO BNP Paribas Arbitrage S.N.C. (as Manager) Any person making or intending to make an offer of Notes may only do so in circumstances in which no obligation arises for the Issuer to publish a prospectus pursuant to Article 3 of the Prospectus Directive or to supplement a prospectus pursuant to Article 16 of the Prospectus Directive, in each case, in relation to such offer. PART A- CONTRACTUAL TERMS Terms used herein shall be deemed to be defined as such for the purposes of the Conditions (the \"Conditions\") set forth under the sections entitled \"Terms and Conditions of the Notes\" and \"Annex 2 - Additional Terms and Conditions for Index Securities\" in the Base Prospectus dated 9 June 2015 and any Supplements thereto approved and published on or before the date of this Pricing Supplement (copies of which are available as described below) which together constitute a base prospectus (the \"Base Prospectus\"). This document constitutes the Pricing Supplement of the Notes described herein and must be read in conjunction with the Base Prospectus. Full information on the Issuer, the Guarantor and the Notes is only available on the basis of the combination of this Pricing Supplement and the Base Prospectus. The Base Prospectus and this Pricing Supplement (in each case, together with any documents incorporated therein by reference) are available for viewing at, and copies may be obtained free of charge from, BNP Paribas Arbitrage S.N.C. (in its capacity as Principal Paying Agent), 160-162, boulevard Macdonald, 75019 Paris, France and (save in respect of the Pricing Supplement) on https: //rates- globalmarkets.bnpparibas.com/gm/Public/Lega!Docs.aspx. A copy of this Pricing Supplement and the Base Prospectus will be sent free of charge by the Issuer to any investor requesting such documents. 1. (i) . Issuer. BNP Paribas Arbitrage Issuance B.V. (ii) . Guarantor: BNP Paribas 2. (i) . Series Number: El635TSO (ii) Tranche Number: 3. Specified Currency: Japanese Yen (\"JPY\") 4. Aggregate Nominal Amount: (i) Series: JPY 150,000,000 (ii) Tranche: JPY 150,000,000 s. Issue Price of Tranche: 100.00 per cent. of the Aggregate Nominal Amount 6. Minimum Trading Size: JPY 10,000,000 7. (i) . Specified Denominalions: JPY 10,000,000 which may not be divided into smaller denominations (ii) Calculation Amount: JPY I 0,000,000 8. (i) . Issue Date: 2 1 December 201 5 (ii) Interest Commencement 22 December 201 5 Date: 9. Maturity Date: 22 December 2020 or if that is not a Business Day, the immediately succeeding Business Day unless it would thereby fall into the next calendar month, in which event it will be brought forward to the immediately preceding Business Day 10. Form ofNotes: Bearer 11. Interest Basis: Index Linked Interest (further particulars specified below) 12. Redemption/Payment Basis: Index Linked Redemption (further particulars specified below) 13. Change of Interest Basis or Not applicable Redemption/Payment Basis: 14. Put/Call Options: Not applicable 15. Tax Gross-up: Condition 6.4 (No Gross-up) not applicable 16. Method of distribution: Non-syndicated PROVISIONS RELATING TO INTEREST (IF ANY) PAYABLE 17. Fixed Rate Provisions: Not applicable 18. Index Linked Interest Provisions: Applicable (i) Index/Basket oflndices: Nikkei 225 (the \"Index\") The Nikkei 225 Index is not a Composite Index (ii) Index Currency: JPY (iii) Screen Page: Reuters page: N225 (iv) Rate oflnterest: The Rate of Interest payable for the relevant Interest Period shall be determined by the Calculation Agent as follows: (i) if the Settlement Price on the relevant Interest Valuation Date of the Index is equal to or greater than Coupon Trigger Level I then the Rate of Interest in respect of the Interest Period ending on the immediately following Interest Payment Date shall be 10.00 per cent. per annum (JPY250,000 per Calculation Amount payable on such Interest Payment Date); (ii) if the Settlement Price on the relevant Interest Valuation Date of the Index is (A) less than Coupon Trigger Level 1 and (B) equal to or greater than Coupon Trigger Level 2 then the Rate of Interest in respect of the Interest Period ending on the immediately following Interest Payment Date shall be 4.00 per cent. per annum (JPYl00,000 per Calculation Amount payable on such Interest Payment Date); (iii) otherwise the Rate of Interest in respect of the Interest Period ending on the immediately following Interest Payment Date shall be 0.10 per cent. per annum (JPY2,500 per Calculation Amount payable on such Interest Payment Date) Where: \"Coupon Trigger Level 1\" means JPY20,935.00 \"Coupon Trigger Level 2\" means JPYl6,948.00 3 (v) Settlement Price: The Settlement Price will be calculated in accordance with the definition of \"Settlement Price\" in Index Security Condition l of Annex 2 (Additional Tenns and Conditions for Index Securities) sub-paragraph (b) being the applicable sub-paragraph (vi) Interest Period(s): As set out in the Conditions (vii) Interest Period End 22 March, 22 June, 22 September and 22 December in each Date(s): year from and including the First Index Linked Interest Payment Date (as defined below) to and including the Maturity Date Business Day Nooe Convention for Interest Period End Date(s): (viii) Interest Payment Date(s): 22 March, 22 June, 22 September and 22 December in each year from and including 22 March 2016 (the \"First Index Linked Interest Payment Date\") to and including the Maturity Date Business Day Modified Following Convention for Interest Payment Date(s): (ix) Day Count Fraction: 30/360 (x) Averaging: Averaging does not apply to the Notes. (xi) . Strike Date: Not applicable (xii) Interest Valuation Date(s): Ten (10) Scheduled Trading Days prior to each Interest Payment Date (xiii) Observation Date(s): Not applicable (xiv) Observation Period: Not applicable (xv) Specified Maximum Days Three (3) Scheduled Trading Days of Disruption: (xvi) Exchange Business Day: (Single Index Basis) 4 (xvii) Scheduled Trading Day: (Single Index Basis) (xviii) Exchange(s) and Index (a) the relevant Exchange is Tokyo Stock Exchange; and Sponsor: (b) Nikkei Inc. or any successor thereto is the Index Sponsor. The functions of index calculation agent are carried out by the Index Business Department of Nikkei Inc. (xix) . Related Exchange: Osaka Exchange (xx) Weighting: Not applicable (xxi) Valuation Time: Scheduled Closing Time (xxii) Index Correction Period: As per Conditions (xxiii) Optional Additional Not applicable Disruption Events: Delayed Redemption on Occurrence of Additional Disruption Event and/or Optional Additional Disruption Event: Not applicable (xxiv) Other terms or special The Additional Disruption Events set out in Condition 9 of conditions: the Terms and Conditions of the Notes shall not apply to the Notes 19. Additional Business Centre(s) Tokyo and London (Condition 3.13): PROVISIONS RELATING TO REDEMPTION 20. Issuer Call Option: Not applicable 21. Noteholder Put Option: Not applicable 22. Final Redemption Amount: The Index Linked Redemption Amount specified below 23. Index Linked Redemption Amount: Applicable (further particulars specified below) (i) Index/Basket of Indices: As set out in sub- paragraph 18(i) (ii) Index Currency: As set out in sub-paragraph l 8(ii) (iii) Screen Page: As set out in sub-paragraph 1B(iii) s (iv) Index Linked Redemption The Calculation Agent shall detennine the Index Linked Amount: Redemption Amount as follows: a) If a Knock-in Event has not occurred, then the Index Linked Redemption Amount shall be JPYJ 0,000,000 per Calculation Amount; b) If a Knock-in Event has occurred, then the Index Linked Redemption Amount shall be calculated in accordance with the following formula (subject to a minimum Index Linked Redemption Amount of JPYO per Calculation Amount and a maximum Index Linked Redemption Amount of JPYI0,000,000 per Calculation Amount): JPYJ0,000,000 x Final Level / Strike the resultant amount shall be rounded to the nearest whole JPY with JPY0.5 being rounded upwards Where: \"Strike\" means JPYl9,939.00 \" Final Level\" means the Settlement Price on the Redemption Valuation Date (v) Settlement Price: As set out in sub-paragraph 18(v) . (vi) Specified Maximum Days As set out in sub-paragraph 18(xv) of Disruption: (vii) Strike Date: As set out in sub-paragraph 18(xi) (viii) Averaging; As set out in sub-paragraph 18(x) (ix) Redemption Valuation Ten (10) Scheduled Trading Days prior to the Maturity Date: Date (x) Observation Date(s): As set out in sub-paragraph I 8(xiii) (xi) Observation Period: As set out in sub-paragraph I 8(xiv) (xii) Exchange Business Day: As set out in sub- paragraph I 8(xvi) (xiii) Scheduled Trading Day: As set out in sub-paragraph I 8(xvii) . (xiv) Exchange(s) and Index As set out in sub-paragraph I 8(xviii) Sponsor: (xv) Related Exchange; As set out in sub-paragraph I 8(xix) (xvi) Weighting: As set out in sub-paragraph 18(xx) (xvii) Valuation Time: As set out in sub-paragraph 18(xxi) 6 (xviii) Index Correction Period: As set out in sub-paragraph 18(xxii) (xix) Optional Additional As set out in sub-paragraph 18(xxiii) . Disruption Events: (xx) Knock-in Event: Applicable A Knock-in Event shall be deemed to occur if the Calculation Agent detennines that the Level of the Index on any Knock-in Detennination Day is less than or equal to the Knock-in Level Where: \"Level\" means the traded level Disruption Consequences: Applicable. In the event that a Knock-in Detennination Day is a Disrupted Day, the Knock-in Detennination Day shall be treated as an Averaging Date and \"Omission\" will apply. (a) Knock-in JPYl l,963.00 Level/Knock-in Range Level: (b) Knock-in Period 4 December 2015 Beginning Date: (c) Knock-in The period from and including the Knock-in Period Detennination Period: Beginning Date to and including the Knock-in Period Ending Date (d) Knock-in Each Scheduled Trading Day during the Knock-in Detennination Determination Period Day(s): (e) Knock-in Period The Redemption Valuation Date Ending Date: (f) Knock-in Valuation Any time during a Knock-in Determination Day Time: (xxi) Knock-out Event: Not applicable (xxii) Automatic Early Applicable, if the Level of the Index on the relevant Redemption Event: Automatic Early Redemption Valuation Date is greater than or equal to the Automatic Early Redemption Level Where: \"Level\" means the official close (a) Automatic Early JPYl0,000,000 per Calculation Amount Redemption Amount: 1 (b) Automatic Early Interest Payment Dates falling on 22 March, 22 June, 22 Redemption Date(s): September and 22 December of each year, from and including 22 March 2016 to and including 22 September 2020 (c) Automatic Early JPY20,935.00 Redemption Level: (d) Automatic Early Ten (10) Scheduled Trading Days prior to each Automatic Redemption Early Redemption Date Valuation Date(s): (xxiii) Other terms or special As set out in sub-paragraph 18(xxiv) conditions: : 24. Early Redemption Amount: Early Redemption Amount(s): Condition 5.5 is hereby deemed to be deleted and replaced with the following: In the event of the Notes becoming due and repayable for taxation reasons (Condition 5.2) or on Event of Default of the Issuer or the Guarantor (Condition 8) on or after the Issue Date but prior to the Maturity Date each Note will be redeemed at an amount (the \"Early Redemption Amount\") calculated as follows, together, if appropriate, with interest accrued to (but excluding) the date fixed for redemption or (as the case may be) the date upon which such Note becomes due and repayable. The Early Redemption Amount in respect of the Notes shall be such amount as shall be determined by the Calculation Agent acting in its sole and absolute discretion which would have the effect of preserving for the Noteholders the economic equivalent of the obligations of the Issuer or Guarantor to make payments of principal in respect of the Notes on the Maturity Date and interest, as applicable, for the period from and including the date fixed for redemption or (as the case may be) the date upon which such Note becomes due and repayable to but excluding the originally designated Maturity Date: 2S. Provisions applicable to Physical Not applicable Delivery: 26. Variation of Settlement: (i) Issuer\\'s option to vary The Issuer does not have the option to vary settlement in settlement: respect of the Notes. (ii) . Variation of Settlement of Not applicable Physical Delivery Notes: 8 GENERAL PROVISIONS APPLICABLE TO THE NOTES 27. Form of Notes: Bearer Notes: New Global Note: No Temporary Bearer Global Note exchangeable for a Pennanent Bearer Global Note which is exchangeable for definitive Bearer Notes only upon an Exchange Event 28. Financial Centre(s) or other special Tokyo and London provisions relating to Payment Days for the purposes of Condition 4(a): 29. Talons for future Coupons or No Receipts to be attached to definitive Notes (and dates on which such Talons mature): 30. Details relating to Partly Paid Notes: Not applicable amount of each payment comprising the Issue Price and date on which each payment is to be made and, if different from those specified in the Temporary Global Note, consequences of failure to pay, including any right of the Issuer to forfeit the Notes and interest due on late payment: 31. Details relating to Notes redeemable Not applicable in instalments: amount of each instalment, date on which each payment is to be made: 32. Redenomination, renominalisation Not applicable and reconventioning provisions: 33. Calculation Agent: BNP Paribas Arbitrage S.N.C. (the \"Calculation Agent\") 160-162, boulevard Macdonald 75019 Paris France 34. Principal Paying Agent: BNP Paribas Arbitrage S.N.C. 35. Other terms or special conditions: Applicable For the avoidance of doubt, any amount payable per Calculation Amount shall be rounded to the nearest whole JPY with JPY0.5 being rounded upwards Sub-paragraph (a) of the definition of \"Valuation Date\" in 9 Condition 12 of the Tenns and Conditions of the Notes in the Base Prospectus is hereby amended with the insertion of \"and/or the Automatic Early Redemption Valuation Date\" after \"and/or the Redemption Valuation Date\" DISTRIBUTION 36. (i) . If syndicated, names of Not applicable Managers (specifying Lead Manager): {ii) Date of Subscription Not applicable Agreement: (iii) Stabilising Manager (if Not applicable any): 37. Total commission and concession: None 38. U.S. Selling Restrictions: Reg. S Compliance Category 2; TEFRA D 39. Additional selling restrictions: Not applicable Signed on behalf of the Issuer: By: Duly ~ au: sect -==- 10 PART 8-0THER INFORMATION I. Listing and Admission to trading (i) Listing: None (ii) Admission to trading: Not applicable (iii) Estimate of total expenses Not applicable related to admission to trading: 2. Risk Factors The reference lo Issue Price is not an expression of market value and does not imply that transactions in the market will not be executed at prices above or below such Issue Price to reflect prevailing market conditions. The attention of potential purchasers of the Notes is drawn to the Risk Factors set out in the Base Prospectus with particular reference to those relating to Index Securities and they should note that the coupons (if any) and return of principal (if any) in respect of the Notes described herein is linked to the value of one or more equity index, as applicable. Small movements in the value of an underlying equity index may have a significant impact on the value of the Notes and could result in the Noteholders receiving lower coupons (if applicable) and/or upon final redemption, an amount that may be less than the principal amount of the Notes or even nil. None of the Issuer, the Calculation Agent or any Agents accepts responsibility for the calculation, maintenance or publication of any underlying equity index or any successor index. 3. Performance of Index and Explanation of Effect on Value of Investment and Associated Risks and Other Information concerning the Underlying Reference General Disclaimer The issue of the Securities is not sponsored, endorsed, sold, or promoted by any index to which the return on the Securities is linked (an \"Index\", including any successor index) or any index sponsor of an Index to which the return on the Securities is linked (an \"Index Sponsor\") and no Index Sponsor makes any representation whatsoever, whether express or implied, either as to the results to be obtained from the use of an Index and/or the levels at which an Index stands at any particular time on any particular date or otherwise. No Index or Index Sponsor shall be liable (whether in negligence or otherwise) to any person for any error in an Index and an Index Sponsor is under no obligation to advise any person of any error therein. No Index Sponsor is making any representation whatsoever, whether express or implied, as to the advisability of purchasing or assuming any risk in connection with the Securities. Neither the Issuer nor the Guarantor shall have any liability for any act or failure to act by an Index Sponsor in connection with the calculation, adjustment or maintenance of an Index. Except as disclosed prior to the Issue Date, neither the Issuer, the Guarantor nor their affiliates has any affiliation with or control over an Index or Index Sponsor or any control over the computation, composition or dissemination of an Index. Although the Calculation Agent will obtain information concerning an Index from publicly available sources it believes reliable, it will not independently verify this information. Accordingly, no representation, warranty or undertaking (express or implied) is made and no responsibility is accepted by the Issuer, the Guarantor, their affiliates or the Calculation Agent as to the accuracy, completeness and timeliness of information concerning an Index. 11 . 4. OPERATIONAL INFORMATION (i) ISIN: XS131 379714 1 (ii) Common Code: 131379714 (iii) . Any clearing system(s) Not applicable other than Euroclear and Clearstream, Luxembourg approved by the Issuer and the Principal Paying Agent and the relevant identification number(s): (iv) Delivery: Delivery against payment (v) Additional Paying Not applicable Agent(s) (if any): (vi) Intended to be held in a No manner which would allow Eurosystem eligibility: 12 '"
      ]
     },
     "execution_count": 38,
     "metadata": {},
     "output_type": "execute_result"
    }
   ],
   "source": [
    "txt = txt.replace('\\n',' ')\n",
    "txt = txt.replace('\\r',' ')\n",
    "txt = re.sub('\\s+',' ',txt)\n",
    "txt"
   ]
  },
  {
   "cell_type": "code",
   "execution_count": 31,
   "metadata": {
    "collapsed": false
   },
   "outputs": [],
   "source": [
    "words=[]\n",
    "with open('../google-10000-english.txt') as f:\n",
    "    for w in f.readlines():\n",
    "        words.append(w.strip())"
   ]
  },
  {
   "cell_type": "code",
   "execution_count": null,
   "metadata": {
    "collapsed": true
   },
   "outputs": [],
   "source": [
    "\n",
    "rep = {\"condition1\": \"\", \"condition2\": \"text\"} # define desired replacements here\n",
    "\n",
    "# use these three lines to do the replacement\n",
    "rep = dict((re.escape(k), v) for k, v in rep.iteritems())\n",
    "pattern = re.compile(\"|\".join(rep.keys()))\n",
    "text = pattern.sub(lambda m: rep[re.escape(m.group(0))], text)"
   ]
  },
  {
   "cell_type": "code",
   "execution_count": 54,
   "metadata": {
    "collapsed": false,
    "scrolled": true
   },
   "outputs": [
    {
     "data": {
      "text/plain": [
       "u'NO PROSPECTUS nl EC BELOW. BNP Paribas Arbitrage Issuance B.V. incorporated Netherlands as Issuer BNP Paribas incorporated France as Guarantor Note Programme JPYl Redemption Nikkei El TSO BNP Paribas Arbitrage S.N.C. as Manager intending arises Issuer prospectus Prospectus prospectus Prospectus Directive case offer. A CONTRACTUAL Terms the Conditions Terms Notes Annex Securities Prospectus thereto copies below prospectus the Base Prospectus . Prospectus. Issuer Guarantor Prospectus. Prospectus in case therein reference at from BNP Paribas Arbitrage S.N.C. in Agent Macdonald Paris save Supplement https rates globalmarkets.bnpparibas.com gm Public Lega Docs.aspx. Prospectus Issuer documents. . i . Issuer. BNP Paribas Arbitrage Issuance B.V. ii . Guarantor BNP Paribas . i . Number El TSO ii Tranche Number . Currency JPY . Nominal Amount i Series JPY ii Tranche JPY s. Tranche . cent. Nominal . Size JPY . i . Denominalions JPY denominations ii Amount JPY . i . Date ii Commencement Date . Maturity Date Day succeeding month . ofNotes Bearer . Basis further particulars below . Redemption Payment Basis Redemption further particulars below . Redemption Payment Basis . Put Call Options . Gross up . No Gross up . distribution Non syndicated IF ANY . Provisions . Provisions i Index Basket oflndices Nikkei the Index Nikkei ii Currency JPY iii Page page N iv oflnterest follows i . cent. annum JPY Date ii A B . cent. annum JPYl Date iii . cent. annum JPY Date Where Coupon JPY . Coupon JPYl . v Price Settlement Price Additional Tenns Securities sub paragraph b sub paragraph vi Period s vii March June Date s as below Maturity Nooe Date s viii Date s March June the First Date Maturity Date s ix Fraction x Averaging Averaging Notes. xi . Date xii Date s xiii Date s xiv Period xv Disruption xvi Day Single Basis xvii Day Single Basis xviii Exchange s a Exchange Sponsor b Nikkei Inc. successor thereto Sponsor. Nikkei Inc. xix . Exchange Osaka xx Weighting xxi Time xxii Period xxiii Disruption Events Redemption Disruption and or Disruption Event xxiv Disruption conditions . Centre s Condition . REDEMPTION . Issuer Option . Noteholder Option . Redemption Amount Redemption . Redemption Amount further particulars below i Index Basket Indices sub i ii Currency sub paragraph ii iii Page sub paragraph B iii iv Redemption detennine Amount Redemption follows a Knock in occurred Redemption JPYJ Amount b Knock in occurred Redemption subject Redemption JPYO Redemption JPYI Amount JPYJ resultant rounded JPY JPY . rounded upwards Where Strike JPYl . Level Redemption v Price sub paragraph v . vi sub paragraph xv Disruption vii Date sub paragraph xi viii Averaging sub paragraph x ix Redemption Maturity Date x Date s sub paragraph xiii xi Period sub paragraph xiv xii Day sub xvi xiii Day sub paragraph xvii . xiv Exchange s sub paragraph xviii Sponsor xv Exchange sub paragraph xix xvi Weighting sub paragraph xx xvii Time sub paragraph xxi xviii Period sub paragraph xxii xix sub paragraph xxiii . Disruption Events xx Knock in Event Knock in detennines Knock in Detennination Knock in Where Level traded Disruption Consequences Applicable. Knock in Detennination Disrupted Day Knock in Detennination Averaging Omission apply. a Knock in JPYl l . Level Knock in Level b Knock in Date c Knock in Knock in Detennination Period Knock in d Knock in Knock in Detennination Day s e Knock in Redemption Date f Knock in Knock in Time xxi Knock out Event xxii Applicable Redemption Event Redemption Redemption Where Level a JPYl Redemption Amount b March June Redemption Date s year c JPY . Redemption Level d Redemption Redemption Date s xxiii sub paragraph xxiv conditions . Redemption Amount Redemption Amount s . following repayable Condition . Issuer Guarantor Condition Maturity redeemed the Early Redemption Amount follows together appropriate accrued but excluding redemption as be repayable. Redemption preserving Noteholders Issuer Guarantor Maturity interest applicable redemption as be repayable Maturity Date S. Delivery . Settlement i Issuer s Issuer settlement Notes. ii . Notes . Notes Bearer Notes Note Bearer exchangeable Pennanent Bearer exchangeable definitive Bearer . Centre s a . Talons Receipts definitive and Talons mature . Notes comprising and Note pay Issuer forfeit payment . redeemable instalments instalment made . Redenomination renominalisation reconventioning provisions . Agent BNP Paribas Arbitrage S.N.C. the Calculation Agent Macdonald . Agent BNP Paribas Arbitrage S.N.C. . conditions avoidance doubt rounded JPY JPY . rounded upwards Sub paragraph a Valuation Date Tenns Prospectus and or Redemption Date and or Redemption Date . i . syndicated specifying Manager ii Agreement iii Stabilising if any . concession . U.S. Restrictions Reg. TEFRA . restrictions Issuer By Duly ~ au sect == THER I. i Listing ii trading iii trading . imply prevailing conditions. purchasers Prospectus if any if any index applicable. Noteholders if applicable and or redemption nil. Issuer calculation successor index. . sponsored endorsed sold an Index successor index an Index Sponsor whatsoever implied and or otherwise. whether negligence otherwise therein. whatsoever implied advisability Securities. Issuer Guarantor calculation Index. disclosed Date Issuer Guarantor computation dissemination Index. reliable information. Accordingly representation undertaking express implied Issuer Guarantor accuracy completeness timeliness Index. . . i ISIN XS ii Code iii . system s Euroclear Clearstream Issuer number s iv Delivery v Agent s if any vi Eurosystem eligibility '"
      ]
     },
     "execution_count": 54,
     "metadata": {},
     "output_type": "execute_result"
    }
   ],
   "source": [
    "txt=tr.clean_text(tr.get_text(filesTxT[f])) \n",
    "txt = txt.replace('\\n',' ')\n",
    "txt = txt.replace('\\r',' ')\n",
    "for w in words:\n",
    "    txt = re.sub(' '+w+' ','   ',txt,flags=re.IGNORECASE)\n",
    "for w in '\"(),:!?\\\\/\\'%*-_&@$;[]{}':\n",
    "    txt = txt.replace(w,' ')\n",
    "txt=re.sub('[0-9]','   ',txt,flags=re.IGNORECASE)\n",
    "txt = re.sub('\\s+',' ',txt)\n",
    "txt   "
   ]
  },
  {
   "cell_type": "code",
   "execution_count": 61,
   "metadata": {
    "collapsed": false,
    "scrolled": true
   },
   "outputs": [],
   "source": [
    "sents=re.findall('.{0,100}.issue..{0,100}', txt, re.IGNORECASE )"
   ]
  },
  {
   "cell_type": "code",
   "execution_count": 63,
   "metadata": {
    "collapsed": false,
    "scrolled": true
   },
   "outputs": [
    {
     "name": "stdout",
     "output_type": "stream",
     "text": [
      "NO PROSPECTUS nl EC BELOW. BNP Paribas Arbitrage Issuance B.V. incorporated Netherlands as Issuer BNP Paribas incorporated France as Guarantor Note Programme JPYl Redemption Nikkei El TSO BNP Parib\n",
      "\n",
      "as Arbitrage S.N.C. as Manager intending arises Issuer prospectus Prospectus prospectus Prospectus Directive case offer. A CONTRACTUAL Terms the Condition\n",
      "\n",
      " Notes Annex Securities Prospectus thereto copies below prospectus the Base Prospectus . Prospectus. Issuer Guarantor Prospectus. Prospectus in case therein reference at from BNP Paribas Arbitrage S.N.C. in \n",
      "\n",
      " Paris save Supplement https rates globalmarkets.bnpparibas.com gm Public Lega Docs.aspx. Prospectus Issuer documents. . i . Issuer. BNP Paribas Arbitrage Issuance B.V. ii . Guarantor BNP Paribas . i . Numbe\n",
      "\n",
      "on Disruption and or Disruption Event xxiv Disruption conditions . Centre s Condition . REDEMPTION . Issuer Option . Noteholder Option . Redemption Amount Redemption . Redemption Amount further particulars b\n",
      "\n",
      " paragraph xxiv conditions . Redemption Amount Redemption Amount s . following repayable Condition . Issuer Guarantor Condition Maturity redeemed the Early Redemption Amount follows together appropriate accr\n",
      "\n",
      "ued but excluding redemption as be repayable. Redemption preserving Noteholders Issuer Guarantor Maturity interest applicable redemption as be repayable Maturity Date S. Delivery . Settl\n",
      "\n",
      "ement i Issuer s Issuer settlement Notes. ii . Notes . Notes Bearer Notes Note Bearer exchangeable Pennanent Bearer exchang\n",
      "\n",
      "e Bearer . Centre s a . Talons Receipts definitive and Talons mature . Notes comprising and Note pay Issuer forfeit payment . redeemable instalments instalment made . Redenomination renominalisation reconven\n",
      "\n",
      "nager ii Agreement iii Stabilising if any . concession . U.S. Restrictions Reg. TEFRA . restrictions Issuer By Duly ~ au sect == THER I. i Listing ii trading iii trading . imply prevailing conditions. purcha\n",
      "\n",
      "sers Prospectus if any if any index applicable. Noteholders if applicable and or redemption nil. Issuer calculation successor index. . sponsored endorsed sold an Index successor index an Index Sponsor wh\n",
      "\n",
      " and or otherwise. whether negligence otherwise therein. whatsoever implied advisability Securities. Issuer Guarantor calculation Index. disclosed Date Issuer Guarantor computation dissemination Index. relia\n",
      "\n",
      "ble information. Accordingly representation undertaking express implied Issuer Guarantor accuracy completeness timeliness Index. . . i ISIN XS ii Code iii . system s Euroclear Cl\n",
      "\n",
      "earstream Issuer number s iv Delivery v Agent s if any vi Eurosystem eligibility \n",
      "\n"
     ]
    }
   ],
   "source": [
    "for item in sents:\n",
    "    print item\n",
    "    print"
   ]
  },
  {
   "cell_type": "code",
   "execution_count": null,
   "metadata": {
    "collapsed": false
   },
   "outputs": [],
   "source": []
  },
  {
   "cell_type": "markdown",
   "metadata": {},
   "source": [
    "new based on better html parsing:\n",
    "----------------------------------"
   ]
  },
  {
   "cell_type": "code",
   "execution_count": 28,
   "metadata": {
    "collapsed": false
   },
   "outputs": [],
   "source": [
    "def check_list(regex, l):\n",
    "    for item in l:\n",
    "        if re.match(regex,item):\n",
    "            return True\n",
    "    return False\n",
    "\n",
    "\n",
    "def issuer_line(s, pre):\n",
    "    s = s.lower()\n",
    "    \n",
    "    if pre is not None and re.search(r'.*issuer[\\s\\n]*:.*', pre.lower()):\n",
    "        tmp = fcomp.closerMatch(s)\n",
    "        if tmp is not None:\n",
    "            return tmp[1],tmp[0]    \n",
    "        \n",
    "    if pre is not None and 'issuer' == pre.lower().strip(' .:,'):\n",
    "        tmp = fcomp.closerMatch(s)\n",
    "        if tmp is not None:\n",
    "            return tmp[1],tmp[0]   \n",
    "    \n",
    "    if re.search(r'.*issuer[\\s\\n]*:.*', s.lower()) or re.match(r'issuer\\s{4,}.*', s.lower()):\n",
    "        #print s\n",
    "        tmp = fcomp.closerMatch(s.replace('issuer',''))\n",
    "        if tmp is not None:\n",
    "            return tmp[1],tmp[0]\n",
    "\n",
    "    test=re.findall(r'issued by.*', s.lower())\n",
    "    if len(test) > 0:\n",
    "        test=test[0].split('\\n')[0].replace('issued by','')\n",
    "        #print test\n",
    "        tmp = fcomp.closerMatch(test)\n",
    "        if tmp is not None:\n",
    "            return tmp[1],tmp[0]\n",
    "\n",
    "    s=s.replace('\\n',' ')\n",
    "    s=s.replace('\\r',' ')\n",
    "    test=re.findall(r'.*issue of', s.lower())\n",
    "    if len(test) > 0:\n",
    "        #print test\n",
    "        test=test[0].replace('issue of','')\n",
    "        tmp = fcomp.closerMatch(test)\n",
    "        if tmp is not None:\n",
    "            return tmp[1],tmp[0]\n",
    "\n",
    "    test=re.findall(r'.*issued', s.lower())\n",
    "    if len(test) > 0:\n",
    "        #print test\n",
    "        test=test[0].replace('issue of','')\n",
    "        tmp = fcomp.closerMatch(test)\n",
    "        if tmp is not None:\n",
    "            return tmp[1],tmp[0]\n",
    "\n",
    "\n",
    "def get_issuer(doc):\n",
    "\n",
    "    # first look to the tables and lists:\n",
    "    if doc.table is not None or doc.list is not None:\n",
    "        choices = []\n",
    "        if doc.table is not None:\n",
    "            l = copy.deepcopy(doc.table)\n",
    "            l.extend(doc.list)\n",
    "        else:\n",
    "            l = copy.deepcopy(doc.list)\n",
    "            \n",
    "        for line in l:\n",
    "            if check_list('[iI]+[sS]+[uU]+[eE]+',line):\n",
    "                pre = None\n",
    "                for item in line:\n",
    "                    tmp = issuer_line(item, pre)\n",
    "                    if tmp is not None:\n",
    "                        #print item, tmp\n",
    "                        choices.append(tmp)\n",
    "                    pre = item\n",
    "                        \n",
    "        if len(choices) > 0:\n",
    "            choices = sorted(choices,reverse=True)\n",
    "            #print choices\n",
    "            return choices[0][1]\n",
    "           \n",
    "        choices = []\n",
    "        txt=doc.txt.lower().strip('\\n\\r') \n",
    "        for s in tr.split_text(txt):\n",
    "            if re.search('[iI]+[sS]+[uU]+[eE]+',s):\n",
    "                tmp = issuer_line(s, None)\n",
    "                if tmp is not None:\n",
    "                    choices.append(tmp)\n",
    "            \n",
    "        if len(choices) > 0:\n",
    "            choices = sorted(choices,reverse=True)\n",
    "            #print choices\n",
    "            return choices[0][1]                          \n",
    "            \n",
    "    return None\n"
   ]
  },
  {
   "cell_type": "code",
   "execution_count": 29,
   "metadata": {
    "collapsed": false
   },
   "outputs": [
    {
     "name": "stdout",
     "output_type": "stream",
     "text": [
      "['fileId', 'NOMINAL.CURR', 'MIN.TRAD.AMT', 'MULT.TRAD.AMT', 'ZERO.COUPN.FLAG', 'SEC.SUB.ID', 'FUNG.FL', 'OpCurrency', 'issuerName', 'issuerCity', 'issuerCountry', 'guarantorName', 'guarantorCity', 'guarantorCountry', 'City.Id', 'City.Name']\n",
      "\n",
      "set(['THE HONGKONG AND SHANGHAI BANK', 'GOLDMAN SACHS INTERNATIONAL', 'J.P. MORGAN STRUCTURED PRODUCT', 'BARCLAYS BANK PLC, BISHOPSGATE', 'UBS AG', 'SMBC NIKKO SECURITIES INC.', 'HSBC BANK PLC', 'CREDIT SUISSE INTERNATIONAL', 'BNP PARIBAS ARBITRAGE ISSUANCE', 'SG ISSUER', 'DEUTSCHE BANK AG, GREAT WINCHE', 'ROYAL BANK OF CANADA'])\n",
      "The folloing synonymes has no ref to the primary vocabulary:  ('FORT DUP 11046', 'paris')\n"
     ]
    }
   ],
   "source": [
    "from code.Matching import fuzzCompany\n",
    "\n",
    "import spacy\n",
    "import os\n",
    "from code import Text_reader as tr\n",
    "from code.Labels import label\n",
    "import copy\n",
    "import re\n",
    "from fuzzywuzzy import fuzz\n",
    "from fuzzywuzzy import process\n",
    "import ordered_set\n",
    "import numpy as np\n",
    "\n",
    "# Load English tokenizer, tagger, parser, NER and word vectors\n",
    "#nlp = spacy.load('en')\n",
    "\n",
    "data0='../data_0'\n",
    "data1='../data_1'\n",
    "labels=label.from_cvs(data0)\n",
    "data=copy.deepcopy(labels)\n",
    "data.empty()\n",
    "setcompany = labels.get_set('issuerName')\n",
    "#setcompany.update(labels.get_set('guarantorName'))\n",
    "\n",
    "if '' in setcompany:\n",
    "    setcompany.remove('')\n",
    "print\n",
    "print setcompany\n",
    "\n",
    "syn=[('FORT DUP 11046','paris'),('GREAT WINCHE','london'),('J.P. MORGAN','JPMORGAN'),\n",
    "    ('JPMORGAN','J.P. MORGAN'),('BISHOPSGATE','london')]\n",
    "fcomp = fuzzCompany(setcompany,syn)\n",
    "\n",
    "from code.Text_reader import htmlDoc"
   ]
  },
  {
   "cell_type": "code",
   "execution_count": 30,
   "metadata": {
    "collapsed": false,
    "scrolled": true
   },
   "outputs": [],
   "source": [
    "   \n",
    "# let read all the files in html and process them...\n",
    "# this does nothing but read all the files, use it as template...\n",
    "\n",
    "folder='../data_0/html'\n",
    "files=tr.get_files(folder)\n",
    "filesTxT=tr.get_files('../data_0/txt')\n",
    "\n",
    "for isin in data: # for each isin in the data object created before\n",
    "#for isin in ['XS1332626016' ]:\n",
    "    f=data[isin][0] # get the file_ids\n",
    "    issuer=None\n",
    "    for item in f: # for each of these files\n",
    "        # get the txt.\n",
    "        doc =  htmlDoc(files[item])\n",
    "        issuer=get_issuer(doc)\n",
    "            \n",
    "        if issuer is not None:\n",
    "            break\n",
    "    \n",
    "    #print issuer\n",
    "    #print '--------------------'\n",
    "    if issuer is not None:\n",
    "        data[isin][8]=issuer"
   ]
  },
  {
   "cell_type": "code",
   "execution_count": 31,
   "metadata": {
    "collapsed": false,
    "scrolled": true
   },
   "outputs": [
    {
     "name": "stdout",
     "output_type": "stream",
     "text": [
      "XS1051380837 ,  None ,  DEUTSCHE BANK AG, GREAT WINCHE\n",
      "XS1051345681 ,  J.P. MORGAN STRUCTURED PRODUCT ,  DEUTSCHE BANK AG, GREAT WINCHE\n",
      "XS1190870821 ,  None ,  J.P. MORGAN STRUCTURED PRODUCT\n",
      "XS1190881190 ,  None ,  J.P. MORGAN STRUCTURED PRODUCT\n",
      "XS1051370010 ,  None ,  DEUTSCHE BANK AG, GREAT WINCHE\n",
      "XS1051375910 ,  None ,  DEUTSCHE BANK AG, GREAT WINCHE\n",
      "XS1190873098 ,  None ,  J.P. MORGAN STRUCTURED PRODUCT\n",
      "XS1293107584 ,  None ,  BNP PARIBAS ARBITRAGE ISSUANCE\n",
      "XS1190837291 ,  None ,  J.P. MORGAN STRUCTURED PRODUCT\n",
      "XS1289614965 ,  None ,  SG ISSUER\n",
      "XS1190837960 ,  None ,  J.P. MORGAN STRUCTURED PRODUCT\n",
      "XS1190866803 ,  None ,  J.P. MORGAN STRUCTURED PRODUCT\n",
      "XS1190837374 ,  None ,  J.P. MORGAN STRUCTURED PRODUCT\n",
      "XS1301503733 ,  DEUTSCHE BANK AG, GREAT WINCHE ,  UBS AG\n",
      "XS1051372495 ,  None ,  DEUTSCHE BANK AG, GREAT WINCHE\n",
      "XS0461332347 ,  None ,  DEUTSCHE BANK AG, GREAT WINCHE\n",
      "XS1330994689 ,  None ,  ROYAL BANK OF CANADA\n",
      "XS1266620845 ,  None ,  SG ISSUER\n",
      "XS1341173976 ,  None ,  SMBC NIKKO SECURITIES INC.\n",
      "XS1293112584 ,  None ,  BNP PARIBAS ARBITRAGE ISSUANCE\n",
      "XS1301505274 ,  DEUTSCHE BANK AG, GREAT WINCHE ,  UBS AG\n",
      "XS1051364633 ,  None ,  DEUTSCHE BANK AG, GREAT WINCHE\n",
      "XS1338875047 ,  None ,  SMBC NIKKO SECURITIES INC.\n",
      "XS1190865151 ,  None ,  J.P. MORGAN STRUCTURED PRODUCT\n",
      "XS1190882917 ,  None ,  J.P. MORGAN STRUCTURED PRODUCT\n",
      "XS1301476583 ,  DEUTSCHE BANK AG, GREAT WINCHE ,  UBS AG\n",
      "XS1190865235 ,  None ,  J.P. MORGAN STRUCTURED PRODUCT\n",
      "XS1190852332 ,  None ,  J.P. MORGAN STRUCTURED PRODUCT\n",
      "XS1340850459 ,  None ,  SMBC NIKKO SECURITIES INC.\n",
      "XS1051338041 ,  None ,  DEUTSCHE BANK AG, GREAT WINCHE\n",
      "XS1051338124 ,  J.P. MORGAN STRUCTURED PRODUCT ,  DEUTSCHE BANK AG, GREAT WINCHE\n",
      "XS1190858453 ,  None ,  J.P. MORGAN STRUCTURED PRODUCT\n",
      "XS1190859857 ,  None ,  J.P. MORGAN STRUCTURED PRODUCT\n",
      "XS1190880119 ,  None ,  J.P. MORGAN STRUCTURED PRODUCT\n",
      "XS1346292581 ,  None ,  ROYAL BANK OF CANADA\n",
      "XS1190850716 ,  None ,  J.P. MORGAN STRUCTURED PRODUCT\n",
      "XS1190863883 ,  None ,  J.P. MORGAN STRUCTURED PRODUCT\n",
      "XS1190866639 ,  None ,  J.P. MORGAN STRUCTURED PRODUCT\n",
      "XS1293097504 ,  None ,  BNP PARIBAS ARBITRAGE ISSUANCE\n",
      "XS1051340617 ,  J.P. MORGAN STRUCTURED PRODUCT ,  DEUTSCHE BANK AG, GREAT WINCHE\n",
      "XS1051364989 ,  None ,  DEUTSCHE BANK AG, GREAT WINCHE\n",
      "XS1051365010 ,  None ,  DEUTSCHE BANK AG, GREAT WINCHE\n",
      "DE000UBS28A4 ,  J.P. MORGAN STRUCTURED PRODUCT ,  UBS AG\n",
      "XS1051340963 ,  None ,  DEUTSCHE BANK AG, GREAT WINCHE\n",
      "XS1281373784 ,  DEUTSCHE BANK AG, GREAT WINCHE ,  UBS AG\n",
      "XS1190864345 ,  None ,  J.P. MORGAN STRUCTURED PRODUCT\n",
      "XS1301479256 ,  DEUTSCHE BANK AG, GREAT WINCHE ,  UBS AG\n",
      "XS1190839156 ,  None ,  J.P. MORGAN STRUCTURED PRODUCT\n",
      "XS1313397983 ,  None ,  BNP PARIBAS ARBITRAGE ISSUANCE\n",
      "XS1221134189 ,  None ,  DEUTSCHE BANK AG, GREAT WINCHE\n",
      "XS1190852258 ,  None ,  J.P. MORGAN STRUCTURED PRODUCT\n",
      "XS1051363585 ,  None ,  DEUTSCHE BANK AG, GREAT WINCHE\n",
      "XS1190846102 ,  None ,  J.P. MORGAN STRUCTURED PRODUCT\n",
      "XS1143928049 ,  None ,  SG ISSUER\n",
      "XS1190855350 ,  None ,  J.P. MORGAN STRUCTURED PRODUCT\n",
      "XS1190855608 ,  None ,  J.P. MORGAN STRUCTURED PRODUCT\n",
      "XS1051369608 ,  None ,  DEUTSCHE BANK AG, GREAT WINCHE\n",
      "XS1051337589 ,  J.P. MORGAN STRUCTURED PRODUCT ,  DEUTSCHE BANK AG, GREAT WINCHE\n",
      "XS1190887809 ,  None ,  J.P. MORGAN STRUCTURED PRODUCT\n",
      "XS1313808286 ,  None ,  BNP PARIBAS ARBITRAGE ISSUANCE\n",
      "XS1313799519 ,  None ,  BNP PARIBAS ARBITRAGE ISSUANCE\n",
      "XS1190867280 ,  None ,  J.P. MORGAN STRUCTURED PRODUCT\n",
      "XS1190869815 ,  None ,  J.P. MORGAN STRUCTURED PRODUCT\n",
      "XS1190858024 ,  None ,  J.P. MORGAN STRUCTURED PRODUCT\n",
      "XS1190887981 ,  None ,  J.P. MORGAN STRUCTURED PRODUCT\n",
      "XS1190879376 ,  None ,  J.P. MORGAN STRUCTURED PRODUCT\n",
      "XS1051363239 ,  None ,  DEUTSCHE BANK AG, GREAT WINCHE\n",
      "XS1340850293 ,  None ,  SMBC NIKKO SECURITIES INC.\n",
      "XS1190839073 ,  None ,  J.P. MORGAN STRUCTURED PRODUCT\n",
      "XS1301487606 ,  DEUTSCHE BANK AG, GREAT WINCHE ,  UBS AG\n",
      "XS1266636098 ,  None ,  SG ISSUER\n",
      "XS1313797141 ,  None ,  BNP PARIBAS ARBITRAGE ISSUANCE\n",
      "XS1190839743 ,  None ,  J.P. MORGAN STRUCTURED PRODUCT\n",
      "XS1190859345 ,  None ,  J.P. MORGAN STRUCTURED PRODUCT\n",
      "XS1190837028 ,  None ,  J.P. MORGAN STRUCTURED PRODUCT\n",
      "XS1190849973 ,  None ,  J.P. MORGAN STRUCTURED PRODUCT\n",
      "XS0461354663 ,  None ,  DEUTSCHE BANK AG, GREAT WINCHE\n",
      "XS1301501018 ,  DEUTSCHE BANK AG, GREAT WINCHE ,  UBS AG\n",
      "XS1190852688 ,  None ,  J.P. MORGAN STRUCTURED PRODUCT\n",
      "XS1301477474 ,  DEUTSCHE BANK AG, GREAT WINCHE ,  UBS AG\n",
      "XS1190862562 ,  None ,  J.P. MORGAN STRUCTURED PRODUCT\n",
      "XS1266616736 ,  CREDIT SUISSE INTERNATIONAL ,  SG ISSUER\n",
      "XS1190841566 ,  None ,  J.P. MORGAN STRUCTURED PRODUCT\n",
      "XS1190867447 ,  None ,  J.P. MORGAN STRUCTURED PRODUCT\n",
      "XS1301474612 ,  DEUTSCHE BANK AG, GREAT WINCHE ,  UBS AG\n",
      "XS1190877677 ,  None ,  J.P. MORGAN STRUCTURED PRODUCT\n",
      "XS1051347463 ,  None ,  DEUTSCHE BANK AG, GREAT WINCHE\n",
      "XS1190857729 ,  None ,  J.P. MORGAN STRUCTURED PRODUCT\n",
      "XS0751776070 ,  None ,  DEUTSCHE BANK AG, GREAT WINCHE\n",
      "XS1051339288 ,  J.P. MORGAN STRUCTURED PRODUCT ,  DEUTSCHE BANK AG, GREAT WINCHE\n",
      "XS1190835329 ,  None ,  J.P. MORGAN STRUCTURED PRODUCT\n",
      "XS1313799949 ,  DEUTSCHE BANK AG, GREAT WINCHE ,  BNP PARIBAS ARBITRAGE ISSUANCE\n",
      "XS1190849544 ,  None ,  J.P. MORGAN STRUCTURED PRODUCT\n",
      "XS1190880978 ,  None ,  J.P. MORGAN STRUCTURED PRODUCT\n",
      "XS1190861325 ,  None ,  J.P. MORGAN STRUCTURED PRODUCT\n",
      "XS1190865078 ,  None ,  J.P. MORGAN STRUCTURED PRODUCT\n",
      "XS1190837457 ,  None ,  J.P. MORGAN STRUCTURED PRODUCT\n",
      "XS1301474539 ,  DEUTSCHE BANK AG, GREAT WINCHE ,  UBS AG\n",
      "XS1289614296 ,  None ,  SG ISSUER\n",
      "XS1193845838 ,  None ,  CREDIT SUISSE INTERNATIONAL\n",
      "XS1281392578 ,  DEUTSCHE BANK AG, GREAT WINCHE ,  UBS AG\n",
      "XS1190874229 ,  None ,  J.P. MORGAN STRUCTURED PRODUCT\n",
      "XS1313397637 ,  None ,  BNP PARIBAS ARBITRAGE ISSUANCE\n",
      "XS1190875978 ,  None ,  J.P. MORGAN STRUCTURED PRODUCT\n",
      "XS1190853736 ,  None ,  J.P. MORGAN STRUCTURED PRODUCT\n",
      "XS1281367034 ,  DEUTSCHE BANK AG, GREAT WINCHE ,  UBS AG\n",
      "XS1336950529 ,  None ,  SMBC NIKKO SECURITIES INC.\n",
      "XS1144640239 ,  BARCLAYS BANK PLC, BISHOPSGATE ,  \n",
      "XS1289641349 ,  None ,  SG ISSUER\n",
      "XS1051365101 ,  None ,  DEUTSCHE BANK AG, GREAT WINCHE\n",
      "XS1190863701 ,  None ,  J.P. MORGAN STRUCTURED PRODUCT\n",
      "XS1281353836 ,  DEUTSCHE BANK AG, GREAT WINCHE ,  UBS AG\n",
      "XS1266613980 ,  CREDIT SUISSE INTERNATIONAL ,  SG ISSUER\n",
      "XS1051334214 ,  None ,  DEUTSCHE BANK AG, GREAT WINCHE\n",
      "XS1190843422 ,  None ,  J.P. MORGAN STRUCTURED PRODUCT\n",
      "XS1200350020 ,  None ,  HSBC BANK PLC\n",
      "XS1208658036 ,  None ,  DEUTSCHE BANK AG, GREAT WINCHE\n",
      "XS1190865581 ,  None ,  J.P. MORGAN STRUCTURED PRODUCT\n",
      "XS1281374246 ,  DEUTSCHE BANK AG, GREAT WINCHE ,  UBS AG\n",
      "XS1251907314 ,  None ,  DEUTSCHE BANK AG, GREAT WINCHE\n",
      "XS1051340450 ,  None ,  DEUTSCHE BANK AG, GREAT WINCHE\n",
      "XS1190839404 ,  None ,  J.P. MORGAN STRUCTURED PRODUCT\n",
      "XS1265844743 ,  None ,  SG ISSUER\n",
      "XS1190855434 ,  None ,  J.P. MORGAN STRUCTURED PRODUCT\n",
      "XS1265885340 ,  None ,  SG ISSUER\n",
      "XS1190883303 ,  None ,  J.P. MORGAN STRUCTURED PRODUCT\n",
      "XS1190857216 ,  DEUTSCHE BANK AG, GREAT WINCHE ,  J.P. MORGAN STRUCTURED PRODUCT\n",
      "XS1190850120 ,  None ,  J.P. MORGAN STRUCTURED PRODUCT\n",
      "XS1313808443 ,  None ,  BNP PARIBAS ARBITRAGE ISSUANCE\n",
      "XS1190864691 ,  None ,  J.P. MORGAN STRUCTURED PRODUCT\n",
      "XS1190879020 ,  None ,  J.P. MORGAN STRUCTURED PRODUCT\n",
      "XS1051340880 ,  None ,  DEUTSCHE BANK AG, GREAT WINCHE\n",
      "XS1190861838 ,  None ,  J.P. MORGAN STRUCTURED PRODUCT\n",
      "XS1301503147 ,  DEUTSCHE BANK AG, GREAT WINCHE ,  UBS AG\n",
      "XS1051340708 ,  J.P. MORGAN STRUCTURED PRODUCT ,  DEUTSCHE BANK AG, GREAT WINCHE\n",
      "XS1190885340 ,  None ,  J.P. MORGAN STRUCTURED PRODUCT\n",
      "XS1190878725 ,  None ,  J.P. MORGAN STRUCTURED PRODUCT\n",
      "XS1301487192 ,  DEUTSCHE BANK AG, GREAT WINCHE ,  UBS AG\n",
      "XS1051372222 ,  None ,  DEUTSCHE BANK AG, GREAT WINCHE\n",
      "XS1051341425 ,  None ,  DEUTSCHE BANK AG, GREAT WINCHE\n",
      "XS1266642906 ,  None ,  SG ISSUER\n",
      "XS1293109440 ,  None ,  BNP PARIBAS ARBITRAGE ISSUANCE\n",
      "XS1061484900 ,  None ,  J.P. MORGAN STRUCTURED PRODUCT\n",
      "XS1301490907 ,  DEUTSCHE BANK AG, GREAT WINCHE ,  UBS AG\n",
      "XS1190865409 ,  None ,  J.P. MORGAN STRUCTURED PRODUCT\n",
      "XS1289639871 ,  None ,  SG ISSUER\n",
      "XS1167540027 ,  None ,  BNP PARIBAS ARBITRAGE ISSUANCE\n",
      "XS1190855277 ,  None ,  J.P. MORGAN STRUCTURED PRODUCT\n",
      "XS1051339106 ,  J.P. MORGAN STRUCTURED PRODUCT ,  DEUTSCHE BANK AG, GREAT WINCHE\n",
      "XS1061485030 ,  None ,  J.P. MORGAN STRUCTURED PRODUCT\n",
      "XS1190845807 ,  None ,  J.P. MORGAN STRUCTURED PRODUCT\n",
      "XS1051369434 ,  None ,  DEUTSCHE BANK AG, GREAT WINCHE\n",
      "XS1051364559 ,  None ,  DEUTSCHE BANK AG, GREAT WINCHE\n",
      "\n",
      "total number of set compared: 1200\n",
      "total number of missing set: 0\n",
      "total number of errors for each index: [ 153.]\n",
      "error %: [ 12.75]\n"
     ]
    }
   ],
   "source": [
    "data.evaluate([8],labels,printerr=True, match_ok=100)"
   ]
  },
  {
   "cell_type": "code",
   "execution_count": 17,
   "metadata": {
    "collapsed": false,
    "scrolled": true
   },
   "outputs": [],
   "source": [
    "#for item in data:\n",
    "#    print data[item][8]"
   ]
  },
  {
   "cell_type": "code",
   "execution_count": null,
   "metadata": {
    "collapsed": true
   },
   "outputs": [],
   "source": []
  },
  {
   "cell_type": "code",
   "execution_count": 76,
   "metadata": {
    "collapsed": true
   },
   "outputs": [],
   "source": [
    "doc =  htmlDoc('../data_0/html/0900045c83b140f2_XS1332626016_ocr.html')"
   ]
  },
  {
   "cell_type": "code",
   "execution_count": 1,
   "metadata": {
    "collapsed": false
   },
   "outputs": [
    {
     "name": "stdout",
     "output_type": "stream",
     "text": [
      "The PythonMagick package is missing, get_text_adv function can not be used \n",
      "['fileId', 'NOMINAL.CURR', 'MIN.TRAD.AMT', 'MULT.TRAD.AMT', 'ZERO.COUPN.FLAG', 'SEC.SUB.ID', 'FUNG.FL', 'OpCurrency', 'issuerName', 'issuerCity', 'issuerCountry', 'guarantorName', 'guarantorCity', 'guarantorCountry', 'City.Id', 'City.Name']\n",
      "The folloing synonymes has no ref to the primary vocabulary:  ('FORT DUP 11046', 'paris')\n"
     ]
    }
   ],
   "source": [
    "from code.Matching import fuzzCompany2\n",
    "from code import Text_reader as tr\n",
    "from code.Labels import label\n",
    "import copy\n",
    "\n",
    "data0='../data_0'\n",
    "data1='../data_1'\n",
    "labels=label.from_cvs(data0)\n",
    "data=copy.deepcopy(labels)\n",
    "data.empty()\n",
    "setcompany = labels.get_set('issuerName')\n",
    "#setcompany.update(labels.get_set('guarantorName'))\n",
    "\n",
    "if '' in setcompany:\n",
    "    setcompany.remove('')\n",
    "\n",
    "syn=[('FORT DUP 11046','paris'),('GREAT WINCHE','london'),('J.P. MORGAN','JPMORGAN'),\n",
    "    ('JPMORGAN','J.P. MORGAN'),('BISHOPSGATE','london')]\n",
    "\n",
    "fcomp = fuzzCompany2(setcompany,syn)"
   ]
  },
  {
   "cell_type": "code",
   "execution_count": 2,
   "metadata": {
    "collapsed": false
   },
   "outputs": [],
   "source": [
    "fcomp.closerMatch('the and bank securities')"
   ]
  },
  {
   "cell_type": "code",
   "execution_count": 34,
   "metadata": {
    "collapsed": false
   },
   "outputs": [],
   "source": [
    "a='''Terms used herein shall be deemed to be defined as such for the purposes of the General Note Conditions set forth in the Private Placement Memorandum dated June 1, 2015 (the Private Placement Memorandum) and the supplement to the Private Placement Memorandum listed in the section entitled \"Supplement(s) to the Private Placement Memorandum\" below (and any further supplements up to, and including, December 10, 2015). This document must be read in conjunction with such Private Placement Memorandum as so supplemented. Full information on the Issuer and the offer of the Notes is only available on the basis of the combination of this Pricing Supplement and the Private Placement Memorandum as so supplemented. The Private Placement Memorandum and the supplement to the Private Placement Memorandum are available for viewing at www.bourse.lu and during normal business hours at the registered office of the Issuer, and copies may be obtained from the specified office of the Luxembourg Paying Agent.'''"
   ]
  },
  {
   "cell_type": "code",
   "execution_count": 54,
   "metadata": {
    "collapsed": false
   },
   "outputs": [
    {
     "data": {
      "text/plain": [
       "['Terms ',\n",
       " 'General Note Conditions ',\n",
       " 'Private Placement Memorandum ',\n",
       " 'June ',\n",
       " 'Private Placement ',\n",
       " 'Private Placement Memorandum ',\n",
       " 'Private Placement ',\n",
       " 'December ',\n",
       " 'This ',\n",
       " 'Private Placement Memorandum ',\n",
       " 'Full ',\n",
       " 'Issuer ',\n",
       " 'Notes ',\n",
       " 'Pricing Supplement ',\n",
       " 'Private Placement Memorandum ',\n",
       " 'The Private Placement Memorandum ',\n",
       " 'Private Placement Memorandum ',\n",
       " 'Luxembourg Paying ']"
      ]
     },
     "execution_count": 54,
     "metadata": {},
     "output_type": "execute_result"
    }
   ],
   "source": [
    "re.findall(r'(?:[A-Z][A-Za-z\\.]*\\s){1,}',a)"
   ]
  },
  {
   "cell_type": "code",
   "execution_count": 141,
   "metadata": {
    "collapsed": false
   },
   "outputs": [
    {
     "name": "stdout",
     "output_type": "stream",
     "text": [
      "[u'Pricing Supplement dat', u'USD ', u'Securities are ', u'Date.  December ', u'Price.  ', u'Notes on ', u'Price is ', u'Holders on ', u'Holders on ', u'Dealer to ', u'Dealer has ', u'Notes is ', u'Luxembourg Paying Agent.  ', u'Goldman Sachs International.  ', u'Aggregate Nominal Amount.  ', u'Price has ', u'Further det', u'December ', u'Yes General Note Condition ', u'Notes on ', u'SHARE LINKED NOTE ', u'Notes des', u'Pricing Supplement.  To the ', u'Pricing Supplement in ', u'REPRESENTATION  ', u'AND ESTIMATED NET PROCEEDS  ', u'Not Applicable.  ', u'Index and ']\n"
     ]
    }
   ],
   "source": [
    "a=tr.clean_text(tr.get_text('../data_0/html/0900045c83a715b0_IXS1267246327_F_PC_N_ocr.html')) \n",
    "a = a.replace('\\n',' ')\n",
    "a = a.replace('\\r',' ')\n",
    "a = a.replace('\\t',' ')\n",
    "\n",
    "#a='Final Terms dated 29 December 2015.  ![image](0900045c83b140f2_XS1332626016_ocr/Image_001.jpg) .  ROYAL BANK OF CANADA.  (a Canadian _chartered bank)_.  Issue of USO 25,000,000 Dual Range Accrual Notes due 29 December 2025 under the Programme for the Issuance of Securities.'\n",
    "\n",
    "r = re.findall(r'((?:[A-Z][A-Za-z\\.]*\\s[a-z]{0,3}\\s?){1,})(?![A-Z]).*?[iI]+[sS]+[uU]+[eEiI]+[nNrR]?(?![A-Z]).*?((?:[A-Z][A-Za-z\\.]*\\s[a-z]{0,3}\\s?){1,})',a)\n",
    "if len(r) == 0:\n",
    "    r=re.findall(r'[iI]+[sS]+[uU]+[eEiI]+[nNrR]?(?![A-Z]).*?((?:[A-Z][A-Za-z\\.]*\\s[a-z]{0,3}\\s?){1,})',a)\n",
    "if len(r) == 0:\n",
    "    r=re.findall(r'((?:[A-Z][A-Za-z\\.]*\\s[a-z]{0,3}\\s?){1,})(?![A-Z]).*?[iI]+[sS]+[uU]+[eEiI]+[nNrR]?',a)\n",
    "\n",
    "print r"
   ]
  },
  {
   "cell_type": "code",
   "execution_count": 2,
   "metadata": {
    "collapsed": false,
    "scrolled": false
   },
   "outputs": [
    {
     "name": "stdout",
     "output_type": "stream",
     "text": [
      "The PythonMagick package is missing, get_text_adv function can not be used \n",
      "['fileId', 'NOMINAL.CURR', 'MIN.TRAD.AMT', 'MULT.TRAD.AMT', 'ZERO.COUPN.FLAG', 'SEC.SUB.ID', 'FUNG.FL', 'OpCurrency', 'issuerName', 'issuerCity', 'issuerCountry', 'guarantorName', 'guarantorCity', 'guarantorCountry', 'City.Id', 'City.Name']\n",
      "\n",
      "set(['THE HONGKONG AND SHANGHAI BANK', 'GOLDMAN SACHS INTERNATIONAL', 'J.P. MORGAN STRUCTURED PRODUCT', 'BARCLAYS BANK PLC, BISHOPSGATE', 'UBS AG', 'SMBC NIKKO SECURITIES INC.', 'HSBC BANK PLC', 'CREDIT SUISSE INTERNATIONAL', 'BNP PARIBAS ARBITRAGE ISSUANCE', 'SG ISSUER', 'DEUTSCHE BANK AG, GREAT WINCHE', 'ROYAL BANK OF CANADA'])\n"
     ]
    }
   ],
   "source": [
    "from code.Matching import fuzzCompany2\n",
    "\n",
    "import spacy\n",
    "import os\n",
    "from code import Text_reader as tr\n",
    "from code.Labels import label\n",
    "import copy\n",
    "import re\n",
    "from fuzzywuzzy import fuzz\n",
    "from fuzzywuzzy import process\n",
    "import ordered_set\n",
    "import numpy as np\n",
    "\n",
    "# Load English tokenizer, tagger, parser, NER and word vectors\n",
    "#nlp = spacy.load('en')\n",
    "\n",
    "data0='../data_0'\n",
    "data1='../data_1'\n",
    "labels=label.from_cvs(data0)\n",
    "data=copy.deepcopy(labels)\n",
    "data.empty()\n",
    "setcompany = labels.get_set('issuerName')\n",
    "#setcompany.update(labels.get_set('guarantorName'))\n",
    "\n",
    "if '' in setcompany:\n",
    "    setcompany.remove('')\n",
    "print\n",
    "print setcompany\n",
    "\n",
    "syn=[('paris','FORT DUP 11046',),('london','GREAT WINCHE',),('J.P. MORGAN','JPMORGAN'),\n",
    "    ('JPMORGAN','J.P. MORGAN'),('J.P.MORGAN','J.P. MORGAN'),('london','BISHOPSGATE'), ('aktiengesellschaft','ag'),\n",
    "    ('Limited liability company','llc'),('Public limited company','plc'),('incorporation','inc'),\n",
    "    ('Sociedad por Acciones','sa'),('Public Limited','ltd')]\n",
    "\n",
    "fcomp = fuzzCompany2(setcompany,syn)\n",
    "\n",
    "from code.Text_reader import htmlDoc"
   ]
  },
  {
   "cell_type": "code",
   "execution_count": 5,
   "metadata": {
    "collapsed": true
   },
   "outputs": [],
   "source": [
    "# this is way to slow ...\n",
    "def get_issuer(a):\n",
    "    a = a.replace('\\n',' ')\n",
    "    a = a.replace('\\r',' ')\n",
    "    a = a.replace('\\t',' ')\n",
    "\n",
    "    r = re.findall(r'((?:[A-Z][A-Za-z\\.]*\\s[a-z]{0,3}\\s?){1,})(?![A-Z]).*?[iI]+[sS]+[uU]+[eEiI]+[nNrR]?(?![A-Z]).*?((?:[A-Z][A-Za-z\\.]*\\s[a-z]{0,3}\\s?){1,})',a)\n",
    "    if len(r) == 0:\n",
    "        r=re.findall(r'[iI]+[sS]+[uU]+[eEiI]+[nNrR]?(?![A-Z]).*?((?:[A-Z][A-Za-z\\.]*\\s[a-z]{0,3}\\s?){1,})',a)\n",
    "    if len(r) == 0:\n",
    "        r=re.findall(r'((?:[A-Z][A-Za-z\\.]*\\s[a-z]{0,3}\\s?){1,})(?![A-Z]).*?[iI]+[sS]+[uU]+[eEiI]+[nNrR]?',a)\n",
    "    \n",
    "    choices = []\n",
    "    #print r\n",
    "    for item in r:\n",
    "        for s in r:\n",
    "            for ss in s:\n",
    "                tmp = fcomp.closerMatch(ss)\n",
    "                if tmp[0] > 0.01:\n",
    "                    choices.append(tmp)\n",
    "            \n",
    "    if len(choices) > 0:\n",
    "        choices = sorted(choices,reverse=True)\n",
    "        #print choices\n",
    "        return choices[0][1]\n",
    "    \n",
    "    return None\n",
    "            "
   ]
  },
  {
   "cell_type": "code",
   "execution_count": null,
   "metadata": {
    "collapsed": false,
    "scrolled": true
   },
   "outputs": [
    {
     "name": "stdout",
     "output_type": "stream",
     "text": [
      "XS1240015799 CREDIT SUISSE INTERNATIONAL\n",
      "XS1293137904 BNP PARIBAS ARBITRAGE ISSUANCE\n",
      "XS1313796846 BNP PARIBAS ARBITRAGE ISSUANCE\n",
      "XS1313802677 BNP PARIBAS ARBITRAGE ISSUANCE\n",
      "XS1313800895 BNP PARIBAS ARBITRAGE ISSUANCE\n",
      "XS1267246327 GOLDMAN SACHS INTERNATIONAL\n",
      "XS1275964507 SG ISSUER\n",
      "XS1329979261 THE HONGKONG AND SHANGHAI BANK\n",
      "XS1312160507 ROYAL BANK OF CANADA\n",
      "XS1253932765 CREDIT SUISSE INTERNATIONAL\n",
      "XS1267246244 GOLDMAN SACHS INTERNATIONAL\n",
      "XS1293817877 THE HONGKONG AND SHANGHAI BANK\n",
      "XS1051370440 UBS AG\n",
      "XS1267221841 GOLDMAN SACHS INTERNATIONAL\n",
      "XS1266266813 BARCLAYS BANK PLC, BISHOPSGATE\n",
      "XS1313804459 BNP PARIBAS ARBITRAGE ISSUANCE\n",
      "XS1332626016 ROYAL BANK OF CANADA\n",
      "XS1338871996 SMBC NIKKO SECURITIES INC.\n",
      "XS1051380837 UBS AG\n",
      "XS1313800119 BNP PARIBAS ARBITRAGE ISSUANCE\n",
      "XS1293807720 THE HONGKONG AND SHANGHAI BANK\n",
      "XS1326568430 ROYAL BANK OF CANADA\n",
      "XS1222904416 BNP PARIBAS ARBITRAGE ISSUANCE\n",
      "XS1339630227 ROYAL BANK OF CANADA\n",
      "XS1267238498 GOLDMAN SACHS INTERNATIONAL\n",
      "XS1254344952 CREDIT SUISSE INTERNATIONAL\n",
      "XS1293112667 BNP PARIBAS ARBITRAGE ISSUANCE\n",
      "XS1331674041 ROYAL BANK OF CANADA\n",
      "XS1251673817 CREDIT SUISSE INTERNATIONAL\n",
      "XS1281398856 UBS AG\n",
      "XS1332226775 SMBC NIKKO SECURITIES INC.\n",
      "XS1313803642 BNP PARIBAS ARBITRAGE ISSUANCE\n",
      "XS1051376991 SG ISSUER\n",
      "XS1326549133 ROYAL BANK OF CANADA\n",
      "XS1326545495 ROYAL BANK OF CANADA\n",
      "XS1324906947 HSBC BANK PLC\n",
      "XS1301496185 UBS AG\n",
      "XS1313803725 BNP PARIBAS ARBITRAGE ISSUANCE\n",
      "XS1332461349 THE HONGKONG AND SHANGHAI BANK\n",
      "XS1229450140 BARCLAYS BANK PLC, BISHOPSGATE\n"
     ]
    }
   ],
   "source": [
    "   \n",
    "# let read all the files in html and process them...\n",
    "# this does nothing but read all the files, use it as template...\n",
    "\n",
    "folder='../data_0/html'\n",
    "files=tr.get_files(folder)\n",
    "filesTxT=tr.get_files('../data_0/txt')\n",
    "\n",
    "for isin in data: # for each isin in the data object created before\n",
    "#for isin in ['XS1313797141']:\n",
    "    f=data[isin][0] # get the file_ids\n",
    "    issuer=None\n",
    "    for item in f: # for each of these files\n",
    "        # get the txt.\n",
    "        txt=tr.clean_text(tr.get_text(filesTxT[item],raw=True))\n",
    "        issuer=get_issuer(txt)\n",
    "        if issuer is None:\n",
    "            txt=tr.clean_text(tr.get_text(files[item]))\n",
    "            issuer=get_issuer(txt)\n",
    "            \n",
    "        if issuer is not None:\n",
    "            break\n",
    "    \n",
    "    print isin, issuer\n",
    "    if issuer is not None:\n",
    "        data[isin][8]=issuer"
   ]
  },
  {
   "cell_type": "code",
   "execution_count": null,
   "metadata": {
    "collapsed": false,
    "scrolled": true
   },
   "outputs": [],
   "source": [
    "data.evaluate([8],labels,printerr=True, match_ok=100)"
   ]
  },
  {
   "cell_type": "code",
   "execution_count": null,
   "metadata": {
    "collapsed": true
   },
   "outputs": [],
   "source": []
  },
  {
   "cell_type": "code",
   "execution_count": 8,
   "metadata": {
    "collapsed": false
   },
   "outputs": [],
   "source": []
  },
  {
   "cell_type": "code",
   "execution_count": 3,
   "metadata": {
    "collapsed": false
   },
   "outputs": [
    {
     "name": "stdout",
     "output_type": "stream",
     "text": [
      "['fileId', 'NOMINAL.CURR', 'MIN.TRAD.AMT', 'MULT.TRAD.AMT', 'ZERO.COUPN.FLAG', 'SEC.SUB.ID', 'FUNG.FL', 'OpCurrency', 'issuerName', 'issuerCity', 'issuerCountry', 'guarantorName', 'guarantorCity', 'guarantorCountry', 'City.Id', 'City.Name']\n",
      "\n",
      "set(['THE HONGKONG AND SHANGHAI BANK', 'GOLDMAN SACHS INTERNATIONAL', 'BNP PARIBAS FORT DUP 11046', 'THE GOLDMAN SACHS GROUP INC', 'BNP PARIBAS SA', 'J.P. MORGAN STRUCTURED PRODUCT', 'BARCLAYS BANK PLC, BISHOPSGATE', 'UBS AG', 'SMBC NIKKO SECURITIES INC.', 'GOLDMAN SACHS (ASIA) LLC', 'JPMORGAN CHASE BANK NATIONAL A', 'HSBC BANK PLC', 'CREDIT SUISSE INTERNATIONAL', 'SOCIETE GENERALE', 'BNP PARIBAS ARBITRAGE ISSUANCE', 'SG ISSUER', 'DEUTSCHE BANK AG, GREAT WINCHE', 'DEUTSCHE BANK AG, AVENUE OF TH', 'ROYAL BANK OF CANADA'])\n"
     ]
    }
   ],
   "source": [
    "from code.Matching import fuzzCompany2\n",
    "\n",
    "import spacy\n",
    "import os\n",
    "from code import Text_reader as tr\n",
    "from code.Labels import label\n",
    "import copy\n",
    "import re\n",
    "from fuzzywuzzy import fuzz\n",
    "from fuzzywuzzy import process\n",
    "import ordered_set\n",
    "import numpy as np\n",
    "\n",
    "# Load English tokenizer, tagger, parser, NER and word vectors\n",
    "#nlp = spacy.load('en')\n",
    "\n",
    "data0='../data_0'\n",
    "data1='../data_1'\n",
    "labels=label.from_cvs(data0)\n",
    "data=copy.deepcopy(labels)\n",
    "data.empty()\n",
    "setcompany = labels.get_set('issuerName')\n",
    "setcompany.update(labels.get_set('guarantorName'))\n",
    "\n",
    "if '' in setcompany:\n",
    "    setcompany.remove('')\n",
    "print\n",
    "print setcompany\n",
    "\n",
    "syn=[('paris','FORT DUP 11046',),('london','GREAT WINCHE',),('J.P. MORGAN','JPMORGAN'),\n",
    "    ('JPMORGAN','J.P. MORGAN'),('J.P.MORGAN','J.P. MORGAN'),('london','BISHOPSGATE'), ('aktiengesellschaft','ag'),\n",
    "    ('Limited liability company','llc'),('Public limited company','plc'),('incorporation','inc'),\n",
    "    ('Société Anonyme','sa'),('Sociedad por Acciones','sa'),('Public Limited','ltd')]\n",
    "\n",
    "fcomp = fuzzCompany2(setcompany,syn)\n",
    "\n",
    "from code.Text_reader import htmlDoc"
   ]
  },
  {
   "cell_type": "code",
   "execution_count": null,
   "metadata": {
    "collapsed": false,
    "scrolled": false
   },
   "outputs": [],
   "source": []
  },
  {
   "cell_type": "code",
   "execution_count": 7,
   "metadata": {
    "collapsed": false,
    "scrolled": true
   },
   "outputs": [
    {
     "name": "stdout",
     "output_type": "stream",
     "text": [
      "[(0.3333333333333333, 'JPMORGAN CHASE BANK NATIONAL A')]\n"
     ]
    },
    {
     "data": {
      "text/plain": [
       "(0.3333333333333333, 'JPMORGAN CHASE BANK NATIONAL A')"
      ]
     },
     "execution_count": 7,
     "metadata": {},
     "output_type": "execute_result"
    }
   ],
   "source": [
    "fcomp.closerMatch('J.P.MORGAN CHASE BANK NATIONAL A')"
   ]
  },
  {
   "cell_type": "code",
   "execution_count": null,
   "metadata": {
    "collapsed": false
   },
   "outputs": [],
   "source": []
  },
  {
   "cell_type": "code",
   "execution_count": null,
   "metadata": {
    "collapsed": false
   },
   "outputs": [],
   "source": []
  },
  {
   "cell_type": "code",
   "execution_count": 1,
   "metadata": {
    "collapsed": true
   },
   "outputs": [],
   "source": [
    "from fuzzywuzzy import process"
   ]
  },
  {
   "cell_type": "code",
   "execution_count": 8,
   "metadata": {
    "collapsed": false
   },
   "outputs": [
    {
     "data": {
      "text/plain": [
       "('JPMORGAN', 94)"
      ]
     },
     "execution_count": 8,
     "metadata": {},
     "output_type": "execute_result"
    }
   ],
   "source": [
    "process.extractOne('JP MORGAN',['JPMORGAN','sdqfsdf','qdsdfsqd','sMORGAN'])"
   ]
  },
  {
   "cell_type": "code",
   "execution_count": null,
   "metadata": {
    "collapsed": true
   },
   "outputs": [],
   "source": []
  }
 ],
 "metadata": {
  "kernelspec": {
   "display_name": "Python 2",
   "language": "python",
   "name": "python2"
  },
  "language_info": {
   "codemirror_mode": {
    "name": "ipython",
    "version": 2
   },
   "file_extension": ".py",
   "mimetype": "text/x-python",
   "name": "python",
   "nbconvert_exporter": "python",
   "pygments_lexer": "ipython2",
   "version": "2.7.11"
  }
 },
 "nbformat": 4,
 "nbformat_minor": 0
}
