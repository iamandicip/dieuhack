{
 "cells": [
  {
   "cell_type": "code",
   "execution_count": 1,
   "metadata": {
    "collapsed": true
   },
   "outputs": [],
   "source": [
    "import nltk"
   ]
  },
  {
   "cell_type": "code",
   "execution_count": 2,
   "metadata": {
    "collapsed": false
   },
   "outputs": [
    {
     "name": "stdout",
     "output_type": "stream",
     "text": [
      "*** Introductory Examples for the NLTK Book ***\n",
      "Loading text1, ..., text9 and sent1, ..., sent9\n",
      "Type the name of the text or sentence to view it.\n",
      "Type: 'texts()' or 'sents()' to list the materials.\n",
      "text1: Moby Dick by Herman Melville 1851\n",
      "text2: Sense and Sensibility by Jane Austen 1811\n",
      "text3: The Book of Genesis\n",
      "text4: Inaugural Address Corpus\n",
      "text5: Chat Corpus\n",
      "text6: Monty Python and the Holy Grail\n",
      "text7: Wall Street Journal\n",
      "text8: Personals Corpus\n",
      "text9: The Man Who Was Thursday by G . K . Chesterton 1908\n"
     ]
    }
   ],
   "source": [
    "from nltk.book import *"
   ]
  },
  {
   "cell_type": "code",
   "execution_count": 8,
   "metadata": {
    "collapsed": false
   },
   "outputs": [
    {
     "name": "stdout",
     "output_type": "stream",
     "text": [
      "Displaying 11 of 11 matches:\n",
      "ong the former , one was of a most monstrous size . ... This came towards us , \n",
      "ON OF THE PSALMS . \" Touching that monstrous bulk of the whale or ork we have r\n",
      "ll over with a heathenish array of monstrous clubs and spears . Some were thick\n",
      "d as you gazed , and wondered what monstrous cannibal and savage could ever hav\n",
      "that has survived the flood ; most monstrous and most mountainous ! That Himmal\n",
      "they might scout at Moby Dick as a monstrous fable , or still worse and more de\n",
      "th of Radney .'\" CHAPTER 55 Of the Monstrous Pictures of Whales . I shall ere l\n",
      "ing Scenes . In connexion with the monstrous pictures of whales , I am strongly\n",
      "ere to enter upon those still more monstrous stories of them which are to be fo\n",
      "ght have been rummaged out of this monstrous cabinet there is no telling . But \n",
      "of Whale - Bones ; for Whales of a monstrous size are oftentimes cast up dead u\n"
     ]
    }
   ],
   "source": [
    "#show the context where a word can be found in a text\n",
    "text1.concordance('monstrous')"
   ]
  },
  {
   "cell_type": "code",
   "execution_count": 4,
   "metadata": {
    "collapsed": false
   },
   "outputs": [
    {
     "data": {
      "text/plain": [
       "nltk.text.Text"
      ]
     },
     "execution_count": 4,
     "metadata": {},
     "output_type": "execute_result"
    }
   ],
   "source": [
    "type(text1)"
   ]
  },
  {
   "cell_type": "code",
   "execution_count": 7,
   "metadata": {
    "collapsed": false
   },
   "outputs": [
    {
     "name": "stdout",
     "output_type": "stream",
     "text": [
      "true subtly singular candid fearless imperial curious uncommon wise\n",
      "untoward careful mouldy part tyrannical mystifying mean horrible\n",
      "exasperate puzzled lazy\n"
     ]
    }
   ],
   "source": [
    "#look for words that are used in the same context in text1\n",
    "text1.similar('monstrous')"
   ]
  },
  {
   "cell_type": "code",
   "execution_count": 6,
   "metadata": {
    "collapsed": false
   },
   "outputs": [
    {
     "name": "stdout",
     "output_type": "stream",
     "text": [
      "very exceedingly so heartily extremely good as remarkably great vast\n",
      "amazingly sweet a\n"
     ]
    }
   ],
   "source": [
    "text2.similar('monstrous')"
   ]
  },
  {
   "cell_type": "code",
   "execution_count": 9,
   "metadata": {
    "collapsed": false
   },
   "outputs": [
    {
     "data": {
      "text/plain": [
       "<Text: Inaugural Address Corpus>"
      ]
     },
     "execution_count": 9,
     "metadata": {},
     "output_type": "execute_result"
    }
   ],
   "source": [
    "text4"
   ]
  },
  {
   "cell_type": "code",
   "execution_count": null,
   "metadata": {
    "collapsed": true
   },
   "outputs": [],
   "source": [
    "#see a plot which shows where in the text we can find these terms\n",
    "text4.dispersion_plot(['citizens', 'freedom', 'duties'])"
   ]
  },
  {
   "cell_type": "code",
   "execution_count": 1,
   "metadata": {
    "collapsed": false
   },
   "outputs": [
    {
     "data": {
      "text/plain": [
       "['This is a sentence.', 'This is also a sentence']"
      ]
     },
     "execution_count": 1,
     "metadata": {},
     "output_type": "execute_result"
    }
   ],
   "source": [
    "#sentence tokenization\n",
    "para = 'This is a sentence. This is also a sentence'\n",
    "\n",
    "from nltk.tokenize import sent_tokenize\n",
    "\n",
    "sent_tokenize(para)"
   ]
  },
  {
   "cell_type": "code",
   "execution_count": 3,
   "metadata": {
    "collapsed": false
   },
   "outputs": [
    {
     "data": {
      "text/plain": [
       "['Dit zal ook.', 'Dat hier']"
      ]
     },
     "execution_count": 3,
     "metadata": {},
     "output_type": "execute_result"
    }
   ],
   "source": [
    "import nltk.data\n",
    "\n",
    "dutch_tokenizer = nltk.data.load('/Users/ciprian/nltk_data/tokenizers/punkt/dutch.pickle')\n",
    "dutch_tokenizer.tokenize('Dit zal ook. Dat hier')"
   ]
  },
  {
   "cell_type": "code",
   "execution_count": 4,
   "metadata": {
    "collapsed": false
   },
   "outputs": [
    {
     "data": {
      "text/plain": [
       "['ca', \"n't\", 'will', 'not', 'work', 'well']"
      ]
     },
     "execution_count": 4,
     "metadata": {},
     "output_type": "execute_result"
    }
   ],
   "source": [
    "from nltk.tokenize import word_tokenize\n",
    "word_tokenize(\"can't will not work well\")"
   ]
  },
  {
   "cell_type": "code",
   "execution_count": 7,
   "metadata": {
    "collapsed": false
   },
   "outputs": [
    {
     "data": {
      "text/plain": [
       "[\"can't\", 'will', 'work', 'well', 'now']"
      ]
     },
     "execution_count": 7,
     "metadata": {},
     "output_type": "execute_result"
    }
   ],
   "source": [
    "from nltk.tokenize import RegexpTokenizer\n",
    "tokenizer = RegexpTokenizer(\"[\\w']+\")\n",
    "tokenizer.tokenize(\"can't will work well now\")"
   ]
  },
  {
   "cell_type": "markdown",
   "metadata": {},
   "source": [
    "# !!! Maybe we can use this !!!"
   ]
  },
  {
   "cell_type": "code",
   "execution_count": 44,
   "metadata": {
    "collapsed": false
   },
   "outputs": [],
   "source": [
    "from nltk.corpus import stopwords\n",
    "\n",
    "#we can exclude some stop words from being removed (like 'not')\n",
    "english_stop = set(stopwords.words('english'))"
   ]
  },
  {
   "cell_type": "code",
   "execution_count": 19,
   "metadata": {
    "collapsed": false
   },
   "outputs": [
    {
     "data": {
      "text/plain": [
       "['danish',\n",
       " 'dutch',\n",
       " 'english',\n",
       " 'finnish',\n",
       " 'french',\n",
       " 'german',\n",
       " 'hungarian',\n",
       " 'italian',\n",
       " 'norwegian',\n",
       " 'portuguese',\n",
       " 'russian',\n",
       " 'spanish',\n",
       " 'swedish',\n",
       " 'turkish']"
      ]
     },
     "execution_count": 19,
     "metadata": {},
     "output_type": "execute_result"
    }
   ],
   "source": [
    "#list of languages for which we have stop words\n",
    "stopwords.fileids()"
   ]
  },
  {
   "cell_type": "code",
   "execution_count": 20,
   "metadata": {
    "collapsed": false
   },
   "outputs": [
    {
     "data": {
      "text/plain": [
       "'cook'"
      ]
     },
     "execution_count": 20,
     "metadata": {},
     "output_type": "execute_result"
    }
   ],
   "source": [
    "#word stemming\n",
    "from nltk.stem import PorterStemmer\n",
    "\n",
    "stemmer = PorterStemmer()\n",
    "\n",
    "stemmer.stem('cooking')"
   ]
  },
  {
   "cell_type": "code",
   "execution_count": 21,
   "metadata": {
    "collapsed": false
   },
   "outputs": [
    {
     "data": {
      "text/plain": [
       "'cookeri'"
      ]
     },
     "execution_count": 21,
     "metadata": {},
     "output_type": "execute_result"
    }
   ],
   "source": [
    "stemmer.stem('cookery')"
   ]
  },
  {
   "cell_type": "code",
   "execution_count": 23,
   "metadata": {
    "collapsed": false
   },
   "outputs": [
    {
     "data": {
      "text/plain": [
       "'cookery'"
      ]
     },
     "execution_count": 23,
     "metadata": {},
     "output_type": "execute_result"
    }
   ],
   "source": [
    "from nltk.stem import LancasterStemmer\n",
    "\n",
    "stemmer = LancasterStemmer()\n",
    "\n",
    "stemmer.stem('cookery')"
   ]
  },
  {
   "cell_type": "code",
   "execution_count": 24,
   "metadata": {
    "collapsed": false
   },
   "outputs": [
    {
     "data": {
      "text/plain": [
       "'cook'"
      ]
     },
     "execution_count": 24,
     "metadata": {},
     "output_type": "execute_result"
    }
   ],
   "source": [
    "#you can create a custom stemmer with regexp\n",
    "from nltk.stem import RegexpStemmer\n",
    "stemmer = RegexpStemmer('ing')\n",
    "stemmer.stem('cooking')"
   ]
  },
  {
   "cell_type": "code",
   "execution_count": 26,
   "metadata": {
    "collapsed": false
   },
   "outputs": [
    {
     "data": {
      "text/plain": [
       "'MyBankIs'"
      ]
     },
     "execution_count": 26,
     "metadata": {},
     "output_type": "execute_result"
    }
   ],
   "source": [
    "stemmer.stem('MyBankIsing')"
   ]
  },
  {
   "cell_type": "code",
   "execution_count": 27,
   "metadata": {
    "collapsed": false
   },
   "outputs": [
    {
     "data": {
      "text/plain": [
       "('danish',\n",
       " 'dutch',\n",
       " 'english',\n",
       " 'finnish',\n",
       " 'french',\n",
       " 'german',\n",
       " 'hungarian',\n",
       " 'italian',\n",
       " 'norwegian',\n",
       " 'porter',\n",
       " 'portuguese',\n",
       " 'romanian',\n",
       " 'russian',\n",
       " 'spanish',\n",
       " 'swedish')"
      ]
     },
     "execution_count": 27,
     "metadata": {},
     "output_type": "execute_result"
    }
   ],
   "source": [
    "from nltk.stem import SnowballStemmer\n",
    "SnowballStemmer.languages"
   ]
  },
  {
   "cell_type": "code",
   "execution_count": 29,
   "metadata": {
    "collapsed": false
   },
   "outputs": [
    {
     "data": {
      "text/plain": [
       "'kruip'"
      ]
     },
     "execution_count": 29,
     "metadata": {},
     "output_type": "execute_result"
    }
   ],
   "source": [
    "dutch_stemmer = SnowballStemmer('dutch')\n",
    "\n",
    "dutch_stemmer.stem('kruipen')"
   ]
  },
  {
   "cell_type": "code",
   "execution_count": 35,
   "metadata": {
    "collapsed": false
   },
   "outputs": [
    {
     "data": {
      "text/plain": [
       "'cooking'"
      ]
     },
     "execution_count": 35,
     "metadata": {},
     "output_type": "execute_result"
    }
   ],
   "source": [
    "from nltk.stem import WordNetLemmatizer\n",
    "\n",
    "lemmatizer = WordNetLemmatizer()\n",
    "\n",
    "lemmatizer.lemmatize('cooking')"
   ]
  },
  {
   "cell_type": "code",
   "execution_count": 36,
   "metadata": {
    "collapsed": false
   },
   "outputs": [
    {
     "data": {
      "text/plain": [
       "'believ'"
      ]
     },
     "execution_count": 36,
     "metadata": {},
     "output_type": "execute_result"
    }
   ],
   "source": [
    "from nltk.stem import PorterStemmer\n",
    "\n",
    "stemmer = PorterStemmer()\n",
    "\n",
    "stemmer.stem('believes')"
   ]
  },
  {
   "cell_type": "code",
   "execution_count": 39,
   "metadata": {
    "collapsed": false
   },
   "outputs": [
    {
     "data": {
      "text/plain": [
       "'belief'"
      ]
     },
     "execution_count": 39,
     "metadata": {},
     "output_type": "execute_result"
    }
   ],
   "source": [
    "#WordNet is the best stemmer available\n",
    "lemmatizer.lemmatize('believes')"
   ]
  },
  {
   "cell_type": "markdown",
   "metadata": {},
   "source": [
    "# !!! Maybe we can use this !!!"
   ]
  },
  {
   "cell_type": "code",
   "execution_count": 43,
   "metadata": {
    "collapsed": true
   },
   "outputs": [],
   "source": [
    "import re\n",
    "\n",
    "#we should include this replacement in the document cleaning\n",
    "replacement_patterns = [{r'won\\'t', 'will not'}, {r'can\\'t', 'cannot'}]"
   ]
  },
  {
   "cell_type": "code",
   "execution_count": 42,
   "metadata": {
    "collapsed": true
   },
   "outputs": [],
   "source": [
    "def replace(text):\n",
    "    s = text\n",
    "    for pattern, replace in replacement_patterns:\n",
    "        s = re.sub(pattern, replace, s)\n",
    "    return s"
   ]
  },
  {
   "cell_type": "code",
   "execution_count": 41,
   "metadata": {
    "collapsed": false
   },
   "outputs": [
    {
     "data": {
      "text/plain": [
       "'I will not go to Jamaica this year'"
      ]
     },
     "execution_count": 41,
     "metadata": {},
     "output_type": "execute_result"
    }
   ],
   "source": [
    "replace(\"I won't go to Jamaica this year\")"
   ]
  },
  {
   "cell_type": "code",
   "execution_count": 49,
   "metadata": {
    "collapsed": false
   },
   "outputs": [
    {
     "name": "stdout",
     "output_type": "stream",
     "text": [
      "Requirement already satisfied (use --upgrade to upgrade): pyenchant in /Users/ciprian/anaconda/lib/python3.5/site-packages\r\n"
     ]
    }
   ],
   "source": [
    "!pip install pyenchant"
   ]
  },
  {
   "cell_type": "code",
   "execution_count": null,
   "metadata": {
    "collapsed": false
   },
   "outputs": [],
   "source": [
    "#there is an error on Mac OS X with enchant in Python 3\n",
    "import enchant\n",
    "\n",
    "spell_dict = enchant.Dict('en')\n",
    "\n",
    "word = 'accurate'\n",
    "\n",
    "if spell_dict.check(word):\n",
    "    print(word)\n",
    "    \n",
    "suggestion = spell_dict.suggest(word)\n",
    "\n",
    "print(suggestion)"
   ]
  },
  {
   "cell_type": "markdown",
   "metadata": {},
   "source": [
    "# Machine learning exercise"
   ]
  },
  {
   "cell_type": "code",
   "execution_count": 52,
   "metadata": {
    "collapsed": true
   },
   "outputs": [],
   "source": [
    "import nltk\n",
    "from nltk.corpus import stopwords\n",
    "from nltk.stem import WordNetLemmatizer\n",
    "import csv"
   ]
  },
  {
   "cell_type": "code",
   "execution_count": 61,
   "metadata": {
    "collapsed": true
   },
   "outputs": [],
   "source": [
    "def preprocessing(text):\n",
    "    tokens = [word for sent in nltk.sent_tokenize(text) for word in nltk.word_tokenize(sent)]\n",
    "    \n",
    "    stop = stopwords.words('english')\n",
    "    tokens = [token for token in tokens if token not in stop]\n",
    "    \n",
    "    tokens = [word for word in tokens if len(word) > 3]\n",
    "    \n",
    "    tokens = [word.lower() for word in tokens]\n",
    "    \n",
    "    lmtzr = WordNetLemmatizer()\n",
    "    tokens = [lmtzr.lemmatize(word) for word in tokens]\n",
    "    \n",
    "    preprocessed_text = ' '.join(tokens)\n",
    "    \n",
    "    return preprocessed_text"
   ]
  },
  {
   "cell_type": "code",
   "execution_count": 62,
   "metadata": {
    "collapsed": false
   },
   "outputs": [
    {
     "data": {
      "text/plain": [
       "'this test'"
      ]
     },
     "execution_count": 62,
     "metadata": {},
     "output_type": "execute_result"
    }
   ],
   "source": [
    "preprocessing('This is a test for a dog')"
   ]
  },
  {
   "cell_type": "code",
   "execution_count": 66,
   "metadata": {
    "collapsed": false
   },
   "outputs": [],
   "source": [
    "smsdata = open('/Users/ciprian/nltk_Data/smsspamcollection/SMSSpamCollection')\n",
    "sms_label = []\n",
    "sms_data = []\n",
    "csv_reader = csv.reader(smsdata, delimiter = '\\t')"
   ]
  },
  {
   "cell_type": "code",
   "execution_count": 67,
   "metadata": {
    "collapsed": false
   },
   "outputs": [],
   "source": [
    "for line in csv_reader:\n",
    "    sms_label.append(line[0])\n",
    "    sms_data.append(preprocessing(line[1]))"
   ]
  },
  {
   "cell_type": "code",
   "execution_count": 69,
   "metadata": {
    "collapsed": true
   },
   "outputs": [],
   "source": [
    "import sklearn\n",
    "import numpy as np\n",
    "\n",
    "trainset_size = int(round(len(sms_data) * 0.70))"
   ]
  },
  {
   "cell_type": "code",
   "execution_count": 108,
   "metadata": {
    "collapsed": true
   },
   "outputs": [],
   "source": [
    "x_train = np.array([''.join(el) for el in sms_data[0:trainset_size]])\n",
    "y_train = np.array([''.join(el) for el in sms_label[0:trainset_size]])\n",
    "\n",
    "x_test = np.array([''.join(el) for el in sms_data[trainset_size + 1 : -1]])\n",
    "y_test = np.array([''.join(el) for el in sms_label[trainset_size + 1 : -1]])"
   ]
  },
  {
   "cell_type": "code",
   "execution_count": 72,
   "metadata": {
    "collapsed": false
   },
   "outputs": [
    {
     "name": "stdout",
     "output_type": "stream",
     "text": [
      "['okie' 'that depends would like treated' 'right brah later' ...,\n",
      " 'will going esplanade home' 'pity mood suggestion'\n",
      " 'bitching acted like interested buying something else next week gave free']\n"
     ]
    }
   ],
   "source": [
    "print(x_train)"
   ]
  },
  {
   "cell_type": "code",
   "execution_count": 73,
   "metadata": {
    "collapsed": false
   },
   "outputs": [
    {
     "name": "stdout",
     "output_type": "stream",
     "text": [
      "['ham' 'ham' 'ham' ..., 'ham' 'ham' 'ham']\n"
     ]
    }
   ],
   "source": [
    "print(y_train)"
   ]
  },
  {
   "cell_type": "markdown",
   "metadata": {},
   "source": [
    "# !!! Maybe we can use this !!!"
   ]
  },
  {
   "cell_type": "code",
   "execution_count": 99,
   "metadata": {
    "collapsed": false
   },
   "outputs": [],
   "source": [
    "#We can use this feature to create a dictionary\n",
    "from sklearn.feature_extraction.text import CountVectorizer\n",
    "sms_exp = []\n",
    "\n",
    "for line in sms_data:\n",
    "    sms_exp.append(preprocessing(line))\n",
    "    \n",
    "vectorizer = CountVectorizer(min_df=1)\n",
    "X_exp = vectorizer.fit_transform(sms_exp)"
   ]
  },
  {
   "cell_type": "code",
   "execution_count": 100,
   "metadata": {
    "collapsed": false
   },
   "outputs": [
    {
     "data": {
      "text/plain": [
       "<5572x7344 sparse matrix of type '<class 'numpy.int64'>'\n",
       "\twith 36715 stored elements in Compressed Sparse Row format>"
      ]
     },
     "execution_count": 100,
     "metadata": {},
     "output_type": "execute_result"
    }
   ],
   "source": [
    "X_exp"
   ]
  },
  {
   "cell_type": "code",
   "execution_count": 101,
   "metadata": {
    "collapsed": false
   },
   "outputs": [
    {
     "name": "stdout",
     "output_type": "stream",
     "text": [
      "00||000||000pes||008704050406||0089||0121||01223585236||01223585334||0125698789||02||0207||02072069400||02073162414||02085076972||03||04||0430||05||050703||0578||06||07||07008009200||07046744435||07090201529||07090298926||07099833605||07123456789||0721072||07732584351||07734396839||07742676969||07753741225||0776xxxxxxx||07781482378||07786200117||077xxx||07801543489||07808||07808247860||07808726822||07815296484||07821230901||078498||07880867867||0789xxxxxxx||07946746291||0796xxxxxx||07973788240||07xxxxxxxxx||08||0800||08000407165||08000776320||08000839402||08000930705||08000938767||08001950382||08002888812||08002986030||08002986906||08002988890||08006344447||0808||08081263000||08081560665||0825||083||0844||08448350055||08448714184||0845||08450542832||08452810071||08452810073||08452810075over18||0870||08700435505150p||08700469649||08700621170150p||08701213186||08701237397||08701417012||08701417012150p||0870141701216||087016248||08701752560||087018728737||0870241182716||08702490080||08702840625||08704050406||08704439680||08704439680ts||08706091795||0870737910216yrs||08707500020||08707509020||0870753331018||08707808226||08708034412||08708800282||08709222922||08709501522||0871||087104711148||08712101358||08712103738||0871212025016||08712300220||087123002209am||08712317606||08712400200||08712400602450p||08712400603||08712402050||08712402578||08712402779||08712402902||08712402972||08712404000||08712405020||08712405022||08712460324||08712466669||0871277810710p||0871277810810||0871277810910p||08714342399||087147123779am||08714712379||08714712388||08714712394||08714712412||08714714011||08715203028||08715203649||08715203652||08715203656||08715203677||08715203685||08715203694||08715205273||08715500022||08715705022||08717111821||08717168528||08717205546||0871750||08717507382||08717509990||08717890890||08717895698||08717898035||08718711108||08718720201||08718723815||08718725756||08718726270||087187262701||08718726970||08718726971||08718726978||087187272008||08718727868||08718727870||08718727870150ppm||08718730555||08718730666||08718738001||08718738002||08718738034||08719180219||08719180248||08719181259||08719181503||08719181513||08719839835||08719899217||08719899229||08719899230||09||09041940223||09050000301||09050000332||09050000460||09050000555||09050000878||09050000928||09050001295||09050001808||09050002311||09050003091||09050005321||09050090044||09050280520||09053750005||09056242159||09057039994||09058091854||09058091870||09058094454||09058094455||09058094507||09058094565||09058094583||09058094594||09058094597||09058094599||09058095107||09058095201||09058097189||09058097218||09058098002||09058099801||09061104276||09061104283||09061209465||09061213237||09061221061||09061221066||09061701444||09061701461||09061701851||09061701939||09061702893||09061743386||09061743806||09061743810||09061743811||09061744553||09061749602||09061790121||09061790125||09061790126||09063440451||09063442151||09063458130||0906346330||09064011000||09064012103||09064012160||09064015307||09064017295||09064017305||09064018838||09064019014||09064019788||09065069120||09065069154||09065171142||09065174042||09065394514||09065394973||09065989180||09065989182||09066350750||09066358152||09066358361||09066361921||09066362206||09066362220||09066362231||09066364311||09066364349||09066364589||09066368327||09066368470||09066368753||09066380611||09066382422||09066612661||09066649731from||09066660100||09071512432||09071512433||09071517866||09077818151||09090204448||09090900040||09094100151||09094646631||09094646899||09095350301||09096102316||09099725823||09099726395||09099726429||09099726481||09099726553||09111030116||09111032124||09701213186||0quit||10||100||1000||1000call||100p||100percent||100txt||1013||1030||10am||10p||10ppm||10th||11||1120||1131||114||1146||1172||118p||11mths||11pm||12||1205||120p||1225||123||125||1250||125gift||12hours||12hrs||12mths||13||1327||14||1405||140ppm||1450||146tf150p||14tcr||14thmarch||15||150||1500||150p||150p16||150pm||150ppermesssubscription||150ppm||150ppmpobox10183bhamb64xe||150ppmsg||150pw||15541||15pm||16||165||1680||18||1843||18p||18yrs||1956669||1apple||1b6a5ecef91ff9||1cup||1lemon||1mega||1million||1st4terms||1stchoice||1stone||1thing||1tulsi||1win150ppmx3||1winaweek||1winawk||1x150p||20||200||2000||2003||2004||2005||2006||2007||200p||2025050||20m12aq||20p||21||21870000||21st||22||220||220cm2||2309||23f||23g||24||24hrs||24th||25||250||250k||26||2667||26th||27||28||2814032||28days||28th||28thfeb||29||2bold||2channel||2day||2docd||2end||2exit||2find||2getha||2geva||2go||2gthr||2hook||2hrs||2kbsubject||2lands||2marrow||2moro||2morow||2morro||2morrow||2morrowxxxx||2mro||2mrw||2mwen||2nhite||2nights||2nite||2optout||2price||2rcv||2stop||2stoptx||2stoptxt||2watershd||2waxsto||2wks||2years||2yrs||30||3000||300603||300603t||300p||3030||30apr||30ish||30pm||30pp||30th||31||3100||310303||31p||32||32000||3230||32323||33||350||3510i||3650||36504||3680||3750||37819||38||382||391784||3days||3gbp||3hrs||3lions||3lp||3miles||3mins||3mobile||3optical||3pound||3qxj9||3wks||3x||400||400mins||400thousad||4041||40411||40533||40gb||40mph||41685||41782||42049||4217||42478||42810||434||440||4403ldnw1a7rw18||44345||447797706009||447801259231||448712404000||449050000301||449071512431||450||450p||450ppw||450pw||45239||45pm||4719||4742||47per||48||4882||48922||49||49557||4brekkie||4eva||4few||4fil||4get||4give||4got||4goten||4info||4msgs||4mths||4qf2||4the||4thnov||4txt||4u||4utxt||4ward||4wrd||4xx26||4years||50||500||5000||505060||50award||50ea||50gbp||50p||50perweeksub||50perwksub||50pm||50pmmorefrommobile2bremoved||50ppm||50rcvd||5226||523||5249||5digital||5free||5ish||5min||5mls||5p||5we||5wkg||5years||60||600||6031||6089||60p||61||61200||61610||62220cncl||6230||62468||62735||63miles||65||66||6669||674||67441233||68866||69101||69200||69669||69696||69698||69855||69866||69876||69888||69888nyt||69911||69969||69988||6days||6hrs||6ish||6missed||6months||6ph||6pm||6times||7250||7250i||74355||75||750||7548||75max||762||7634||7684||77||7732584351||7876150ppm||7cfca1a||7ish||7mp||7pm||800||8000930705||80062||8007||80082||80086||80122300p||80155||80160||80182||8027||80488||80608||8077||80878||81010||81151||81303||81618||82050||820554ad0a1705572711||82242||82277||82324||82468||83021||83039||83049||83110||83118||83222||83332||83338||83355||83370||83383||83435||83600||83738||84025||84122||84128||84199||84484||85023||85069||85222||85233||8552||85555||86021||864233||86688||86888||87021||87066||87070||87077||87121||87131||8714714||872||87239||87575||8800||88039||88066||88088||88222||88600||88800||8883||88877||88888||89034||89070||89080||89105||89123||89545||89555||89693||89938||8ball||8p||8th||900||9061100010||910||9153||9280114||9307622||945||95||9755||9758||97n7qp||98321561||99||9996||9am||9pm||9t||____||aaniye||aaooooright||aathi||ab||abbey||abdomen||abeg||abel||aberdeen||ability||abiola||able||abnormally||aboutas||abroad||absence||absolutely||absolutly||abstract||abta||aburo||abuse||abuser||ac||academic||accent||accenture||accept||access||accessible||accidant||accident||accidentally||accommodation||accommodationvouchers||accomodate||accomodations||accordin||accordingly||account||accounting||accumulation||achan||ache||achieve||acid||acknowledgement||acl03530150pm||acnt||across||acted||actin||acting||action||activ8||activate||active||activity||actor||actual||actually||adam||addamsfa||added||addicted||addie||adding||address||adewale||adjustable||admin||administrator||admirer||admission||admit||adore||adoring||adress||adrian||adrink||adsense||adult||advance||adventure||adventuring||advice||advise||advising||advisor||aeronautics||aeroplane||afew||affair||affection||affectionate||affidavit||afford||afghanistan||afraid||africa||african||after||afternon||afternoon||afterwards||aftr||again||agalla||age16||age23||agency||agent||ages||agidhane||aging||ago||agree||ah||ahead||ahhh||ahhhh||ahmad||ahold||aight||aint||air1||airport||airtel||aiya||aiyah||aiyar||aiyo||ajith||akon||al||alaikkum||alaipayuthe||albi||album||alcohol||aldrine||alert||alertfrom||aletter||alex||alfie||algarve||algebra||algorithm||ali||alian||alibi||alive||all||allah||allalo||allday||alle||allo||allow||allowed||allows||almost||alone||along||alot||already||alright||alrite||also||alter||alternative||although||alto18||aluable||alwa||always||alwys||am||amanda||amazing||ambitious||ambrith||american||amigo||amla||amma||ammae||ammo||amnow||among||amongst||amore||amount||amplikater||amrca||amrita||amused||anal||analysis||anand||and||anderson||andre||andres||andrews||andros||angel||angry||animal||animation||anjie||anjola||anna||annie||anniversary||annoncement||announced||announcement||annoyin||annoying||anonymous||anot||another||ansr||answer||answered||answerin||answering||answr||antelope||antha||anthony||anti||antibiotic||any||anybody||anyhow||anymore||anyone||anyones||anyplaces||anythiing||anythin||anything||anythingtomorrow||anytime||anyway||anyways||anywhere||apart||apartment||apeshit||aphex||apnt||apologetic||apologise||apologize||apology||apparently||appeal||appear||appendix||applausestore||applebees||apples||application||apply||applyed||applying||appointment||appreciate||appreciated||approach||approaching||appropriate||approve||approved||approx||apps||appt||appy||april||aproach||aptitude||aquarius||ar||arab||arabian||arcade||archive||are||area||arent||arestaurant||aretaking||areyouunique||argentina||argh||argue||arguing||argument||aries||arise||arises||arithmetic||armand||armenia||arng||arngd||arnt||around||aroundn||arrange||arranging||arrested||arrival||arrive||arrived||arrow||arsenal||artist||arty||arul||arun||asap||asda||ashley||ashwini||asia||asian||asjesus||ask||askd||asked||askin||asking||asks||aslamalaikkum||asleep||asp||aspect||ass||assessment||asshole||assistance||associate||asssssholeeee||assume||assumed||asthere||asthma||astne||astoundingly||astrology||astronomer||asus||asusual||at||athletic||athome||atlanta||atlast||atleast||atm||atrocious||attach||attached||attack||attempt||atten||attend||attended||attending||attention||attitude||attraction||attractive||attracts||attributed||atural||auction||audiitions||audition||audrey||audrie||august||aunt||auntie||aunty||aust||australia||authorise||auto||autocorrect||availa||available||avalarr||avatar||avble||avenge||avent||avenue||avin||avoid||avoiding||avoids||await||awaiting||awake||award||awarded||away||awesome||awkward||awww||axel||axis||b4190604||b4280703||b4utele||ba128nnfwfly150ppm||baaaaaaaabe||baaaaabe||babe||baby||babygoodbye||babyjontet||babysit||babysitting||back||backdoor||backwards||bad||badass||badly||badrith||bag||bahamas||baig||bailiff||bajarangabali||bakra||bakrid||balance||ball||baller||balloon||bambling||band||bandage||bang||bangb||bangbabes||bank||banned||banneduk||banter||barbie||barcelona||bare||barely||bari||barkley||barmed||barolla||barred||barrel||barring||barry||base||based||bash||basic||basically||basket||basketball||basq||batch||batchlor||bath||bathe||bathing||bathroom||batsman||batt||battery||battle||bawling||bbd||bbdeluxe||bcaz||bcm1896wc1n3xx||bcm4284||bcmsfwc1n3xx||bcoz||bcs||bcum||bcums||bday||be||beach||bead||bear||beating||beautiful||beauty||becaus||becausethey||become||becomes||becoz||becz||bedbut||bedreal||bedrm||bedroom||beeen||beehoon||beendropping||beer||beerage||befor||before||beforehand||beggar||begging||begin||begun||behalf||behave||behind||bein||believe||belive||bell||bellearlier||belligerent||belly||belong||belongs||belovd||beloved||belt||bend||beneath||beneficiary||benefit||benny||bergkamp||beside||best||best1||beta||beth||betta||better||bettersn||bettr||beverage||bevies||beware||beyond||bffs||bfore||bhaji||bhaskar||bhayandar||bian||biatch||big||bigger||biggest||bike||bill||billed||billing||billion||billy||bilo||bimbo||biola||bird||birla||biro||birth||birthdate||birthday||bishan||bitch||bitching||bite||biz||black||blackberry||blacko||blah||blake||blame||blank||blanked||blanket||blastin||bleak||bleh||bless||blessed||blessing||blimey||blind||block||blocked||blog||blogging||blogspot||bloke||blonde||bloo||blood||bloody||bloomberg||blow||blowing||blown||blue||bluetooth||bluetoothhdset||bluff||blur||bluray||board||boat||boatin||body||boggy||bognor||bold||bold2||bollox||boltblue||bomb||bone||bong||bonus||boob||book||booked||bookedthe||booking||bookmark||bookshelf||boooo||boost||booty||bootydelious||borderline||bored||borin||boring||born||borrow||boston||both||bother||bothering||bottle||bottom||bought||boundary||bout||bowa||bowl||box1146||box139||box177||box245c2150pm||box326||box334||box334sk38ch||box385||box39822||box403||box420||box42wr29c||box434sk38wp150ppm18||box61||box95qu||box97n7qp||boy||boye||boyf||boyfriend||boytoy||bpo||brah||brain||braindance||brainless||brainy||brand||brandy||brat||braved||bray||brdget||bread||breadstick||break||breaker||breakfast||breakin||breaking||breath||breathe||breathe1||breather||breathing||breeze||breezy||bribe||bridal||bridge||bridgwater||brief||bright||brighten||brilliant||brilliantly||brin||bring||bringing||brings||brisk||brison||bristol||british||britney||broad||broadband||broke||broken||brolly||bros||broth||brothas||brother||brought||brown||brownie||browse||browser||browsin||bruce||brum||bruv||bslvyl||bsnl||bstfrnd||bt||bthere||btwn||bubbletext||buck||buddy||budget||buen||buff||buffet||buffy||bugis||build||building||built||bulb||bull||bullshit||bunch||bundle||bunker||burden||burger||burgundy||burial||burn||burning||burnt||burrito||bus||bus8||busetop||business||busty||busy||but||butt||buttheres||butting||button||buy||buyer||buying||buzy||buzz||buzzzz||bx420||bx526||by||byatch||bye||cabin||cable||cafe||cage||cake||calculated||calculation||cali||calicut||california||call||call09050000327||call2optout||callback||callcost||callcost150ppmmobilesvary||calld||called||caller||callertune||callfreefone||callin||calling||callon||calls||calls1||calm||camcorder||came||camera||camp||campus||camry||can||canada||canal||canary||cancel||canceled||cancelled||cancer||canlove||canname||cant||cantdo||canteen||capacity||capital||cappuccino||captain||captaining||car||card||cardiff||cardin||care||careabout||cared||career||careers||careful||carefully||careless||caring||carlie||carlin||carlos||carly||carolina||caroline||carpark||carry||carryin||carton||cartoon||case||cash||cashbin||cashed||cashto||casing||cast||casting||castor||casualty||catch||catching||category||caught||cause||causing||cave||caveboy||cc100p||ccna||cdgt||cedar||ceiling||celeb||celebrate||celebrated||celebration||cell||census||center||centre||century||cereal||ceri||certainly||certificate||chachi||chad||chain||challenge||challenging||champ||champlaxigating||champneys||chance||change||changed||changing||channel||chap||chapel||chapter||character||charge||charged||charity||charles||charlie||charming||chart||chase||chasing||chastity||chat||chat80155||chatlines||chatter||chatting||cheap||cheaper||cheat||cheating||chechi||check||checkboxes||checked||checkin||checking||checkmate||checkup||cheek||cheer||cheered||cheery||cheese||cheesy||cheetos||chef||chennai||cheque||cherish||cherthala||chess||chest||chex||cheyyamo||chez||chgs||chic||chick||chicken||chickened||chief||chik||chikku||child||childish||childporn||children||childrens||chile||chill||chillaxin||chillin||china||chinatown||chinchilla||chinese||chinky||chinnu||chiong||chip||chit||chloe||chocolate||choice||choose||choosing||chop||chord||chore||chosen||chrgd||christ||christian||christmas||christmassy||chuck||chuckin||church||ciao||cine||cinema||citizen||city||citylink||claim||claimcode||claire||clarification||clarify||clark||clas||clash||class||classic||classmate||claypot||clean||cleaning||clear||cleared||clearer||clearing||clearly||clever||click||cliff||clip||clock||clos1||close||closeby||closed||closer||closingdate04||cloth||clothes||cloud||clover||club||club4||club4mobiles||clubmoby||clubsaisai||clubzed||clue||cm2||cmon||cnupdates||co||coach||coast||coat||coaxing||coca||coccooning||cochin||cock||cocksucker||coco||code||coffee||coherently||coimbatore||coin||coincidence||cola||colany||cold||colin||collage||collapsed||colleague||collect||collected||collecting||collection||colleg||college||color||colour||colourful||com||com1win150ppmx3age16||com1win150ppmx3age16subscription||comb||combination||combine||come||comedy||comes||comfey||comfort||comin||coming||comingdown||command||comment||commercial||commit||common||community||como||comp||companion||company||compare||compass||compensation||competition||complacent||complain||complaining||complaint||complementary||complete||completed||completely||completes||completing||complexity||compliment||complimentary||comprehensive||compromised||compulsory||computational||computer||computerless||comuk||conacted||concentrate||concentrating||concentration||concern||concerned||concert||conclusion||condition||conduct||conected||conference||confidence||configure||confirm||confirmd||confirmed||conform||confused||confuses||congrats||congratulation||connect||connected||connection||consensus||consent||conserve||consider||considering||consistently||console||constant||constantly||contact||contacted||contains||content||contented||contention||continent||continue||continued||contract||contribute||control||convenience||conversation||converted||converter||convey||conveying||convince||convinced||convincing||cook||cooked||cooking||cooky||cool||cooped||cooperative||copied||coping||copy||corect||cornwall||corporation||corrct||correct||correction||correctly||corrupt||corvette||cosign||cost||costa||costing||costume||couch||cougar||cough||coughing||could||coulda||couldn||count||countin||countinlots||country||coupla||couple||courage||courageous||course||court||courtroom||cousin||cover||coveragd||covers||coz||cozy||cr01327bt||crab||crack||craigslist||crammed||cramp||crap||crash||crashed||crashing||crave||craving||craziest||crazy||crazyin||crckt||cream||created||creative||creativity||credit||credited||creep||creepy||cres||cribbs||cricket||cricketer||crickiting||cried||crisis||cro1327||crore||cross||crossing||crowd||croydon||crucial||crucify||cruel||cruise||cruisin||crushes||cs||csbcm4235wc1n3xx||csh11||cstore||ctagg||ctargg||cthen||ctla||cttargg||ctter||cttergg||ctxt||cuck||cud||cuddle||cuddled||cuddling||cudnt||culdnt||culture||cumin||cumming||cupboard||cuppa||curfew||curious||current||currently||curry||curtsey||cusoon||cust||custcare||custom||customer||customercare||customersqueries||cute||cutefrnd||cutest||cutie||cutter||cutting||cw25wx||cyclist||cyst||d3wv||da||daaaaa||dabbles||dabooks||daddy||daily||dammit||damn||dancce||dance||dancin||dancing||dane||dang||danger||dangerous||dare||dark||darker||darkest||darkness||darlin||darling||darren||dartboard||dasara||dat||data||date||datebox1282essexcm61xn||dating||datz||dave||dawn||day||days||daytime||daywith||db||dbuk||de||dead||deal||dealer||dealing||dear||dear1||dearer||dearly||death||debating||decades||december||decent||decide||decided||deciding||decimal||decision||deck||decking||declare||decorating||dedicate||dedicated||deduct||deep||deepak||deepest||deer||deeraj||defeat||defer||deficient||definite||definitely||definitly||defo||degree||dehydrated||dehydration||delay||delayed||delete||deleted||delhi||delicious||deliver||delivered||deliveredtomorrow||delivery||deltomorrow||deluxe||demand||dena||dengra||denis||dent||dental||dentist||deny||denying||department||dependable||dependent||depends||deposit||deposited||depressed||depression||dept||der||derek||derp||describe||description||desert||deserve||designation||desire||desires||desk||desparate||desparately||desperate||despite||dessert||destination||destiny||detail||detailed||details||determine||determined||detroit||deus||develop||developed||developer||device||devil||deviousbitch||devouring||dey||dhanush||dhina||dhoni||dhorte||dial||dialling||dialogue||diamond||diaper||dice||dick||dict||dictionary||did||diddy||didn||didnt||didntgive||died||diesel||diet||dieting||diff||differ||difference||different||difficult||difficulty||dificult||digi||digit||digital||dignity||dileep||dime||dimension||dine||dined||dinero||ding||dining||dinner||dino||dint||dippeditinadew||direct||directly||director||dirt||dirtiest||dirty||disagreeable||disappeared||disappointment||disaster||disastrous||disc||disclose||disconnect||disconnected||discount||discreet||discus||discussed||disease||disk||dislike||dismay||dismissial||display||distance||distract||disturb||disturbance||disturbing||ditto||divert||division||divorce||diwali||dizzamn||dizzee||dled||dload||dnot||do||dobby||dock||doctor||doctors||document||dodda||dodgey||doesdiscount||doesn||doesnt||dogbreath||dogg||doggin||dogging||doggy||dogwood||doin||doinat||doit||doke||dokey||doll||dollar||domain||don||donate||done||donno||dont||dontcha||dontignore||dontmatter||dontplease||donyt||doom||door||dorm||dormitory||dorothy||dose||dosomething||double||doublemins||doubletxt||doubt||doug||dough||download||downloaded||downloads||downon||downstem||dozen||dracula||drama||dramastorm||dramatic||drastic||draw||dreading||dream||dreams||dreamz||dress||dressed||dresser||drink||drinkin||drinking||drivby||drive||driver||drivin||driving||drizzling||drms||drop||dropped||drove||drpd||drug||drugdealer||drum||drunk||drunkard||drunken||drvgsto||dryer||dual||dubsack||duchess||ducking||dude||dudette||duffer||dull||dumb||dump||dungerees||dunno||durban||durham||dusk||dust||duvet||dying||dysentry||eachother||earlier||earliest||early||earn||earning||earth||easier||easiest||easily||east||eastenders||easter||easy||eaten||eatin||eating||ebay||ec2a||echo||eckankar||ecstacy||ecstasy||ed||edge||edhae||edison||edition||edrunk||edu||education||educational||edukkukayee||edward||eerie||eerulli||effect||efficient||efreefone||egbon||egg||eggs||eh74rr||eight||eighth||eightish||eire||either||elaborate||elaborating||elaine||elama||elaya||eldest||election||electricity||elephant||eleven||elliot||ello||else||elsewhere||elvis||email||emailed||embarassed||embarassing||embarrassed||embassy||emc1||emergency||emerging||emigrated||emily||emotion||employee||employer||empty||end||ended||ending||endless||endof||endowed||ends||enemy||energy||engaged||engagement||engalnd||engin||england||english||enjoy||enjoyed||enjoyin||enjoying||enketa||enna||ennal||enough||ente||enter||entered||enters||entertain||entertaining||entey||entire||entirely||entitled||entrepreneur||entropication||entry||entry41||enufcredeit||enuff||envelope||environment||envy||eppolum||epsilon||equally||er||ere||ericson||ericsson||erode||erotic||error||ertini||eruku||erupt||erutupalam||esaplanade||escalator||escape||eshxxxxxxxxxxx||espe||especially||esplanade||essay||essential||establish||ethnicity||etlp||ettans||euro||euro2004||eurodisinc||europe||evaluation||evaporated||eveb||even||evening||event||eventually||ever||every||every1||everybody||everyboy||everyday||everyone||everyones||everyso||everythin||everything||everytime||everywhere||evey||eviction||evil||evng||evone||evrey||evry||evry1||evrydy||ex||exact||exactly||exam||excellent||except||exchanged||excited||exciting||excuse||excused||executive||exercise||exeter||exhaust||exhausted||exhibition||exist||exmpel||exorcism||exorcist||expect||expected||expecting||expects||expensive||experience||experiencehttp||experiment||expert||expired||expires||expiry||explain||explicit||explicitly||explosive||exposed||exposes||express||expression||expressoffer||exterminator||extra||extract||extreme||eyed||f4q||faber||face||facebook||facility||fact||factory||faded||faggot||faggy||faglord||failed||failing||fails||failure||fainting||fair||faith||fake||fakeye||falconerf||fall||fallen||falling||fals||famamus||familiar||family||famous||fancied||fancy||fantastic||fantasy||farm||farrell||farting||fassyole||fast||faster||fastest||fated||father||fathima||fatty||fault||fave||favor||favorite||favour||favourite||fear||feathery||feature||feb||february||fedex||feed||feel||feelin||feeling||feelingood||feellikw||feet||fell||fellow||felt||female||feng||festival||fetch||fetching||fever||few||ffectionate||fffff||ffffffffff||ffffuuuuuuu||fgkslpo||fgkslpopw||fidalfication||field||fieldof||fiend||fifa||fifteen||fifth||fifty||fight||fighting||fightng||figure||figuring||file||fill||filled||filling||film||filth||filthy||filthyguys||final||finalise||finally||finance||financial||find||finding||fine||finest||finger||fingers||finish||finishd||finished||finishing||fink||finn||fire||fired||firefox||fireplace||fires||firmware||firsg||first||fish||fishhead||fishrman||fiting||five||fixd||fixed||fixedline||fizz||flag||flaked||flaky||flame||flash||flat||flatter||flavour||flea||fletcher||flew||flight||flim||flip||flippin||flirt||flirting||flirtparty||floating||flood||floor||floppy||florida||flow||flower||flowing||fluid||flung||flurry||flute||fly||flying||flyng||fold||foley||folk||follow||followed||followin||following||follows||fond||fondly||fone||foned||fones||fonin||food||fool||fooled||foot||football||footbl||footie||footprint||footy||for||force||forced||foregate||foreign||forever||forevr||forfeit||forget||forgets||forgive||forgiven||forgiveness||forgot||forgotten||forgt||form||formal||formally||format||formatting||forms||forth||fortune||forum||forward||forwarded||forwarding||found||foundurself||four||fourth||foward||fowler||fr||fraction||fran||frank||frankie||franxx||franyxxxxx||fraud||freak||freaked||freaking||freaky||fredericksburg||free||free2day||freedom||freeentry||freefone||freek||freely||freemsg||freephone||freezing||freinds||fren||french||frens||frequently||fresh||fresher||fret||fri||friday||fridge||fried||friend||friends||friendsare||friendship||fring||fringe||frm||frmcloud||frnd||frnds||frndship||frndshp||frndsship||frndz||frnt||frog||fromm||fromwrk||front||frontierville||frosty||fruit||frwd||frying||fuck||fucked||fuckin||fucking||fuckinnice||fudge||fuelled||fujitsu||ful||fulfil||full||fullonsms||fumbling||function||fund||fundamental||funeral||funk||funky||funny||furniture||fusion||future||fuuuuck||fwiw||g696ga||gage||gail||gailxx||gain||gained||gal||galileo||gals||gamb||game||games||gamestar||gandhipuram||ganesh||gang||garage||garbage||garden||gardener||gari||garment||gary||gastroenteritis||gate||gauge||gautham||gauti||gave||gayle||gaytextbuddy||gaze||gbp||gbp1||gbp4||gbp5||gdeve||ge||gee||geeee||geeeee||gek1510||gender||gene||general||generally||genius||gent||gentle||gentleman||gently||genuine||genus||geoenvironmental||george||germany||get||get4an18th||getiing||geting||getsleep||getstop||gettin||getting||getzed||ghodbandar||ghost||gibbs||gibe||gift||gifted||giggle||gigolo||gimmi||girl||girlfrnd||girlie||gist||giv||give||given||giving||glad||gland||glasgow||glass||global||glorious||glory||gloucesterroad||gm||gn||gnarl||gnun||go||go2sri||goal||goals||gobi||god||goggles||goigng||goin||goin2bed||going||gokila||gold||golddigger||golden||goldviking||golf||gona||gone||gong||gonnamissu||good||goodevening||goodfriend||goodmate||goodmorning||goodnight||goodnite||goodnoon||goodo||goodtime||goody||google||gopalettan||gorgeous||gosh||gossip||gota||gotany||gotbabes||gotmarried||goto||gotten||gotto||goverment||govt||gower||gprs||gr8fun||gr8prizes||grab||grace||graduated||grahmbell||gram||gran||grand||grandfather||grandma||granite||granted||graphic||grasp||grateful||grave||gravel||gravity||gravy||gray||grazed||great||greatest||greatly||greatness||greece||green||greet||greeting||grief||grinder||grins||grinule||grocer||grooved||groovy||groovying||ground||group||grow||growing||grown||grownup||grumble||grumpy||gsex||gsoh||guai||guarantee||guaranteed||gucci||gud||gudni8||gudnite||gudnyt||guess||guessed||guessin||guessing||guidance||guide||guild||guilty||guitar||gumby||guoyang||gurl||gving||gymnastics||gynae||gyno||habba||habit||hack||had||haha||hahaha||hail||hair||haircut||hairdresser||haiyoh||haiz||half||half8th||hall||halla||hallaq||halloween||ham||hamper||hamster||hand||handed||handing||handle||hands||handset||handsome||handsomes||hang||hanger||hangin||hanging||hank||hannaford||hanuman||hanumanji||happen||happend||happened||happenin||happening||happens||happier||happiest||happily||happiness||happy||hard||hardcore||harder||hardest||hardly||hari||harish||harlem||harri||harry||hasbro||hasnt||hassling||hate||haughaighgtujhyguj||haul||haunt||hav2hear||hava||havbeen||have||havebeen||haven||havent||haventcn||havin||havnt||he||head||headache||headin||heading||headset||headstart||heal||healer||healthy||heap||hear||heard||hearin||hearing||heart||hearted||hearts||heat||heater||heaven||heavily||heavy||hectic||hee||heehee||hehe||height||held||helen||hell||hella||hello||hellogorgeous||helloooo||help||help08700621170150p||help08714742804||help08718728876||helpful||helping||helpline||heltini||hence||henry||her||here||hero||heron||hesitant||hesitate||hesitation||hex||hey||hf8||hg||hhahhaahahah||hi||hidden||hide||hiding||high||highest||hilarious||hill||hillsborough||him||himso||hint||hiphop||hire||his||history||hitler||hitman||hitter||hittng||hiya||hlday||hmm||hmmm||hmmmm||hmmross||hmph||hmv1||hockey||hogidhe||hogli||hogolo||holby||hold||holder||holding||hole||holiday||holla||hollalater||hols||holy||home||homeowner||honest||honestly||honesty||honey||honeybee||honeymoon||honi||hont||hooch||hoody||hook||hooked||hoop||hope||hoped||hopeful||hopefully||hopeing||hopeso||hopeu||hoping||horniest||horny||horo||horrible||horse||hospital||host||hostel||hostile||hotel||hotmail||hotmix||hottest||hour||hourish||house||houseful||housewife||housework||housing||how||howard||howda||howdy||however||hows||howu||howz||hp20||hppnss||hr||hrishi||hsbc||html||http||huai||hubby||hudgi||hug||huge||hugging||hugh||huiming||human||humanity||hun||hundred||hungover||hungry||hunk||hunny||hunt||hunting||hurricane||hurried||hurry||hurt||hurting||husband||hussey||hustle||hv9d||hvae||hw||hyde||hype||hypertension||hypotheticalhuagauahahuagahyuhagga||iam||ibhltd||ibiza||ibored||ibuprofen||iccha||ice||icic||icicibank||icky||icmb3cktz8r7||icon||id||idea||ideal||identification||identifier||idew||idiot||if||ifink||ig11||ignorant||ignore||ignoring||ihave||ijust||ikea||ikno||iknow||il||ileave||illness||illspeak||ilol||im||image||imagination||imagine||imat||img||imin||imma||immed||immediately||immunisation||impatient||impede||implication||important||importantly||imposed||impossible||imposter||impress||impressed||impression||impressively||improve||improved||imprtant||in||inch||incident||inclu||include||includes||including||inclusive||incomm||inconsiderate||inconvenience||inconvenient||incorrect||increase||incredible||increment||inde||indeed||independence||independently||index||india||indian||indicate||individual||indyarocks||inever||infact||infection||infernal||influx||info||inform||information||informed||infra||infront||ing||ingredient||initiate||inlude||inmind||inner||inning||innocent||innu||inperialmusic||inpersonation||insect||insha||inshah||inside||inspection||inst||install||installation||installing||instant||instantly||instead||instituitions||instruction||insurance||intelligent||intend||intention||interest||interested||interesting||interflora||interfued||internal||internet||interview||interviw||intha||intrepid||intro||intrude||invader||invention||invest||investigate||invitation||invite||invited||inviting||invnted||invoice||involve||involved||iouri||ip4||ipad||ipaditan||ipads||iphone||ipod||iraq||irene||iriver||iron||ironing||irritated||irritates||irritating||irritation||irulinae||is||isaiah||iscoming||ishtamayoo||island||isn||isnt||issue||issues||isv||it||italian||itcould||item||iter||ithink||itna||itried2tell||its||itself||itwhichturnedinto||itxt||ivatte||iwana||iwas||iyo||izzit||j5q||jabo||jack||jacket||jackpot||jackson||jacuzzi||jada||jade||jaklin||james||jamster||jamz||janarige||jane||janinexx||january||janx||japanese||jason||java||jaya||jaykwon||jazz||jealous||jean||jeetey||jeevithathile||jelly||jenne||jenny||jenxxx||jeremiah||jeri||jerk||jerry||jersey||jess||jesus||jetton||jewelry||jiayin||jide||joanna||job||jobyet||jock||jogging||john||join||joined||joining||joke||joker||jokin||joking||jolly||jolt||jones||jontin||jordan||jorge||journey||jsco||jst||jstfrnd||jsut||juan||judgemental||juicy||jul||jules||juliana||julianaland||july||jump||jumper||june||jungle||junna||jurong||just||justbeen||justfound||justify||justthought||juswoke||k718||kaaj||kadeem||kaiez||kaila||kaitlyn||kalaachutaarama||kalainar||kalisidare||kallis||kalstiya||kama||kanagu||kane||kanji||kano||kappa||karaoke||karnan||karo||kate||katexxx||kath||kavalan||kaypoh||keen||keep||keeping||kegger||keluviri||kent||kept||kerala||keralacircle||keris||kettoda||keypad||keyword||khelate||kicchu||kick||kickboxing||kickoff||kid||kidding||kidz||kiefer||kill||killed||killing||kilo||kind||kinda||kindly||king||kingdom||kintu||kiosk||kisi||kiss||kisses||kissing||kittum||kitty||kl341||knackered||knee||knew||knickers||knock||knocking||know||knowing||known||kochi||kodstini||kodthini||kolathupalayam||konw||korche||korean||korli||korte||kotees||kothi||kuch||kudi||kusruthi||l8er||l8rs||l8tr||la32wu||labor||lacking||lacs||laden||lady||lage||lager||laid||lakh||lambda||lambu||lamp||lancaster||land||landing||landline||landlineonly||landmark||lane||langport||language||lanka||lanre||lapdancer||laptop||lar||lara||laready||large||largest||lark||lasagna||last||lastest||lasting||late||lately||latelyxxx||later||latest||latr||laugh||laughed||laughing||laughs||laundry||laurie||lautech||lavender||law||laxinorficated||layin||laying||lazy||lccltd||ld||ldew||ldnw15h||le||lead||leadership||leading||leaf||leafcutter||league||leanne||learn||learned||least||least5times||leave||leaving||lect||lecture||lecturer||left||leftover||legal||legitimat||lei||lekdog||length||lennon||leona||leonardo||lesser||lesson||lessons||let||lets||letter||level||lf56||liao||libertine||library||lick||lido||life||lifebook||lifeis||lifetime||lifpartnr||lift||lifted||lifting||light||lighter||lightly||like||liked||likely||likeyour||liking||lily||limit||limited||limiting||limping||lindsay||line||linear||lined||linerental||lingerie||lingo||link||linux||lion||lionm||lionp||lipo||liquor||list||listed||listen||listened2the||listener||listening||listening2the||listn||literally||litre||little||live||lived||liver||liverpool||living||lkpobox177hp51fl||ll||llc||llspeak||lmao||lnly||load||loan||lobby||local||location||locaxx||lock||lodge||lodging||logged||logging||login||logo||logoff||logon||logos||loko||lolnice||lololo||londn||london||loneliness||lonely||long||longer||lonlines||look||lookatme||looked||lookin||looking||lool||loooooool||looovvve||loose||loosing||loosu||lor||lord||lose||loser||loses||losing||loss||lost||lot||lotr||lotsly||lotsof||lotta||lotto||lotz||loud||lounge||lousy||lovable||love||loved||lovejen||lovely||loveme||lover||loverboy||lovin||loving||lovingly||lovly||low||lower||lowes||loxahatchee||loyal||loyalty||ls15hb||ls278bb||ltd||ltdhelpdesk||lttrs||lubly||luck||luckily||lucky||lucozade||lucy||lucyxx||luks||lunch||lunchtime||lunsford||lush||luton||luvd||luvs||lux||luxury||lvblefrnd||lyfu||lying||lyk||lyricalladie||lyrics||m100||m221bp||m227xy||m263uz||m39m51||ma||maaaan||maangalyam||maat||macedonia||macha||machan||machi||machine||macho||mack||macleran||mad||mad1||mad2||madam||made||madodu||madoke||madstini||madurai||maga||magazine||maggi||magic||magical||magicalsongs||mah||mahal||mahaveer||mahfuuz||maid||mail||mailbox||mailed||main||maintain||maintaining||major||make||makiing||makin||making||malaria||malarky||male||mall||mallika||man||manage||manageable||managed||management||manchester||manda||mandan||mandara||mandy||maneesha||manege||mango||maniac||manky||manual||many||map||mapquest||maraikara||marandratha||march||maretare||margaret||margin||marine||mark||market||marketing||marking||marley||marrge||marriage||married||marry||marsms||maruti||marvel||mary||mas||masked||massage||massive||master||masteriastering||match||matched||mate||math||mathe||mathematics||mathews||matra||matric||matrix3||matter||matthew||matured||maturity||max||max10mins||max6||maximize||maximum||may||mayb||maybe||mcat||mcfly||me||meal||mean||meaning||meaningful||meaningless||meant||meanwhile||measure||meat||meatball||mecause||medical||medicine||mee||meet||meetin||meeting||meetins||meg||mega||meive||melle||melnite||melody||melt||member||membership||memorable||memory||mental||mention||mentioned||mentionned||mentor||menu||meow||merely||merememberin||merry||mesages||mess||message||messaged||messages||messaging||messed||messenger||messy||met||method||michael||middle||midnight||mids||might||miiiiiiissssssssss||mike||mila||mile||mileage||milk||miller||million||milta||min||mina||minapn||mind||minded||mindset||mine||minecraft||mini||minimum||minmobsmore||minmobsmorelkpobox177hp51fl||minmoremobsemspobox45po139wa||minnaminunginte||minor||mins||mint||minus||minute||minuts||miracle||mirror||misbehaved||miserable||misfit||mising||misplaced||miss||misscall||missed||missin||missing||mission||missionary||missunderstding||missy||mist||mistake||misundrstud||mite||mitsake||mittelschmertz||miwa||mjzgroup||mk17||mk45||mmmm||mmmmm||mmmmmm||mmmmmmm||mmsto||mnth||mnths||mo||moan||mob||mobcudb||mobile||mobilesdirect||mobilesvary||mobileupd8||mobno||mobsi||mobstorequiz10ppm||moby||mobypobox734ls27yf||mode||model||modl||module||mofo||moji||mojibiola||mokka||molested||moment||mon||monday||mone||money||monkeespeople||monkey||monkeyaround||mono||monoc||monster||month||monthly||monthlysubscription||mood||moon||moral||morefrmmob||morn||mornin||morning||morphine||morrow||moseley||mostly||mother||motherfucker||motivate||motivating||motive||motor||motorola||mountain||mouse||mouth||move||moved||movie||movietrivia||moving||mquiz||mrng||ms||msg||msg150p||msging||msgrcvd||msgrcvd18||msgrcvdhg||mt||mtalk||mth||mths||mtmsg||mtmsg18||mtmsgrcvd18||mtnl||muah||much||muchand||muchxxlove||mudyadhu||mufti||muhommad||muht||multimedia||multiply||multis||mum||mumbai||mumhas||mummy||mumtaz||mundhe||munsters||murali||murder||murdered||murderer||mush||mushy||music||musical||musicnews||must||musta||musthu||mustprovide||mutai||mutation||mwahs||my||mycalls||mylife||mymoby||myparents||myspace||mystery||n9dx||na||naal||nacho||nagar||nahi||nail||naked||nalla||nalli||name||name1||name2||named||nammanna||namous||nange||nanny||nap||narcotic||nasdaq||naseeb||nasty||nat27081980||natalie||natalie2k9||natalja||national||nationwide||nattil||natural||nature||natwest||naughty||nauseous||navigate||nbme||nd||ndship||near||nearby||nearer||nearly||necesity||necessarily||necessary||necessity||neck||necklace||need||needa||needed||needing||needle||needy||neekunna||neft||negative||neglect||neglet||neighbor||neighbour||neither||nelson||neo69||nervous||neshanth||net||netcollex||netflix||nething||netun||netvision||network||networking||neva||nevamind||never||nevering||neville||nevr||neway||newest||newport||newquay||news||newscaster||newsletter||newspaper||next||ni8||nice||nichols||nick||nickey||nicky||nigeria||nigh||night||nighters||nightnight||nigpun||nigro||nike||nikiyu4||nimbomsons||nimya||ninish||nino||nipost||nite||nitro||nitros||nitw||nitz||njan||nmde||no||nobbing||nobody||noi||noice||noise||noisy||nokia||nokia6600||nokia6650||nokias||noline||noncomittal||none||nonetheless||nookii||noon||nooooooo||noooooooo||nope||nora||norcorp||nordstrom||norm||norm150p||normal||normally||north||northampton||nose||nosh||nosy||not||note||notebook||nothin||nothing||notice||notification||notified||notixiquating||nottingham||notxt||noun||novelty||november||now||now1||nowadays||nowhere||noworriesloans||nr31||nt||ntimate||ntwk||nuclear||nudist||nuerologist||number||nurse||nursery||nurungu||nus||nusstu||nuther||nutter||nver||nxt||ny||nydc||nyt||nytho||nìte||o2||o2fwd||oath||obedient||obese||obey||objection||oble||oblisingately||oblivious||obviously||occasion||occupied||occupy||occur||occurs||ocean||oclock||october||odalebeku||of||ofcourse||offc||offcampus||offdam||offense||offer||offered||offering||office||officer||official||officially||offline||ofice||ofsi||ofstuff||often||ogunrinde||ok||okay||okday||okden||okey||okie||okies||okmail||okors||olage||olave||olayiwola||ollu||olol||olowoyey||olympics||on||onam||onbus||oncall||ondu||ones||onion||online||onluy||only||only1more||onlyfound||onto||onum||onwards||onwords||oooh||oooooh||ooooooh||oops||open||opened||opener||openin||opening||operate||operator||opinion||opponenter||opportunity||opposed||opposite||opps||opt||opted||optimistic||optin||option||optout||or||or2optout||or2stoptxt||oral||orange||orchard||order||ordered||ordinator||oredi||oreo||org||organise||organizer||orig||original||orno||ortxt||oscar||otbox||other||others||otherwise||othrs||othrwise||otside||ouch||our||ourbacks||out||outage||outbid||outdoors||outfit||outfor||outgoing||outl8r||outrageous||outreach||outside||outsider||outsomewhere||outstanding||outta||ovarian||oveable||over||overa||overdid||overdose||overemphasise||overheating||overtime||ovulate||ovulation||ow||owed||owned||owns||oxygen||oyea||oyster||pa||pace||pack||package||packing||padhe||page||pages||paid||pain||painful||paining||painting||pair||pale||palm||panalam||panasonic||pandy||panic||panicks||panren||pansy||pant||panther||panty||papa||paper||paperwork||paracetamol||parachute||parade||paragon||paragraph||paranoid||parantella||parchi||parco||parent||paris||parish||park||parked||parkin||parking||part||participate||particular||particularly||partner||partnership||party||paru||pas||pass||passable||passed||passion||passionate||passport||password||past||pataistha||patent||path||pathaya||patient||patrick||pattern||patty||paul||pause||pavanaputra||pax||payasam||payback||payed||payed2day||payee||paying||payment||payoh||paypal||pc1323||pdate_now||peace||peaceful||peach||peak||pear||pee||peep||pehle||pen||pendent||pending||penis||penny||people||per||percent||percentage||perf||perfect||perform||performance||performed||perfume||perhaps||peril||period||peripheral||permanent||permission||perpetual||persevered||persian||persolvo||person||person2die||personal||personality||personally||persons||perspective||pert||perumbavoor||pesky||pest||pete||petexxx||petey||petrol||petticoatdreams||pg||ph||pharmacy||phasing||phb1||phews||phil||philosophical||philosophy||phne||phoenix||phone||phone750||phonebook||phoned||phony||photo||photoshop||phrase||phyhcmk||physic||piah||pic||pick||picked||picking||pickle||picsfree1||picture||piece||pierre||piggy||pilate||pile||pillow||pimple||pimples||pink||pint||pisces||piss||pissed||pist||pity||pix||pixel||pizza||place||placed||placement||plaid||plan||plane||planet||planettalkinstant||planned||planning||plate||platt||play||played||player||playin||playing||playng||plaza||pleasant||please||pleased||pleassssssseeeeee||pleasure||pleasured||plenty||ploughing||pls||plum||plumber||plumbing||plural||plus||plyr||pm||po19||pobox||pobox1||pobox114||pobox12n146tf15||pobox12n146tf150p||pobox202||pobox334||pobox36504w45wq||pobox365o4w45wq||pobox45w2tg150p||pobox75ldns7||pobox84||poboxox36504w45wq||pocay||pocked||pocket||pocketbabe||pocy||poem||poet||point||poker||poking||pokkiri||pole||police||politician||polo||poly||poly3||polyc||polyh||polyph||polyphonic||polys||pongal||ponnungale||pooja||pookie||pool||poop||poor||poorly||poortiyagi||popcorn||popped||popping||porn||porridge||port||portal||portege||portion||pos||pose||posh||posible||position||positive||possession||possessive||possessiveness||possibility||possible||possibly||post||postal||postcard||postcode||posted||posting||postponed||posts||potato||potential||potter||pouch||pound||pounded||poured||pours||pouts||power||powerful||poyyarikatur||pple||ppm150||ppt150x3||prabha||prabu||pract||practical||practice||practicing||practicum||practising||praise||prakasam||prakasamanu||prakesh||praps||prasad||prasanth||prashanthettan||praveesh||pray||prayer||praying||prayrs||pre||predict||predicte||predicting||prediction||predictive||prefer||preferably||prem||premarica||premier||premium||prepaid||prepare||prepared||prepayment||preponed||preschoolco||prescribed||prescripiton||prescription||presence||present||president||presley||presnts||press||pressies||pressure||prestige||pretend||pretsorginta||pretsovru||pretty||prevent||preview||previous||previously||prey||price||pride||priest||prin||prince||princess||print||printed||printer||printing||prior||priority||priscilla||privacy||private||prix||priya||prize||prizeawaiting||prizeswith||prob||probably||problem||problematic||problms||problum||probpop||probs||probthat||process||processed||prod||product||prof||professional||professor||profile||profit||program||progress||project||prolly||prometazine||prominent||promise||promised||promo||promoting||promotion||prompt||promptly||prone||proof||proove||prop||proper||properly||property||propose||propsd||prospect||protect||prove||proverb||provided||provider||providing||province||proze||prsn||pshew||psxtra||psychiatrist||psychic||psychologist||ptbo||pthis||pub||public||publish||pudunga||pull||pulling||pump||punch||punish||punishment||punj||punto||puppy||pura||purchase||pure||purity||purple||purpose||purse||push||pushbutton||pushes||pussy||puttin||putting||puzzeles||puzzle||px3748||qatar||qbank||qing||qjkgighjjgcbl||qlynnbv||quality||quarter||queen||query||ques||question||questioned||quick||quickly||quiet||quit||quite||quiteamuzing||quitting||quiz||quizclub||quote||quoting||r836||racal||racing||radiator||radio||raed||rael||raglan||rahul||raiden||railway||rain||raining||raise||raised||raja||raji||rajini||rajitha||rajnikant||rakhesh||raksha||rally||ralphs||ramaduth||ramen||random||randomlly||randomly||randy||rang||range||ranjith||ranju||raping||rate||rather||ratio||raviyog||rawring||rayan||rayman||rcb||rcvd||re||reach||reache||reached||reaching||reacting||reaction||read||reader||readiness||reading||ready||real||real1||realise||realised||realising||reality||realize||realized||realizes||really||reallyneed||realy||reapply||rearrange||reason||reasonable||reassurance||reassuring||rebel||reboot||rebooting||rebtel||recd||receipt||receipts||receive||receivea||received||receiving||recent||recently||reception||recession||recharge||recharged||recieve||reckon||recognise||recognises||record||recorded||recorder||recount||recovery||recpt||recreation||recycling||red||redeemable||redeemed||reduce||ref||reference||references||referin||reffering||refilled||reflection||reflex||reformat||refreshed||refund||refunded||refused||regalportfolio||regard||regarding||register||registered||registration||regret||regretted||regular||rejected||related||relation||relationship||relative||relax||relaxing||released||reliant||relieved||religiously||relocate||reltnship||remain||remains||remb||remember||remembered||rememberi||remembr||remembrs||remind||reminded||reminder||reminding||reminds||remixed||removal||remove||removed||rencontre||renewal||renewed||renewing||rent||rental||renting||rentl||rents||repair||repeat||repeating||repent||replace||replacement||replacing||replied||reply||replying||replys150||report||reppurcussions||representative||republic||request||require||required||requirement||requires||research||resend||resent||reservation||reserve||reserved||reset||residency||resizing||reslove||resolution||resolved||resort||respect||respectful||responce||respond||responding||response||responsibility||responsible||rest||restaurant||restock||restocked||restrict||restriction||resubbing||resubmit||result||resume||resuming||retard||retired||retrieve||return||returned||returning||reunion||reveal||revealed||revealing||reverse||review||revision||reward||rewarding||rg21||rgds||rgent||rhode||rhythm||rice||rich||riddance||ridden||ride||right||rightio||rightly||riley||rimac||ring||ringing||ringtone||ringtoneking||ringtones||rinu||ripped||rise||risk||rite||ritten||river||road||roast||robinson||robs||rock||rocking||rodds1||rodger||rofl||roger||role||rolled||roller||romantic||romcapspam||room||roomate||roommate||rose||rough||round||rounder||route||row||rowdy||royal||rp176781||rply||rr||rs||rstm||rt||rtf||rubber||rude||rudi||rugby||ruin||ruining||rule||rumbling||rummer||rumour||running||rupaul||rush||rushing||ruthful||ryan||ryder||s3xy||sabarish||sachin||sack||sacked||sacrifice||sad||saeed||safe||safely||safety||sagamu||saibaba||said||sake||salad||salam||salary||sale||sales||salesman||sall||salmon||salon||salt||samachara||samantha||sambar||same||samus||sandiago||sane||sang||sankatmochan||sankranti||santa||santacalling||sapna||sara||sarasota||sarcasm||sarcastic||saristar||sariyag||sary||sashimi||sat||satanic||sathy||sathya||satisfied||satisfy||satsgettin||satthen||saturday||saucy||sausage||savamob||save||saved||saving||say||sayhey||sayin||saying||sayy||scallies||scammer||scarcasim||scared||scary||scenario||scenery||schedule||school||science||scold||scool||scorable||score||scoring||scotch||scotland||scotsman||scouse||scraped||scrappy||scratch||scratching||scream||screamed||screaming||screen||screwd||scrounge||scrumptious||sculpture||sd||sday||sdryb8i||sea||search||searching||season||seat||second||secondary||secret||secretary||secretly||section||secure||secured||see||seed||seeing||seeker||seeking||seem||seemed||seems||seen||sehwag||seing||select||selected||selection||self||selfindependence||selfish||selflessness||sell||selling||semester||semi||semiobscure||send||sender||sending||sends||senor||senrd||sense||senses||sensible||sensitive||sent||sentence||senthil||sentiment||seperated||sept||september||serena||series||serious||seriously||served||server||service||serving||servs||setting||settle||settled||settling||seven||seventeen||several||sexiest||sextextuk||sexual||sexy||sexychat||sg||shade||shadow||shag||shagged||shah||shahjahan||shakara||shake||shakespeare||shaking||shall||shame||shampain||shangela||shanghai||shanil||shant||shaping||share||shared||sharing||shattered||shaved||she||sheet||sheffield||shelf||shell||sherawat||shes||shesil||shexy||shhhhh||shifad||shijas||shijutta||shinco||shindig||shining||shiny||ship||shipped||shipping||shirt||shit||shite||shitin||shitinnit||shitload||shitstorm||shivratri||shld||shldxxxx||shock||shocking||shoe||shola||shoot||shop||shoppin||shopping||shoranur||shore||short||shortage||shortbreaks||shortcode||shorter||shortly||shot||shoul||shoulder||shouldn||shouted||shouting||shove||shoving||show||showed||shower||showered||showing||showr||showroom||shracomorsglsuplt||shrek||shrink||shrub||shsex||shud||shudvetold||shuhui||shun||shut||shy||si||sian||sick||sickness||side||sigh||sighs||sight||sign||signal||significance||significant||signin||signing||siguviri||silence||silent||silently||silly||silver||simonwatson5120||simple||simpler||simply||simpson||simulate||since||sinco||sindu||sing||singapore||singing||single||sink||sipix||sips||sirji||sister||site||sitll||sitter||sittin||sitting||situation||siva||size||sized||sk38xh||skateboarding||skilgme||skill||skillgame||skin||skinny||skint||skip||skirt||skye||skype||skyped||skyving||slaaaaave||slacking||slap||slave||sleep||sleepin||sleeping||sleepingwith||sleepwell||sleepy||slept||slice||slide||sliding||slightly||slip||slipper||slippery||slob||slot||slovely||slow||slower||slowing||slowly||slp||slurp||smacks||small||smaller||smart||smartcall||smarter||smash||smashed||smear||smell||smeone||smidgin||smile||smiled||smiles||smiley||smiling||smith||smoke||smoked||smokin||smoking||smoothly||sms||smsco||smsing||smsrewards||smsservices||smth||snake||snap||snappy||snatch||sneham||snickering||snogs||snoring||snot||snow||snowball||snowboarding||snowman||snuggles||so||sochte||social||sofa||soft||software||soil||soiree||soladha||sold||solihull||solve||solved||some1||somebody||someday||someone||someonone||someplace||somerset||sometext||somethin||something||sometime||sometimes||sometme||somewhat||somewhere||somewheresomeone||somewhr||somone||somtimes||sonathaya||sonetimes||song||sony||sonyericsson||soon||sooner||soonlots||sooo||soooo||sooooo||sophas||sore||sorrow||sorrows||sorry||sort||sorta||sorted||sorting||sory||soryda||soul||sound||sounding||sounds||soundtrack||soup||source||south||southern||souveniers||sozi||space||spacebucks||spageddies||spain||spam||spanish||spare||spark||sparkling||spatula||speak||speaking||spec||special||speciale||specialisation||specialise||specially||specific||specify||speechless||speed||speedchat||speeding||speling||spell||spelled||spelling||spend||spending||spent||sphosting||spice||spider||spiffing||spile||spin||spinout||spiral||spirit||spiritual||spjanuary||spl||splash||splashmobile||splat||splendid||split||splleing||spoil||spoiled||spoilt||spoke||spoken||sponsor||spontaneously||spook||spoon||sporadically||sport||sportsx||spose||spot||spotty||spouse||sppok||spreadsheet||spree||spring||sprint||sptv||spun||sq825||squatting||squeeeeeze||squeezed||squid||squishy||srsly||sry||stability||stable||stadium||staff||stage||stagwood||stair||stalk||stalking||stamp||stamped||stand||standard||standing||stapati||star||starer||staring||starring||starshine||start||started||starting||starve||starving||starwars3||stash||stated||statement||station||status||stay||stayed||stayin||staying||std||stdtxtrate||steak||steal||stealing||steam||steamboat||steed||steering||step||stereo||stereophonics||sterling||sterm||steve||stewartsize||steyn||stick||sticky||stifled||stil||still||stink||stitch||stock||stocked||stockport||stolen||stomach||stomps||stone||stoner||stool||stop||stop2||stop2stop||stopbcm||stopcost||stopcs||stopped||stopsms||stoptxtstop||store||storming||story||str||str8||straight||strain||strange||stranger||stream||street||stress||stressed||stressful||stressfull||stretch||strewn||strict||strike||string||strip||stripe||stroke||strong||strongly||strt||strtd||struggling||stubborn||stuck||studdying||student||studentfinancial||studio||study||studying||studyn||stuff||stuff42moro||stuffed||stuffing||stunning||stupid||style||styling||stylish||stylist||sub||subject||subletting||submitted||submitting||subpoly||subs16||subscribe||subscribe6gbp||subscribed||subscriber||subscription||subscriptn3gbp||subscrition||subsequent||subtoitles||success||successful||successfully||suck||sucker||sudden||suddenly||sudn||suffer||suffering||suffers||sufficient||sugababes||suganya||sugar||sugardad||suggest||suggestion||suit||suite||suite342||suitemates||sullivan||sum1||suman||sumfing||summer||summon||sumthin||sun0819||sunday||sundayish||sunlight||sunny||sunoco||sunroof||sunscreen||sunshine||suntec||super||superb||superior||supervisor||suply||supose||supplier||supply||support||suppose||supposed||supreme||suprman||sura||sure||surely||surf||surfing||surgical||surly||surname||surprise||surprised||surrender||surrounded||survey||surya||sutra||suzy||sw73ss||swalpa||swan||swann||swap||swashbuckling||swat||swatch||sway||swayze||swear||sweater||sweatter||sweet||sweetest||sweetheart||sweetie||swell||swhrt||swimming||swimsuit||swing||swiss||switch||swollen||swoop||swt||swtheart||syllabus||symbol||sympathetic||symptom||synced||syria||syrup||system||t4get2text||ta||table||tablet||tackle||taco||tactful||tactless||tagged||tahan||tait||taka||take||takecare||taken||takin||taking||talent||talk||talkbut||talked||talkin||talking||tall||tallahassee||tallent||tamilnadu||tampa||tank||tantrum||tape||tariff||tarot||tarpon||taste||tasts||tat||tata||tats||tattoo||taught||taunton||taxi||taxless||taxt||taylor||tayseer||tbs||tc||tcr||tddnewsletter||tea||teach||teacher||teaching||team||tear||tease||teasing||tech||technical||technology||teenager||teeth||teju||tel||telediscount||telephone||telephonic||teletext||tell||telling||tellmiss||telly||telphone||telugu||temales||temp||temper||temple||tenant||tendency||tenerife||tensed||tension||teresa||term||terminated||termsapply||ternal||terrible||terrific||terror||terrorist||terry||tescos||tessy||test||testing||texas||texd||text||text82228||textand||textbook||textbuddy||textcomp||texted||textin||texting||textoperator||textpod||texts||tgxxrz||thandiyachu||thangam||thank||thanks||thanks2||thanksgiving||thanku||thankyou||thanx||thanx4||thasa||that||that2worzels||thatmum||thats||the||the4th||theacusations||theater||theatre||thecd||thedailydraw||thekingshead||them||theme||themed||themob||then||thenampet||theoretically||theory||theplace||thepub||there||these||thesedays||thesis||thesmszone||thet||thew||they||theyre||thgt||thia||thin||thing||things||think||thinked||thinkin||thinking||thinkthis||thinl||thirtyeight||thirunelvali||this||thkin||thnk||thnq||thnx||tho||thot||thou||though||thought||thoughts||thousand||thout||thread||threat||threats||three||threw||thriller||throat||throw||throwin||throwing||thrown||thru||thts||thuglyfe||thurs||thursday||thus||tick||ticket||tie||tiempo||tiger||tight||tightly||tigress||tihs||tiime||til||till||time||timi||timin||timing||tiny||tired||tiring||tirunelvai||tirunelvali||tirupur||tissco||title||tiwary||tkls||tkts||tlp||tm||tming||tmorow||tmorrow||tmr||tmrw||tms||tncs||to||toaday||tobacco||tobed||tocall||toclaim||today||todo||together||tohar||toilet||token||toking||told||toledo||tolerance||tolerat||toll||tomarrow||tome||tomeandsaid||tomo||tomorro||tomorrow||tomorw||tone||tones2u||tones2you||tonexs||tonght||tongued||tonight||tonite||tonsolitusaswell||too||took||tookplace||tool||tooo||toot||tooth||toothpaste||tootsie||topic||toplay||topped||toppoly||torch||torrent||tortilla||torture||tosend||toshiba||toss||total||totally||tote||touch||touched||tough||toughest||tour||towards||town||toxic||toyota||track||trackmarque||trade||tradition||traffic||train||trained||training||trainners||tram||tranquility||transaction||transcribing||transfer||transfered||transferred||transfr||transfred||transport||trash||trauma||trav||travel||traveling||travelled||travelling||treacle||treadmill||treasure||treat||treated||treatin||treble||tree||trek||trend||trial||tried||trip||triple||trishul||triumphed||trivia||tron||trouble||troubleshooting||trouser||truble||truck||true||true18||truffle||truly||truro||trust||trusting||truth||tryin||trying||tsandcs||tscs||tscs08714740323||tscs087147403231winawk||tsunami||ttyl||tues||tuesday||tuition||tulip||tunde||tune||tunji||turkey||turn||turned||turning||tuth||tv||twat||twelve||twenty||twice||twiggs||twilight||twin||twinks||twittering||txt||txt250||txt43||txt82228||txtauction||txtin||txting||txtno||txts||txtstar||txtstop||txttowin||txtx||tyler||type||typical||tyrone||u2moro||uawake||ubandu||ugadi||uhhhhrmm||ujhhhhhhh||uk||ultimate||ultimately||ultimatum||umma||ummifying||ummma||ummmmmaah||un||unable||unbelievable||unbreakable||unclaimed||uncle||uncomfortable||unconditionally||unconscious||unconsciously||unconvinced||uncountable||uncut||underdtand||understand||understanding||understood||underwear||undrstnd||undrstndng||unemployed||uneventful||unfolds||unfortunately||unfortuntly||unhappiness||unhappy||unicef||uniform||unintentional||unintentionally||unique||unit||united||univ||university||unjalur||unkempt||unknown||unless||unlike||unlimited||unmits||unnecessarily||unni||unrecognized||unredeemed||unsecured||unsold||unspoken||unsub||unsubscribe||unsubscribed||untamed||unusual||up||upcharge||upd8||updat||update||update_now||upgrade||upgrading||upgrdcentre||upload||uploaded||upon||upping||upset||upstairs||upto||uptown||urawinner||urfeeling||urgent||urgently||urgh||urgnt||urgoin||urgran||urination||urmom||urself||us||usa||usc||use||used||useful||useless||user||usher||using||usmle||usps||usual||usually||uterus||utter||uttered||uwana||uwant||uworld||vaazhthukkal||vague||vaguely||vale||valentine||valid||valid12hrs||valuable||value||valued||valuing||varaya||vargu||various||varma||varunnathu||vary||vasai||vatian||vava||vday||ve||vega||vegetable||veggie||vehicle||velachery||velly||velusamy||venaam||venugopal||verified||verify||verifying||version||versus||very||vettam||vewy||via||vibrant||vibrate||vibrator||victor||victoria||vid||video||videochat||videophones||videosound||videosounds||view||vijay||vijaykanth||vikky||vilikkam||vill||villa||village||vinobanagar||violated||violence||violet||vipclub4u||virgil||virgin||virtual||visa||visionsms||visit||visiting||visitor||vital||vitamin||viva||vivek||vivekanand||vl||voda||vodafone||vodka||voice||voicemail||voila||volcano||vomit||vomitin||vomiting||vote||voted||vouch4me||voucher||vouchers||vpod||w1||w111wx||w14rg||w1j6hl||w1jhl||w1t1jy||w45wq||w8in||wa14||waaaat||wadebridge||wahala||wahay||waheed||waheeda||wahleykkum||waht||wait||waited||waitin||waiting||wake||waking||wale||waliking||walk||walkabout||walked||walkin||walking||wall||wallet||wallpaper||walmart||walsall||wamma||wan2||wana||wannatell||want||want2come||wanted||wanting||wap||waqt||warm||warming||warned||warner||warning||warranty||warwick||washob||wasn||wasnt||waste||wasted||wasting||wat||watch||watched||watchin||watching||watchng||water||watever||watevr||wating||watr||wats||watt||wave||wavering||way2sms||waz||wc1n||wc1n3xx||we||weak||weakness||weapon||wear||wearing||weasel||weaseling||weather||web2mobile||webadres||webeburnin||webpage||website||wed||weddin||wedding||weddingfriend||wedlunch||wednesday||weed||week||weekday||weekend||weekly||weigh||weighed||weight||weightloss||weird||weirdest||weirdo||weirdy||weiyi||welcome||well||wellda||welp||wendy||wenever||went||wenwecan||were||werebored||werethe||wesley||west||western||westlife||westonzoyland||westshore||wetherspoons||wewa||whassup||what||whatever||whats||whatsup||wheat||wheel||wheellock||when||whenever||whenevr||whens||where||whereare||wherever||wherevr||wherre||whether||whilltake||whispers||white||whoever||whole||whore||whose||whr||why||wicked||wicket||wicklow||widelive||wife||wifi||wihtuot||wikipedia||wild||wildest||wildlife||will||willing||willpower||win||win150ppmx3age16||wind||window||windy||wine||wined||wing||wining||winner||winnersclub||winning||winterstone||wipe||wipro||wire3||wisdom||wise||wish||wisheds||wishin||wishing||wishlist||wiskey||with||withdraw||wither||within||without||witin||witot||witout||wizzle||wk||wkend||wkent||wkly||wknd||wlcome||wnevr||woah||wocay||woke||woken||woman||womdarfull||wondar||wondarfull||wonder||wonderful||wondering||wont||wood||woodland||woohoo||woot||woould||woozles||worc||word||words||work||workage||workand||workin||working||workout||world||worm||worried||worry||worrying||worse||worst||worth||worthless||wot||wotu||wotz||woul||would||woulda||wound||wrc||wrecked||wrench||wrenching||wright||write||writhing||wrk||wrkin||wrking||wrks||wrld||wrnog||wrong||wrongly||wrote||wthout||wtlp||wuld||wuldnt||www||wylie||x49||xafter||xam||xavier||xchat||xclusive||xmas||xoxo||xuhui||xx||xxsp||xxuk||xxx||xxxmobilemovieclub||xxxx||xxxxx||xxxxxx||xxxxxxx||xxxxxxxx||xxxxxxxxxxxxxx||ya||yahoo||yalrigu||yalru||yarasu||yard||yavnt||yaxx||yaxxx||yeah||year||yeesh||yeh||yelling||yellow||yelow||yeovil||yep||yes||yest||yesterday||yet||yetty||yetunde||yifeng||yijue||ymca||yo||yoga||yogasana||yorge||you||youdoing||youi||young||younger||youphone||your||youre||yourinclusive||yourjob||youuuuu||youwanna||yoville||yowifes||yoyyooo||ystrday||ything||yummmm||yummy||yunny||yuou||yupz||zaher||zealand||zebra||zero||zhong||zindgi||zogtorius||zoom||zouk||zyada||èn||ú1\n",
      "<bound method _cs_matrix.toarray of <5572x7344 sparse matrix of type '<class 'numpy.int64'>'\n",
      "\twith 36715 stored elements in Compressed Sparse Row format>>\n"
     ]
    }
   ],
   "source": [
    "print('||'.join(vectorizer.get_feature_names()))\n",
    "print(X_exp.toarray)"
   ]
  },
  {
   "cell_type": "code",
   "execution_count": 109,
   "metadata": {
    "collapsed": false
   },
   "outputs": [],
   "source": [
    "from sklearn.feature_extraction.text import TfidfVectorizer\n",
    "\n",
    "vectorizer = TfidfVectorizer(min_df = 2, ngram_range = (1,2), stop_words = 'english', strip_accents = 'unicode')"
   ]
  },
  {
   "cell_type": "code",
   "execution_count": 110,
   "metadata": {
    "collapsed": false
   },
   "outputs": [],
   "source": [
    "x_train = vectorizer.fit_transform(x_train)\n",
    "x_test = vectorizer.transform(x_test)"
   ]
  },
  {
   "cell_type": "code",
   "execution_count": 111,
   "metadata": {
    "collapsed": false
   },
   "outputs": [
    {
     "name": "stdout",
     "output_type": "stream",
     "text": [
      "['ham' 'ham' 'ham' ..., 'ham' 'ham' 'ham']\n",
      "[[1442    0]\n",
      " [  56  172]]\n",
      "             precision    recall  f1-score   support\n",
      "\n",
      "        ham       0.96      1.00      0.98      1442\n",
      "       spam       1.00      0.75      0.86       228\n",
      "\n",
      "avg / total       0.97      0.97      0.96      1670\n",
      "\n"
     ]
    }
   ],
   "source": [
    "from sklearn.naive_bayes import MultinomialNB\n",
    "from sklearn.metrics import confusion_matrix\n",
    "from sklearn.metrics import classification_report\n",
    "\n",
    "clf = MultinomialNB().fit(x_train, y_train)\n",
    "y_nb_predicted = clf.predict(x_test)\n",
    "\n",
    "print(y_nb_predicted)\n",
    "\n",
    "cm = confusion_matrix(y_test, y_nb_predicted)\n",
    "print(cm)\n",
    "\n",
    "print(classification_report(y_test, y_nb_predicted))"
   ]
  },
  {
   "cell_type": "code",
   "execution_count": 120,
   "metadata": {
    "collapsed": false
   },
   "outputs": [
    {
     "name": "stdout",
     "output_type": "stream",
     "text": [
      "\t-8.8515\t-\t15\t\t-5.7249\t-\tfree\n",
      "\t-8.8515\t-\t2morrow\t\t-6.0219\t-\ttext\n",
      "\t-8.8515\t-\t2mrw\t\t-6.1760\t-\tclaim\n",
      "\t-8.8515\t-\t30\t\t-6.2085\t-\tstop\n",
      "\t-8.8515\t-\t30 want\t\t-6.2360\t-\treply\n",
      "\t-8.8515\t-\t30ish\t\t-6.2482\t-\tmobile\n",
      "\t-8.8515\t-\t4get\t\t-6.3348\t-\tservice\n",
      "\t-8.8515\t-\t5min\t\t-6.3363\t-\tprize\n",
      "\t-8.8515\t-\t65\t\t-6.3616\t-\ttone\n",
      "\t-8.8515\t-\t6hrs\t\t-6.4079\t-\twww\n"
     ]
    }
   ],
   "source": [
    "feature_names = vectorizer.get_feature_names()\n",
    "coefs = clf.coef_\n",
    "intercept = clf.intercept_\n",
    "coefs_with_fns = sorted(zip(clf.coef_[0], feature_names))\n",
    "n = 10\n",
    "top = zip(coefs_with_fns[:n], coefs_with_fns[: -(n+1) : -1])\n",
    "for(coef_1, fn_1), (coef_2, fn_2) in top:\n",
    "    print('\\t%.4f\\t-\\t%s\\t\\t%.4f\\t-\\t%s' % (coef_1, fn_1, coef_2, fn_2))"
   ]
  },
  {
   "cell_type": "code",
   "execution_count": null,
   "metadata": {
    "collapsed": true
   },
   "outputs": [],
   "source": []
  }
 ],
 "metadata": {
  "kernelspec": {
   "display_name": "Python 3",
   "language": "python",
   "name": "python3"
  },
  "language_info": {
   "codemirror_mode": {
    "name": "ipython",
    "version": 3
   },
   "file_extension": ".py",
   "mimetype": "text/x-python",
   "name": "python",
   "nbconvert_exporter": "python",
   "pygments_lexer": "ipython3",
   "version": "3.5.1"
  }
 },
 "nbformat": 4,
 "nbformat_minor": 0
}
