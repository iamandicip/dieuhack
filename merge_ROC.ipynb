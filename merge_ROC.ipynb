{
 "cells": [
  {
   "cell_type": "code",
   "execution_count": null,
   "metadata": {
    "collapsed": true
   },
   "outputs": [],
   "source": [
    "import pickle\n",
    "import numpy as np"
   ]
  },
  {
   "cell_type": "code",
   "execution_count": null,
   "metadata": {
    "collapsed": false
   },
   "outputs": [],
   "source": [
    "predicted_rocs = pickle.load(open('predicted_roc_dict.pickle', 'rb'))\n",
    "print(predicted_rocs)"
   ]
  },
  {
   "cell_type": "code",
   "execution_count": null,
   "metadata": {
    "collapsed": false
   },
   "outputs": [],
   "source": [
    "predicted_rocs_list = [[k, v] for k, v in predicted_rocs.items()]\n",
    "predicted_rocs_df = pd.DataFrame(predicted_rocs_list, columns = ['ISIN','CIT'])\n",
    "predicted_rocs_df.sort_values('ISIN', axis=0, inplace=True)\n",
    "predicted_rocs_df['CIT'] = predicted_rocs_df['CIT'].str.upper()\n",
    "predicted_rocs_df.head()"
   ]
  },
  {
   "cell_type": "code",
   "execution_count": null,
   "metadata": {
    "collapsed": false
   },
   "outputs": [],
   "source": [
    "import pandas as pd\n",
    "\n",
    "all_cities = pd.read_csv( '../train/outcome/ROC_fullList.csv', header=0, sep=\";\", quoting=1, thousands=\",\")\n",
    "all_cities.head()"
   ]
  },
  {
   "cell_type": "code",
   "execution_count": null,
   "metadata": {
    "collapsed": false
   },
   "outputs": [],
   "source": [
    "print(len(all_cities['CIT_NM'].unique()))"
   ]
  },
  {
   "cell_type": "code",
   "execution_count": null,
   "metadata": {
    "collapsed": false
   },
   "outputs": [],
   "source": [
    "ref_cities = all_cities['CIT_NM'].as_matrix()\n",
    "rocs = predicted_rocs_df.as_matrix()"
   ]
  },
  {
   "cell_type": "code",
   "execution_count": null,
   "metadata": {
    "collapsed": false
   },
   "outputs": [],
   "source": [
    "print(ref_cities[0])\n",
    "print(rocs.shape)"
   ]
  },
  {
   "cell_type": "code",
   "execution_count": 2,
   "metadata": {
    "collapsed": false
   },
   "outputs": [
    {
     "name": "stdout",
     "output_type": "stream",
     "text": [
      "Saved results to roc.csv\n",
      "                                                      0\n",
      "XS1254236638                         HONG KONG|NEW YORK\n",
      "XS1378387531                                  HONG KONG\n",
      "CH0281541968           MELBOURNE|SYDNEY|LONDON|NEW YORK\n",
      "XS1179183436                                   NEW YORK\n",
      "XS1014627498             TOKYO|BRASILIA|LONDON|NEW YORK\n",
      "XS1368564990                                   NEW YORK\n",
      "XS1330396513                               LONDON|TOKYO\n",
      "XS1374689054                               LONDON|TOKYO\n",
      "XS1306639664             TOKYO|BRASILIA|LONDON|NEW YORK\n",
      "XS1378451998                                  HONG KONG\n",
      "XS1396347053        AUCKLAND|WELLINGTON|LONDON|NEW YORK\n",
      "XS0848707062                                   NEW YORK\n",
      "CH0295931403                                   NEW YORK\n",
      "XS1395264499                         HONG KONG|NEW YORK\n",
      "NL0011218706                            TARGET HOLIDAYS\n",
      "CH0279922980                            TARGET HOLIDAYS\n",
      "XS1072479048             TOKYO|BRASILIA|LONDON|NEW YORK\n",
      "XS1308059739                                  HONG KONG\n",
      "XS1063913195        AUCKLAND|WELLINGTON|LONDON|NEW YORK\n",
      "XS1374467584                                   NEW YORK\n",
      "XS1364861523                            TARGET HOLIDAYS\n",
      "XS1347564970                            TARGET HOLIDAYS\n",
      "CH0279928532                            TARGET HOLIDAYS\n",
      "US89566EAG35                      TOKYO|LONDON|NEW YORK\n",
      "NL0011652045                            TARGET HOLIDAYS\n",
      "XS1240986452                      TOKYO|LONDON|NEW YORK\n",
      "XS1289621747                            TARGET HOLIDAYS\n",
      "XS1343117625                 BEIJING|HONG KONG|NEW YORK\n",
      "XS0989639520             TOKYO|ISTANBUL|LONDON|NEW YORK\n",
      "XS1251280506                                   NEW YORK\n",
      "...                                                 ...\n",
      "XS1377978959                                   NEW YORK\n",
      "XS1338515189                   TARGET HOLIDAYS|NEW YORK\n",
      "XS1022156720             TOKYO|BRASILIA|LONDON|NEW YORK\n",
      "XS1138888224                            ZURICH|NEW YORK\n",
      "XS1349977451        AUCKLAND|WELLINGTON|LONDON|NEW YORK\n",
      "XS1279305467                             CAIRE|NEW YORK\n",
      "XS1289344720                                  HONG KONG\n",
      "XS1372181609                             TOKYO|NEW YORK\n",
      "XS1334562284  TORONTO|BEIJING|LONDON|HONG KONG|NEW YORK\n",
      "XS1378488131                                  HONG KONG\n",
      "XS1343789720                                  HONG KONG\n",
      "CH0259326129                   TARGET HOLIDAYS|NEW YORK\n",
      "XS1357788261                               LONDON|TOKYO\n",
      "USU76453AB28                            LONDON|NEW YORK\n",
      "XS1374671789                               LONDON|TOKYO\n",
      "XS1319973456                                   NEW YORK\n",
      "XS1320015966                                  HONG KONG\n",
      "XS1230638055                                  HONG KONG\n",
      "XS1233577953        AUCKLAND|WELLINGTON|LONDON|NEW YORK\n",
      "XS1338515429                         HONG KONG|NEW YORK\n",
      "XS1380675485                                   NEW YORK\n",
      "XS1353633750                                     LONDON\n",
      "XS1296578393            TARGET HOLIDAYS|LONDON|NEW YORK\n",
      "XS1373121745                               LONDON|TOKYO\n",
      "XS1378402355                                  HONG KONG\n",
      "XS1378412669                 BEIJING|HONG KONG|NEW YORK\n",
      "DE000CS8A885            TARGET HOLIDAYS|LONDON|NEW YORK\n",
      "XS1388506336                               LONDON|TOKYO\n",
      "XS1328684508                               LONDON|TOKYO\n",
      "XS1313828045                               LONDON|TOKYO\n",
      "\n",
      "[426 rows x 1 columns]\n"
     ]
    }
   ],
   "source": [
    "import re\n",
    "import pandas as pd\n",
    "import numpy as np\n",
    "import csv\n",
    "import pickle\n",
    "\n",
    "def eliminate_duplicates(cities):\n",
    "    return '|'.join(set(cities.split('|')))\n",
    "\n",
    "def convert_roc(roc_dict_path, ref_cities_path, predicted_currencies, link_roc, output_csv):\n",
    "    \n",
    "    result = {}\n",
    "    \n",
    "    predicted_rocs = pickle.load(open(roc_dict_path, 'rb'))\n",
    "    predicted_rocs_list = [[k, v] for k, v in predicted_rocs.items()]\n",
    "    predicted_rocs_df = pd.DataFrame(predicted_rocs_list, columns = ['ISIN','CIT'])\n",
    "    predicted_rocs_df.sort_values('ISIN', axis=0, inplace=True)\n",
    "    predicted_rocs_df['CIT'] = predicted_rocs_df['CIT'].str.upper()\n",
    "    \n",
    "    opCurrency=np.load(predicted_currencies).item()\n",
    "    op_curr = [[k, v] for k, v in opCurrency.items()]\n",
    "\n",
    "    opCurr_df = pd.DataFrame(op_curr, columns = ['ISIN','OpCurrency'])\n",
    "    opCurr_df['OpCurrency'] = [w.decode(\"utf-8\").strip().upper() for w in opCurr_df['OpCurrency'].values]\n",
    "    opCurr_df.sort_values('OpCurrency', axis=0, inplace=True)\n",
    "    \n",
    "    link_roc_df = pd.read_csv(link_roc, header=0, sep=\";\", quoting=1, thousands=\",\")\n",
    "    link_roc_df.sort_values('Currency Code', axis=0, inplace = True)\n",
    "\n",
    "    roc_fromCurrency = pd.merge(left = link_roc_df, right = opCurr_df, left_on = 'Currency Code', right_on = 'OpCurrency')\n",
    "    roc_fromCurrency = roc_fromCurrency[['ISIN','Default ROC']]\n",
    "#     roc_fromCurrency.sort_values('ISIN', axis=0, inplace = True)\n",
    "\n",
    "    all_cities = pd.read_csv(ref_cities_path, header=0, sep=\";\", quoting=1, thousands=\",\")\n",
    "   \n",
    "    ref_cities = all_cities['CIT_NM'].as_matrix()\n",
    "    rocs = predicted_rocs_df.as_matrix()\n",
    "    op_curr_rocs = roc_fromCurrency.as_matrix()\n",
    "\n",
    "    for roc in rocs:\n",
    "        isin = roc[0]\n",
    "        cities = roc[1].decode(\"utf-8\").strip()\n",
    "\n",
    "        for ref_c in ref_cities:\n",
    "            ref_c = ref_c.strip()\n",
    "\n",
    "            matches = re.findall(ref_c, cities)\n",
    "            if matches:\n",
    "                if(len(matches) > 1):\n",
    "                    print('Found multiple matches for %s - %s' % ref_c, cities)\n",
    "                \n",
    "                city = matches[0]\n",
    "                if city in ['TARGET 1', 'TARGET 2']:\n",
    "                    city = 'TARGET HOLIDAYS'\n",
    "                    \n",
    "                try:\n",
    "                    existing_cities = result[isin]\n",
    "                    result[isin] = existing_cities + '|' + city\n",
    "                except KeyError:\n",
    "                    result[isin] = matches[0]\n",
    "    \n",
    "    for roc in op_curr_rocs:\n",
    "        isin = roc[0]\n",
    "        cities = roc[1].upper().strip()\n",
    "        \n",
    "        for ref_c in ref_cities:\n",
    "            ref_c = ref_c.strip()\n",
    "\n",
    "            matches = re.findall(ref_c, cities)\n",
    "            if matches:\n",
    "                if(len(matches) > 1):\n",
    "                    print('Found multiple matches for %s - %s' % ref_c, cities)\n",
    "                try:\n",
    "                    existing_cities = result[isin]\n",
    "                    city = matches[0]\n",
    "                    \n",
    "                    if city not in existing_cities:\n",
    "                        if city in ['TARGET 1', 'TARGET 2']:\n",
    "                            city = 'TARGET HOLIDAYS'\n",
    "                        \n",
    "                        result[isin] = existing_cities + '|' + city\n",
    "                        \n",
    "                except KeyError:\n",
    "                    result[isin] = matches[0]\n",
    "    \n",
    "    new_result = {k : eliminate_duplicates(v) for k,v in result.items() }\n",
    "    \n",
    "    result_df = pd.DataFrame.from_dict(new_result, orient='index')\n",
    "    result_df.to_csv(output_csv, index=True, header=False, quoting=csv.QUOTE_ALL)\n",
    "    \n",
    "    print('Saved results to %s' % output_csv)\n",
    "    \n",
    "    return result_df\n",
    "\n",
    "r = convert_roc('predicted_roc_dict.pickle', \\\n",
    "                '../train/outcome/ROC_fullList.csv', \\\n",
    "                'currencyExtraction/predicted_opCurr_dict.npy', \\\n",
    "                'ROC/currency_ROC_fullList.csv', \\\n",
    "                'roc.csv')\n",
    "print(r)"
   ]
  },
  {
   "cell_type": "code",
   "execution_count": null,
   "metadata": {
    "collapsed": false
   },
   "outputs": [],
   "source": [
    "\n",
    "x = 'LONDON'\n",
    "y = 'LONDON NEW YORK TARGET HOLIDAYS TORONTO'\n",
    "re.findall(x, y)"
   ]
  },
  {
   "cell_type": "code",
   "execution_count": null,
   "metadata": {
    "collapsed": false
   },
   "outputs": [],
   "source": [
    "opCurrency = np.load('currencyExtraction/predicted_opCurr_dict.npy').item()\n",
    "\n",
    "# op_curr = pickle.load(open(roc_dict_path, 'rb'))\n",
    "op_curr = [[k, v] for k, v in opCurrency.items()]\n",
    "\n",
    "op_curr_df = pd.DataFrame(op_curr, columns = ['ISIN','CIT'])\n",
    "op_curr_df.sort_values('ISIN', axis=0, inplace=True)\n",
    "op_curr_df['CIT'] = op_curr_df['CIT'].str.upper()\n",
    "\n",
    "op_curr_df.head()\n"
   ]
  },
  {
   "cell_type": "code",
   "execution_count": null,
   "metadata": {
    "collapsed": false
   },
   "outputs": [],
   "source": [
    "opCurrency=np.load('currencyExtraction/predicted_opCurr_dict.npy').item()\n",
    "\n",
    "op_curr = [[k, v] for k, v in opCurrency.items()]\n",
    "\n",
    "opCurr_df = pd.DataFrame(op_curr, columns = ['ISIN','OpCurrency'])\n",
    "opCurr_df['OpCurrency'] = [w.decode(\"utf-8\").strip() for w in opCurr_df['OpCurrency'].values]\n",
    "\n",
    "opCurr_df.head()\n",
    "\n",
    "roc_fromCurrency = pd.merge(left=link_roc_opCurr,right=opCurr_df,left_on='Currency Code', right_on='OpCurrency')\n",
    "\n",
    "roc_fromCurrency.head()\n",
    "\n",
    "col=['ISIN','Default ROC']\n",
    "\n",
    "roc_fromCurrency=roc_fromCurrency[col]\n",
    "roc_fromCurrency.head()\n",
    "\n"
   ]
  },
  {
   "cell_type": "code",
   "execution_count": null,
   "metadata": {
    "collapsed": false
   },
   "outputs": [],
   "source": [
    "x = {'AA':'LONDON|SYDNEY|MELBOURNE|SYDNEY|TOKYO'}\n",
    "\n",
    "result = {k : eliminate_duplicates(v) for k,v in x.items() }\n",
    "\n",
    "print(result)"
   ]
  },
  {
   "cell_type": "code",
   "execution_count": null,
   "metadata": {
    "collapsed": false
   },
   "outputs": [],
   "source": [
    "print(t)"
   ]
  },
  {
   "cell_type": "code",
   "execution_count": null,
   "metadata": {
    "collapsed": false
   },
   "outputs": [],
   "source": [
    " link_roc_df = pd.read_csv('ROC/currency_ROC_fullList.csv', header=0, sep=\";\", quoting=1, thousands=\",\")\n",
    "    "
   ]
  },
  {
   "cell_type": "code",
   "execution_count": null,
   "metadata": {
    "collapsed": false
   },
   "outputs": [],
   "source": [
    "link_roc_df.head()"
   ]
  },
  {
   "cell_type": "code",
   "execution_count": null,
   "metadata": {
    "collapsed": true
   },
   "outputs": [],
   "source": []
  }
 ],
 "metadata": {
  "kernelspec": {
   "display_name": "Python 3",
   "language": "python",
   "name": "python3"
  },
  "language_info": {
   "codemirror_mode": {
    "name": "ipython",
    "version": 3
   },
   "file_extension": ".py",
   "mimetype": "text/x-python",
   "name": "python",
   "nbconvert_exporter": "python",
   "pygments_lexer": "ipython3",
   "version": "3.5.1"
  }
 },
 "nbformat": 4,
 "nbformat_minor": 0
}
