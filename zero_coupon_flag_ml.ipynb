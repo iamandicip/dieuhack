{
 "cells": [
  {
   "cell_type": "code",
   "execution_count": 40,
   "metadata": {
    "collapsed": true
   },
   "outputs": [],
   "source": [
    "import os\n",
    "from os import path\n",
    "\n",
    "datafolder = \"../train/\"\n",
    "assert path.isdir(datafolder)\n",
    "\n",
    "data1folder = '../final_test'\n",
    "assert path.isdir(data1folder)\n",
    "\n",
    "html1_folder = path.join(data1folder, \"html\")\n",
    "assert path.isdir(html1_folder)\n",
    "\n",
    "html_folder = path.join(datafolder, \"html\")\n",
    "assert path.isdir(html_folder)"
   ]
  },
  {
   "cell_type": "code",
   "execution_count": 41,
   "metadata": {
    "collapsed": false
   },
   "outputs": [
    {
     "data": {
      "text/html": [
       "<div>\n",
       "<table border=\"1\" class=\"dataframe\">\n",
       "  <thead>\n",
       "    <tr style=\"text-align: right;\">\n",
       "      <th></th>\n",
       "      <th>ISIN</th>\n",
       "      <th>ISSUER.NAME</th>\n",
       "      <th>ZCP.FL</th>\n",
       "      <th>MIN.TRAD.AMT</th>\n",
       "      <th>MLT.TRAD.AMT</th>\n",
       "      <th>OPS.CURR</th>\n",
       "    </tr>\n",
       "  </thead>\n",
       "  <tbody>\n",
       "    <tr>\n",
       "      <th>0</th>\n",
       "      <td>ARCBAS031621</td>\n",
       "      <td>CIUDAD DE BUENOS AIRES</td>\n",
       "      <td>N</td>\n",
       "      <td>0</td>\n",
       "      <td>1000</td>\n",
       "      <td>ARS</td>\n",
       "    </tr>\n",
       "    <tr>\n",
       "      <th>1</th>\n",
       "      <td>AT0000248448</td>\n",
       "      <td>UNICREDIT BANK AUSTRIA AG</td>\n",
       "      <td>N</td>\n",
       "      <td>0</td>\n",
       "      <td>100000</td>\n",
       "      <td>EUR</td>\n",
       "    </tr>\n",
       "    <tr>\n",
       "      <th>2</th>\n",
       "      <td>AT0000A0MPB1</td>\n",
       "      <td>BAWAG PSK BANK FUR ARBEIT UND WIRTSCHAFT UND O...</td>\n",
       "      <td>N</td>\n",
       "      <td>0</td>\n",
       "      <td>100</td>\n",
       "      <td>EUR</td>\n",
       "    </tr>\n",
       "    <tr>\n",
       "      <th>3</th>\n",
       "      <td>AT0000A17HH9</td>\n",
       "      <td>RAIFFEISEN CENTROBANK AG</td>\n",
       "      <td>N</td>\n",
       "      <td>0</td>\n",
       "      <td>1000</td>\n",
       "      <td>USD</td>\n",
       "    </tr>\n",
       "    <tr>\n",
       "      <th>4</th>\n",
       "      <td>AT0000A1HE76</td>\n",
       "      <td>RAIFFEISEN CENTROBANK AG</td>\n",
       "      <td>Y</td>\n",
       "      <td>0</td>\n",
       "      <td>1000</td>\n",
       "      <td>CZK</td>\n",
       "    </tr>\n",
       "  </tbody>\n",
       "</table>\n",
       "</div>"
      ],
      "text/plain": [
       "           ISIN                                        ISSUER.NAME ZCP.FL  \\\n",
       "0  ARCBAS031621                             CIUDAD DE BUENOS AIRES      N   \n",
       "1  AT0000248448                          UNICREDIT BANK AUSTRIA AG      N   \n",
       "2  AT0000A0MPB1  BAWAG PSK BANK FUR ARBEIT UND WIRTSCHAFT UND O...      N   \n",
       "3  AT0000A17HH9                           RAIFFEISEN CENTROBANK AG      N   \n",
       "4  AT0000A1HE76                           RAIFFEISEN CENTROBANK AG      Y   \n",
       "\n",
       "   MIN.TRAD.AMT  MLT.TRAD.AMT OPS.CURR  \n",
       "0             0          1000      ARS  \n",
       "1             0        100000      EUR  \n",
       "2             0           100      EUR  \n",
       "3             0          1000      USD  \n",
       "4             0          1000      CZK  "
      ]
     },
     "execution_count": 41,
     "metadata": {},
     "output_type": "execute_result"
    }
   ],
   "source": [
    "import pandas as pd\n",
    "\n",
    "labels = pd.read_csv( datafolder + \"outcome/ISIN_train.csv\", header=0, sep=\",\", quoting=1, thousands=\",\")\n",
    "files_isins = pd.read_csv( datafolder + \"docID/docid_train.csv\", header=0, sep=\",\", quoting=1, thousands=\",\")\n",
    "labels.head()"
   ]
  },
  {
   "cell_type": "markdown",
   "metadata": {},
   "source": [
    "## Utility functions"
   ]
  },
  {
   "cell_type": "code",
   "execution_count": 42,
   "metadata": {
    "collapsed": false
   },
   "outputs": [],
   "source": [
    "import re\n",
    "import pickle\n",
    "import nltk\n",
    "from nltk.corpus import stopwords\n",
    "\n",
    "keywords_contexts = {'interest' : [['payment', 'date'], \\\n",
    "                                   ['applicable'], \\\n",
    "                                   ['bearing'], \\\n",
    "                                   ['bears']\n",
    "                                  ], \\\n",
    "                     'coupon' : [['zero'], \\\n",
    "                                 ['provisions']\n",
    "                                ]\n",
    "                    }\n",
    "\n",
    "def contains(small_list, big_list):\n",
    "    for word in small_list:\n",
    "        if word not in big_list:\n",
    "            return False\n",
    "    return True\n",
    "\n",
    "def keywords_in_context(keywords, context):\n",
    "    for keywords_list in keywords:\n",
    "        if contains(keywords_list, context):\n",
    "            return True\n",
    "        \n",
    "    return False\n",
    "\n",
    "def sort_contexts(contexts):\n",
    "    c = sorted(contexts, key=len)\n",
    "    c.reverse()\n",
    "    return c\n",
    "\n",
    "# keywords_contexts = sort_contexts(keywords_contexts)\n",
    "\n",
    "def extract_relevant_info(words, keywords_contexts, window_before, window_after):\n",
    "    relevant_info = []\n",
    "\n",
    "    for i in range(len(words)):\n",
    "        word = words[i]\n",
    "\n",
    "        if word in keywords_contexts.keys() and i + window_after < len(words):\n",
    "            \n",
    "            #retain look_around words around the keyword\n",
    "            window = words[i - window_before : i + window_after]\n",
    "            \n",
    "#             print('%s - %s' % (word, window))\n",
    "            \n",
    "#             keywords_groups = keywords_contexts[word]\n",
    "#             for group in keywords_groups:\n",
    "#                 keywords_present = keywords_in_context(group, window)\n",
    "#                 if keywords_present:\n",
    "#                     relevant_info += window\n",
    "#                     break\n",
    "                    \n",
    "            relevant_info += window\n",
    "            \n",
    "    return relevant_info\n",
    "\n",
    "def get_isin_for_file(labels, file_name, print_result = False):\n",
    "    isin = None\n",
    "    #function to get the isin from the labels, given a file name\n",
    "    file_id = file_name.split('_')[0]\n",
    "    idx = labels['DOCID'] == file_id\n",
    "    isins = labels['ISIN'][idx]\n",
    "    if isins.values: \n",
    "        isin = isins.values[0]\n",
    "    \n",
    "    if(print_result):\n",
    "        print(\"%s - %s\" % (file_name, isin))\n",
    "    return isin\n",
    "\n",
    "def get_labels_for_isin(labels, isin):\n",
    "    idx = labels['isin'] == isin\n",
    "    return labels[:][idx].values\n",
    "\n",
    "def document_to_text(doc_path):\n",
    "    with open(doc_path, 'r', encoding='utf8') as html_file:\n",
    "        full_text = html_file.read()\n",
    "        body = re.findall(r'<body[^>]*?>(.*?)</body>', full_text)\n",
    "        cleantext = re.sub('<\\/?span[^>]*>', '', body[0])\n",
    "        clean_text = re.sub('<.*?>', ' ', cleantext)\n",
    "        clean_text = clean_text.lower()\n",
    "        clean_text = re.sub('won\\'t', 'will not', clean_text)\n",
    "        clean_text = re.sub('can\\'t', 'cannot', clean_text)\n",
    "        clean_text = re.sub('[^a-z]', ' ', clean_text)\n",
    "        clean_text = re.sub('\\s+', ' ', clean_text)\n",
    "        words = nltk.word_tokenize(clean_text)\n",
    "        stops = set(stopwords.words('english'))\n",
    "        relevant_words = [w for w in words if w not in stops and w != '' and w != ' ']\n",
    "        return relevant_words\n",
    "        \n",
    "        return clean_text\n",
    "    \n",
    "def group_docs_by_isin(html_folder, files_isins, pickle_results=False, pickle_file='docs_by_isin.pickle'):\n",
    "    \n",
    "    contents_by_isin = {}\n",
    "    \n",
    "    print('Processing files')\n",
    "\n",
    "    for file_name in os.listdir(html_folder):\n",
    "        \n",
    "        print('.', end='')\n",
    "        \n",
    "        if file_name.endswith(\".html\"):\n",
    "\n",
    "            #first find the isin corresponding to this file\n",
    "            isin = get_isin_for_file(files_isins, file_name)\n",
    "            \n",
    "            if(isin is not None):\n",
    "\n",
    "                #found the isin to associate the document with\n",
    "                file_content = document_to_text(path.join(html_folder, file_name))\n",
    "                window_before = 5\n",
    "                window_after = 5\n",
    "                \n",
    "                file_content = extract_relevant_info(file_content, keywords_contexts, window_before, window_after)\n",
    "#                 print(file_content)\n",
    "                file_content = ' '.join(file_content)\n",
    "#                 print(file_content)\n",
    "\n",
    "                try:\n",
    "                    #if there is already existing data for this isin, append the new data\n",
    "                    existing_isin_data = contents_by_isin[isin]\n",
    "                    contents_by_isin[isin] = existing_isin_data + file_content\n",
    "\n",
    "                except KeyError:\n",
    "                    contents_by_isin[isin] = file_content\n",
    "    \n",
    "#         break\n",
    "    print('\\nFinished grouping file contents indexed by ISIN')\n",
    "    \n",
    "    if pickle_results:\n",
    "        pickle.dump(contents_by_isin, open(pickle_file, 'wb'))\n",
    "        \n",
    "        print('Saved file contents indexed by ISIN to:', pickle_file)\n",
    "        \n",
    "    return contents_by_isin\n",
    "\n",
    "def load_and_sort_training_data(file_name):\n",
    "    data = pickle.load(open(file_name, 'rb'))\n",
    "    data_by_isin = [[k, v] for k, v in data.items()]\n",
    "    data_by_isin_df = pd.DataFrame(data_by_isin, columns = ['isin','content'])\n",
    "    data_by_isin_df.sort_values('isin', axis=0, inplace=True)\n",
    "  \n",
    "    dataset = data_by_isin_df.as_matrix(columns=['content'])[:,0]\n",
    "\n",
    "    labels = pd.read_csv( datafolder + 'outcome/ISIN_train.csv', header=0, sep=',', quoting=1, thousands=',')\n",
    "    data_labeled_df = pd.DataFrame(labels[['ISIN','ZCP.FL']])\n",
    "    data_labeled_df.set_index(['ISIN'])\n",
    "    data_labeled_df = data_labeled_df.drop_duplicates()\n",
    "    data_labeled_df.sort_values('ISIN', axis=0, inplace=True)\n",
    "    labelset = data_labeled_df.as_matrix(columns=['ZCP.FL'])\n",
    "    labelset = labelset.flatten()\n",
    "    \n",
    "    return dataset, labelset\n",
    "\n",
    "def find_isins_in_folder(html_folder):\n",
    "    print('Extracting list of ISIN and file ids from folder %s' % html_folder)\n",
    "    \n",
    "    fileids_isins = []\n",
    "    ISIN_REGEXP = r'[a-zA-Z]{2}[0-9]{10}'\n",
    "    FILEID_REGEXP = r'[0-9a-zA-Z]{16}'\n",
    "\n",
    "    for file_name in os.listdir(html_folder):\n",
    "        if file_name.endswith(\".html\"):\n",
    "\n",
    "            #get the file id\n",
    "            file_ids = re.findall(FILEID_REGEXP, file_name)\n",
    "            if len(file_ids) >= 1:\n",
    "                file_id = file_ids[0]\n",
    "\n",
    "                #get the ISIN\n",
    "                isins = re.findall(ISIN_REGEXP, file_name)\n",
    "\n",
    "                if len(isins) > 1 :\n",
    "                    raise ValueError('Multpiple isin in file name %s' % file_name)\n",
    "\n",
    "                elif len(isins) == 1:\n",
    "                    fileids_isins.append([file_id, isins[0].upper()])\n",
    "\n",
    "                else:\n",
    "                    with open(html1_folder + '/' + file_name, 'r', encoding='utf8') as html_file:\n",
    "                        full_text = html_file.read()\n",
    "                        isins = re.findall(ISIN_REGEXP, full_text)\n",
    "                        if len(isins) > 1:\n",
    "                            fileids_isins.append([file_id, isins[0].upper()])\n",
    "                        elif len(isins) == 1:\n",
    "                            fileids_isins.append([file_id, isins[0].upper()])\n",
    "                        else:\n",
    "                            print('Can\\'t find isin for file %s' % file_name)\n",
    "        \n",
    "    print('Total files in folder: %d' % len(os.listdir(html_folder)))            \n",
    "    print('Total files with isin found: %d' % len(fileids_isins))\n",
    "\n",
    "    return pd.DataFrame(fileids_isins, columns = ['fileId','isin'])\n",
    "\n",
    "def load_isins_files(doc_isin_path):\n",
    "    all_labels_df = pd.read_csv(doc_isin_path, header=0, sep=\",\", quoting=1, thousands=\",\")\n",
    "    all_labels_df.set_index(['ISIN'])\n",
    "    all_labels_df.sort_values('ISIN', axis=0, inplace=True)\n",
    "    all_labels = pd.DataFrame(all_labels_df[['ISIN', 'DOCID']])\n",
    "    return all_labels"
   ]
  },
  {
   "cell_type": "markdown",
   "metadata": {},
   "source": [
    "## Read the text from files, clean the text, group the file contents by ISIN, save the results"
   ]
  },
  {
   "cell_type": "code",
   "execution_count": 23,
   "metadata": {
    "collapsed": false
   },
   "outputs": [
    {
     "name": "stdout",
     "output_type": "stream",
     "text": [
      "Processing files\n",
      "..................................................................................................................................................................................................................................................................................................................................................................................................................................................................................................................................................................................................................................................................................................................................................................................................................................................................................................................................................................................................................................................................................................................................................................................................................................................................................................................................................................................................................................................................................................................................................................................................................................................................................................................................................................................................................................................................................................................................................................................................................................................................................................................................................................................................................................................................................................................................................................................................................................................................................................................................................................................................................................................................................................................................................................................................................................................................................................................................................................................................................................................................................................................................................................................................................................................................................................................................................................................................................................................................................................................................................................................................................................................................................................................................................................................................................................................................................................................................................................................................................................................................................................................................................................................................................................................................................................................................................................................................................................................................................................................................................................................................................................................................................................................................................................................................................................................................................................................................................................................................................................................................................................................................................................................................................................................................................................................................................................................................................................................................................................................................................................................................................................................................................................................................................................................................................................................................................................\n",
      "Finished grouping file contents indexed by ISIN\n",
      "Saved file contents indexed by ISIN to: zero_coupon_docs_by_isin.pickle\n",
      "OK!\n"
     ]
    }
   ],
   "source": [
    "group_docs_by_isin(html_folder, files_isins, pickle_results=True, pickle_file='zero_coupon_docs_by_isin.pickle')\n",
    "print('OK!')"
   ]
  },
  {
   "cell_type": "markdown",
   "metadata": {},
   "source": [
    "## Load the cleaned data and the labels and align them by ISIN"
   ]
  },
  {
   "cell_type": "code",
   "execution_count": 24,
   "metadata": {
    "collapsed": false
   },
   "outputs": [],
   "source": [
    "import pickle\n",
    "import pandas as pd\n",
    "\n",
    "dataset, labelset = load_and_sort_training_data('zero_coupon_docs_by_isin.pickle')"
   ]
  },
  {
   "cell_type": "code",
   "execution_count": 25,
   "metadata": {
    "collapsed": false
   },
   "outputs": [
    {
     "name": "stdout",
     "output_type": "stream",
     "text": [
      "(5456,)\n"
     ]
    }
   ],
   "source": [
    "print(dataset.shape)"
   ]
  },
  {
   "cell_type": "code",
   "execution_count": 7,
   "metadata": {
    "collapsed": false
   },
   "outputs": [
    {
     "data": {
      "text/plain": [
       "[]"
      ]
     },
     "execution_count": 7,
     "metadata": {},
     "output_type": "execute_result"
    }
   ],
   "source": [
    "t = dataset[2][0]\n",
    "extract_relevant_info(t, keywords_contexts, 5, 5)"
   ]
  },
  {
   "cell_type": "markdown",
   "metadata": {},
   "source": [
    "## Split the dataset into train and validation"
   ]
  },
  {
   "cell_type": "code",
   "execution_count": 26,
   "metadata": {
    "collapsed": false
   },
   "outputs": [],
   "source": [
    "from sklearn import cross_validation\n",
    "\n",
    "X_train, X_test, y_train, y_test = cross_validation.train_test_split(dataset, labelset,\\\n",
    "                                                                     test_size=0.3, random_state=53)"
   ]
  },
  {
   "cell_type": "markdown",
   "metadata": {},
   "source": [
    "## Find the best hyperparameters for a pipeline that classifies the text"
   ]
  },
  {
   "cell_type": "code",
   "execution_count": null,
   "metadata": {
    "collapsed": false
   },
   "outputs": [],
   "source": [
    "from pprint import pprint\n",
    "from time import time\n",
    "import logging\n",
    "from sklearn.pipeline import Pipeline\n",
    "from sklearn.feature_extraction.text import CountVectorizer\n",
    "from sklearn.feature_extraction.text import TfidfTransformer\n",
    "from sklearn.linear_model import SGDClassifier\n",
    "from sklearn.grid_search import GridSearchCV\n",
    "from sklearn.metrics import confusion_matrix\n",
    "from sklearn.metrics import classification_report\n",
    "from sklearn.externals import joblib\n",
    "from sklearn import cross_validation\n",
    "\n",
    "dataset, labelset = load_and_sort_training_data('zero_coupon_docs_by_isin.pickle')\n",
    "\n",
    "X_train, X_test, y_train, y_test = cross_validation.train_test_split(dataset, labelset,\\\n",
    "                                                                     test_size=0.3, random_state=53)\n",
    "\n",
    "pipeline = Pipeline([('vect', CountVectorizer()), \\\n",
    "                     ('tfidf', TfidfTransformer()), \\\n",
    "                     ('clf', SGDClassifier())])\n",
    "\n",
    "# uncommenting more parameters will give better exploring power but will\n",
    "# increase processing time in a combinatorial way\n",
    "parameters = {\n",
    "    'vect__max_df': (0.5, 0.75, 1.0),\n",
    "    'vect__max_features': (None, 5000, 10000, 50000),\n",
    "    'vect__ngram_range': ((1, 1), (1, 2)),  # unigrams or bigrams\n",
    "    'tfidf__use_idf': (True, False),\n",
    "    'tfidf__norm': ('l1', 'l2'),\n",
    "    'clf__alpha': (0.0001, 0.00001, 0.000001),\n",
    "    'clf__penalty': ('l2', 'elasticnet'),\n",
    "    'clf__n_iter': (10, 50, 80)\n",
    "}\n",
    "\n",
    "grid_search = GridSearchCV(pipeline, parameters, n_jobs=-1, verbose=1)\n",
    "\n",
    "print(\"Performing grid search...\")\n",
    "print(\"pipeline:\", [name for name, _ in pipeline.steps])\n",
    "print(\"parameters:\")\n",
    "pprint(parameters)\n",
    "t0 = time()\n",
    "grid_search.fit(X_train, y_train)\n",
    "print(\"done in %0.3fs\" % (time() - t0))\n",
    "print()\n",
    "\n",
    "print(\"Best score: %0.3f\" % grid_search.best_score_)\n",
    "print(\"Best parameters set:\")\n",
    "best_parameters = grid_search.best_estimator_.get_params()\n",
    "for param_name in sorted(parameters.keys()):\n",
    "    print(\"\\t%s: %r\" % (param_name, best_parameters[param_name]))"
   ]
  },
  {
   "cell_type": "markdown",
   "metadata": {},
   "source": [
    "## Train the pipeline with the hyperparameters that were found"
   ]
  },
  {
   "cell_type": "code",
   "execution_count": 27,
   "metadata": {
    "collapsed": false
   },
   "outputs": [],
   "source": [
    "from sklearn.pipeline import Pipeline\n",
    "from sklearn.feature_extraction.text import CountVectorizer\n",
    "from sklearn.feature_extraction.text import TfidfTransformer\n",
    "from sklearn.linear_model import SGDClassifier\n",
    "from sklearn.metrics import confusion_matrix\n",
    "from sklearn.metrics import classification_report\n",
    "from sklearn.externals import joblib\n",
    "\n",
    "from sklearn.ensemble import RandomForestClassifier\n",
    "\n",
    "from sklearn import svm\n",
    "\n",
    "text_clf = Pipeline([('vect', CountVectorizer()), \\\n",
    "                     ('tfidf', TfidfTransformer()), \\\n",
    "#                      ('clf', svm.SVC())\n",
    "                     ('clf', SGDClassifier())\n",
    "#                      ('clf', RandomForestClassifier())\n",
    "                    ])\n",
    "\n",
    "\n",
    "text_clf = text_clf.set_params(\\\n",
    "                               clf__alpha = 1e-05, \\\n",
    "                               clf__n_iter = 50, \\\n",
    "                               clf__penalty = 'l2', \\\n",
    "                               clf__n_jobs = '-1', \\\n",
    "#                                clf__decision_function_shape = 'ovo', \\\n",
    "                               tfidf__norm = 'l2', \\\n",
    "                               tfidf__use_idf = True, \\\n",
    "                               vect__max_df = 1.0, \\\n",
    "                               vect__ngram_range = (1, 2), \\\n",
    "                               vect__stop_words = 'english')\n",
    "\n",
    "\"\"\"\n",
    "text_clf = text_clf.set_params(clf__criterion = 'gini', \\\n",
    "                               clf__max_features = 'auto', \\\n",
    "                               clf__n_estimators = 50, \\\n",
    "                               clf__n_jobs = -1, \\\n",
    "                               tfidf__norm = 'l2', \\\n",
    "                               tfidf__use_idf = False, \\\n",
    "                               vect__max_df = 1, \\\n",
    "                               vect__max_features = None, \\\n",
    "                               vect__ngram_range = (1, 2)\n",
    "                              )\n",
    "\"\"\"\n",
    "text_clf = text_clf.fit(X_train.ravel(), y_train.ravel())\n",
    "\n",
    "y_train_pred = text_clf.predict(X_train.ravel())"
   ]
  },
  {
   "cell_type": "code",
   "execution_count": 28,
   "metadata": {
    "collapsed": false
   },
   "outputs": [
    {
     "name": "stdout",
     "output_type": "stream",
     "text": [
      "0.983241686305\n",
      "[[2939    1]\n",
      " [  63  816]]\n",
      "             precision    recall  f1-score   support\n",
      "\n",
      "          N       0.98      1.00      0.99      2940\n",
      "          Y       1.00      0.93      0.96       879\n",
      "\n",
      "avg / total       0.98      0.98      0.98      3819\n",
      "\n"
     ]
    }
   ],
   "source": [
    "from sklearn.metrics import confusion_matrix\n",
    "from sklearn.metrics import classification_report\n",
    "import numpy as np\n",
    "\n",
    "print(np.mean(y_train == y_train_pred))\n",
    "\n",
    "cm = confusion_matrix(y_train, y_train_pred, labels=['N', 'Y'])\n",
    "print(cm)\n",
    "\n",
    "print(classification_report(y_train, y_train_pred, target_names=['N', 'Y']))"
   ]
  },
  {
   "cell_type": "markdown",
   "metadata": {},
   "source": [
    "## Predict the values on the test data"
   ]
  },
  {
   "cell_type": "code",
   "execution_count": 29,
   "metadata": {
    "collapsed": false
   },
   "outputs": [],
   "source": [
    "y_test_pred = text_clf.predict(X_test.ravel())"
   ]
  },
  {
   "cell_type": "markdown",
   "metadata": {},
   "source": [
    "## Analyze the prediction results"
   ]
  },
  {
   "cell_type": "code",
   "execution_count": 30,
   "metadata": {
    "collapsed": false
   },
   "outputs": [
    {
     "name": "stdout",
     "output_type": "stream",
     "text": [
      "0.973121563836\n",
      "[[1244    8]\n",
      " [  36  349]]\n",
      "             precision    recall  f1-score   support\n",
      "\n",
      "          N       0.97      0.99      0.98      1252\n",
      "          Y       0.98      0.91      0.94       385\n",
      "\n",
      "avg / total       0.97      0.97      0.97      1637\n",
      "\n"
     ]
    }
   ],
   "source": [
    "from sklearn.metrics import confusion_matrix\n",
    "from sklearn.metrics import classification_report\n",
    "\n",
    "print(np.mean(y_test_pred == y_test))\n",
    "\n",
    "cm = confusion_matrix(y_test, y_test_pred, labels=['N', 'Y'])\n",
    "print(cm)\n",
    "\n",
    "print(classification_report(y_test, y_test_pred, target_names=['N', 'Y']))"
   ]
  },
  {
   "cell_type": "code",
   "execution_count": null,
   "metadata": {
    "collapsed": false
   },
   "outputs": [],
   "source": [
    "def compile_mismatched_data_summary(y_test, y_test_pred, labels_path, doc_isin_path, label_name):\n",
    "    labels = pd.read_csv(labels_path, header=0, sep=\",\", quoting=1, thousands=\",\")\n",
    "    data_labeled_df = pd.DataFrame(labels[['ISIN', label_name]])\n",
    "    data_labeled_df.set_index(['ISIN'])\n",
    "    data_labeled_df = data_labeled_df.drop_duplicates()\n",
    "    data_labeled_df.sort_values('ISIN', axis=0, inplace=True)\n",
    "\n",
    "    idx = np.where(y_test != y_test_pred)\n",
    "    mismatched_isins = data_labeled_df.as_matrix()[idx]\n",
    "\n",
    "    all_labels_df = pd.read_csv(doc_isin_path, header=0, sep=\",\", quoting=1, thousands=\",\")\n",
    "    all_labels_df.set_index(['ISIN'])\n",
    "    all_labels_df.sort_values('ISIN', axis=0, inplace=True)\n",
    "\n",
    "    all_labels = all_labels_df.as_matrix(columns=['DOCID', 'ISIN'])\n",
    "\n",
    "    file_ids = []\n",
    "    for isin in mismatched_isins[:,0]:\n",
    "        idxx = all_labels_df['ISIN'] == isin\n",
    "        file_id = all_labels_df['DOCID'][idxx].values[0]\n",
    "        file_ids.append(file_id)\n",
    "        \n",
    "    summary = np.c_[np.array(file_ids), mismatched_isins[:,0], y_test[idx], y_test_pred[idx]]\n",
    "    \n",
    "    summary_df = pd.DataFrame(summary, columns=['fileId', 'isin', 'actual', 'predicted'])\n",
    "    \n",
    "    return summary_df\n",
    "\n",
    "compile_mismatched_data_summary(y_test, y_test_pred, datafolder + 'outcome/ISIN_train.csv', \\\n",
    "                                datafolder + 'docID/docid_train.csv', 'ZCP.FL')"
   ]
  },
  {
   "cell_type": "code",
   "execution_count": null,
   "metadata": {
    "collapsed": false
   },
   "outputs": [],
   "source": [
    "from code.dataExtract import data\n",
    "import code.dataExtract as de\n",
    "\n",
    "d = data(folder='../train/')\n",
    "\n",
    "def create_results_dict(y_test_pred, labels_path, d):\n",
    "    labels = pd.read_csv(labels_path, header=0, sep=\",\", quoting=1, thousands=\",\")\n",
    "    data_labeled_df = pd.DataFrame(labels[['ISIN']])\n",
    "    data_labeled_df.set_index(['ISIN'])\n",
    "    data_labeled_df = data_labeled_df.drop_duplicates()\n",
    "    data_labeled_df.sort_values('ISIN', axis=0, inplace=True)\n",
    "    isins = data_labeled_df.as_matrix()\n",
    "    print(isins.shape)\n",
    "    print(y_test_pred.shape)\n",
    "    \n",
    "create_results_dict(y_test_pred, datafolder + 'outcome/ISIN_train.csv', d)"
   ]
  },
  {
   "cell_type": "markdown",
   "metadata": {},
   "source": [
    "## Train a vectorizer and classifier on all the available data and save them for future use"
   ]
  },
  {
   "cell_type": "code",
   "execution_count": 31,
   "metadata": {
    "collapsed": false
   },
   "outputs": [
    {
     "data": {
      "text/plain": [
       "['zero_coupon_flag_pipeline.pkl',\n",
       " 'zero_coupon_flag_pipeline.pkl_01.npy',\n",
       " 'zero_coupon_flag_pipeline.pkl_02.npy',\n",
       " 'zero_coupon_flag_pipeline.pkl_03.npy',\n",
       " 'zero_coupon_flag_pipeline.pkl_04.npy',\n",
       " 'zero_coupon_flag_pipeline.pkl_05.npy',\n",
       " 'zero_coupon_flag_pipeline.pkl_06.npy']"
      ]
     },
     "execution_count": 31,
     "metadata": {},
     "output_type": "execute_result"
    }
   ],
   "source": [
    "from sklearn.pipeline import Pipeline\n",
    "from sklearn.feature_extraction.text import TfidfTransformer\n",
    "from sklearn.linear_model import SGDClassifier\n",
    "from sklearn.metrics import confusion_matrix\n",
    "from sklearn.metrics import classification_report\n",
    "from sklearn.externals import joblib\n",
    "\n",
    "dataset, labelset = load_and_sort_training_data('zero_coupon_docs_by_isin.pickle')\n",
    "\n",
    "text_clf = Pipeline([('vect', CountVectorizer()), \\\n",
    "                     ('tfidf', TfidfTransformer()), \\\n",
    "                     ('clf', SGDClassifier())])\n",
    "\n",
    "text_clf = text_clf.set_params(clf__alpha = 1e-05, \\\n",
    "                               clf__n_iter = 50, \\\n",
    "                               clf__penalty = 'l2', \\\n",
    "                               tfidf__norm = 'l2', \\\n",
    "                               tfidf__use_idf = True, \\\n",
    "                               vect__max_df = 1.0, \\\n",
    "                               vect__ngram_range = (1, 2), \\\n",
    "                               vect__stop_words = 'english')\n",
    "\n",
    "text_clf = text_clf.fit(dataset.ravel(), labelset)\n",
    "\n",
    "joblib.dump(text_clf, 'zero_coupon_flag_pipeline.pkl') "
   ]
  },
  {
   "cell_type": "markdown",
   "metadata": {
    "collapsed": true
   },
   "source": [
    "## Load and process unlabeled data"
   ]
  },
  {
   "cell_type": "code",
   "execution_count": 32,
   "metadata": {
    "collapsed": false
   },
   "outputs": [
    {
     "data": {
      "text/html": [
       "<div>\n",
       "<table border=\"1\" class=\"dataframe\">\n",
       "  <thead>\n",
       "    <tr style=\"text-align: right;\">\n",
       "      <th></th>\n",
       "      <th>DOCID</th>\n",
       "      <th>ISIN</th>\n",
       "    </tr>\n",
       "  </thead>\n",
       "  <tbody>\n",
       "    <tr>\n",
       "      <th>0</th>\n",
       "      <td>0900045c8059e795</td>\n",
       "      <td>CH0025370906</td>\n",
       "    </tr>\n",
       "    <tr>\n",
       "      <th>1</th>\n",
       "      <td>0900045c8092c413</td>\n",
       "      <td>XS0545673914</td>\n",
       "    </tr>\n",
       "    <tr>\n",
       "      <th>2</th>\n",
       "      <td>0900045c80c5dd9f</td>\n",
       "      <td>US40430CLG23</td>\n",
       "    </tr>\n",
       "    <tr>\n",
       "      <th>3</th>\n",
       "      <td>0900045c80d7461e</td>\n",
       "      <td>US44328MAX20</td>\n",
       "    </tr>\n",
       "    <tr>\n",
       "      <th>4</th>\n",
       "      <td>0900045c80dd8470</td>\n",
       "      <td>XS0729081124</td>\n",
       "    </tr>\n",
       "  </tbody>\n",
       "</table>\n",
       "</div>"
      ],
      "text/plain": [
       "              DOCID          ISIN\n",
       "0  0900045c8059e795  CH0025370906\n",
       "1  0900045c8092c413  XS0545673914\n",
       "2  0900045c80c5dd9f  US40430CLG23\n",
       "3  0900045c80d7461e  US44328MAX20\n",
       "4  0900045c80dd8470  XS0729081124"
      ]
     },
     "execution_count": 32,
     "metadata": {},
     "output_type": "execute_result"
    }
   ],
   "source": [
    "unlabeled_isins = pd.read_csv('../final_test/docID/docid_final_test.csv', header=0, sep=\",\", quoting=1, thousands=\",\")\n",
    "\n",
    "# unlabeled_isins = load_isins_files('../int_test/docID/docid_int_test.csv')\n",
    "\n",
    "unlabeled_isins.head()"
   ]
  },
  {
   "cell_type": "code",
   "execution_count": 11,
   "metadata": {
    "collapsed": true
   },
   "outputs": [
    {
     "name": "stdout",
     "output_type": "stream",
     "text": [
      "{'XS1389956829': OrderedSet(['0900045c83f5976a']), 'XS1317268990': OrderedSet(['0900045c83faf4ff']), 'CH0306892180': OrderedSet(['0900045c83fb87c3']), 'XS1257750049': OrderedSet(['0900045c833fd701']), 'XS1135633466': OrderedSet(['0900045c832a7386']), 'XS1374651245': OrderedSet(['0900045c83dee5dd']), 'XS1289436922': OrderedSet(['0900045c83d87026']), 'XS1072479048': OrderedSet(['0900045c82510a85']), 'XS1381941597': OrderedSet(['0900045c83e90274']), 'XS1362987718': OrderedSet(['0900045c83d469e0']), 'XS1351712127': OrderedSet(['0900045c83c2447b']), 'XS1063913195': OrderedSet(['0900045c8233fe1c']), 'XS1400179906': OrderedSet(['0900045c83fa9734']), 'XS1349974193': OrderedSet(['0900045c83c859e5']), 'XS1279305467': OrderedSet(['0900045c83e7d985']), 'XS1317186598': OrderedSet(['0900045c83e8ce13']), 'XS1374208137': OrderedSet(['0900045c83e0b27b']), 'XS1295011461': OrderedSet(['0900045c83b42a61']), 'CH0308778791': OrderedSet(['0900045c83fe690d']), 'XS1307677457': OrderedSet(['0900045c83df6efd']), 'XS1376846165': OrderedSet(['0900045c83e2cfa8']), 'XS1343087299': OrderedSet(['0900045c83e12c89']), 'CH0283714332': OrderedSet(['0900045c8375e49c']), 'XS1317100466': OrderedSet(['0900045c839ab974']), 'XS1337155177': OrderedSet(['0900045c83e79fa2']), 'CH0304979872': OrderedSet(['0900045c83c0ef95']), 'RU000A0JW0S4': OrderedSet(['0900045c83eb2497']), 'CH0314989291': OrderedSet(['0900045c83f10aee']), 'XS1314918084': OrderedSet(['0900045c83e0f4fb']), 'XS1317208079': OrderedSet(['0900045c83de49b5']), 'XS1293136336': OrderedSet(['0900045c83c11807']), 'XS1374691035': OrderedSet(['0900045c83f01730']), 'XS1317212931': OrderedSet(['0900045c83e1d18e']), 'XS1289344720': OrderedSet(['0900045c83ddbee9']), 'XS1390439013': OrderedSet(['0900045c83efc81c']), 'XS1292853899': OrderedSet(['0900045c83dfbb4c']), 'US89566EAG35': OrderedSet(['0900045c83ab8a60']), 'XS1294535833': OrderedSet(['0900045c8377d398']), 'DE000UT846X2': OrderedSet(['0900045c83d858e6']), 'XS1395051235': OrderedSet(['0900045c83fb9031']), 'XS1230638055': OrderedSet(['0900045c8391cb4f']), 'XS1391044630': OrderedSet(['0900045c83f4d1be']), 'XS1301717457': OrderedSet(['0900045c8387290c']), 'XS1374788385': OrderedSet(['0900045c83e94ef1']), 'XS1312016139': OrderedSet(['0900045c839dfe7e']), 'XS1377251779': OrderedSet(['0900045c83df58d7']), 'XS1390294376': OrderedSet(['0900045c83f72b70']), 'NL0011089438': OrderedSet(['0900045c8304d468', '0900045c8304d49b']), 'XS1314929289': OrderedSet(['0900045c83dc2425']), 'GR0138003695': OrderedSet(['0900045c80eb3424']), 'US87305QCF63': OrderedSet(['0900045c81de7db1']), 'XS1314893741': OrderedSet(['0900045c83e86d4b']), 'XS1378396102': OrderedSet(['0900045c83ffa334']), 'XS1378402199': OrderedSet(['0900045c83fe0b21']), 'NL0011660147': OrderedSet(['0900045c83f1514e']), 'DE000CS8A885': OrderedSet(['0900045c83cb4aac']), 'NL0011546775': OrderedSet(['0900045c83a45235']), 'XS1366720701': OrderedSet(['0900045c83dd88a7']), 'CH0259241310': OrderedSet(['0900045c82ad5cf5']), 'XS1293806839': OrderedSet(['0900045c83b6facc']), 'XS1338495218': OrderedSet(['0900045c83d8b3a3']), 'CH0289951292': OrderedSet(['0900045c835dfe58']), 'XS1378439605': OrderedSet(['0900045c83eff356']), 'XS1338542829': OrderedSet(['0900045c83f0782c']), 'XS1116037406': OrderedSet(['0900045c828d1eb4']), 'XS1353106203': OrderedSet(['0900045c83c8faeb']), 'XS1346107433': OrderedSet(['0900045c83bd7bd3']), 'XS1320679969': OrderedSet(['0900045c83f33907']), 'XS1333977103': OrderedSet(['0900045c83f252b3']), 'XS1337143595': OrderedSet(['0900045c83f3f13d']), 'XS1314828416': OrderedSet(['0900045c83f05b29']), 'XS1374789607': OrderedSet(['0900045c83e6bab4']), 'CH0311853128': OrderedSet(['0900045c83ed0f15']), 'XS1339509157': OrderedSet(['0900045c83b15a48']), 'NL0011218706': OrderedSet(['0900045c83e531f5']), 'XS1224182789': OrderedSet(['0900045c834d8511']), 'XS1311331547': OrderedSet(['0900045c839cb05d']), 'NL0011527403': OrderedSet(['0900045c83a74614']), 'USN5946FAC16': OrderedSet(['0900045c8346f748']), 'XS1314878270': OrderedSet(['0900045c83eb4036']), 'XS1314928125': OrderedSet(['0900045c83df233c']), 'XS1306639664': OrderedSet(['0900045c838a39c8']), 'XS1251280506': OrderedSet(['0900045c83614706']), 'XS1330974145': OrderedSet(['0900045c83a36411']), 'FR0013101540': OrderedSet(['0900045c83c3b8e9']), 'US785849TM20': OrderedSet(['0900045c83ca937c']), 'XS1314797942': OrderedSet(['0900045c83f4c0ef']), 'FR0013117504': OrderedSet(['0900045c83cd4713']), 'XS1330373496': OrderedSet(['0900045c83bd72d4']), 'NL0011264668': OrderedSet(['0900045c835326c1']), 'XS1341156963': OrderedSet(['0900045c83ecbcf5']), 'XS1374859582': OrderedSet(['0900045c83e3903a']), 'XS1390326830': OrderedSet(['0900045c83f72b67']), 'XS1396347053': OrderedSet(['0900045c83f54cc4', '0900045c83f54cc6']), 'BE6276085881': OrderedSet(['0900045c83523406']), 'XS1307725108': OrderedSet(['0900045c83f113e6']), 'XS1138852543': OrderedSet(['0900045c8324ed04']), 'XS1399203923': OrderedSet(['0900045c83fa1909']), 'XS1384275365': OrderedSet(['0900045c83e6ed94']), 'TH0655E7Q489': OrderedSet(['0900045c83d2c28f']), 'XS1327113301': OrderedSet(['0900045c839e5c04']), 'XS1314892776': OrderedSet(['0900045c83e39086']), 'XS0532879300': OrderedSet(['0900045c80c35015']), 'XS1314913101': OrderedSet(['0900045c83e0f4d1']), 'XS1363005551': OrderedSet(['0900045c83cd6461', '0900045c83cd6479']), 'XS1323431954': OrderedSet(['0900045c8398e234']), 'XS1395264499': OrderedSet(['0900045c83f18e92']), 'NL0011327655': OrderedSet(['0900045c83376f9a']), 'XS1374467584': OrderedSet(['0900045c83da7e5a']), 'XS1391856330': OrderedSet(['0900045c83f59dfb']), 'FREXA0000325': OrderedSet(['0900045c83da6102']), 'XS1278910101': OrderedSet(['0900045c835b4ba6']), 'XS1317243068': OrderedSet(['0900045c83f122fd']), 'US172967KF74': OrderedSet(['0900045c83a33965']), 'XS1378432345': OrderedSet(['0900045c83f8ba5b']), 'XS1377978959': OrderedSet(['0900045c83e62c2c']), 'XS1314919058': OrderedSet(['0900045c83e1a3a3']), 'XS1274896452': OrderedSet(['0900045c835a445a']), 'XS1317176870': OrderedSet(['0900045c83e8a07c']), 'XS1314834810': OrderedSet(['0900045c83ed018e']), 'XS1368564990': OrderedSet(['0900045c83d797d8']), 'XS1319986946': OrderedSet(['0900045c83e97f9d']), 'XS1281070455': OrderedSet(['0900045c8360f9dd']), 'XS1378405614': OrderedSet(['0900045c83fc587e']), 'XS1267239546': OrderedSet(['0900045c83a45d0b']), 'RU000A0JS6T5': OrderedSet(['0900045c83d1c689']), 'XS1377528242': OrderedSet(['0900045c83df58cb']), 'CH0273347820': OrderedSet(['0900045c83b5827b']), 'XS1366708169': OrderedSet(['0900045c83d83d54']), 'XS1037645055': OrderedSet(['0900045c8246e741']), 'XS0936199602': OrderedSet(['0900045c81766274']), 'XS1293103674': OrderedSet(['0900045c83ab87ea']), 'XS1399287843': OrderedSet(['0900045c83f60bd5', '0900045c83f63a85']), 'XS1314926939': OrderedSet(['0900045c83de510c']), 'XS1240986452': OrderedSet(['0900045c8324656a']), 'XS1314928802': OrderedSet(['0900045c83e269b1']), 'XS1390452032': OrderedSet(['0900045c83f876cf']), 'DK0030368204': OrderedSet(['0900045c83a6ed9c']), 'CH0266047643': OrderedSet(['0900045c83db3d57']), 'XS0881343627': OrderedSet(['0900045c814eb056']), 'XS1378406695': OrderedSet(['0900045c83fc5723']), 'XS1395017301': OrderedSet(['0900045c83f60d96', '0900045c83f6380d']), 'XS1338541938': OrderedSet(['0900045c83f0416c']), 'XS1343091648': OrderedSet(['0900045c83e2e39d']), 'XS1378412669': OrderedSet(['0900045c83fa8a47']), 'XS1387839282': OrderedSet(['0900045c8402e927']), 'US1730T0V892': OrderedSet(['0900045c83ad8203']), 'XS1029887871': OrderedSet(['0900045c823957fc']), 'XS1255065937': OrderedSet(['0900045c83409f51']), 'XS1240137122': OrderedSet(['0900045c831db9b0']), 'XS1387752329': OrderedSet(['0900045c83f8f953']), 'CH0295931403': OrderedSet(['0900045c838fc0c6']), 'XS1314930709': OrderedSet(['0900045c83d9a315']), 'XS1357788261': OrderedSet(['0900045c83d183c7']), 'XS1314906741': OrderedSet(['0900045c83e269af']), 'XS1314798247': OrderedSet(['0900045c83f57999']), 'XS1233632998': OrderedSet(['0900045c8311a545']), 'XS1380675485': OrderedSet(['0900045c83e90273']), 'XS1318516850': OrderedSet(['0900045c8394c8fb']), 'XS1374673728': OrderedSet(['0900045c83eb9b9e']), 'XS1301470545': OrderedSet(['0900045c839f78c7']), 'XS0762420544': OrderedSet(['0900045c80eab9d4']), 'XS1338538801': OrderedSet(['0900045c83ed8c3b']), 'US40430CLJ61': OrderedSet(['0900045c80c883a0']), 'XS1313817436': OrderedSet(['0900045c83d5c9e0']), 'XS1379137638': OrderedSet(['0900045c83edd4a8']), 'USU76453AB28': OrderedSet(['0900045c837c9518']), 'NL0011652045': OrderedSet(['0900045c83db79fc']), 'XS1369058059': OrderedSet(['0900045c83de1b3d']), 'XS1226547021': OrderedSet(['0900045c831117c8']), 'XS1328130197': OrderedSet(['0900045c83af0eff']), 'XS1378450248': OrderedSet(['0900045c83f18e2e']), 'CH0314190502': OrderedSet(['0900045c83fa121c']), 'US29269MAA45': OrderedSet(['0900045c80a74f74']), 'XS1374124037': OrderedSet(['0900045c83e0f1c8']), 'SG71B3000002': OrderedSet(['0900045c83cc4502']), 'CH0281105210': OrderedSet(['0900045c831a019a']), 'XS1333692017': OrderedSet(['0900045c83b6685b']), 'XS1314830313': OrderedSet(['0900045c83eb3fac']), 'XS1392791072': OrderedSet(['0900045c83fda78d']), 'NL0010936860': OrderedSet(['0900045c82dad0a4']), 'XS1314898112': OrderedSet(['0900045c83e269e8']), 'XS1100785796': OrderedSet(['0900045c83fcf590', '0900045c83fcf591', '0900045c83fcf594']), 'XS1169151039': OrderedSet(['0900045c82c32bcd']), 'FR0013149382': OrderedSet(['0900045c83f73efb']), 'XS1233577953': OrderedSet(['0900045c8314dcb5']), 'XS1343109283': OrderedSet(['0900045c83dad9d9']), 'CH0254071894': OrderedSet(['0900045c83ec8067']), 'XS1330396513': OrderedSet(['0900045c83d5ab24']), 'CH0285315344': OrderedSet(['0900045c8339b1de']), 'XS1316417374': OrderedSet(['0900045c8398c4e2']), 'XS1313827740': OrderedSet(['0900045c83f11283']), 'XS1337149956': OrderedSet(['0900045c83e5c2e5']), 'XS1370704303': OrderedSet(['0900045c83d21a9c']), 'XS0894756278': OrderedSet(['0900045c816c141b']), 'XS1391087878': OrderedSet(['0900045c83fbeed9']), 'XS1314922789': OrderedSet(['0900045c83e6c8eb']), 'XS1051391289': OrderedSet(['0900045c83e47669', '0900045c83e4766a', '0900045c83e4766b']), 'XS1254236638': OrderedSet(['0900045c839a2d46']), 'CH0289951284': OrderedSet(['0900045c835dfec3']), 'XS1167535027': OrderedSet(['0900045c82ef1c52']), 'XS1336304149': OrderedSet(['0900045c83b087b0']), 'XS1138888224': OrderedSet(['0900045c83561315']), 'XS1316191383': OrderedSet(['0900045c83b3b272']), 'XS1343090673': OrderedSet(['0900045c83df7768']), 'CH0287818881': OrderedSet(['0900045c834df542']), 'NL0011218755': OrderedSet(['0900045c83ebe6f3']), 'XS1341281191': OrderedSet(['0900045c83beb5ce']), 'NL0011796974': OrderedSet(['0900045c83fff55e']), 'XS1374671789': OrderedSet(['0900045c83e17c53']), 'XS1317217492': OrderedSet(['0900045c83ef8cbe']), 'XS1022156720': OrderedSet(['0900045c82082b49']), 'CH0303247602': OrderedSet(['0900045c83fb80ce']), 'XS1381127213': OrderedSet(['0900045c83e902a4']), 'XS1338554246': OrderedSet(['0900045c83fa0b5e']), 'XS1320632067': OrderedSet(['0900045c83e73be5']), 'XS1314950137': OrderedSet(['0900045c83d785a8']), 'XS1307709326': OrderedSet(['0900045c83ddbeb7']), 'XS1330964690': OrderedSet(['0900045c83f1f7ab']), 'XS1227300693': OrderedSet(['0900045c8342cc82', '0900045c8342cc83']), 'XS1338514372': OrderedSet(['0900045c83de3e3f']), 'XS1373130902': OrderedSet(['0900045c83d9709d']), 'XS1343803653': OrderedSet(['0900045c83bd1b9a']), 'XS1382791892': OrderedSet(['0900045c83e7ef94']), 'XS1293855455': OrderedSet(['0900045c83ac6176']), 'XS1349977451': OrderedSet(['0900045c83beb5a0', '0900045c83beb5a2']), 'CH0281541968': OrderedSet(['0900045c83a71765']), 'XS1338515429': OrderedSet(['0900045c83e3368c']), 'XS1343789720': OrderedSet(['0900045c83bfc683']), 'JP1023601G11': OrderedSet(['0900045c83bdbe11']), 'CH0295689142': OrderedSet(['0900045c836557ec']), 'XS1014627498': OrderedSet(['0900045c8204dbf2']), 'US87165BAJ26': OrderedSet(['0900045c83aab1c0']), 'XS1320649970': OrderedSet(['0900045c83ff9db5']), 'XS1328604837': OrderedSet(['0900045c83aab729']), 'XS1338514455': OrderedSet(['0900045c83e17930']), 'FR0013083722': OrderedSet(['0900045c83b2e251']), 'XS1317190608': OrderedSet(['0900045c83db792d']), 'XS1319990468': OrderedSet(['0900045c83f3390b']), 'XS0673671623': OrderedSet(['0900045c80cd2703']), 'XS1374799580': OrderedSet(['0900045c83fbbb14']), 'BE6283802450': OrderedSet(['0900045c83c3fafa']), 'XS1317126859': OrderedSet(['0900045c83b95c87']), 'XS1313827153': OrderedSet(['0900045c83f112a0']), 'CH0270626218': OrderedSet(['0900045c830a12a4']), 'XS1378435520': OrderedSet(['0900045c83f41fba']), 'XS1384795362': OrderedSet(['0900045c83eb3f6a']), 'DE000A18XBE9': OrderedSet(['0900045c83c43acc']), 'XS1351526840': OrderedSet(['0900045c83ca34bd']), 'XS1315638764': OrderedSet(['0900045c839258d5']), 'XS1391436125': OrderedSet(['0900045c83f03aaf']), 'XS1394989849': OrderedSet(['0900045c83f86cb5']), 'XS1364861523': OrderedSet(['0900045c83d1011b']), 'XS1317176953': OrderedSet(['0900045c83e8a07d']), 'XS1317899398': OrderedSet(['0900045c8391b216']), 'XS1333988563': OrderedSet(['0900045c83f4efc9']), 'XS1361616870': OrderedSet(['0900045c83cf20dc']), 'XS1378483926': OrderedSet(['0900045c83dfc360']), 'XS1370861582': OrderedSet(['0900045c83e00587']), 'XS1378451998': OrderedSet(['0900045c83ea3136']), 'XS1313828045': OrderedSet(['0900045c83f11288']), 'CWN5647G6107': OrderedSet(['0900045c83eec191']), 'XS1313174176': OrderedSet(['0900045c83905461']), 'XS1389980613': OrderedSet(['0900045c83f55a9c']), 'XS1333931886': OrderedSet(['0900045c83f60262', '0900045c83f63980', '0900045c83f64432']), 'CH0259326129': OrderedSet(['0900045c835fd7a6']), 'XS1338526467': OrderedSet(['0900045c83e89e99']), 'US459058EU33': OrderedSet(['0900045c839695a3']), 'XS1330443026': OrderedSet(['0900045c83a48a9f']), 'XS1388513977': OrderedSet(['0900045c83f27cb8']), 'XS1138845844': OrderedSet(['0900045c830f255e']), 'XS1378443201': OrderedSet(['0900045c83eff35b']), 'XS1386394016': OrderedSet(['0900045c83fc61ad']), 'US07177MAK99': OrderedSet(['0900045c8348611b', '0900045c8348611c', '0900045c8348611d', '0900045c8348611e', '0900045c8348611f', '0900045c83486146', '0900045c83486147', '0900045c83486148', '0900045c83486149']), 'XS1313820570': OrderedSet(['0900045c83e093bf']), 'XS1314883783': OrderedSet(['0900045c83e4ee7a']), 'XS1266700282': OrderedSet(['0900045c839f4614']), 'XS1336080368': OrderedSet(['0900045c83ec1cf8']), 'XS1372181609': OrderedSet(['0900045c83dee5db']), 'XS1320673921': OrderedSet(['0900045c83fb2c4c']), 'XS0848707062': OrderedSet(['0900045c8123bda5']), 'XS1317213152': OrderedSet(['0900045c83e424a7']), 'XS1314950210': OrderedSet(['0900045c83d9a2e4']), 'XS1289535236': OrderedSet(['0900045c836db637']), 'XS1179858144': OrderedSet(['0900045c837798fd']), 'XS1314885135': OrderedSet(['0900045c83e4eed3']), 'AT0000A1K9C8': OrderedSet(['0900045c83d7ab3c']), 'XS1361511261': OrderedSet(['0900045c83e35544']), 'XS1254275701': OrderedSet(['0900045c839f765e']), 'XS1245850828': OrderedSet(['0900045c83317893']), 'USY8564WAC74': OrderedSet(['0900045c8395774b']), 'XS1320634279': OrderedSet(['0900045c83e589c2']), 'XS1051396163': OrderedSet(['0900045c83f4b709', '0900045c83f4b720', '0900045c83f4b721']), 'XS1289283597': OrderedSet(['0900045c83ae37dd']), 'XS1317262100': OrderedSet(['0900045c83f9125d']), 'XS1343806086': OrderedSet(['0900045c83e3d58e']), 'XS0480504256': OrderedSet(['0900045c80b066db']), 'XS1324457297': OrderedSet(['0900045c83a16785']), 'XS1332492146': OrderedSet(['0900045c83abe0e7']), 'XS1389079960': OrderedSet(['0900045c83f228a7']), 'XS1320015966': OrderedSet(['0900045c83ec4da6']), 'XS1333957410': OrderedSet(['0900045c83f41750']), 'XS1336085169': OrderedSet(['0900045c83f73418']), 'XS1378389404': OrderedSet(['0900045c8400a797']), 'XS1317382775': OrderedSet(['0900045c83919675']), 'XS1378449406': OrderedSet(['0900045c83f60ccc', '0900045c83f637f7']), 'XS1373287553': OrderedSet(['0900045c83da7e48']), 'XS0934761585': OrderedSet(['0900045c81b6bff7']), 'XS1384274806': OrderedSet(['0900045c83eb2273']), 'XS1338515189': OrderedSet(['0900045c83e478d9']), 'XS1402949009': OrderedSet(['0900045c83fdcb85', '0900045c83fdcb86']), 'XS1308048880': OrderedSet(['0900045c83ed4b8b']), 'XS1202206592': OrderedSet(['0900045c82ecaec5']), 'FR0013047479': OrderedSet(['0900045c8393f7a3']), 'XS0987038535': OrderedSet(['0900045c81ce833d']), 'XS1338495564': OrderedSet(['0900045c83d84952']), 'XS1317103569': OrderedSet(['0900045c83a2cae2']), 'XS1371970499': OrderedSet(['0900045c83def22d']), 'XS1390266838': OrderedSet(['0900045c83f68141']), 'XS1135674650': OrderedSet(['0900045c83586f3e']), 'XS1314936144': OrderedSet(['0900045c83df2352']), 'XS1308059739': OrderedSet(['0900045c83e73c78']), 'XS1343124910': OrderedSet(['0900045c83d9eca2']), 'XS1360332123': OrderedSet(['0900045c83ca8484']), 'XS1313825611': OrderedSet(['0900045c83ec8c6b']), 'XS1314933471': OrderedSet(['0900045c83d86e30']), 'DE000NWB2C47': OrderedSet(['0900045c82dbc9f8']), 'XS1289404219': OrderedSet(['0900045c83931263']), 'XS1179183436': OrderedSet(['0900045c82cd0a3e']), 'XS0650512147': OrderedSet(['0900045c80d44e14']), 'XS1224182193': OrderedSet(['0900045c834a40a3']), 'XS1314823961': OrderedSet(['0900045c83ee9b22']), 'XS1353633750': OrderedSet(['0900045c83d480f7']), 'XS1378486945': OrderedSet(['0900045c83e4a241']), 'XS1388592153': OrderedSet(['0900045c83ebf4a4']), 'CWN5647C8339': OrderedSet(['0900045c83367a5e']), 'XS1375043244': OrderedSet(['0900045c83e0f1ca']), 'US698299BF03': OrderedSet(['0900045c83e60d05']), 'XS1284570626': OrderedSet(['0900045c83635377']), 'XS1315761459': OrderedSet(['0900045c8398c4e7']), 'CH0313212448': OrderedSet(['0900045c83d020c3']), 'XS1242432117': OrderedSet(['0900045c832d5d38']), 'XS0988480025': OrderedSet(['0900045c81ca5afc']), 'CWN5647B8199': OrderedSet(['0900045c83161601']), 'XS1378488131': OrderedSet(['0900045c83e5b13b']), 'XS1334562284': OrderedSet(['0900045c83a8ecc9']), 'XS1314860492': OrderedSet(['0900045c83ee9b6d']), 'XS1343108988': OrderedSet(['0900045c83d69a77']), 'CH0279928532': OrderedSet(['0900045c8339396f']), 'XS1374689054': OrderedSet(['0900045c83e92d62']), 'XS1378398900': OrderedSet(['0900045c83fb37ce']), 'FR0122055546': OrderedSet(['0900045c83673710']), 'XS1265367638': OrderedSet(['0900045c83565da6', '0900045c83565da7']), 'XS1318386627': OrderedSet(['0900045c83ef20c1']), 'XS1314806958': OrderedSet(['0900045c83f2c2a2']), 'XS1338527275': OrderedSet(['0900045c83f0780d']), 'NL0011525357': OrderedSet(['0900045c83f67ab7']), 'XS1378451212': OrderedSet(['0900045c83eff477']), 'XS1362329325': OrderedSet(['0900045c83d81684']), 'XS1374309240': OrderedSet(['0900045c83e71d28']), 'XS1296578393': OrderedSet(['0900045c8373c84d']), 'XS1184957055': OrderedSet(['0900045c83220965']), 'XS1278629743': OrderedSet(['0900045c838a256d', '0900045c838a2572']), 'XS1343125727': OrderedSet(['0900045c83d9ecaa']), 'XS1400705999': OrderedSet(['0900045c83f7ce37']), 'XS1361492884': OrderedSet(['0900045c83d74b99']), 'XS1307739158': OrderedSet(['0900045c83eb72ab']), 'XS1338528323': OrderedSet(['0900045c83ed8cf3']), 'XS1386328063': OrderedSet(['0900045c83f9076e']), 'NL0011218771': OrderedSet(['0900045c83fe71cf']), 'FR0013020302': OrderedSet(['0900045c83802f1a']), 'CH0279922980': OrderedSet(['0900045c833eec1c']), 'XS1350419476': OrderedSet(['0900045c83c015c0']), 'XS1037741441': OrderedSet(['0900045c823d7886']), 'XS1343107154': OrderedSet(['0900045c83ddc316']), 'XS1378457094': OrderedSet(['0900045c83f361e7']), 'XS1289621747': OrderedSet(['0900045c83db2453']), 'CH0287818246': OrderedSet(['0900045c83ab0e5b']), 'XS0989639520': OrderedSet(['0900045c8229ebf3']), 'XS1378402355': OrderedSet(['0900045c83fe0afd']), 'XS1378447459': OrderedSet(['0900045c83eff48d']), 'XS1330957488': OrderedSet(['0900045c83e46948']), 'XS1328684508': OrderedSet(['0900045c83aa3a2d']), 'XS1373121745': OrderedSet(['0900045c83def3e4']), 'XS1395054171': OrderedSet(['0900045c83fb9040']), 'XS1380250636': OrderedSet(['0900045c83e7fca0']), 'XS1389276798': OrderedSet(['0900045c83f12345']), 'CH0273396876': OrderedSet(['0900045c83b39917']), 'XS1388590298': OrderedSet(['0900045c83efc85b']), 'XS1388506336': OrderedSet(['0900045c83f30fd3']), 'XS1314867315': OrderedSet(['0900045c83efb03c']), 'XS1317247218': OrderedSet(['0900045c83f65a09']), 'XS1374663331': OrderedSet(['0900045c83ea43c6']), 'XS1276921571': OrderedSet(['0900045c83b29450']), 'FR0123709802': OrderedSet(['0900045c83f54b93']), 'XS1387820852': OrderedSet(['0900045c83f48ec3']), 'XS1338486068': OrderedSet(['0900045c83f123e9']), 'US718286CA32': OrderedSet(['0900045c83d9964e']), 'XS1317268644': OrderedSet(['0900045c83f75dc3']), 'XS1314892420': OrderedSet(['0900045c83ea69c8']), 'XS1338511782': OrderedSet(['0900045c83e336ab']), 'XS1395517615': OrderedSet(['0900045c83f913ed']), 'XS1378387531': OrderedSet(['0900045c83fc5888']), 'XS1051389036': OrderedSet(['0900045c83e02ae7', '0900045c83e02ae8', '0900045c83e02aee']), 'DE000CB0H183': OrderedSet(['0900045c83ff6cb1']), 'XS1338526970': OrderedSet(['0900045c83ea753d']), 'XS1308038576': OrderedSet(['0900045c83e6476f']), 'XS1293131378': OrderedSet(['0900045c83dfbbbd']), 'XS1333968706': OrderedSet(['0900045c83fc257b']), 'NL0011641436': OrderedSet(['0900045c83c7f12a']), 'XS1293827249': OrderedSet(['0900045c83b4d190']), 'XS1400678733': OrderedSet(['0900045c83fbef02']), 'XS1070759680': OrderedSet(['0900045c83de2b64']), 'XS1320649384': OrderedSet(['0900045c83f79f43']), 'XS1343117625': OrderedSet(['0900045c83d8e48d']), 'XS1336085243': OrderedSet(['0900045c83ede9d7']), 'XS1347564970': OrderedSet(['0900045c83c04e27']), 'XS1338509885': OrderedSet(['0900045c83e1789e']), 'XS1400950876': OrderedSet(['0900045c84002400']), 'XS1314792638': OrderedSet(['0900045c83f39aa1']), 'ES0224261042': OrderedSet(['0900045c83b627d0']), 'XS1378485541': OrderedSet(['0900045c83e5b13c']), 'CWN5647C3538': OrderedSet(['0900045c8326d0c7']), 'XS1319973456': OrderedSet(['0900045c83f33930']), 'XS1377239642': OrderedSet(['0900045c83e7d1d8']), 'XS1314852556': OrderedSet(['0900045c83ea6964'])}\n"
     ]
    }
   ],
   "source": [
    "from code.dataExtract import data\n",
    "import code.dataExtract as de\n",
    "# Read the data\n",
    "d = data(folder='../int_test/') \n",
    "print(d.docid)"
   ]
  },
  {
   "cell_type": "code",
   "execution_count": 33,
   "metadata": {
    "collapsed": false
   },
   "outputs": [
    {
     "name": "stdout",
     "output_type": "stream",
     "text": [
      "Processing files\n",
      "................................................................................................................................................................................................................................................................................................................................................................................................................................................\n",
      "Finished grouping file contents indexed by ISIN\n",
      "Saved file contents indexed by ISIN to: unlabeled_docs_by_isin.pickle\n",
      "OK!\n"
     ]
    }
   ],
   "source": [
    "# print(unlabeled_isins)\n",
    "group_docs_by_isin('../final_test/html', unlabeled_isins, pickle_results=True, pickle_file='unlabeled_docs_by_isin.pickle')\n",
    "print('OK!')\n",
    "# group_docs_by_isin(html_folder, files_isins, pickle_results=True, pickle_file='zero_coupon_docs_by_isin.pickle')\n",
    "# print('OK!')"
   ]
  },
  {
   "cell_type": "code",
   "execution_count": 34,
   "metadata": {
    "collapsed": false
   },
   "outputs": [],
   "source": [
    "import numpy as np\n",
    "import pandas as pd\n",
    "import pickle\n",
    "\n",
    "unlabeled_data = pickle.load(open('unlabeled_docs_by_isin.pickle', 'rb'))\n",
    "data_by_isin = [[k, v] for k, v in unlabeled_data.items()]\n",
    "data_by_isin_df = pd.DataFrame(data_by_isin, columns = ['isin','content'])\n",
    "data_by_isin_df.sort_values('isin', axis=0, inplace=True)\n",
    "  \n",
    "unlabeled_dataset = data_by_isin_df.as_matrix(columns=['content']).flatten()\n",
    "isins = data_by_isin_df.as_matrix(columns=['isin']).flatten()"
   ]
  },
  {
   "cell_type": "code",
   "execution_count": 35,
   "metadata": {
    "collapsed": false
   },
   "outputs": [
    {
     "name": "stdout",
     "output_type": "stream",
     "text": [
      "(424,)\n",
      "(424,)\n"
     ]
    }
   ],
   "source": [
    "print(unlabeled_dataset.shape)\n",
    "print(isins.shape)"
   ]
  },
  {
   "cell_type": "code",
   "execution_count": 36,
   "metadata": {
    "collapsed": false
   },
   "outputs": [],
   "source": [
    "#load the classifier\n",
    "clf = joblib.load('zero_coupon_flag_pipeline.pkl')\n",
    "zero_coupon_flags = clf.predict(unlabeled_dataset)"
   ]
  },
  {
   "cell_type": "code",
   "execution_count": 49,
   "metadata": {
    "collapsed": false
   },
   "outputs": [
    {
     "name": "stdout",
     "output_type": "stream",
     "text": [
      "(426,)\n"
     ]
    }
   ],
   "source": [
    "print(zero_coupon_flags.shape)\n",
    "output_array = np.vstack((isins, zero_coupon_flags)).T\n",
    "# print(output_array)\n",
    "\n",
    "results_df = pd.DataFrame(output_array, columns=['ISIN', 'ZCP.FL'])\n",
    "results_df.to_csv('zero_coupon_flags.csv', index=False)"
   ]
  },
  {
   "cell_type": "code",
   "execution_count": 38,
   "metadata": {
    "collapsed": false
   },
   "outputs": [],
   "source": [
    "import csv\n",
    "results_df = pd.DataFrame(np.vstack((isins, zero_coupon_flags)).T, columns=['ISIN', 'ZCP.FL'])\n",
    "\n",
    "results_df.to_csv('final_zcp.csv', index=False, header=False, quoting=csv.QUOTE_ALL)"
   ]
  },
  {
   "cell_type": "code",
   "execution_count": 39,
   "metadata": {
    "collapsed": false
   },
   "outputs": [
    {
     "data": {
      "text/html": [
       "<div>\n",
       "<table border=\"1\" class=\"dataframe\">\n",
       "  <thead>\n",
       "    <tr style=\"text-align: right;\">\n",
       "      <th></th>\n",
       "      <th>ISIN</th>\n",
       "      <th>ZCP.FL</th>\n",
       "    </tr>\n",
       "  </thead>\n",
       "  <tbody>\n",
       "    <tr>\n",
       "      <th>count</th>\n",
       "      <td>424</td>\n",
       "      <td>424</td>\n",
       "    </tr>\n",
       "    <tr>\n",
       "      <th>unique</th>\n",
       "      <td>424</td>\n",
       "      <td>2</td>\n",
       "    </tr>\n",
       "    <tr>\n",
       "      <th>top</th>\n",
       "      <td>XS1326148142</td>\n",
       "      <td>N</td>\n",
       "    </tr>\n",
       "    <tr>\n",
       "      <th>freq</th>\n",
       "      <td>1</td>\n",
       "      <td>338</td>\n",
       "    </tr>\n",
       "  </tbody>\n",
       "</table>\n",
       "</div>"
      ],
      "text/plain": [
       "                ISIN ZCP.FL\n",
       "count            424    424\n",
       "unique           424      2\n",
       "top     XS1326148142      N\n",
       "freq               1    338"
      ]
     },
     "execution_count": 39,
     "metadata": {},
     "output_type": "execute_result"
    }
   ],
   "source": [
    "results_df.describe()"
   ]
  },
  {
   "cell_type": "code",
   "execution_count": 67,
   "metadata": {
    "collapsed": false
   },
   "outputs": [],
   "source": [
    "import numpy as np\n",
    "import pandas as pd\n",
    "import pickle\n",
    "import csv\n",
    "from sklearn.externals import joblib\n",
    "\n",
    "def predict_zero_coupon_flag(html_folder, unlabeled_isins, output_file, classifier = 'zero_coupon_flag_pipeline.pkl'):\n",
    "    \n",
    "    unlabeled_data = group_docs_by_isin(html_folder, unlabeled_isins)\n",
    "    \n",
    "    print('Processing document contents in correct format')\n",
    "    data_by_isin = [[k, v] for k, v in unlabeled_data.items()]\n",
    "    data_by_isin_df = pd.DataFrame(data_by_isin, columns = ['isin','content'])\n",
    "    data_by_isin_df.sort_values('isin', axis=0, inplace=True)\n",
    "\n",
    "    unlabeled_dataset = data_by_isin_df.as_matrix(columns=['content']).flatten()\n",
    "    isins = data_by_isin_df.as_matrix(columns=['isin']).flatten()\n",
    "    \n",
    "    print('Loading the vectorizer and trained classifier')\n",
    "    #load the classifier\n",
    "    text_clf = joblib.load(classifier)\n",
    "    zero_coupon_flags = text_clf.predict(unlabeled_dataset)\n",
    "    \n",
    "    print('Predicting zero coupon flags')\n",
    "    \n",
    "    results_df = pd.DataFrame(np.vstack((isins, zero_coupon_flags)).T, columns=['ISIN', 'ZCP.FL'])\n",
    "\n",
    "    results_df.to_csv(output_file, index=False, header=False, quoting=csv.QUOTE_ALL)\n",
    "    \n",
    "    print('Saved predictions to file %s' % output_file)"
   ]
  },
  {
   "cell_type": "code",
   "execution_count": 68,
   "metadata": {
    "collapsed": false
   },
   "outputs": [
    {
     "name": "stdout",
     "output_type": "stream",
     "text": [
      "Processing files\n",
      ".......................................................................................................................................................................................................................................................................................................................................................................................................................................................................\n",
      "Finished grouping file contents indexed by ISIN\n",
      "Processing document contents in correct format\n",
      "Loading the vectorizer and trained classifier\n",
      "Predicting zero coupon flags\n",
      "Saved predictions to file zcp.csv\n"
     ]
    }
   ],
   "source": [
    "html1_folder = '../int_test/html'\n",
    "unlabeled_isins = pd.read_csv('../int_test/docID/docid_int_test.csv', header=0, sep=\",\", quoting=1, thousands=\",\")\n",
    "\n",
    "predict_zero_coupon_flag(html1_folder, unlabeled_isins, 'zcp.csv', 'zero_coupon_flag_pipeline.pkl')"
   ]
  },
  {
   "cell_type": "code",
   "execution_count": null,
   "metadata": {
    "collapsed": true
   },
   "outputs": [],
   "source": []
  }
 ],
 "metadata": {
  "kernelspec": {
   "display_name": "Python 3",
   "language": "python",
   "name": "python3"
  },
  "language_info": {
   "codemirror_mode": {
    "name": "ipython",
    "version": 3
   },
   "file_extension": ".py",
   "mimetype": "text/x-python",
   "name": "python",
   "nbconvert_exporter": "python",
   "pygments_lexer": "ipython3",
   "version": "3.5.1"
  }
 },
 "nbformat": 4,
 "nbformat_minor": 0
}
