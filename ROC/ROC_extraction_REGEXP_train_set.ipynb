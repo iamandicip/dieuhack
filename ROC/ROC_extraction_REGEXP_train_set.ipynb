{
 "cells": [
  {
   "cell_type": "markdown",
   "metadata": {},
   "source": [
    "## ROC extraction"
   ]
  },
  {
   "cell_type": "markdown",
   "metadata": {},
   "source": [
    "15/06/16 by greghor\n",
    "\n",
    "\n",
    "on commence par regarder les documents ou l on observe le mot center\n",
    "utilise les fichiers .html\n",
    "integre corrections typographiques pour coller à la solution\n",
    "integre ROC à partir des currencies"
   ]
  },
  {
   "cell_type": "code",
   "execution_count": 6,
   "metadata": {
    "collapsed": false
   },
   "outputs": [],
   "source": [
    "# SYSTEM\n",
    "from os import listdir\n",
    "from PyCommonFun import *\n",
    "\n",
    "#NLTK\n",
    "import nltk, re, pprint\n",
    "from nltk import word_tokenize\n",
    "from nltk.tokenize import sent_tokenize\n",
    "from nltk.corpus import words\n",
    "from nltk.tokenize import RegexpTokenizer\n",
    "from nltk.metrics import *\n",
    "\n",
    "#GENERAL\n",
    "import numpy as np\n",
    "import pandas as pd\n",
    "import pickle\n",
    "import string\n",
    "\n",
    "# data from Albert\n",
    "from code.dataExtract import data\n",
    "import code.dataExtract as de\n",
    "from code import Text_reader as tr\n",
    "# Read the data\n",
    "d = data(folder='../../train/') # training set with all the labels\n",
    "dataPath='../../train/'\n",
    "\n"
   ]
  },
  {
   "cell_type": "code",
   "execution_count": null,
   "metadata": {
    "collapsed": false
   },
   "outputs": [],
   "source": []
  },
  {
   "cell_type": "code",
   "execution_count": 7,
   "metadata": {
    "collapsed": false
   },
   "outputs": [],
   "source": [
    "# fonctions used in the notebook\n",
    "\n",
    "def getContext(s,pattern,context=list(),width=100):\n",
    "    \n",
    "    \n",
    "    loc=s.find(pattern)\n",
    "    \n",
    "    if loc == -1:\n",
    "        return context\n",
    "    elif loc-width < 0:\n",
    "        context+=s[:loc+width]\n",
    "        return getContext(s[loc+len(pattern):],pattern,context,width)\n",
    "    elif loc + width > len(s):\n",
    "        context+=s[loc-width:]\n",
    "        return getContext(s[loc+len(pattern):],pattern,context,width)\n",
    "    else:\n",
    "        context+=s[loc-width:loc+width]\n",
    "        return getContext(s[loc+len(pattern):],pattern,context,width)\n",
    "\n",
    "\n",
    "    \n",
    "def useSolutionTypo(s):\n",
    "    s=s.lower()\n",
    "    if s==\"sao paulo\":\n",
    "        s=\"sao-paulo\"\n",
    "    elif s=='target 1' or s =='target 2' or s == 'target' or s=='target1':\n",
    "        s='target holidays'\n",
    "    return s\n",
    "\n",
    "\n",
    "\n",
    "def document_from_hmtl(doc_path):\n",
    "    with open(doc_path) as html_file:\n",
    "        full_text = html_file.read()\n",
    "        body = re.findall(r'<body[^>]*?>(.*?)</body>', full_text)\n",
    "        cleantext = re.sub('<\\/?span[^>]*>', ' ', body[0])\n",
    "        clean_text = re.sub('<.*?>', ' ', cleantext)\n",
    "        clean_text = clean_text.lower()\n",
    "        clean_text = clean_text.lower()\n",
    "        clean_text = re.sub('0.01', '1', clean_text)\n",
    "        clean_text = re.sub(',', '', clean_text)\n",
    "        clean_text = re.sub(r'[^a-z0-9]', ' ', clean_text)\n",
    "        clean_text = re.sub('\\s+', ' ', clean_text)\n",
    "        return clean_text\n",
    "\n",
    "def removeUnwantedCity(city, unwantedCity):\n",
    "    #\n",
    "    assert isinstance(city,list) or isinstance(city,np.ndarray), \"city should be an np.array or a list\"\n",
    "    assert isinstance(unwantedCity,list),  \"unwanted city should be a list\"\n",
    "        \n",
    "    for gi in range(len(city)):\n",
    "        for unwanted in unwantedCity:\n",
    "            if '|' + unwanted in city[gi]:\n",
    "                city[gi]=city[gi].replace('|'+ unwanted,'')\n",
    "            elif unwanted + '|' in city[gi]:\n",
    "                city[gi]=city[gi].replace(unwanted + '|','')\n",
    "            elif unwanted in city[gi]:\n",
    "                city[gi]=city[gi].replace(unwanted,'')\n",
    "    return city\n",
    "                "
   ]
  },
  {
   "cell_type": "code",
   "execution_count": 8,
   "metadata": {
    "collapsed": false
   },
   "outputs": [],
   "source": [
    "# get the solution\n",
    "ROCTmp=pd.read_csv('ROC_fullList.csv',delimiter=\";\")\n",
    "cities_groundTruth=np.load('../currencyExtraction/predicted_opCurr_dict.npy').item()\n",
    "ROC_list=['target 1','target 2','target'] # add target 1 and target 2\n",
    "# lowerise ROC and remove ponctuation\n",
    "for roc in ROCTmp['CIT_NM'].values:\n",
    "    roc=str(roc).lower().translate(None, string.punctuation)\n",
    "    ROC_list.append(roc.rstrip())"
   ]
  },
  {
   "cell_type": "code",
   "execution_count": 20,
   "metadata": {
    "collapsed": false
   },
   "outputs": [
    {
     "data": {
      "text/plain": [
       "426"
      ]
     },
     "execution_count": 20,
     "metadata": {},
     "output_type": "execute_result"
    }
   ],
   "source": [
    "# link roc and operationnal curency\n",
    "opCurrency=np.load('../currencyExtraction/predicted_opCurr_dict.npy').item()\n",
    "opCurr_df=pd.DataFrame(opCurrency.items(),columns=['ISIN','OpCurrency'])\n",
    "link_roc_opCurr=pd.read_csv('currency_ROC_fullList.csv',delimiter=\";\")\n",
    "# merge with labels on operationnal currency\n",
    "roc_fromCurrency=pd.merge(left=link_roc_opCurr,right=opCurr_df,left_on='Currency Code', right_on='OpCurrency')\n",
    "# keep only currency code and default ROC columns\n",
    "col=[\"ISIN\",\"OpCurrency\",\"Default ROC\",]\n",
    "roc_fromCurrency=roc_fromCurrency[col]\n",
    "roc_fromCurrency.rename(columns={'Default ROC':'currency_ROC'},inplace=True)\n",
    "len(roc_fromCurrency)"
   ]
  },
  {
   "cell_type": "code",
   "execution_count": 13,
   "metadata": {
    "collapsed": false
   },
   "outputs": [
    {
     "name": "stdout",
     "output_type": "stream",
     "text": [
      "0.000183284457478\n",
      "0.000366568914956\n",
      "0.000549853372434\n",
      "0.000733137829912\n",
      "0.00091642228739\n",
      "0.00109970674487\n",
      "0.00128299120235\n",
      "0.00146627565982\n",
      "0.0016495601173\n",
      "0.00183284457478\n"
     ]
    }
   ],
   "source": [
    "gf=0\n",
    "\n",
    "\n",
    "context_pat=dict()\n",
    "text=dict()\n",
    "htmlFiles=tr.get_files(dataPath + '/html')\n",
    "\n",
    "\n",
    "\n",
    "for isin in d.docid.keys()[:10]:\n",
    "        \n",
    "    text[isin]=document_from_hmtl(htmlFiles[d.docid[isin][0]])\n",
    "    context_pat[isin]=dict()\n",
    "\n",
    "    pattern=[\"Business Day Centre\",\"Financial Centre\",\"Business Centre\",\"Currency Business Day\",'Business Day']\n",
    "    \n",
    "    for pat in pattern:\n",
    "        context_pat[isin][pat]=getContext(text[isin],pat.lower(),'',150)\n",
    "        # il faut impérativement passer, un troisieme argument vide pour que le code \n",
    "        # fonctionne mais je ne comprends pas bien pourquoi\n",
    "            \n",
    "            \n",
    "            \n",
    "    gf+=1\n",
    "    print float(gf)/len(d.docid.keys())\n",
    "       \n"
   ]
  },
  {
   "cell_type": "code",
   "execution_count": 15,
   "metadata": {
    "collapsed": false
   },
   "outputs": [
    {
     "ename": "IndexError",
     "evalue": "index 0 is out of bounds for axis 0 with size 0",
     "output_type": "error",
     "traceback": [
      "\u001b[0;31m---------------------------------------------------------------------------\u001b[0m",
      "\u001b[0;31mIndexError\u001b[0m                                Traceback (most recent call last)",
      "\u001b[0;32m<ipython-input-15-1be7687e13b4>\u001b[0m in \u001b[0;36m<module>\u001b[0;34m()\u001b[0m\n\u001b[1;32m      8\u001b[0m     \u001b[0mextractedROC_Raw_dict\u001b[0m\u001b[0;34m[\u001b[0m\u001b[0misin\u001b[0m\u001b[0;34m]\u001b[0m\u001b[0;34m=\u001b[0m\u001b[0mdict\u001b[0m\u001b[0;34m(\u001b[0m\u001b[0;34m)\u001b[0m\u001b[0;34m\u001b[0m\u001b[0m\n\u001b[1;32m      9\u001b[0m \u001b[0;34m\u001b[0m\u001b[0m\n\u001b[0;32m---> 10\u001b[0;31m     \u001b[0mcurrencyROCTmp\u001b[0m\u001b[0;34m=\u001b[0m\u001b[0mroc_fromCurrency\u001b[0m\u001b[0;34m[\u001b[0m\u001b[0;34m'currency_ROC'\u001b[0m\u001b[0;34m]\u001b[0m\u001b[0;34m.\u001b[0m\u001b[0mloc\u001b[0m\u001b[0;34m[\u001b[0m\u001b[0mroc_fromCurrency\u001b[0m\u001b[0;34m[\u001b[0m\u001b[0;34m'ISIN'\u001b[0m\u001b[0;34m]\u001b[0m\u001b[0;34m==\u001b[0m\u001b[0misin\u001b[0m\u001b[0;34m]\u001b[0m\u001b[0;34m.\u001b[0m\u001b[0mvalues\u001b[0m\u001b[0;34m[\u001b[0m\u001b[0;36m0\u001b[0m\u001b[0;34m]\u001b[0m\u001b[0;34m.\u001b[0m\u001b[0mlower\u001b[0m\u001b[0;34m(\u001b[0m\u001b[0;34m)\u001b[0m\u001b[0;34m\u001b[0m\u001b[0m\n\u001b[0m\u001b[1;32m     11\u001b[0m     \u001b[0mcurrencyROCTmp\u001b[0m\u001b[0;34m=\u001b[0m\u001b[0museSolutionTypo\u001b[0m\u001b[0;34m(\u001b[0m\u001b[0mcurrencyROCTmp\u001b[0m\u001b[0;34m)\u001b[0m\u001b[0;34m\u001b[0m\u001b[0m\n\u001b[1;32m     12\u001b[0m \u001b[0;34m\u001b[0m\u001b[0m\n",
      "\u001b[0;31mIndexError\u001b[0m: index 0 is out of bounds for axis 0 with size 0"
     ]
    }
   ],
   "source": [
    "# try to extract the ROC \n",
    "\n",
    "extractedROC_Raw_dict=dict() # contains only cities extracted from the documents \n",
    "\n",
    "\n",
    "for isin in context_pat.keys():\n",
    "    \n",
    "    extractedROC_Raw_dict[isin]=dict()\n",
    "    \n",
    "    currencyROCTmp=roc_fromCurrency['currency_ROC'].loc[roc_fromCurrency['ISIN']==isin].values[0].lower()\n",
    "    currencyROCTmp=useSolutionTypo(currencyROCTmp)\n",
    "    \n",
    "    extractedROC_Raw_dict[isin]['currencyROC']=set([currencyROCTmp])\n",
    "    \n",
    "    for pat in context_pat[isin].keys():\n",
    "    \n",
    "        extractedROC_Raw_dict[isin][pat]=set()\n",
    "        \n",
    "        for roc in ROC_list:\n",
    "            \n",
    "            if roc in ''.join(context_pat[isin][pat]):\n",
    "                 extractedROC_Raw_dict[isin][pat].add(useSolutionTypo(roc))\n",
    "                    \n",
    "               \n",
    "                \n",
    "                 "
   ]
  },
  {
   "cell_type": "code",
   "execution_count": 19,
   "metadata": {
    "collapsed": false
   },
   "outputs": [
    {
     "data": {
      "text/plain": [
       "False"
      ]
     },
     "execution_count": 19,
     "metadata": {},
     "output_type": "execute_result"
    }
   ],
   "source": [
    "isin in roc_fromCurrency['ISIN']"
   ]
  },
  {
   "cell_type": "code",
   "execution_count": null,
   "metadata": {
    "collapsed": false
   },
   "outputs": [],
   "source": [
    "extractedROC_Raw_dict['XS1267246244'].keys()\n"
   ]
  },
  {
   "cell_type": "markdown",
   "metadata": {},
   "source": [
    "#### retenir uniquement une solution sur extractedROC_Raw_dict avec l ordering :\n",
    "[\"Business Day Centre\",\"Financial Centre\",\"Business Centre\",\"Currency Business Day\",'Business Day']\n",
    "\n"
   ]
  },
  {
   "cell_type": "code",
   "execution_count": null,
   "metadata": {
    "collapsed": false
   },
   "outputs": [],
   "source": [
    "# on compare les sets par ordre de priorites des patterns et on retient le premier qui est non vide\n",
    "extractedROC_sol=dict()\n",
    "for fid in extractedROC_Raw_dict.keys():\n",
    "    gpat=0\n",
    "    extractedROC_sol[fid]=dict()\n",
    "    while gpat <= 3 and len(extractedROC_Raw_dict[fid][pattern[gpat]])==0:\n",
    "        gpat+=1\n",
    "    extractedROC_sol[fid]['cities']=extractedROC_Raw_dict[fid][pattern[gpat]]\n",
    "    extractedROC_sol[fid]['pattern']=pattern[gpat]\n",
    "    # always add currencies ROC\n",
    "    extractedROC_sol[fid]['cities']=extractedROC_sol[fid]['cities'].union(extractedROC_Raw_dict[fid]['currencyROC'])\n",
    "\n",
    "\n"
   ]
  },
  {
   "cell_type": "code",
   "execution_count": null,
   "metadata": {
    "collapsed": false
   },
   "outputs": [],
   "source": [
    "#remove spurious cities that do not appear in the ground truth (dangerous)\n",
    "# but the method seems to work\n",
    "citiesGT=pd.read_csv('/Users/greghor/Documents/taf/dataScience/Euroclear_hackathon/notebook/git_dieuhack/data_0/cities.csv')\n",
    "setUniCitiesGT=set(x.lower() for x in citiesGT['City.Name'].values)\n",
    "\n",
    "setROCRefList=set()\n",
    "for x in ROC_list:\n",
    "    setROCRefList.update(x.lower().split('|'))\n",
    "spuriousCities=setROCRefList-setUniCitiesGT\n",
    "\n",
    "for fid in extractedROC_sol.keys():\n",
    "    extractedROC_sol[fid]['cities']=extractedROC_sol[fid]['cities']-spuriousCities;"
   ]
  },
  {
   "cell_type": "code",
   "execution_count": null,
   "metadata": {
    "collapsed": false
   },
   "outputs": [],
   "source": [
    "def addPip_betweenCities(citiesSet):\n",
    "    cityString=str()\n",
    "    for cit in citiesSet:\n",
    "        if len(cityString)==0:\n",
    "            cityString=cit\n",
    "        else:\n",
    "            cityString=cityString + '|' + cit\n",
    "    return cityString\n",
    "\n",
    "# turn to dataset and pipe the cities\n",
    "extractedROC_df=pd.DataFrame()\n",
    "col=['isin','myCities','pattern']\n",
    "for col in col:\n",
    "    extractedROC_df[col]=''\n",
    "    \n",
    "for isin in extractedROC_sol.keys():\n",
    "    newRow=[isin]\n",
    "    newRow.append(addPip_betweenCities(extractedROC_sol[isin]['cities']).upper())\n",
    "    newRow.append(extractedROC_sol[isin]['pattern'])\n",
    "    extractedROC_df.loc[len(extractedROC_df)]=newRow"
   ]
  },
  {
   "cell_type": "code",
   "execution_count": null,
   "metadata": {
    "collapsed": false
   },
   "outputs": [],
   "source": [
    "extractedROC_df"
   ]
  },
  {
   "cell_type": "code",
   "execution_count": null,
   "metadata": {
    "collapsed": false
   },
   "outputs": [],
   "source": [
    "# merge with citiesGreg to check how many results are OK\n",
    "\n",
    "citiesGreg=pd.read_csv('citiesGreg.csv')\n",
    "joinedCities=pd.merge(citiesGreg,extractedROC_df,on='isin')"
   ]
  },
  {
   "cell_type": "code",
   "execution_count": null,
   "metadata": {
    "collapsed": false
   },
   "outputs": [],
   "source": [
    "# check the compliance between ground truth and my solution\n",
    "indCheck=[]\n",
    "gval=0\n",
    "for multiCity in joinedCities['myCities'].values:\n",
    "    indCheckTmp=True\n",
    "    for city in multiCity.split('|'): # check that all extracted cities are in the ground Truth\n",
    "        indCheckTmp=indCheckTmp and (city in  joinedCities['citiesName'].values[gval])\n",
    "\n",
    "    # check that ground truth do not content additionnal city\n",
    "    if len(joinedCities['citiesName'].values[gval]) == len(multiCity):\n",
    "        indCheckTmp=indCheckTmp and True\n",
    "    else:\n",
    "        indCheckTmp=indCheckTmp and False\n",
    "    indCheck.append(indCheckTmp)\n",
    "    gval+=1\n",
    "joinedCities[\"check\"  ]=indCheck\n",
    "\n",
    "# reorder the columns for clarity\n",
    "col=['fileId',\n",
    " 'isin',\n",
    " 'citiesName', 'myCities','check',\n",
    " 'pattern']\n"
   ]
  },
  {
   "cell_type": "code",
   "execution_count": null,
   "metadata": {
    "collapsed": false
   },
   "outputs": [],
   "source": [
    "check_extractedCities=joinedCities[col]\n",
    "check_extractedCities.to_csv('check_extractedCities.csv')"
   ]
  },
  {
   "cell_type": "code",
   "execution_count": null,
   "metadata": {
    "collapsed": false
   },
   "outputs": [],
   "source": [
    "len(PyFind(check_extractedCities['check'].values, lambda x: x==True))/np.float(len(check_extractedCities['citiesName'].values))"
   ]
  },
  {
   "cell_type": "code",
   "execution_count": null,
   "metadata": {
    "collapsed": false
   },
   "outputs": [],
   "source": [
    "extractedROC_sol['XS1266607586']"
   ]
  },
  {
   "cell_type": "code",
   "execution_count": null,
   "metadata": {
    "collapsed": true
   },
   "outputs": [],
   "source": []
  }
 ],
 "metadata": {
  "kernelspec": {
   "display_name": "Python 2",
   "language": "python",
   "name": "python2"
  },
  "language_info": {
   "codemirror_mode": {
    "name": "ipython",
    "version": 2
   },
   "file_extension": ".py",
   "mimetype": "text/x-python",
   "name": "python",
   "nbconvert_exporter": "python",
   "pygments_lexer": "ipython2",
   "version": "2.7.11"
  }
 },
 "nbformat": 4,
 "nbformat_minor": 0
}
