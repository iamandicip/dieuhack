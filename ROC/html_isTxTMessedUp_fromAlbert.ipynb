{
 "cells": [
  {
   "cell_type": "code",
   "execution_count": null,
   "metadata": {
    "collapsed": true
   },
   "outputs": [],
   "source": [
    "folder='../data_0/html'\n",
    "files=tr.get_files(folder)\n",
    "filesTxT=tr.get_files('../data_0/txt')\n",
    "\n",
    "for isin in data: # for each isin in the data object created before\n",
    "#for isin in ['XS1313797141']:\n",
    "   f=data[isin][0] # get the file_ids\n",
    "   issuer=None\n",
    "   for item in f: # for each of these files\n",
    "       # get the txt.\n",
    "       txt=tr.clean_text(tr.get_text(filesTxT[item],raw=True))\n",
    "       issuer=get_issuer(txt)\n",
    "       if issuer is None:\n",
    "           txt=tr.clean_text(tr.get_text(files[item]))\n",
    "           issuer=get_issuer(txt)\n",
    "           \n",
    "       if issuer is not None:\n",
    "           break\n",
    "   \n",
    "   print isin, issuer\n",
    "   if issuer is not None:\n",
    "       data[isin][8]=issuer\n",
    "\n",
    "[8:10]  \n",
    "import os\n",
    "from code import Text_reader as tr\n",
    "from code.Labels import label\n",
    "import copy\n",
    "import re\n",
    "import ordered_set\n",
    "import numpy as np\n",
    "\n",
    "data0='../data_0'\n",
    "data1='../data_1'\n",
    "labels=label.from_cvs(data0)\n",
    "data=copy.deepcopy(labels)\n",
    "data.empty()"
   ]
  }
 ],
 "metadata": {
  "kernelspec": {
   "display_name": "Python 2",
   "language": "python",
   "name": "python2"
  },
  "language_info": {
   "codemirror_mode": {
    "name": "ipython",
    "version": 2
   },
   "file_extension": ".py",
   "mimetype": "text/x-python",
   "name": "python",
   "nbconvert_exporter": "python",
   "pygments_lexer": "ipython2",
   "version": "2.7.11"
  }
 },
 "nbformat": 4,
 "nbformat_minor": 0
}
