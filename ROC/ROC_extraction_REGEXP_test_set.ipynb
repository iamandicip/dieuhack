{
 "cells": [
  {
   "cell_type": "markdown",
   "metadata": {},
   "source": [
    "## ROC extraction"
   ]
  },
  {
   "cell_type": "markdown",
   "metadata": {},
   "source": [
    "15/06/16 by greghor\n",
    "\n",
    "\n",
    "on commence par regarder les documents ou l on observe le mot center\n",
    "utilise les fichiers .html\n",
    "integre corrections typographiques pour coller à la solution\n",
    "integre ROC à partir des currencies"
   ]
  },
  {
   "cell_type": "code",
   "execution_count": 1,
   "metadata": {
    "collapsed": false
   },
   "outputs": [
    {
     "name": "stdout",
     "output_type": "stream",
     "text": [
      "The PythonMagick package is missing, get_text_adv function can not be used \n",
      "The PyPDF2 package is missing, get_text_adv function can not be used \n",
      "The html2text package is missing, get_text_adv and get_text functions can not be used.\n",
      "Please consider the instalation of this package !\n"
     ]
    }
   ],
   "source": [
    "# SYSTEM\n",
    "from os import listdir\n",
    "from PyCommonFun import *\n",
    "\n",
    "#NLTK\n",
    "import nltk, re, pprint\n",
    "from nltk import word_tokenize\n",
    "from nltk.tokenize import sent_tokenize\n",
    "from nltk.corpus import words\n",
    "from nltk.tokenize import RegexpTokenizer\n",
    "from nltk.metrics import *\n",
    "\n",
    "#GENERAL\n",
    "import numpy as np\n",
    "import pandas as pd\n",
    "import pickle\n",
    "import string\n",
    "\n",
    "# data from Albert\n",
    "from code.dataExtract import data\n",
    "import code.dataExtract as de\n",
    "from code import Text_reader as tr\n",
    "# Read the data\n",
    "d = data(folder='../../int_test//') # training set with all the labels\n",
    "dataPath='../../int_test/'\n",
    "\n"
   ]
  },
  {
   "cell_type": "code",
   "execution_count": null,
   "metadata": {
    "collapsed": false
   },
   "outputs": [],
   "source": []
  },
  {
   "cell_type": "code",
   "execution_count": 2,
   "metadata": {
    "collapsed": false
   },
   "outputs": [],
   "source": [
    "# fonctions used in the notebook\n",
    "\n",
    "def getContext(s,pattern,context=list(),width=100):\n",
    "    \n",
    "    \n",
    "    loc=s.find(pattern)\n",
    "    \n",
    "    if loc == -1:\n",
    "        return context\n",
    "    elif loc-width < 0:\n",
    "        context+=s[:loc+width]\n",
    "        return getContext(s[loc+len(pattern):],pattern,context,width)\n",
    "    elif loc + width > len(s):\n",
    "        context+=s[loc-width:]\n",
    "        return getContext(s[loc+len(pattern):],pattern,context,width)\n",
    "    else:\n",
    "        context+=s[loc-width:loc+width]\n",
    "        return getContext(s[loc+len(pattern):],pattern,context,width)\n",
    "\n",
    "\n",
    "    \n",
    "def useSolutionTypo(s):\n",
    "    s=s.lower()\n",
    "    if s==\"sao paulo\":\n",
    "        s=\"sao-paulo\"\n",
    "    elif s=='target 1' or s =='target 2' or s == 'target' or s=='target1':\n",
    "        s='target holidays'\n",
    "    return s\n",
    "\n",
    "\n",
    "\n",
    "def document_from_hmtl(doc_path):\n",
    "    with open(doc_path) as html_file:\n",
    "        full_text = html_file.read()\n",
    "        body = re.findall(r'<body[^>]*?>(.*?)</body>', full_text)\n",
    "        cleantext = re.sub('<\\/?span[^>]*>', ' ', body[0])\n",
    "        clean_text = re.sub('<.*?>', ' ', cleantext)\n",
    "        clean_text = clean_text.lower()\n",
    "        clean_text = clean_text.lower()\n",
    "        clean_text = re.sub('0.01', '1', clean_text)\n",
    "        clean_text = re.sub(',', '', clean_text)\n",
    "        clean_text = re.sub(r'[^a-z0-9]', ' ', clean_text)\n",
    "        clean_text = re.sub('\\s+', ' ', clean_text)\n",
    "        return clean_text\n",
    "\n",
    "def removeUnwantedCity(city, unwantedCity):\n",
    "    #\n",
    "    assert isinstance(city,list) or isinstance(city,np.ndarray), \"city should be an np.array or a list\"\n",
    "    assert isinstance(unwantedCity,list),  \"unwanted city should be a list\"\n",
    "        \n",
    "    for gi in range(len(city)):\n",
    "        for unwanted in unwantedCity:\n",
    "            if '|' + unwanted in city[gi]:\n",
    "                city[gi]=city[gi].replace('|'+ unwanted,'')\n",
    "            elif unwanted + '|' in city[gi]:\n",
    "                city[gi]=city[gi].replace(unwanted + '|','')\n",
    "            elif unwanted in city[gi]:\n",
    "                city[gi]=city[gi].replace(unwanted,'')\n",
    "    return city\n",
    "                "
   ]
  },
  {
   "cell_type": "code",
   "execution_count": 3,
   "metadata": {
    "collapsed": false
   },
   "outputs": [],
   "source": [
    "# get the solution\n",
    "ROCTmp=pd.read_csv('ROC_fullList.csv',delimiter=\";\")\n",
    "cities_groundTruth=np.load('../currencyExtraction/predicted_opCurr_dict.npy').item()\n",
    "ROC_list=['target 1','target 2','target'] # add target 1 and target 2\n",
    "# lowerise ROC and remove ponctuation\n",
    "for roc in ROCTmp['CIT_NM'].values:\n",
    "    roc=str(roc).lower().translate(None, string.punctuation)\n",
    "    ROC_list.append(roc.rstrip())"
   ]
  },
  {
   "cell_type": "code",
   "execution_count": 4,
   "metadata": {
    "collapsed": false
   },
   "outputs": [
    {
     "data": {
      "text/html": [
       "<div>\n",
       "<table border=\"1\" class=\"dataframe\">\n",
       "  <thead>\n",
       "    <tr style=\"text-align: right;\">\n",
       "      <th></th>\n",
       "      <th>ISIN</th>\n",
       "      <th>OpCurrency</th>\n",
       "      <th>currency_ROC</th>\n",
       "    </tr>\n",
       "  </thead>\n",
       "  <tbody>\n",
       "    <tr>\n",
       "      <th>0</th>\n",
       "      <td>XS1314922789</td>\n",
       "      <td>AUD</td>\n",
       "      <td>Sydney|Melbourne</td>\n",
       "    </tr>\n",
       "    <tr>\n",
       "      <th>1</th>\n",
       "      <td>XS1317208079</td>\n",
       "      <td>AUD</td>\n",
       "      <td>Sydney|Melbourne</td>\n",
       "    </tr>\n",
       "    <tr>\n",
       "      <th>2</th>\n",
       "      <td>XS1370704303</td>\n",
       "      <td>AUD</td>\n",
       "      <td>Sydney|Melbourne</td>\n",
       "    </tr>\n",
       "    <tr>\n",
       "      <th>3</th>\n",
       "      <td>XS1343117625</td>\n",
       "      <td>AUD</td>\n",
       "      <td>Sydney|Melbourne</td>\n",
       "    </tr>\n",
       "    <tr>\n",
       "      <th>4</th>\n",
       "      <td>CH0281541968</td>\n",
       "      <td>AUD</td>\n",
       "      <td>Sydney|Melbourne</td>\n",
       "    </tr>\n",
       "  </tbody>\n",
       "</table>\n",
       "</div>"
      ],
      "text/plain": [
       "           ISIN OpCurrency      currency_ROC\n",
       "0  XS1314922789        AUD  Sydney|Melbourne\n",
       "1  XS1317208079        AUD  Sydney|Melbourne\n",
       "2  XS1370704303        AUD  Sydney|Melbourne\n",
       "3  XS1343117625        AUD  Sydney|Melbourne\n",
       "4  CH0281541968        AUD  Sydney|Melbourne"
      ]
     },
     "execution_count": 4,
     "metadata": {},
     "output_type": "execute_result"
    }
   ],
   "source": [
    "# link roc and operationnal curency\n",
    "opCurrency=np.load('../currencyExtraction/predicted_opCurr_dict.npy').item()\n",
    "opCurr_df=pd.DataFrame(opCurrency.items(),columns=['ISIN','OpCurrency'])\n",
    "link_roc_opCurr=pd.read_csv('currency_ROC_fullList.csv',delimiter=\";\")\n",
    "# merge with labels on operationnal currency\n",
    "roc_fromCurrency=pd.merge(left=link_roc_opCurr,right=opCurr_df,left_on='Currency Code', right_on='OpCurrency')\n",
    "# keep only currency code and default ROC columns\n",
    "col=[\"ISIN\",\"OpCurrency\",\"Default ROC\",]\n",
    "roc_fromCurrency=roc_fromCurrency[col]\n",
    "roc_fromCurrency.rename(columns={'Default ROC':'currency_ROC'},inplace=True)\n",
    "roc_fromCurrency.head()"
   ]
  },
  {
   "cell_type": "code",
   "execution_count": null,
   "metadata": {
    "collapsed": false
   },
   "outputs": [],
   "source": [
    "gf=0\n",
    "\n",
    "\n",
    "context_pat=dict()\n",
    "text=dict()\n",
    "htmlFiles=tr.get_files(dataPath + '/html')\n",
    "\n",
    "\n",
    "\n",
    "for isin in d.docid.keys():\n",
    "        \n",
    "    text[isin]=document_from_hmtl(htmlFiles[d.docid[isin][0]])\n",
    "    context_pat[isin]=dict()\n",
    "\n",
    "    pattern=[\"Business Day Centre\",\"Financial Centre\",\"Business Centre\",\"Currency Business Day\",'Business Day']\n",
    "    \n",
    "    for pat in pattern:\n",
    "        context_pat[isin][pat]=getContext(text[isin],pat.lower(),'',150)\n",
    "        # il faut impérativement passer, un troisieme argument vide pour que le code \n",
    "        # fonctionne mais je ne comprends pas bien pourquoi\n",
    "            \n",
    "            \n",
    "            \n",
    "    gf+=1\n",
    "    print float(gf)/len(d.docid.keys())\n",
    "       \n"
   ]
  },
  {
   "cell_type": "code",
   "execution_count": 6,
   "metadata": {
    "collapsed": false
   },
   "outputs": [],
   "source": [
    "# try to extract the ROC \n",
    "\n",
    "extractedROC_Raw_dict=dict() # contains only cities extracted from the documents \n",
    "\n",
    "\n",
    "for isin in context_pat.keys():\n",
    "    \n",
    "    extractedROC_Raw_dict[isin]=dict()\n",
    "    \n",
    "    currencyROCTmp=roc_fromCurrency['currency_ROC'].loc[roc_fromCurrency['ISIN']==isin].values[0].lower()\n",
    "    currencyROCTmp=useSolutionTypo(currencyROCTmp)\n",
    "    \n",
    "    extractedROC_Raw_dict[isin]['currencyROC']=set([currencyROCTmp])\n",
    "    \n",
    "    for pat in context_pat[isin].keys():\n",
    "    \n",
    "        extractedROC_Raw_dict[isin][pat]=set()\n",
    "        \n",
    "        for roc in ROC_list:\n",
    "            \n",
    "            if roc in ''.join(context_pat[isin][pat]):\n",
    "                 extractedROC_Raw_dict[isin][pat].add(useSolutionTypo(roc))\n",
    "                    \n",
    "               \n",
    "                \n",
    "                 "
   ]
  },
  {
   "cell_type": "code",
   "execution_count": 8,
   "metadata": {
    "collapsed": false
   },
   "outputs": [
    {
     "data": {
      "text/plain": [
       "{'Business Centre': set(),\n",
       " 'Business Day': {'singapore'},\n",
       " 'Business Day Centre': set(),\n",
       " 'Currency Business Day': set(),\n",
       " 'Financial Centre': {'singapore'},\n",
       " 'currencyROC': {'singapore'}}"
      ]
     },
     "execution_count": 8,
     "metadata": {},
     "output_type": "execute_result"
    }
   ],
   "source": [
    " extractedROC_Raw_dict[isin]"
   ]
  },
  {
   "cell_type": "code",
   "execution_count": null,
   "metadata": {
    "collapsed": false
   },
   "outputs": [],
   "source": [
    "extractedROC_Raw_dict['XS1267246244'].keys()\n"
   ]
  },
  {
   "cell_type": "markdown",
   "metadata": {},
   "source": [
    "#### retenir uniquement une solution sur extractedROC_Raw_dict avec l ordering :\n",
    "[\"Business Day Centre\",\"Financial Centre\",\"Business Centre\",\"Currency Business Day\",'Business Day']\n",
    "\n"
   ]
  },
  {
   "cell_type": "code",
   "execution_count": 9,
   "metadata": {
    "collapsed": false
   },
   "outputs": [],
   "source": [
    "# on compare les sets par ordre de priorites des patterns et on retient le premier qui est non vide\n",
    "extractedROC_sol=dict()\n",
    "for fid in extractedROC_Raw_dict.keys():\n",
    "    gpat=0\n",
    "    extractedROC_sol[fid]=dict()\n",
    "    while gpat <= 3 and len(extractedROC_Raw_dict[fid][pattern[gpat]])==0:\n",
    "        gpat+=1\n",
    "    extractedROC_sol[fid]['cities']=extractedROC_Raw_dict[fid][pattern[gpat]]\n",
    "    extractedROC_sol[fid]['pattern']=pattern[gpat]\n",
    "    # always add currencies ROC\n",
    "    extractedROC_sol[fid]['cities']=extractedROC_sol[fid]['cities'].union(extractedROC_Raw_dict[fid]['currencyROC'])\n",
    "\n",
    "\n"
   ]
  },
  {
   "cell_type": "code",
   "execution_count": 11,
   "metadata": {
    "collapsed": false
   },
   "outputs": [],
   "source": [
    "#remove spurious cities that do not appear in the ground truth from train set\n",
    "# but the method seems to work\n",
    "citiesGT=pd.read_csv('citiesGreg.csv')\n",
    "setUniCitiesGT=set(x.lower() for x in citiesGT['citiesName'].values)\n",
    "\n",
    "setROCRefList=set()\n",
    "for x in ROC_list:\n",
    "    setROCRefList.update(x.lower().split('|'))\n",
    "spuriousCities=setROCRefList-setUniCitiesGT\n",
    "\n",
    "for fid in extractedROC_sol.keys():\n",
    "    extractedROC_sol[fid]['cities']=extractedROC_sol[fid]['cities']-spuriousCities;"
   ]
  },
  {
   "cell_type": "code",
   "execution_count": 12,
   "metadata": {
    "collapsed": false
   },
   "outputs": [],
   "source": [
    "def addPip_betweenCities(citiesSet):\n",
    "    cityString=str()\n",
    "    for cit in citiesSet:\n",
    "        if len(cityString)==0:\n",
    "            cityString=cit\n",
    "        else:\n",
    "            cityString=cityString + '|' + cit\n",
    "    return cityString\n",
    "\n",
    "# turn to dataset and pipe the cities\n",
    "extractedROC_df=pd.DataFrame()\n",
    "col=['isin','myCities','pattern']\n",
    "for col in col:\n",
    "    extractedROC_df[col]=''\n",
    "    \n",
    "for isin in extractedROC_sol.keys():\n",
    "    newRow=[isin]\n",
    "    newRow.append(addPip_betweenCities(extractedROC_sol[isin]['cities']).upper())\n",
    "    newRow.append(extractedROC_sol[isin]['pattern'])\n",
    "    extractedROC_df.loc[len(extractedROC_df)]=newRow"
   ]
  },
  {
   "cell_type": "code",
   "execution_count": 14,
   "metadata": {
    "collapsed": false
   },
   "outputs": [
    {
     "data": {
      "text/html": [
       "<div>\n",
       "<table border=\"1\" class=\"dataframe\">\n",
       "  <thead>\n",
       "    <tr style=\"text-align: right;\">\n",
       "      <th></th>\n",
       "      <th>isin</th>\n",
       "      <th>myCities</th>\n",
       "      <th>pattern</th>\n",
       "    </tr>\n",
       "  </thead>\n",
       "  <tbody>\n",
       "    <tr>\n",
       "      <th>0</th>\n",
       "      <td>FR0013149382</td>\n",
       "      <td>TARGET HOLIDAYS</td>\n",
       "      <td>Business Day Centre</td>\n",
       "    </tr>\n",
       "    <tr>\n",
       "      <th>1</th>\n",
       "      <td>XS1390266838</td>\n",
       "      <td>NEW YORK|LONDON|TOKYO</td>\n",
       "      <td>Financial Centre</td>\n",
       "    </tr>\n",
       "    <tr>\n",
       "      <th>2</th>\n",
       "      <td>XS1378402199</td>\n",
       "      <td>HONG KONG</td>\n",
       "      <td>Business Day Centre</td>\n",
       "    </tr>\n",
       "    <tr>\n",
       "      <th>3</th>\n",
       "      <td>CH0285315344</td>\n",
       "      <td>NEW YORK|TARGET HOLIDAYS|ZURICH</td>\n",
       "      <td>Business Day</td>\n",
       "    </tr>\n",
       "    <tr>\n",
       "      <th>4</th>\n",
       "      <td>XS1138845844</td>\n",
       "      <td>NEW YORK|LONDON|TARGET HOLIDAYS</td>\n",
       "      <td>Business Centre</td>\n",
       "    </tr>\n",
       "  </tbody>\n",
       "</table>\n",
       "</div>"
      ],
      "text/plain": [
       "           isin                         myCities              pattern\n",
       "0  FR0013149382                  TARGET HOLIDAYS  Business Day Centre\n",
       "1  XS1390266838            NEW YORK|LONDON|TOKYO     Financial Centre\n",
       "2  XS1378402199                        HONG KONG  Business Day Centre\n",
       "3  CH0285315344  NEW YORK|TARGET HOLIDAYS|ZURICH         Business Day\n",
       "4  XS1138845844  NEW YORK|LONDON|TARGET HOLIDAYS      Business Centre"
      ]
     },
     "execution_count": 14,
     "metadata": {},
     "output_type": "execute_result"
    }
   ],
   "source": [
    "extractedROC_df.head()"
   ]
  },
  {
   "cell_type": "code",
   "execution_count": 15,
   "metadata": {
    "collapsed": false
   },
   "outputs": [],
   "source": [
    "gi=0\n",
    "extractedROC_dict=dict()\n",
    "for isin in extractedROC_df['isin'].values:\n",
    "    extractedROC_dict[isin]=extractedROC_df['myCities'].values[gi]\n",
    "    gi+=1"
   ]
  },
  {
   "cell_type": "code",
   "execution_count": null,
   "metadata": {
    "collapsed": false
   },
   "outputs": [],
   "source": [
    "extractedROC_dict"
   ]
  },
  {
   "cell_type": "code",
   "execution_count": 20,
   "metadata": {
    "collapsed": false
   },
   "outputs": [],
   "source": [
    "de.to_csv('../roc.csv',extractedROC_dict)"
   ]
  },
  {
   "cell_type": "code",
   "execution_count": null,
   "metadata": {
    "collapsed": false
   },
   "outputs": [],
   "source": []
  }
 ],
 "metadata": {
  "kernelspec": {
   "display_name": "Python 2",
   "language": "python",
   "name": "python2"
  },
  "language_info": {
   "codemirror_mode": {
    "name": "ipython",
    "version": 2
   },
   "file_extension": ".py",
   "mimetype": "text/x-python",
   "name": "python",
   "nbconvert_exporter": "python",
   "pygments_lexer": "ipython2",
   "version": "2.7.11"
  }
 },
 "nbformat": 4,
 "nbformat_minor": 0
}
