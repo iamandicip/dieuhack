{
 "cells": [
  {
   "cell_type": "markdown",
   "metadata": {},
   "source": [
    "## ROC extraction"
   ]
  },
  {
   "cell_type": "markdown",
   "metadata": {},
   "source": [
    "on commence par regarder les documents ou l on observe le mot center\n"
   ]
  },
  {
   "cell_type": "code",
   "execution_count": null,
   "metadata": {
    "collapsed": false
   },
   "outputs": [],
   "source": [
    "# SYSTEM\n",
    "from os import listdir\n",
    "import sys\n",
    "sys.path.insert(0,'/Users/greghor/Documents/taf/UGent/python_prog/py_commonFunc/')\n",
    "from PyCommonFun import *\n",
    "\n",
    "#NLTK\n",
    "import nltk, re, pprint\n",
    "from nltk import word_tokenize\n",
    "from nltk.tokenize import sent_tokenize\n",
    "from nltk.corpus import words\n",
    "from nltk.tokenize import RegexpTokenizer\n",
    "from nltk.metrics import *\n",
    "from nltk.text import Text\n",
    "\n",
    "#GENERAL\n",
    "import numpy as np\n",
    "import pandas as pd\n",
    "import pickle\n",
    "import string"
   ]
  },
  {
   "cell_type": "code",
   "execution_count": null,
   "metadata": {
    "collapsed": false
   },
   "outputs": [],
   "source": [
    "# data path\n",
    "curDir=%pwd\n",
    "if curDir=='/Users/greghor/Documents/taf/dataScience/Euroclear_hackathon/notebook':\n",
    "    dataPath='/Users/greghor/Documents/taf/dataScience/Euroclear_hackathon/dataset/data_0_labels' \n",
    "                   \n",
    "else:\n",
    "    dataPath='../../data_0'"
   ]
  },
  {
   "cell_type": "code",
   "execution_count": null,
   "metadata": {
    "collapsed": false
   },
   "outputs": [],
   "source": [
    "curDir"
   ]
  },
  {
   "cell_type": "code",
   "execution_count": null,
   "metadata": {
    "collapsed": false
   },
   "outputs": [],
   "source": [
    "dataPath\n"
   ]
  },
  {
   "cell_type": "code",
   "execution_count": null,
   "metadata": {
    "collapsed": false
   },
   "outputs": [],
   "source": [
    "cities['c']"
   ]
  },
  {
   "cell_type": "code",
   "execution_count": null,
   "metadata": {
    "collapsed": false
   },
   "outputs": [],
   "source": [
    "# get the solution\n",
    "labels=pd.read_csv(dataPath + '/labels.csv')\n",
    "ROCTmp=pd.read_csv('ROC_fullList.csv',delimiter=\";\")\n",
    "cities_groundTruth=pd.read_csv(dataPath + '/cities.csv')\n",
    "ROC_list=['target 1','target 2','target'] # add target 1 and target 2\n",
    "# lowerise ROC and remove ponctuation\n",
    "for roc in ROCTmp['CIT_NM'].values:\n",
    "    roc=str(roc).lower().translate(None, string.punctuation)\n",
    "    ROC_list.append(roc.rstrip())"
   ]
  },
  {
   "cell_type": "code",
   "execution_count": null,
   "metadata": {
    "collapsed": false
   },
   "outputs": [],
   "source": [
    "np.unique(cities_groundTruth['City.Name'].values)"
   ]
  },
  {
   "cell_type": "code",
   "execution_count": null,
   "metadata": {
    "collapsed": false
   },
   "outputs": [],
   "source": [
    "def getContext(s,pattern,context=list(),width=100):\n",
    "    \n",
    "    \n",
    "    loc=s.find(pattern)\n",
    "    \n",
    "    if loc == -1:\n",
    "        return context\n",
    "    elif loc-width < 0:\n",
    "        context.append(s[:loc+width])\n",
    "        return getContext(s[loc+len(pattern):],pattern,context,width)\n",
    "    elif loc + width > len(s):\n",
    "        context.append(s[loc-width:])\n",
    "        return getContext(s[loc+len(pattern):],pattern,context,width)\n",
    "    else:\n",
    "        context.append(s[loc-width:loc+width])\n",
    "        return getContext(s[loc+len(pattern):],pattern,context,width)\n",
    "    "
   ]
  },
  {
   "cell_type": "code",
   "execution_count": null,
   "metadata": {
    "collapsed": false
   },
   "outputs": [],
   "source": [
    "s=\"je vais à la mer, il fait beau, je chante et je danse\"\n",
    "getContext(s,\"je\",[],width=4)"
   ]
  },
  {
   "cell_type": "code",
   "execution_count": null,
   "metadata": {
    "collapsed": false
   },
   "outputs": [],
   "source": [
    "len(cities)\n"
   ]
  },
  {
   "cell_type": "code",
   "execution_count": null,
   "metadata": {
    "collapsed": false
   },
   "outputs": [],
   "source": [
    "s[0:3]"
   ]
  },
  {
   "cell_type": "code",
   "execution_count": null,
   "metadata": {
    "collapsed": true
   },
   "outputs": [],
   "source": []
  },
  {
   "cell_type": "code",
   "execution_count": null,
   "metadata": {
    "collapsed": false
   },
   "outputs": [],
   "source": [
    "gf=0\n",
    "\n",
    "\n",
    "context_bdc=dict()\n",
    "\n",
    "\n",
    "for f in labels.fileId:\n",
    "    fileOpen=open(dataPath + '/txt/' + f + '_ocr.txt')\n",
    "    text=fileOpen.read()\n",
    "    text=unicode(text, 'ascii', 'ignore')\n",
    "    text=str(text).lower()\n",
    "    # remove some annoying punctutations\n",
    "    text=text.translate(None, string.punctuation)\n",
    "    text=text.translate(None,'\\r\\n\\x0c')\n",
    "   \n",
    "    \n",
    "    context_bdc[f]=dict()\n",
    "    sentence=sent_tokenize(text)\n",
    "    \n",
    "    pattern=[\"Business Day Centre\",\"Financial Centre\",\"Currency Business Day\",'Business Day']\n",
    "    \n",
    "    for pat in pattern:\n",
    "        context_bdc[f][pat]=getContext(text,pat.lower(),[],250)\n",
    "        # il faut impérativement passer, un troisieme argument vide pour que le code \n",
    "        # fonctionne mais je ne comprends pas bien pourquoi\n",
    "            \n",
    "            \n",
    "            \n",
    "    gf+=1\n",
    "       \n"
   ]
  },
  {
   "cell_type": "code",
   "execution_count": null,
   "metadata": {
    "collapsed": false
   },
   "outputs": [],
   "source": [
    "context_bdc['0900045c83aef46e']"
   ]
  },
  {
   "cell_type": "code",
   "execution_count": null,
   "metadata": {
    "collapsed": false
   },
   "outputs": [],
   "source": [
    "# try to extract the ROC \n",
    "\n",
    "extractedROC_dict=dict()\n",
    "\n",
    "for fid in context_bdc.keys():\n",
    "    \n",
    "    extractedROC_dict[fid]=dict()\n",
    "    \n",
    "    for pat in context_bdc[fid].keys():\n",
    "    \n",
    "        extractedROC_dict[fid][pat]=''\n",
    "        \n",
    "        for roc in ROC_list:\n",
    "            \n",
    "            if roc in ''.join(context_bdc[fid][pat]):\n",
    "                \n",
    "                # not clean but makes things much easier for \n",
    "                if roc==\"sao paulo\":\n",
    "                    roc=\"sao-paulo\"\n",
    "                elif roc=='target 1' or roc =='target 2' or roc == 'target':\n",
    "                    roc='target holidays'\n",
    "            \n",
    "                    \n",
    "                \n",
    "                if len(extractedROC_dict[fid][pat])==0:\n",
    "                    extractedROC_dict[fid][pat]=roc\n",
    "                else:\n",
    "                    extractedROC_dict[fid][pat]=extractedROC_dict[fid][pat]+'|'+roc\n",
    "                \n",
    "                \n",
    "                \n",
    "        \n",
    "        \n",
    "                 "
   ]
  },
  {
   "cell_type": "code",
   "execution_count": null,
   "metadata": {
    "collapsed": false
   },
   "outputs": [],
   "source": [
    "extractedROC_df=pd.DataFrame()\n",
    "extractedROC_df['fileId']=[]\n",
    "for pat in extractedROC_dict['0900045c83afbad4'].keys():\n",
    "    extractedROC_df[pat]=[]\n",
    "\n",
    "\n"
   ]
  },
  {
   "cell_type": "code",
   "execution_count": null,
   "metadata": {
    "collapsed": false
   },
   "outputs": [],
   "source": [
    "for fid in extractedROC_dict.keys():\n",
    "    newRow=[fid]\n",
    "    for pat in extractedROC_dict[fid].keys():\n",
    "        newRow.append(extractedROC_dict[fid][pat].upper())\n",
    "    extractedROC_df.loc[len(extractedROC_df)]=newRow"
   ]
  },
  {
   "cell_type": "code",
   "execution_count": null,
   "metadata": {
    "collapsed": false
   },
   "outputs": [],
   "source": [
    "extractedROC_df"
   ]
  },
  {
   "cell_type": "code",
   "execution_count": 37,
   "metadata": {
    "collapsed": false
   },
   "outputs": [],
   "source": [
    "# merge with citiesGreg to check how many results are OK\n",
    "\n",
    "citiesGreg=pd.read_csv('citiesGreg.csv')\n",
    "citiesGreg.index=citiesGreg['fileId']\n",
    "joinedCities=pd.merge(citiesGreg,extractedROC_df,on='fileId')"
   ]
  },
  {
   "cell_type": "code",
   "execution_count": 38,
   "metadata": {
    "collapsed": false
   },
   "outputs": [
    {
     "data": {
      "text/html": [
       "<div>\n",
       "<table border=\"1\" class=\"dataframe\">\n",
       "  <thead>\n",
       "    <tr style=\"text-align: right;\">\n",
       "      <th></th>\n",
       "      <th>Unnamed: 0</th>\n",
       "      <th>isin</th>\n",
       "      <th>citiesName</th>\n",
       "      <th>fileId</th>\n",
       "      <th>Business Day</th>\n",
       "      <th>Financial Centre</th>\n",
       "      <th>Currency Business Day</th>\n",
       "      <th>Business Day Centre</th>\n",
       "    </tr>\n",
       "  </thead>\n",
       "  <tbody>\n",
       "    <tr>\n",
       "      <th>0</th>\n",
       "      <td>0</td>\n",
       "      <td>XS1240015799</td>\n",
       "      <td>NEW YORK</td>\n",
       "      <td>0900045c83a87e4a</td>\n",
       "      <td>NEW YORK</td>\n",
       "      <td>NEW YORK</td>\n",
       "      <td></td>\n",
       "      <td></td>\n",
       "    </tr>\n",
       "    <tr>\n",
       "      <th>1</th>\n",
       "      <td>1</td>\n",
       "      <td>XS1293137904</td>\n",
       "      <td>TARGET HOLIDAYS</td>\n",
       "      <td>0900045c83c101a8</td>\n",
       "      <td>TARGET</td>\n",
       "      <td></td>\n",
       "      <td></td>\n",
       "      <td>TARGET</td>\n",
       "    </tr>\n",
       "    <tr>\n",
       "      <th>2</th>\n",
       "      <td>2</td>\n",
       "      <td>XS1313796846</td>\n",
       "      <td>LONDON|TOKYO</td>\n",
       "      <td>0900045c83ac888d</td>\n",
       "      <td></td>\n",
       "      <td>LONDON|TOKYO</td>\n",
       "      <td></td>\n",
       "      <td></td>\n",
       "    </tr>\n",
       "    <tr>\n",
       "      <th>3</th>\n",
       "      <td>3</td>\n",
       "      <td>XS1313802677</td>\n",
       "      <td>NEW YORK|TOKYO</td>\n",
       "      <td>0900045c83b42aaf</td>\n",
       "      <td></td>\n",
       "      <td>NEW YORK|TOKYO</td>\n",
       "      <td></td>\n",
       "      <td></td>\n",
       "    </tr>\n",
       "    <tr>\n",
       "      <th>4</th>\n",
       "      <td>4</td>\n",
       "      <td>XS1313800895</td>\n",
       "      <td>LONDON|TOKYO</td>\n",
       "      <td>0900045c83b36448</td>\n",
       "      <td>TOKYO</td>\n",
       "      <td>LONDON|TOKYO</td>\n",
       "      <td></td>\n",
       "      <td></td>\n",
       "    </tr>\n",
       "    <tr>\n",
       "      <th>5</th>\n",
       "      <td>5</td>\n",
       "      <td>XS1267246327</td>\n",
       "      <td>NEW YORK|TARGET HOLIDAYS</td>\n",
       "      <td>0900045c83a715b0</td>\n",
       "      <td>TARGET|NEW YORK</td>\n",
       "      <td>TARGET|NEW YORK</td>\n",
       "      <td></td>\n",
       "      <td></td>\n",
       "    </tr>\n",
       "    <tr>\n",
       "      <th>6</th>\n",
       "      <td>6</td>\n",
       "      <td>XS1275964507</td>\n",
       "      <td>LONDON|NEW YORK|SAO-PAULO|TOKYO</td>\n",
       "      <td>0900045c8365c27b</td>\n",
       "      <td>LONDON|NEW YORK|SAO-PAULO|TOKYO</td>\n",
       "      <td>LONDON|NEW YORK|SAO-PAULO|TOKYO</td>\n",
       "      <td></td>\n",
       "      <td></td>\n",
       "    </tr>\n",
       "    <tr>\n",
       "      <th>7</th>\n",
       "      <td>7</td>\n",
       "      <td>XS1329979261</td>\n",
       "      <td>TOKYO</td>\n",
       "      <td>0900045c83aab72e</td>\n",
       "      <td></td>\n",
       "      <td>TOKYO</td>\n",
       "      <td></td>\n",
       "      <td></td>\n",
       "    </tr>\n",
       "    <tr>\n",
       "      <th>8</th>\n",
       "      <td>8</td>\n",
       "      <td>XS1312160507</td>\n",
       "      <td>NEW YORK</td>\n",
       "      <td>0900045c83af0dc8</td>\n",
       "      <td></td>\n",
       "      <td>NEW YORK</td>\n",
       "      <td></td>\n",
       "      <td></td>\n",
       "    </tr>\n",
       "    <tr>\n",
       "      <th>9</th>\n",
       "      <td>9</td>\n",
       "      <td>XS1253932765</td>\n",
       "      <td>NEW YORK|SINGAPORE</td>\n",
       "      <td>0900045c833b5bd8</td>\n",
       "      <td>BRUSSELS|EUROCLEAR|LUXEMBOURG|NEW YORK|SINGAPORE</td>\n",
       "      <td>NEW YORK|SINGAPORE</td>\n",
       "      <td></td>\n",
       "      <td></td>\n",
       "    </tr>\n",
       "    <tr>\n",
       "      <th>10</th>\n",
       "      <td>10</td>\n",
       "      <td>XS1267246244</td>\n",
       "      <td>NEW YORK|TARGET HOLIDAYS</td>\n",
       "      <td>0900045c83b0c28d</td>\n",
       "      <td></td>\n",
       "      <td>TARGET|EUROCLEAR|NEW YORK</td>\n",
       "      <td></td>\n",
       "      <td></td>\n",
       "    </tr>\n",
       "    <tr>\n",
       "      <th>11</th>\n",
       "      <td>11</td>\n",
       "      <td>XS1293817877</td>\n",
       "      <td>HONG KONG</td>\n",
       "      <td>0900045c83b9478c</td>\n",
       "      <td>HONG KONG</td>\n",
       "      <td></td>\n",
       "      <td></td>\n",
       "      <td>HONG KONG</td>\n",
       "    </tr>\n",
       "    <tr>\n",
       "      <th>12</th>\n",
       "      <td>12</td>\n",
       "      <td>XS1051370440</td>\n",
       "      <td>LONDON|TOKYO</td>\n",
       "      <td>0900045c83ba04ae</td>\n",
       "      <td>LONDON|TOKYO</td>\n",
       "      <td></td>\n",
       "      <td></td>\n",
       "      <td></td>\n",
       "    </tr>\n",
       "    <tr>\n",
       "      <th>13</th>\n",
       "      <td>13</td>\n",
       "      <td>XS1267221841</td>\n",
       "      <td>NEW YORK|TARGET HOLIDAYS</td>\n",
       "      <td>0900045c83a8e987</td>\n",
       "      <td></td>\n",
       "      <td>TARGET|EUROCLEAR|NEW YORK</td>\n",
       "      <td></td>\n",
       "      <td></td>\n",
       "    </tr>\n",
       "    <tr>\n",
       "      <th>14</th>\n",
       "      <td>14</td>\n",
       "      <td>XS1266266813</td>\n",
       "      <td>LONDON|TARGET HOLIDAYS</td>\n",
       "      <td>0900045c83bbdb52</td>\n",
       "      <td>EUROCLEAR</td>\n",
       "      <td></td>\n",
       "      <td></td>\n",
       "      <td></td>\n",
       "    </tr>\n",
       "    <tr>\n",
       "      <th>15</th>\n",
       "      <td>15</td>\n",
       "      <td>XS1313804459</td>\n",
       "      <td>NEW YORK|TOKYO</td>\n",
       "      <td>0900045c83b527cb</td>\n",
       "      <td></td>\n",
       "      <td>NEW YORK|TOKYO</td>\n",
       "      <td></td>\n",
       "      <td></td>\n",
       "    </tr>\n",
       "    <tr>\n",
       "      <th>16</th>\n",
       "      <td>16</td>\n",
       "      <td>XS1332626016</td>\n",
       "      <td>LONDON|NEW YORK</td>\n",
       "      <td>0900045c83b140f2</td>\n",
       "      <td></td>\n",
       "      <td>TARGET|LONDON|NEW YORK</td>\n",
       "      <td></td>\n",
       "      <td></td>\n",
       "    </tr>\n",
       "    <tr>\n",
       "      <th>17</th>\n",
       "      <td>17</td>\n",
       "      <td>XS1338871996</td>\n",
       "      <td>LONDON|TOKYO</td>\n",
       "      <td>0900045c83b9fc0b</td>\n",
       "      <td>LONDON|TOKYO</td>\n",
       "      <td>LONDON|TOKYO</td>\n",
       "      <td></td>\n",
       "      <td></td>\n",
       "    </tr>\n",
       "    <tr>\n",
       "      <th>18</th>\n",
       "      <td>18</td>\n",
       "      <td>XS1051380837</td>\n",
       "      <td>LONDON|TOKYO</td>\n",
       "      <td>0900045c83c6ccdc</td>\n",
       "      <td></td>\n",
       "      <td></td>\n",
       "      <td></td>\n",
       "      <td></td>\n",
       "    </tr>\n",
       "    <tr>\n",
       "      <th>19</th>\n",
       "      <td>19</td>\n",
       "      <td>XS1313800119</td>\n",
       "      <td>LONDON|NEW YORK|TOKYO</td>\n",
       "      <td>0900045c83b6355c</td>\n",
       "      <td></td>\n",
       "      <td>LONDON|NEW YORK|TOKYO</td>\n",
       "      <td></td>\n",
       "      <td></td>\n",
       "    </tr>\n",
       "    <tr>\n",
       "      <th>20</th>\n",
       "      <td>20</td>\n",
       "      <td>XS1293807720</td>\n",
       "      <td>HONG KONG|NEW YORK</td>\n",
       "      <td>0900045c83b6155d</td>\n",
       "      <td>HONG KONG|LIMA|NEW YORK</td>\n",
       "      <td></td>\n",
       "      <td></td>\n",
       "      <td>HONG KONG|NEW YORK</td>\n",
       "    </tr>\n",
       "    <tr>\n",
       "      <th>21</th>\n",
       "      <td>21</td>\n",
       "      <td>XS1051345681</td>\n",
       "      <td>LONDON|TOKYO</td>\n",
       "      <td>0900045c83af1007</td>\n",
       "      <td>LONDON|TOKYO</td>\n",
       "      <td></td>\n",
       "      <td></td>\n",
       "      <td></td>\n",
       "    </tr>\n",
       "    <tr>\n",
       "      <th>22</th>\n",
       "      <td>22</td>\n",
       "      <td>XS1326548325</td>\n",
       "      <td>HONG KONG</td>\n",
       "      <td>0900045c83afb3ab</td>\n",
       "      <td></td>\n",
       "      <td>HONG KONG</td>\n",
       "      <td></td>\n",
       "      <td></td>\n",
       "    </tr>\n",
       "    <tr>\n",
       "      <th>23</th>\n",
       "      <td>23</td>\n",
       "      <td>XS1339630227</td>\n",
       "      <td>NEW YORK</td>\n",
       "      <td>0900045c83c2ecd4</td>\n",
       "      <td></td>\n",
       "      <td>NEW YORK</td>\n",
       "      <td></td>\n",
       "      <td></td>\n",
       "    </tr>\n",
       "    <tr>\n",
       "      <th>24</th>\n",
       "      <td>24</td>\n",
       "      <td>XS1267238498</td>\n",
       "      <td>LONDON|TOKYO</td>\n",
       "      <td>0900045c83a54cdb</td>\n",
       "      <td>LONDON</td>\n",
       "      <td>LONDON</td>\n",
       "      <td></td>\n",
       "      <td></td>\n",
       "    </tr>\n",
       "    <tr>\n",
       "      <th>25</th>\n",
       "      <td>25</td>\n",
       "      <td>XS1254344952</td>\n",
       "      <td>HONG KONG</td>\n",
       "      <td>0900045c83b25fa7</td>\n",
       "      <td>HONG KONG</td>\n",
       "      <td>HONG KONG</td>\n",
       "      <td>HONG KONG</td>\n",
       "      <td></td>\n",
       "    </tr>\n",
       "    <tr>\n",
       "      <th>26</th>\n",
       "      <td>26</td>\n",
       "      <td>XS1293112667</td>\n",
       "      <td>TARGET HOLIDAYS</td>\n",
       "      <td>0900045c83b0569e</td>\n",
       "      <td>TARGET</td>\n",
       "      <td></td>\n",
       "      <td></td>\n",
       "      <td>TARGET</td>\n",
       "    </tr>\n",
       "    <tr>\n",
       "      <th>27</th>\n",
       "      <td>27</td>\n",
       "      <td>XS1293113392</td>\n",
       "      <td>MEXICO</td>\n",
       "      <td>0900045c83b294a0</td>\n",
       "      <td>MEXICO</td>\n",
       "      <td></td>\n",
       "      <td></td>\n",
       "      <td>MEXICO</td>\n",
       "    </tr>\n",
       "    <tr>\n",
       "      <th>28</th>\n",
       "      <td>28</td>\n",
       "      <td>XS1331674041</td>\n",
       "      <td>LONDON|NEW YORK</td>\n",
       "      <td>0900045c83a80205</td>\n",
       "      <td></td>\n",
       "      <td>LONDON|NEW YORK</td>\n",
       "      <td></td>\n",
       "      <td></td>\n",
       "    </tr>\n",
       "    <tr>\n",
       "      <th>29</th>\n",
       "      <td>29</td>\n",
       "      <td>XS1251673817</td>\n",
       "      <td>NEW YORK</td>\n",
       "      <td>0900045c833768ef</td>\n",
       "      <td></td>\n",
       "      <td>NEW YORK</td>\n",
       "      <td></td>\n",
       "      <td></td>\n",
       "    </tr>\n",
       "    <tr>\n",
       "      <th>...</th>\n",
       "      <td>...</td>\n",
       "      <td>...</td>\n",
       "      <td>...</td>\n",
       "      <td>...</td>\n",
       "      <td>...</td>\n",
       "      <td>...</td>\n",
       "      <td>...</td>\n",
       "      <td>...</td>\n",
       "    </tr>\n",
       "    <tr>\n",
       "      <th>1169</th>\n",
       "      <td>1169</td>\n",
       "      <td>XS1212135088</td>\n",
       "      <td>NEW YORK|TARGET HOLIDAYS</td>\n",
       "      <td>0900045c83439fa1</td>\n",
       "      <td>TARGET|NEW YORK</td>\n",
       "      <td>NEW YORK</td>\n",
       "      <td></td>\n",
       "      <td></td>\n",
       "    </tr>\n",
       "    <tr>\n",
       "      <th>1170</th>\n",
       "      <td>1170</td>\n",
       "      <td>XS1289331826</td>\n",
       "      <td>HONG KONG</td>\n",
       "      <td>0900045c83b25f30</td>\n",
       "      <td>HONG KONG</td>\n",
       "      <td>HONG KONG</td>\n",
       "      <td>HONG KONG</td>\n",
       "      <td></td>\n",
       "    </tr>\n",
       "    <tr>\n",
       "      <th>1171</th>\n",
       "      <td>1171</td>\n",
       "      <td>XS1281376027</td>\n",
       "      <td>NEW YORK</td>\n",
       "      <td>0900045c83a5d28a</td>\n",
       "      <td>EUROCLEAR|HONG KONG|NEW YORK</td>\n",
       "      <td></td>\n",
       "      <td></td>\n",
       "      <td></td>\n",
       "    </tr>\n",
       "    <tr>\n",
       "      <th>1172</th>\n",
       "      <td>1172</td>\n",
       "      <td>XS1313396662</td>\n",
       "      <td>LONDON|NEW YORK|TOKYO</td>\n",
       "      <td>0900045c83c2029d</td>\n",
       "      <td></td>\n",
       "      <td>LONDON|NEW YORK|TOKYO</td>\n",
       "      <td></td>\n",
       "      <td></td>\n",
       "    </tr>\n",
       "    <tr>\n",
       "      <th>1173</th>\n",
       "      <td>1173</td>\n",
       "      <td>XS1336597577</td>\n",
       "      <td>ZURICH</td>\n",
       "      <td>0900045c83bf47e5</td>\n",
       "      <td>ZURICH</td>\n",
       "      <td>ZURICH</td>\n",
       "      <td></td>\n",
       "      <td></td>\n",
       "    </tr>\n",
       "    <tr>\n",
       "      <th>1174</th>\n",
       "      <td>1174</td>\n",
       "      <td>XS1324931036</td>\n",
       "      <td>LONDON|TOKYO</td>\n",
       "      <td>0900045c83a61e00</td>\n",
       "      <td>LONDON|TOKYO</td>\n",
       "      <td>LONDON|TOKYO</td>\n",
       "      <td></td>\n",
       "      <td></td>\n",
       "    </tr>\n",
       "    <tr>\n",
       "      <th>1175</th>\n",
       "      <td>1175</td>\n",
       "      <td>XS1293836232</td>\n",
       "      <td>HONG KONG</td>\n",
       "      <td>0900045c83b0ff86</td>\n",
       "      <td>HONG KONG</td>\n",
       "      <td></td>\n",
       "      <td></td>\n",
       "      <td>HONG KONG</td>\n",
       "    </tr>\n",
       "    <tr>\n",
       "      <th>1176</th>\n",
       "      <td>1176</td>\n",
       "      <td>XS1326560536</td>\n",
       "      <td>HONG KONG</td>\n",
       "      <td>0900045c83a65762</td>\n",
       "      <td></td>\n",
       "      <td>HONG KONG</td>\n",
       "      <td></td>\n",
       "      <td></td>\n",
       "    </tr>\n",
       "    <tr>\n",
       "      <th>1177</th>\n",
       "      <td>1177</td>\n",
       "      <td>XS1199690345</td>\n",
       "      <td>LONDON</td>\n",
       "      <td>0900045c83070368</td>\n",
       "      <td>EUROCLEAR</td>\n",
       "      <td></td>\n",
       "      <td></td>\n",
       "      <td></td>\n",
       "    </tr>\n",
       "    <tr>\n",
       "      <th>1178</th>\n",
       "      <td>1178</td>\n",
       "      <td>XS1183240487</td>\n",
       "      <td>LONDON|TARGET HOLIDAYS</td>\n",
       "      <td>0900045c82fccfd4</td>\n",
       "      <td></td>\n",
       "      <td></td>\n",
       "      <td></td>\n",
       "      <td></td>\n",
       "    </tr>\n",
       "    <tr>\n",
       "      <th>1179</th>\n",
       "      <td>1179</td>\n",
       "      <td>XS1340833521</td>\n",
       "      <td>LONDON|TOKYO</td>\n",
       "      <td>0900045c83b89e81</td>\n",
       "      <td>LONDON|TOKYO</td>\n",
       "      <td>LONDON|TOKYO</td>\n",
       "      <td></td>\n",
       "      <td></td>\n",
       "    </tr>\n",
       "    <tr>\n",
       "      <th>1180</th>\n",
       "      <td>1180</td>\n",
       "      <td>XS1293833056</td>\n",
       "      <td>HONG KONG</td>\n",
       "      <td>0900045c83b26b3f</td>\n",
       "      <td>HONG KONG</td>\n",
       "      <td></td>\n",
       "      <td></td>\n",
       "      <td>HONG KONG</td>\n",
       "    </tr>\n",
       "    <tr>\n",
       "      <th>1181</th>\n",
       "      <td>1181</td>\n",
       "      <td>XS1078109946</td>\n",
       "      <td>NEW YORK</td>\n",
       "      <td>0900045c8282b092</td>\n",
       "      <td>NEW YORK</td>\n",
       "      <td>NEW YORK</td>\n",
       "      <td></td>\n",
       "      <td></td>\n",
       "    </tr>\n",
       "    <tr>\n",
       "      <th>1182</th>\n",
       "      <td>1182</td>\n",
       "      <td>XS1310504615</td>\n",
       "      <td>NEW YORK</td>\n",
       "      <td>0900045c8389f375</td>\n",
       "      <td></td>\n",
       "      <td>NEW YORK</td>\n",
       "      <td></td>\n",
       "      <td></td>\n",
       "    </tr>\n",
       "    <tr>\n",
       "      <th>1183</th>\n",
       "      <td>1183</td>\n",
       "      <td>XS1266253084</td>\n",
       "      <td>LONDON|NEW YORK</td>\n",
       "      <td>0900045c838dc9cf</td>\n",
       "      <td></td>\n",
       "      <td></td>\n",
       "      <td></td>\n",
       "      <td></td>\n",
       "    </tr>\n",
       "    <tr>\n",
       "      <th>1184</th>\n",
       "      <td>1184</td>\n",
       "      <td>XS1199927614</td>\n",
       "      <td>LONDON|NEW YORK|SAO-PAULO|TOKYO</td>\n",
       "      <td>0900045c83003bb6</td>\n",
       "      <td>LONDON|NEW YORK|SAO-PAULO|TOKYO</td>\n",
       "      <td>LONDON|NEW YORK|SAO-PAULO|TOKYO</td>\n",
       "      <td></td>\n",
       "      <td></td>\n",
       "    </tr>\n",
       "    <tr>\n",
       "      <th>1185</th>\n",
       "      <td>1185</td>\n",
       "      <td>XS1339629567</td>\n",
       "      <td>SINGAPORE</td>\n",
       "      <td>0900045c83c3fb7b</td>\n",
       "      <td></td>\n",
       "      <td>SINGAPORE</td>\n",
       "      <td></td>\n",
       "      <td></td>\n",
       "    </tr>\n",
       "    <tr>\n",
       "      <th>1186</th>\n",
       "      <td>1186</td>\n",
       "      <td>XS1229484396</td>\n",
       "      <td>LONDON|NEW YORK</td>\n",
       "      <td>0900045c8334529d</td>\n",
       "      <td>EUROCLEAR</td>\n",
       "      <td></td>\n",
       "      <td></td>\n",
       "      <td></td>\n",
       "    </tr>\n",
       "    <tr>\n",
       "      <th>1187</th>\n",
       "      <td>1187</td>\n",
       "      <td>XS1293108806</td>\n",
       "      <td>NEW YORK</td>\n",
       "      <td>0900045c83ac9cf0</td>\n",
       "      <td>NEW YORK</td>\n",
       "      <td></td>\n",
       "      <td></td>\n",
       "      <td>NEW YORK</td>\n",
       "    </tr>\n",
       "    <tr>\n",
       "      <th>1188</th>\n",
       "      <td>1188</td>\n",
       "      <td>XS1293110612</td>\n",
       "      <td>ZURICH</td>\n",
       "      <td>0900045c83b05686</td>\n",
       "      <td>ZURICH</td>\n",
       "      <td></td>\n",
       "      <td></td>\n",
       "      <td>ZURICH</td>\n",
       "    </tr>\n",
       "    <tr>\n",
       "      <th>1189</th>\n",
       "      <td>1189</td>\n",
       "      <td>XS1274143350</td>\n",
       "      <td>LONDON|NEW YORK</td>\n",
       "      <td>0900045c835ab195</td>\n",
       "      <td>LONDON|NEW YORK</td>\n",
       "      <td>LONDON|NEW YORK</td>\n",
       "      <td></td>\n",
       "      <td></td>\n",
       "    </tr>\n",
       "    <tr>\n",
       "      <th>1190</th>\n",
       "      <td>1190</td>\n",
       "      <td>XS1293139199</td>\n",
       "      <td>TARGET HOLIDAYS</td>\n",
       "      <td>0900045c83c23ed4</td>\n",
       "      <td>TARGET|PARIS</td>\n",
       "      <td></td>\n",
       "      <td></td>\n",
       "      <td>TARGET</td>\n",
       "    </tr>\n",
       "    <tr>\n",
       "      <th>1191</th>\n",
       "      <td>1191</td>\n",
       "      <td>XS1301496003</td>\n",
       "      <td>HONG KONG</td>\n",
       "      <td>0900045c83a5d7d1</td>\n",
       "      <td>HONG KONG</td>\n",
       "      <td></td>\n",
       "      <td></td>\n",
       "      <td></td>\n",
       "    </tr>\n",
       "    <tr>\n",
       "      <th>1192</th>\n",
       "      <td>1192</td>\n",
       "      <td>XS1210455322</td>\n",
       "      <td>HONG KONG|NEW YORK</td>\n",
       "      <td>0900045c82fa8672</td>\n",
       "      <td>TURIN</td>\n",
       "      <td>HONG KONG|NEW YORK</td>\n",
       "      <td></td>\n",
       "      <td></td>\n",
       "    </tr>\n",
       "    <tr>\n",
       "      <th>1193</th>\n",
       "      <td>1193</td>\n",
       "      <td>XS1340040531</td>\n",
       "      <td>LONDON|TOKYO</td>\n",
       "      <td>0900045c83b610ca</td>\n",
       "      <td>LONDON|TOKYO</td>\n",
       "      <td>LONDON|TOKYO</td>\n",
       "      <td></td>\n",
       "      <td></td>\n",
       "    </tr>\n",
       "    <tr>\n",
       "      <th>1194</th>\n",
       "      <td>1194</td>\n",
       "      <td>XS1275324199</td>\n",
       "      <td>LONDON|NEW YORK|SAO-PAULO|TOKYO</td>\n",
       "      <td>0900045c83c1cdd0</td>\n",
       "      <td>LONDON|NEW YORK|SAO-PAULO|TOKYO</td>\n",
       "      <td>LONDON|NEW YORK|SAO-PAULO|TOKYO</td>\n",
       "      <td></td>\n",
       "      <td></td>\n",
       "    </tr>\n",
       "    <tr>\n",
       "      <th>1195</th>\n",
       "      <td>1195</td>\n",
       "      <td>XS1341299052</td>\n",
       "      <td>LONDON|TOKYO</td>\n",
       "      <td>0900045c83beb5d3</td>\n",
       "      <td>LONDON|TOKYO</td>\n",
       "      <td>LONDON|TOKYO</td>\n",
       "      <td></td>\n",
       "      <td></td>\n",
       "    </tr>\n",
       "    <tr>\n",
       "      <th>1196</th>\n",
       "      <td>1196</td>\n",
       "      <td>XS1200981105</td>\n",
       "      <td>LONDON|NEW YORK|SAO-PAULO|TOKYO</td>\n",
       "      <td>0900045c82f08561</td>\n",
       "      <td>LONDON|NEW YORK|SAO-PAULO|TOKYO</td>\n",
       "      <td>LONDON|NEW YORK|SAO-PAULO|TOKYO</td>\n",
       "      <td></td>\n",
       "      <td></td>\n",
       "    </tr>\n",
       "    <tr>\n",
       "      <th>1197</th>\n",
       "      <td>1197</td>\n",
       "      <td>XS1224586955</td>\n",
       "      <td>NEW YORK</td>\n",
       "      <td>0900045c830c24e7</td>\n",
       "      <td></td>\n",
       "      <td>NEW YORK</td>\n",
       "      <td></td>\n",
       "      <td></td>\n",
       "    </tr>\n",
       "    <tr>\n",
       "      <th>1198</th>\n",
       "      <td>1198</td>\n",
       "      <td>XS1349021326</td>\n",
       "      <td>NEW YORK</td>\n",
       "      <td>0900045c83c4fcbd</td>\n",
       "      <td></td>\n",
       "      <td>NEW YORK</td>\n",
       "      <td></td>\n",
       "      <td></td>\n",
       "    </tr>\n",
       "  </tbody>\n",
       "</table>\n",
       "<p>1199 rows × 8 columns</p>\n",
       "</div>"
      ],
      "text/plain": [
       "      Unnamed: 0          isin                       citiesName  \\\n",
       "0              0  XS1240015799                         NEW YORK   \n",
       "1              1  XS1293137904                  TARGET HOLIDAYS   \n",
       "2              2  XS1313796846                     LONDON|TOKYO   \n",
       "3              3  XS1313802677                   NEW YORK|TOKYO   \n",
       "4              4  XS1313800895                     LONDON|TOKYO   \n",
       "5              5  XS1267246327         NEW YORK|TARGET HOLIDAYS   \n",
       "6              6  XS1275964507  LONDON|NEW YORK|SAO-PAULO|TOKYO   \n",
       "7              7  XS1329979261                            TOKYO   \n",
       "8              8  XS1312160507                         NEW YORK   \n",
       "9              9  XS1253932765               NEW YORK|SINGAPORE   \n",
       "10            10  XS1267246244         NEW YORK|TARGET HOLIDAYS   \n",
       "11            11  XS1293817877                        HONG KONG   \n",
       "12            12  XS1051370440                     LONDON|TOKYO   \n",
       "13            13  XS1267221841         NEW YORK|TARGET HOLIDAYS   \n",
       "14            14  XS1266266813           LONDON|TARGET HOLIDAYS   \n",
       "15            15  XS1313804459                   NEW YORK|TOKYO   \n",
       "16            16  XS1332626016                  LONDON|NEW YORK   \n",
       "17            17  XS1338871996                     LONDON|TOKYO   \n",
       "18            18  XS1051380837                     LONDON|TOKYO   \n",
       "19            19  XS1313800119            LONDON|NEW YORK|TOKYO   \n",
       "20            20  XS1293807720               HONG KONG|NEW YORK   \n",
       "21            21  XS1051345681                     LONDON|TOKYO   \n",
       "22            22  XS1326548325                        HONG KONG   \n",
       "23            23  XS1339630227                         NEW YORK   \n",
       "24            24  XS1267238498                     LONDON|TOKYO   \n",
       "25            25  XS1254344952                        HONG KONG   \n",
       "26            26  XS1293112667                  TARGET HOLIDAYS   \n",
       "27            27  XS1293113392                           MEXICO   \n",
       "28            28  XS1331674041                  LONDON|NEW YORK   \n",
       "29            29  XS1251673817                         NEW YORK   \n",
       "...          ...           ...                              ...   \n",
       "1169        1169  XS1212135088         NEW YORK|TARGET HOLIDAYS   \n",
       "1170        1170  XS1289331826                        HONG KONG   \n",
       "1171        1171  XS1281376027                         NEW YORK   \n",
       "1172        1172  XS1313396662            LONDON|NEW YORK|TOKYO   \n",
       "1173        1173  XS1336597577                           ZURICH   \n",
       "1174        1174  XS1324931036                     LONDON|TOKYO   \n",
       "1175        1175  XS1293836232                        HONG KONG   \n",
       "1176        1176  XS1326560536                        HONG KONG   \n",
       "1177        1177  XS1199690345                           LONDON   \n",
       "1178        1178  XS1183240487           LONDON|TARGET HOLIDAYS   \n",
       "1179        1179  XS1340833521                     LONDON|TOKYO   \n",
       "1180        1180  XS1293833056                        HONG KONG   \n",
       "1181        1181  XS1078109946                         NEW YORK   \n",
       "1182        1182  XS1310504615                         NEW YORK   \n",
       "1183        1183  XS1266253084                  LONDON|NEW YORK   \n",
       "1184        1184  XS1199927614  LONDON|NEW YORK|SAO-PAULO|TOKYO   \n",
       "1185        1185  XS1339629567                        SINGAPORE   \n",
       "1186        1186  XS1229484396                  LONDON|NEW YORK   \n",
       "1187        1187  XS1293108806                         NEW YORK   \n",
       "1188        1188  XS1293110612                           ZURICH   \n",
       "1189        1189  XS1274143350                  LONDON|NEW YORK   \n",
       "1190        1190  XS1293139199                  TARGET HOLIDAYS   \n",
       "1191        1191  XS1301496003                        HONG KONG   \n",
       "1192        1192  XS1210455322               HONG KONG|NEW YORK   \n",
       "1193        1193  XS1340040531                     LONDON|TOKYO   \n",
       "1194        1194  XS1275324199  LONDON|NEW YORK|SAO-PAULO|TOKYO   \n",
       "1195        1195  XS1341299052                     LONDON|TOKYO   \n",
       "1196        1196  XS1200981105  LONDON|NEW YORK|SAO-PAULO|TOKYO   \n",
       "1197        1197  XS1224586955                         NEW YORK   \n",
       "1198        1198  XS1349021326                         NEW YORK   \n",
       "\n",
       "                fileId                                      Business Day  \\\n",
       "0     0900045c83a87e4a                                          NEW YORK   \n",
       "1     0900045c83c101a8                                            TARGET   \n",
       "2     0900045c83ac888d                                                     \n",
       "3     0900045c83b42aaf                                                     \n",
       "4     0900045c83b36448                                             TOKYO   \n",
       "5     0900045c83a715b0                                   TARGET|NEW YORK   \n",
       "6     0900045c8365c27b                   LONDON|NEW YORK|SAO-PAULO|TOKYO   \n",
       "7     0900045c83aab72e                                                     \n",
       "8     0900045c83af0dc8                                                     \n",
       "9     0900045c833b5bd8  BRUSSELS|EUROCLEAR|LUXEMBOURG|NEW YORK|SINGAPORE   \n",
       "10    0900045c83b0c28d                                                     \n",
       "11    0900045c83b9478c                                         HONG KONG   \n",
       "12    0900045c83ba04ae                                      LONDON|TOKYO   \n",
       "13    0900045c83a8e987                                                     \n",
       "14    0900045c83bbdb52                                         EUROCLEAR   \n",
       "15    0900045c83b527cb                                                     \n",
       "16    0900045c83b140f2                                                     \n",
       "17    0900045c83b9fc0b                                      LONDON|TOKYO   \n",
       "18    0900045c83c6ccdc                                                     \n",
       "19    0900045c83b6355c                                                     \n",
       "20    0900045c83b6155d                           HONG KONG|LIMA|NEW YORK   \n",
       "21    0900045c83af1007                                      LONDON|TOKYO   \n",
       "22    0900045c83afb3ab                                                     \n",
       "23    0900045c83c2ecd4                                                     \n",
       "24    0900045c83a54cdb                                            LONDON   \n",
       "25    0900045c83b25fa7                                         HONG KONG   \n",
       "26    0900045c83b0569e                                            TARGET   \n",
       "27    0900045c83b294a0                                            MEXICO   \n",
       "28    0900045c83a80205                                                     \n",
       "29    0900045c833768ef                                                     \n",
       "...                ...                                               ...   \n",
       "1169  0900045c83439fa1                                   TARGET|NEW YORK   \n",
       "1170  0900045c83b25f30                                         HONG KONG   \n",
       "1171  0900045c83a5d28a                      EUROCLEAR|HONG KONG|NEW YORK   \n",
       "1172  0900045c83c2029d                                                     \n",
       "1173  0900045c83bf47e5                                            ZURICH   \n",
       "1174  0900045c83a61e00                                      LONDON|TOKYO   \n",
       "1175  0900045c83b0ff86                                         HONG KONG   \n",
       "1176  0900045c83a65762                                                     \n",
       "1177  0900045c83070368                                         EUROCLEAR   \n",
       "1178  0900045c82fccfd4                                                     \n",
       "1179  0900045c83b89e81                                      LONDON|TOKYO   \n",
       "1180  0900045c83b26b3f                                         HONG KONG   \n",
       "1181  0900045c8282b092                                          NEW YORK   \n",
       "1182  0900045c8389f375                                                     \n",
       "1183  0900045c838dc9cf                                                     \n",
       "1184  0900045c83003bb6                   LONDON|NEW YORK|SAO-PAULO|TOKYO   \n",
       "1185  0900045c83c3fb7b                                                     \n",
       "1186  0900045c8334529d                                         EUROCLEAR   \n",
       "1187  0900045c83ac9cf0                                          NEW YORK   \n",
       "1188  0900045c83b05686                                            ZURICH   \n",
       "1189  0900045c835ab195                                   LONDON|NEW YORK   \n",
       "1190  0900045c83c23ed4                                      TARGET|PARIS   \n",
       "1191  0900045c83a5d7d1                                         HONG KONG   \n",
       "1192  0900045c82fa8672                                             TURIN   \n",
       "1193  0900045c83b610ca                                      LONDON|TOKYO   \n",
       "1194  0900045c83c1cdd0                   LONDON|NEW YORK|SAO-PAULO|TOKYO   \n",
       "1195  0900045c83beb5d3                                      LONDON|TOKYO   \n",
       "1196  0900045c82f08561                   LONDON|NEW YORK|SAO-PAULO|TOKYO   \n",
       "1197  0900045c830c24e7                                                     \n",
       "1198  0900045c83c4fcbd                                                     \n",
       "\n",
       "                     Financial Centre Currency Business Day  \\\n",
       "0                            NEW YORK                         \n",
       "1                                                             \n",
       "2                        LONDON|TOKYO                         \n",
       "3                      NEW YORK|TOKYO                         \n",
       "4                        LONDON|TOKYO                         \n",
       "5                     TARGET|NEW YORK                         \n",
       "6     LONDON|NEW YORK|SAO-PAULO|TOKYO                         \n",
       "7                               TOKYO                         \n",
       "8                            NEW YORK                         \n",
       "9                  NEW YORK|SINGAPORE                         \n",
       "10          TARGET|EUROCLEAR|NEW YORK                         \n",
       "11                                                            \n",
       "12                                                            \n",
       "13          TARGET|EUROCLEAR|NEW YORK                         \n",
       "14                                                            \n",
       "15                     NEW YORK|TOKYO                         \n",
       "16             TARGET|LONDON|NEW YORK                         \n",
       "17                       LONDON|TOKYO                         \n",
       "18                                                            \n",
       "19              LONDON|NEW YORK|TOKYO                         \n",
       "20                                                            \n",
       "21                                                            \n",
       "22                          HONG KONG                         \n",
       "23                           NEW YORK                         \n",
       "24                             LONDON                         \n",
       "25                          HONG KONG             HONG KONG   \n",
       "26                                                            \n",
       "27                                                            \n",
       "28                    LONDON|NEW YORK                         \n",
       "29                           NEW YORK                         \n",
       "...                               ...                   ...   \n",
       "1169                         NEW YORK                         \n",
       "1170                        HONG KONG             HONG KONG   \n",
       "1171                                                          \n",
       "1172            LONDON|NEW YORK|TOKYO                         \n",
       "1173                           ZURICH                         \n",
       "1174                     LONDON|TOKYO                         \n",
       "1175                                                          \n",
       "1176                        HONG KONG                         \n",
       "1177                                                          \n",
       "1178                                                          \n",
       "1179                     LONDON|TOKYO                         \n",
       "1180                                                          \n",
       "1181                         NEW YORK                         \n",
       "1182                         NEW YORK                         \n",
       "1183                                                          \n",
       "1184  LONDON|NEW YORK|SAO-PAULO|TOKYO                         \n",
       "1185                        SINGAPORE                         \n",
       "1186                                                          \n",
       "1187                                                          \n",
       "1188                                                          \n",
       "1189                  LONDON|NEW YORK                         \n",
       "1190                                                          \n",
       "1191                                                          \n",
       "1192               HONG KONG|NEW YORK                         \n",
       "1193                     LONDON|TOKYO                         \n",
       "1194  LONDON|NEW YORK|SAO-PAULO|TOKYO                         \n",
       "1195                     LONDON|TOKYO                         \n",
       "1196  LONDON|NEW YORK|SAO-PAULO|TOKYO                         \n",
       "1197                         NEW YORK                         \n",
       "1198                         NEW YORK                         \n",
       "\n",
       "     Business Day Centre  \n",
       "0                         \n",
       "1                 TARGET  \n",
       "2                         \n",
       "3                         \n",
       "4                         \n",
       "5                         \n",
       "6                         \n",
       "7                         \n",
       "8                         \n",
       "9                         \n",
       "10                        \n",
       "11             HONG KONG  \n",
       "12                        \n",
       "13                        \n",
       "14                        \n",
       "15                        \n",
       "16                        \n",
       "17                        \n",
       "18                        \n",
       "19                        \n",
       "20    HONG KONG|NEW YORK  \n",
       "21                        \n",
       "22                        \n",
       "23                        \n",
       "24                        \n",
       "25                        \n",
       "26                TARGET  \n",
       "27                MEXICO  \n",
       "28                        \n",
       "29                        \n",
       "...                  ...  \n",
       "1169                      \n",
       "1170                      \n",
       "1171                      \n",
       "1172                      \n",
       "1173                      \n",
       "1174                      \n",
       "1175           HONG KONG  \n",
       "1176                      \n",
       "1177                      \n",
       "1178                      \n",
       "1179                      \n",
       "1180           HONG KONG  \n",
       "1181                      \n",
       "1182                      \n",
       "1183                      \n",
       "1184                      \n",
       "1185                      \n",
       "1186                      \n",
       "1187            NEW YORK  \n",
       "1188              ZURICH  \n",
       "1189                      \n",
       "1190              TARGET  \n",
       "1191                      \n",
       "1192                      \n",
       "1193                      \n",
       "1194                      \n",
       "1195                      \n",
       "1196                      \n",
       "1197                      \n",
       "1198                      \n",
       "\n",
       "[1199 rows x 8 columns]"
      ]
     },
     "execution_count": 38,
     "metadata": {},
     "output_type": "execute_result"
    }
   ],
   "source": [
    "joinedCities"
   ]
  },
  {
   "cell_type": "code",
   "execution_count": 39,
   "metadata": {
    "collapsed": false
   },
   "outputs": [],
   "source": [
    "# check the compliance between ground truth and my solution\n",
    "for pat in pattern:\n",
    "    indCheck=joinedCities[\"citiesName\"] == joinedCities[pat]\n",
    "    joinedCities[\"check_\" + pat ]=indCheck\n",
    "\n",
    "# reorder the columns for clarity\n",
    "col=['fileId',\n",
    " 'isin',\n",
    " 'citiesName',\n",
    " 'Financial Centre','check_Financial Centre',\n",
    " 'Business Day Centre', 'check_Business Day Centre',\n",
    " 'Currency Business Day', 'check_Currency Business Day',\n",
    " 'Business Day', 'check_Business Day']"
   ]
  },
  {
   "cell_type": "code",
   "execution_count": 40,
   "metadata": {
    "collapsed": false
   },
   "outputs": [],
   "source": [
    "check_extractedCities=joinedCities[col]\n",
    "check_extractedCities.to_csv('check_extractedCities.csv')"
   ]
  },
  {
   "cell_type": "code",
   "execution_count": null,
   "metadata": {
    "collapsed": false
   },
   "outputs": [],
   "source": [
    "\" election is given to the Noteholders in\".index('to the')"
   ]
  },
  {
   "cell_type": "code",
   "execution_count": null,
   "metadata": {
    "collapsed": false
   },
   "outputs": [],
   "source": [
    "tok=word_tokenize(str(context_bdc[\"0900045c83a966e3\"]))\n",
    "toto=nltk.Text(tok)"
   ]
  },
  {
   "cell_type": "code",
   "execution_count": null,
   "metadata": {
    "collapsed": false
   },
   "outputs": [],
   "source": [
    "toto.common_contexts(['Issuer'])"
   ]
  },
  {
   "cell_type": "code",
   "execution_count": null,
   "metadata": {
    "collapsed": true
   },
   "outputs": [],
   "source": []
  },
  {
   "cell_type": "code",
   "execution_count": null,
   "metadata": {
    "collapsed": true
   },
   "outputs": [],
   "source": []
  },
  {
   "cell_type": "code",
   "execution_count": null,
   "metadata": {
    "collapsed": false
   },
   "outputs": [],
   "source": [
    "'Hong Kong' in str(context_bdc[\"0900045c83a966e3\"])"
   ]
  },
  {
   "cell_type": "code",
   "execution_count": null,
   "metadata": {
    "collapsed": true
   },
   "outputs": [],
   "source": []
  },
  {
   "cell_type": "code",
   "execution_count": null,
   "metadata": {
    "collapsed": true
   },
   "outputs": [],
   "source": []
  },
  {
   "cell_type": "code",
   "execution_count": null,
   "metadata": {
    "collapsed": true
   },
   "outputs": [],
   "source": []
  },
  {
   "cell_type": "code",
   "execution_count": null,
   "metadata": {
    "collapsed": true
   },
   "outputs": [],
   "source": []
  },
  {
   "cell_type": "code",
   "execution_count": null,
   "metadata": {
    "collapsed": true
   },
   "outputs": [],
   "source": []
  },
  {
   "cell_type": "code",
   "execution_count": null,
   "metadata": {
    "collapsed": true
   },
   "outputs": [],
   "source": []
  },
  {
   "cell_type": "code",
   "execution_count": null,
   "metadata": {
    "collapsed": true
   },
   "outputs": [],
   "source": []
  },
  {
   "cell_type": "code",
   "execution_count": null,
   "metadata": {
    "collapsed": false
   },
   "outputs": [],
   "source": [
    "context_bdc[\"0900045c83a96696\"][471-50:471+50]"
   ]
  },
  {
   "cell_type": "code",
   "execution_count": null,
   "metadata": {
    "collapsed": true
   },
   "outputs": [],
   "source": []
  },
  {
   "cell_type": "code",
   "execution_count": null,
   "metadata": {
    "collapsed": true
   },
   "outputs": [],
   "source": []
  },
  {
   "cell_type": "code",
   "execution_count": null,
   "metadata": {
    "collapsed": true
   },
   "outputs": [],
   "source": []
  },
  {
   "cell_type": "code",
   "execution_count": null,
   "metadata": {
    "collapsed": true
   },
   "outputs": [],
   "source": []
  },
  {
   "cell_type": "code",
   "execution_count": null,
   "metadata": {
    "collapsed": true
   },
   "outputs": [],
   "source": []
  },
  {
   "cell_type": "code",
   "execution_count": null,
   "metadata": {
    "collapsed": true
   },
   "outputs": [],
   "source": []
  },
  {
   "cell_type": "code",
   "execution_count": null,
   "metadata": {
    "collapsed": true
   },
   "outputs": [],
   "source": []
  },
  {
   "cell_type": "code",
   "execution_count": null,
   "metadata": {
    "collapsed": true
   },
   "outputs": [],
   "source": []
  },
  {
   "cell_type": "code",
   "execution_count": null,
   "metadata": {
    "collapsed": true
   },
   "outputs": [],
   "source": []
  },
  {
   "cell_type": "code",
   "execution_count": null,
   "metadata": {
    "collapsed": true
   },
   "outputs": [],
   "source": []
  },
  {
   "cell_type": "code",
   "execution_count": null,
   "metadata": {
    "collapsed": true
   },
   "outputs": [],
   "source": []
  },
  {
   "cell_type": "code",
   "execution_count": null,
   "metadata": {
    "collapsed": true
   },
   "outputs": [],
   "source": []
  },
  {
   "cell_type": "code",
   "execution_count": null,
   "metadata": {
    "collapsed": true
   },
   "outputs": [],
   "source": []
  },
  {
   "cell_type": "code",
   "execution_count": null,
   "metadata": {
    "collapsed": true
   },
   "outputs": [],
   "source": []
  },
  {
   "cell_type": "code",
   "execution_count": null,
   "metadata": {
    "collapsed": false
   },
   "outputs": [],
   "source": [
    "np.where(text=='Issuer')"
   ]
  },
  {
   "cell_type": "code",
   "execution_count": null,
   "metadata": {
    "collapsed": true
   },
   "outputs": [],
   "source": []
  },
  {
   "cell_type": "code",
   "execution_count": null,
   "metadata": {
    "collapsed": false
   },
   "outputs": [],
   "source": [
    "toto=re.search('Business Day Centre',text)"
   ]
  },
  {
   "cell_type": "code",
   "execution_count": null,
   "metadata": {
    "collapsed": false
   },
   "outputs": [],
   "source": [
    "toto.group()"
   ]
  },
  {
   "cell_type": "code",
   "execution_count": null,
   "metadata": {
    "collapsed": true
   },
   "outputs": [],
   "source": []
  },
  {
   "cell_type": "code",
   "execution_count": null,
   "metadata": {
    "collapsed": true
   },
   "outputs": [],
   "source": []
  },
  {
   "cell_type": "code",
   "execution_count": null,
   "metadata": {
    "collapsed": true
   },
   "outputs": [],
   "source": []
  },
  {
   "cell_type": "code",
   "execution_count": null,
   "metadata": {
    "collapsed": true
   },
   "outputs": [],
   "source": []
  },
  {
   "cell_type": "code",
   "execution_count": null,
   "metadata": {
    "collapsed": true
   },
   "outputs": [],
   "source": []
  },
  {
   "cell_type": "code",
   "execution_count": null,
   "metadata": {
    "collapsed": true
   },
   "outputs": [],
   "source": []
  },
  {
   "cell_type": "code",
   "execution_count": null,
   "metadata": {
    "collapsed": false
   },
   "outputs": [],
   "source": [
    "toto=text.common_contexts(\"Centre\")"
   ]
  },
  {
   "cell_type": "code",
   "execution_count": null,
   "metadata": {
    "collapsed": false
   },
   "outputs": [],
   "source": [
    "text.findall(\"<.*><Day Centre><.*>\")"
   ]
  },
  {
   "cell_type": "code",
   "execution_count": null,
   "metadata": {
    "collapsed": true
   },
   "outputs": [],
   "source": []
  },
  {
   "cell_type": "code",
   "execution_count": null,
   "metadata": {
    "collapsed": true
   },
   "outputs": [],
   "source": []
  },
  {
   "cell_type": "code",
   "execution_count": null,
   "metadata": {
    "collapsed": true
   },
   "outputs": [],
   "source": []
  },
  {
   "cell_type": "code",
   "execution_count": null,
   "metadata": {
    "collapsed": true
   },
   "outputs": [],
   "source": []
  },
  {
   "cell_type": "code",
   "execution_count": null,
   "metadata": {
    "collapsed": true
   },
   "outputs": [],
   "source": []
  },
  {
   "cell_type": "code",
   "execution_count": null,
   "metadata": {
    "collapsed": true
   },
   "outputs": [],
   "source": []
  },
  {
   "cell_type": "code",
   "execution_count": null,
   "metadata": {
    "collapsed": true
   },
   "outputs": [],
   "source": []
  },
  {
   "cell_type": "code",
   "execution_count": null,
   "metadata": {
    "collapsed": true
   },
   "outputs": [],
   "source": [
    "moby = Text(nltk.corpus.gutenberg.words('melville-moby_dick.txt'))"
   ]
  },
  {
   "cell_type": "code",
   "execution_count": null,
   "metadata": {
    "collapsed": false
   },
   "outputs": [],
   "source": [
    "moby"
   ]
  },
  {
   "cell_type": "code",
   "execution_count": null,
   "metadata": {
    "collapsed": false
   },
   "outputs": [],
   "source": [
    "moby.common_contexts('whale')"
   ]
  },
  {
   "cell_type": "code",
   "execution_count": null,
   "metadata": {
    "collapsed": true
   },
   "outputs": [],
   "source": []
  },
  {
   "cell_type": "code",
   "execution_count": null,
   "metadata": {
    "collapsed": true
   },
   "outputs": [],
   "source": []
  },
  {
   "cell_type": "code",
   "execution_count": null,
   "metadata": {
    "collapsed": true
   },
   "outputs": [],
   "source": []
  },
  {
   "cell_type": "code",
   "execution_count": null,
   "metadata": {
    "collapsed": true
   },
   "outputs": [],
   "source": []
  },
  {
   "cell_type": "code",
   "execution_count": null,
   "metadata": {
    "collapsed": true
   },
   "outputs": [],
   "source": [
    "toto"
   ]
  },
  {
   "cell_type": "code",
   "execution_count": null,
   "metadata": {
    "collapsed": true
   },
   "outputs": [],
   "source": []
  },
  {
   "cell_type": "code",
   "execution_count": null,
   "metadata": {
    "collapsed": true
   },
   "outputs": [],
   "source": []
  },
  {
   "cell_type": "code",
   "execution_count": null,
   "metadata": {
    "collapsed": true
   },
   "outputs": [],
   "source": []
  },
  {
   "cell_type": "code",
   "execution_count": null,
   "metadata": {
    "collapsed": true
   },
   "outputs": [],
   "source": []
  },
  {
   "cell_type": "code",
   "execution_count": null,
   "metadata": {
    "collapsed": true
   },
   "outputs": [],
   "source": []
  },
  {
   "cell_type": "code",
   "execution_count": null,
   "metadata": {
    "collapsed": true
   },
   "outputs": [],
   "source": []
  },
  {
   "cell_type": "code",
   "execution_count": null,
   "metadata": {
    "collapsed": true
   },
   "outputs": [],
   "source": []
  },
  {
   "cell_type": "code",
   "execution_count": null,
   "metadata": {
    "collapsed": true
   },
   "outputs": [],
   "source": []
  },
  {
   "cell_type": "code",
   "execution_count": null,
   "metadata": {
    "collapsed": true
   },
   "outputs": [],
   "source": []
  },
  {
   "cell_type": "code",
   "execution_count": null,
   "metadata": {
    "collapsed": true
   },
   "outputs": [],
   "source": []
  },
  {
   "cell_type": "code",
   "execution_count": null,
   "metadata": {
    "collapsed": true
   },
   "outputs": [],
   "source": []
  },
  {
   "cell_type": "code",
   "execution_count": null,
   "metadata": {
    "collapsed": true
   },
   "outputs": [],
   "source": []
  },
  {
   "cell_type": "code",
   "execution_count": null,
   "metadata": {
    "collapsed": true
   },
   "outputs": [],
   "source": []
  },
  {
   "cell_type": "code",
   "execution_count": null,
   "metadata": {
    "collapsed": true
   },
   "outputs": [],
   "source": []
  },
  {
   "cell_type": "code",
   "execution_count": null,
   "metadata": {
    "collapsed": true
   },
   "outputs": [],
   "source": []
  },
  {
   "cell_type": "code",
   "execution_count": null,
   "metadata": {
    "collapsed": true
   },
   "outputs": [],
   "source": []
  },
  {
   "cell_type": "code",
   "execution_count": null,
   "metadata": {
    "collapsed": true
   },
   "outputs": [],
   "source": []
  },
  {
   "cell_type": "code",
   "execution_count": null,
   "metadata": {
    "collapsed": true
   },
   "outputs": [],
   "source": []
  },
  {
   "cell_type": "code",
   "execution_count": null,
   "metadata": {
    "collapsed": false
   },
   "outputs": [],
   "source": [
    "toto"
   ]
  },
  {
   "cell_type": "code",
   "execution_count": null,
   "metadata": {
    "collapsed": true
   },
   "outputs": [],
   "source": []
  },
  {
   "cell_type": "code",
   "execution_count": null,
   "metadata": {
    "collapsed": true
   },
   "outputs": [],
   "source": []
  },
  {
   "cell_type": "code",
   "execution_count": null,
   "metadata": {
    "collapsed": false
   },
   "outputs": [],
   "source": [
    "text.concordance('prospectus')\n"
   ]
  },
  {
   "cell_type": "code",
   "execution_count": null,
   "metadata": {
    "collapsed": false
   },
   "outputs": [],
   "source": [
    "type(text)"
   ]
  },
  {
   "cell_type": "code",
   "execution_count": null,
   "metadata": {
    "collapsed": true
   },
   "outputs": [],
   "source": []
  },
  {
   "cell_type": "code",
   "execution_count": null,
   "metadata": {
    "collapsed": true
   },
   "outputs": [],
   "source": []
  },
  {
   "cell_type": "code",
   "execution_count": null,
   "metadata": {
    "collapsed": false
   },
   "outputs": [],
   "source": [
    "f"
   ]
  },
  {
   "cell_type": "code",
   "execution_count": null,
   "metadata": {
    "collapsed": true
   },
   "outputs": [],
   "source": []
  },
  {
   "cell_type": "code",
   "execution_count": null,
   "metadata": {
    "collapsed": false
   },
   "outputs": [],
   "source": [
    "f"
   ]
  },
  {
   "cell_type": "code",
   "execution_count": null,
   "metadata": {
    "collapsed": false
   },
   "outputs": [],
   "source": []
  },
  {
   "cell_type": "code",
   "execution_count": null,
   "metadata": {
    "collapsed": true
   },
   "outputs": [],
   "source": []
  },
  {
   "cell_type": "code",
   "execution_count": null,
   "metadata": {
    "collapsed": false
   },
   "outputs": [],
   "source": [
    "f"
   ]
  },
  {
   "cell_type": "code",
   "execution_count": null,
   "metadata": {
    "collapsed": true
   },
   "outputs": [],
   "source": [
    "for f in labels[0"
   ]
  },
  {
   "cell_type": "code",
   "execution_count": null,
   "metadata": {
    "collapsed": false
   },
   "outputs": [],
   "source": [
    "labels.fileId.values[0]"
   ]
  },
  {
   "cell_type": "code",
   "execution_count": null,
   "metadata": {
    "collapsed": true
   },
   "outputs": [],
   "source": []
  },
  {
   "cell_type": "code",
   "execution_count": null,
   "metadata": {
    "collapsed": true
   },
   "outputs": [],
   "source": []
  },
  {
   "cell_type": "code",
   "execution_count": null,
   "metadata": {
    "collapsed": true
   },
   "outputs": [],
   "source": []
  },
  {
   "cell_type": "code",
   "execution_count": null,
   "metadata": {
    "collapsed": true
   },
   "outputs": [],
   "source": []
  },
  {
   "cell_type": "code",
   "execution_count": null,
   "metadata": {
    "collapsed": false
   },
   "outputs": [],
   "source": [
    "for f in labels.fileId:\n",
    "    print f"
   ]
  },
  {
   "cell_type": "code",
   "execution_count": null,
   "metadata": {
    "collapsed": true
   },
   "outputs": [],
   "source": []
  },
  {
   "cell_type": "code",
   "execution_count": null,
   "metadata": {
    "collapsed": true
   },
   "outputs": [],
   "source": []
  },
  {
   "cell_type": "code",
   "execution_count": null,
   "metadata": {
    "collapsed": true
   },
   "outputs": [],
   "source": []
  },
  {
   "cell_type": "code",
   "execution_count": null,
   "metadata": {
    "collapsed": true
   },
   "outputs": [],
   "source": []
  },
  {
   "cell_type": "code",
   "execution_count": null,
   "metadata": {
    "collapsed": true
   },
   "outputs": [],
   "source": []
  },
  {
   "cell_type": "code",
   "execution_count": null,
   "metadata": {
    "collapsed": true
   },
   "outputs": [],
   "source": []
  }
 ],
 "metadata": {
  "kernelspec": {
   "display_name": "Python 2",
   "language": "python",
   "name": "python2"
  },
  "language_info": {
   "codemirror_mode": {
    "name": "ipython",
    "version": 2
   },
   "file_extension": ".py",
   "mimetype": "text/x-python",
   "name": "python",
   "nbconvert_exporter": "python",
   "pygments_lexer": "ipython2",
   "version": "2.7.11"
  }
 },
 "nbformat": 4,
 "nbformat_minor": 0
}
