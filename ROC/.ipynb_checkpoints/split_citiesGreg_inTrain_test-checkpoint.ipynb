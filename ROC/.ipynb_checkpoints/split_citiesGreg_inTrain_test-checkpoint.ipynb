{
 "cells": [
  {
   "cell_type": "markdown",
   "metadata": {},
   "source": [
    "I use the same train/test division than for currency (see currencyExtraction/divide_data0_train_test_set.ipynb)\n",
    "to split the citiesGreg.csv"
   ]
  },
  {
   "cell_type": "code",
   "execution_count": 2,
   "metadata": {
    "collapsed": false
   },
   "outputs": [],
   "source": [
    "import pandas as pd\n",
    "\n",
    "lab=pd.read_csv('../../data_0/greg_train_set/lab_greg_train_set.csv')\n",
    "lab.index=lab['isin'].values\n",
    "cities=pd.read_csv('citiesGreg.csv')\n"
   ]
  },
  {
   "cell_type": "code",
   "execution_count": 7,
   "metadata": {
    "collapsed": false
   },
   "outputs": [],
   "source": [
    "del cities['Unnamed: 0']"
   ]
  },
  {
   "cell_type": "code",
   "execution_count": 16,
   "metadata": {
    "collapsed": false
   },
   "outputs": [],
   "source": [
    "# check common ISIN between lab and cities\n",
    "commonIsin=list(set(lab['isin'].values) & set(cities['isin'].values))"
   ]
  },
  {
   "cell_type": "code",
   "execution_count": 27,
   "metadata": {
    "collapsed": false
   },
   "outputs": [],
   "source": [
    "# form partition between train and test set\n",
    "cities_greg_train_set=cities[cities['isin'].isin(commonIsin)]\n",
    "cities_greg_test_set=cities[~cities['isin'].isin(commonIsin)]"
   ]
  },
  {
   "cell_type": "code",
   "execution_count": 31,
   "metadata": {
    "collapsed": false
   },
   "outputs": [],
   "source": [
    "# save\n",
    "cities_greg_test_set.to_csv('../../data_0/greg_test_set/cities_greg_test_set.csv')\n",
    "cities_greg_train_set.to_csv('../../data_0/greg_train_set/cities_greg_train_set.csv')\n",
    "\n"
   ]
  },
  {
   "cell_type": "code",
   "execution_count": null,
   "metadata": {
    "collapsed": true
   },
   "outputs": [],
   "source": []
  }
 ],
 "metadata": {
  "kernelspec": {
   "display_name": "Python 2",
   "language": "python",
   "name": "python2"
  },
  "language_info": {
   "codemirror_mode": {
    "name": "ipython",
    "version": 2
   },
   "file_extension": ".py",
   "mimetype": "text/x-python",
   "name": "python",
   "nbconvert_exporter": "python",
   "pygments_lexer": "ipython2",
   "version": "2.7.11"
  }
 },
 "nbformat": 4,
 "nbformat_minor": 0
}
