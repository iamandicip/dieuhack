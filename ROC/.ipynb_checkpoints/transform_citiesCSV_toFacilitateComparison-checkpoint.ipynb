{
 "cells": [
  {
   "cell_type": "markdown",
   "metadata": {},
   "source": [
    "## transform_citiesCSV_toFacilitateComparison"
   ]
  },
  {
   "cell_type": "markdown",
   "metadata": {},
   "source": [
    "insert pipe between multiple ROCs to make easier the comparison between extracted cities and ground truth"
   ]
  },
  {
   "cell_type": "code",
   "execution_count": null,
   "metadata": {
    "collapsed": false
   },
   "outputs": [],
   "source": [
    "#GENERAL\n",
    "import numpy as np\n",
    "import pandas as pd\n",
    "import pickle\n",
    "\n",
    "# data from Albert\n",
    "from code.dataExtract import data\n",
    "import code.dataExtract as de\n",
    "from code import Text_reader as tr\n",
    "d = data(folder='../../train/') # training set with all the labels\n",
    "\n",
    "\n",
    "dataPath='../../train'"
   ]
  },
  {
   "cell_type": "code",
   "execution_count": null,
   "metadata": {
    "collapsed": false
   },
   "outputs": [],
   "source": [
    "\n",
    "# load cities.csv\n",
    "citiesRaw=pd.read_csv(dataPath + '/outcome/ROC_train.csv')\n",
    "labels=pd.read_csv(dataPath + '/outcome/ISIN_train.csv')\n",
    "\n",
    "citiesDict=dict()\n",
    "fileId=dict()\n",
    "\n",
    "gi=0\n",
    "isinList=d.docid.keys()\n",
    "\n",
    "def addPip_betweenCities(citiesSet):\n",
    "    cityString=str()\n",
    "    for cit in citiesSet:\n",
    "        if len(cityString)==0:\n",
    "            cityString=cit\n",
    "        else:\n",
    "            cityString=cityString + '|' + cit\n",
    "    return cityString\n",
    "\n",
    "for isin in isinList:\n",
    "        \n",
    "    citiesDict[isin]=addPip_betweenCities(d.roc[isin])\n",
    "    \n",
    "    \"\"\"if isin in citiesDict.keys():\n",
    "        citiesDict[isin].append(citiesRaw['ROC'].iloc[gi])\n",
    "    else:\n",
    "        citiesDict[isin]=[]\n",
    "        citiesDict[isin].append(citiesRaw['ROC'].iloc[gi])\n",
    "    gi+=1\n",
    "\"\"\""
   ]
  },
  {
   "cell_type": "code",
   "execution_count": null,
   "metadata": {
    "collapsed": false
   },
   "outputs": [],
   "source": [
    "citiesDict"
   ]
  },
  {
   "cell_type": "code",
   "execution_count": null,
   "metadata": {
    "collapsed": true
   },
   "outputs": [],
   "source": []
  },
  {
   "cell_type": "code",
   "execution_count": null,
   "metadata": {
    "collapsed": false
   },
   "outputs": [],
   "source": [
    "d.roc"
   ]
  },
  {
   "cell_type": "code",
   "execution_count": null,
   "metadata": {
    "collapsed": true
   },
   "outputs": [],
   "source": []
  },
  {
   "cell_type": "code",
   "execution_count": null,
   "metadata": {
    "collapsed": false
   },
   "outputs": [],
   "source": [
    "cities2df=dict()\n",
    "\n",
    "for key in citiesDict:\n",
    "    if len(citiesDict[key])>1:\n",
    "        for val in citiesDict[key]:\n",
    "            if val == citiesDict[key][0]:\n",
    "                citiesTmp=val\n",
    "            else:\n",
    "                citiesTmp=citiesTmp + '|' + val\n",
    "            \n",
    "        cities2df[key]=citiesTmp\n",
    "    else:\n",
    "        cities2df[key]=citiesDict[key][0]"
   ]
  },
  {
   "cell_type": "code",
   "execution_count": null,
   "metadata": {
    "collapsed": false
   },
   "outputs": [],
   "source": [
    "fileIdDf=pd.DataFrame(list(fileId.iteritems()),columns=['isin','fileID'])\n",
    "citiesGreg=pd.DataFrame(list(cities2df.iteritems()),columns=['isin','citiesName'])"
   ]
  },
  {
   "cell_type": "code",
   "execution_count": null,
   "metadata": {
    "collapsed": false
   },
   "outputs": [],
   "source": [
    "citiesGreg=pd.merge(citiesGreg,fileIdDf,on='isin')\n"
   ]
  },
  {
   "cell_type": "code",
   "execution_count": null,
   "metadata": {
    "collapsed": false
   },
   "outputs": [],
   "source": [
    "citiesGreg"
   ]
  },
  {
   "cell_type": "code",
   "execution_count": null,
   "metadata": {
    "collapsed": false
   },
   "outputs": [],
   "source": [
    "citiesGreg.to_csv('ROC_train_piped.csv')"
   ]
  },
  {
   "cell_type": "code",
   "execution_count": null,
   "metadata": {
    "collapsed": true
   },
   "outputs": [],
   "source": []
  }
 ],
 "metadata": {
  "kernelspec": {
   "display_name": "Python 2",
   "language": "python",
   "name": "python2"
  },
  "language_info": {
   "codemirror_mode": {
    "name": "ipython",
    "version": 2
   },
   "file_extension": ".py",
   "mimetype": "text/x-python",
   "name": "python",
   "nbconvert_exporter": "python",
   "pygments_lexer": "ipython2",
   "version": "2.7.11"
  }
 },
 "nbformat": 4,
 "nbformat_minor": 0
}
